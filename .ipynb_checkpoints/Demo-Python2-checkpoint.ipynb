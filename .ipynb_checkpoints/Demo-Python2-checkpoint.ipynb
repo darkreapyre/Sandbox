{
 "cells": [
  {
   "cell_type": "markdown",
   "metadata": {
    "deletable": true,
    "editable": true
   },
   "source": [
    "# Introduction\n",
    "In this case study, we will explore how to tackle Kaggle Titanic competition using Python and Machine Learning. When the Titanic sank, $1502$ of the $2224$ passengers and crew were killed. One of the main reasons for this high level of casualties was the lack of lifeboats on this self-proclaimed __\"unsinkable\"__ ship. In this tutorial, we will learn how to apply machine learning techniques to predict a passenger's chance of surviving using Python.\n",
    "\n",
    "# Getting Data with Pandas\n",
    "We start with loading in the training and testing set into your Python environment. We will use the [training set](http://s3.amazonaws.com/assets.datacamp.com/course/Kaggle/train.csv) to build our model, and the [test set](http://s3.amazonaws.com/assets.datacamp.com/course/Kaggle/test.csv) to validate it. The first step is to load this data with the `read_csv()` method from the Pandas library."
   ]
  },
  {
   "cell_type": "code",
   "execution_count": null,
   "metadata": {
    "collapsed": false,
    "deletable": true,
    "editable": true
   },
   "outputs": [],
   "source": [
    "# Import the Pandas library\n",
    "import warnings\n",
    "warnings.filterwarnings('ignore')\n",
    "import pandas as pd\n",
    "\n",
    "# Load the train and test datasets to create two DataFrames\n",
    "train_url = \"http://s3.amazonaws.com/assets.datacamp.com/course/Kaggle/train.csv\"\n",
    "train = pd.read_csv(train_url)\n",
    "test_url = \"http://s3.amazonaws.com/assets.datacamp.com/course/Kaggle/test.csv\"\n",
    "test = pd.read_csv(test_url)\n",
    "\n",
    "#Print the `head` of the train dataframe\n",
    "train.head()"
   ]
  },
  {
   "cell_type": "code",
   "execution_count": null,
   "metadata": {
    "collapsed": false,
    "deletable": true,
    "editable": true
   },
   "outputs": [],
   "source": [
    "#Print the `head` of the test dataframe\n",
    "test.head()"
   ]
  },
  {
   "cell_type": "markdown",
   "metadata": {
    "deletable": true,
    "editable": true
   },
   "source": [
    "On thing that immediately stands out when looking at the two data sets. The `test` set has no variable (colum) for wether or not the passanger `Survived` or not. This has been intentionally removed as that's the variable we will be predicting using the `train` set.\n",
    "\n",
    "# Exploring the Data\n",
    "Before starting with the actual analysis, it's important to understand the structure of the data. Both `test` and `train` are DataFrame objects, the way pandas represent datasets. We can easily explore a DataFrame using the `.describe()` method. This method summarizes the columns/features of the DataFrame, including the count of observations, mean, max and so on. Another useful trick is to look at the dimensions of the DataFrame. This is done by requesting the `.shape` attribute of your DataFrame object. It is also a good practice to look for any missing values in the data set.\n",
    "\n",
    "### Summary Statistics\n",
    "Next we apply the `.describe()` method, look for missing values and then apply `.shape` attribute of the training set."
   ]
  },
  {
   "cell_type": "code",
   "execution_count": null,
   "metadata": {
    "collapsed": false,
    "deletable": true,
    "editable": true
   },
   "outputs": [],
   "source": [
    "# Describe the `train` data\n",
    "train.describe()"
   ]
  },
  {
   "cell_type": "markdown",
   "metadata": {
    "deletable": true,
    "editable": true
   },
   "source": [
    "### Missing Values"
   ]
  },
  {
   "cell_type": "code",
   "execution_count": null,
   "metadata": {
    "collapsed": false,
    "deletable": true,
    "editable": true
   },
   "outputs": [],
   "source": [
    "# Look for missing values\n",
    "train.isnull().sum()"
   ]
  },
  {
   "cell_type": "code",
   "execution_count": null,
   "metadata": {
    "collapsed": false,
    "deletable": true,
    "editable": true
   },
   "outputs": [],
   "source": [
    "# Index for missing vales: `Embarked`\n",
    "train[\"Embarked\"][train[\"Embarked\"].isnull()]"
   ]
  },
  {
   "cell_type": "markdown",
   "metadata": {
    "deletable": true,
    "editable": true
   },
   "source": [
    "### Dimensions"
   ]
  },
  {
   "cell_type": "code",
   "execution_count": null,
   "metadata": {
    "collapsed": false,
    "deletable": true,
    "editable": true
   },
   "outputs": [],
   "source": [
    "# Look at the dimensions of `train`\n",
    "train.shape"
   ]
  },
  {
   "cell_type": "markdown",
   "metadata": {
    "deletable": true,
    "editable": true
   },
   "source": [
    "### Understanding the Data\n",
    "As we can see, the training set has $891$ observations and $12$ variables, the count for `Age` is $714$. But how many people in the training set survived the disaster with the Titanic? To see this, we can use the `value_counts()` method in combination with standard bracket notation to select a single column of a DataFrame:"
   ]
  },
  {
   "cell_type": "code",
   "execution_count": null,
   "metadata": {
    "collapsed": false,
    "deletable": true,
    "editable": true
   },
   "outputs": [],
   "source": [
    "# No. of people who survived (absolute numbers)\n",
    "train[\"Survived\"].value_counts()"
   ]
  },
  {
   "cell_type": "code",
   "execution_count": null,
   "metadata": {
    "collapsed": false,
    "deletable": true,
    "editable": true
   },
   "outputs": [],
   "source": [
    "# No. of people who survived (percentages)\n",
    "train[\"Survived\"].value_counts(normalize = True) * 100"
   ]
  },
  {
   "cell_type": "markdown",
   "metadata": {
    "deletable": true,
    "editable": true
   },
   "source": [
    "We see that $549$ individuals died ($62\\%$) and $342$ survived ($38\\%$). A simple way to predict heuristically could be: \"majority wins\". This would mean that we will predict every unseen observation to not survive.\n",
    "\n",
    "To dive in a little deeper we can perform similar counts and percentage calculations on subsets of the Survived column. For example, maybe gender could play a role as well? We can explore this using the .`value_counts()` method for a two-way comparison on the number of __males__ and __females__ that survived."
   ]
  },
  {
   "cell_type": "code",
   "execution_count": null,
   "metadata": {
    "collapsed": false,
    "deletable": true,
    "editable": true
   },
   "outputs": [],
   "source": [
    "# Count of males who survived\n",
    "train[\"Survived\"][train[\"Sex\"] == \"male\"].value_counts()"
   ]
  },
  {
   "cell_type": "code",
   "execution_count": null,
   "metadata": {
    "collapsed": false,
    "deletable": true,
    "editable": true
   },
   "outputs": [],
   "source": [
    "# Count of femails who survived\n",
    "train[\"Survived\"][train[\"Sex\"] == \"female\"].value_counts()"
   ]
  },
  {
   "cell_type": "markdown",
   "metadata": {
    "deletable": true,
    "editable": true
   },
   "source": [
    "To get proportions,  we again pass in the argument `normalize = True` to the `.value_counts()` method."
   ]
  },
  {
   "cell_type": "code",
   "execution_count": null,
   "metadata": {
    "collapsed": false,
    "deletable": true,
    "editable": true
   },
   "outputs": [],
   "source": [
    "# Count of males who survived (percentage)\n",
    "train[\"Survived\"][train[\"Sex\"] == \"male\"].value_counts(normalize = True) * 100"
   ]
  },
  {
   "cell_type": "code",
   "execution_count": null,
   "metadata": {
    "collapsed": false,
    "deletable": true,
    "editable": true
   },
   "outputs": [],
   "source": [
    "# Count of females who survived (percentage)\n",
    "train[\"Survived\"][train[\"Sex\"] == \"female\"].value_counts(normalize = True) * 100"
   ]
  },
  {
   "cell_type": "markdown",
   "metadata": {
    "deletable": true,
    "editable": true
   },
   "source": [
    "It looks like it makes sense to include gender in the predictions since there is a difference between the survival rate of males vs. females. Around $74\\%$ of females survived as opposed to $18\\%$ of the males surviving.\n",
    "\n",
    "Another variable that could influence survival is `age`; since it's probable that children were saved first. We can test this by creating a new column with a categorical variable `Child`. `Child` will take the value $1$ in cases where age is less than $18$, and a value of $0$ in cases where age is greater than or equal to $18$. So to add this new variable we need to do two things:\n",
    "\n",
    "1. Create a new column.\n",
    "2. Provide the values for each observation (i.e., row) based on the age of the passenger.\n",
    "\n",
    "Adding a new column with Pandas in Python is easy and can be done via the following syntax:\n",
    "```\n",
    "<variable>[\"new_variable\"] = 0\n",
    "```\n",
    "This code would create a new column in the train DataFrame titled new_var with $0$ for each observation. To set the values based on the age of the passenger, we make use of a boolean test inside the square bracket operator. With the `[]` operator we create a subset of rows and assign a value to a certain variable of that subset of observations. For example:\n",
    "\n",
    "```\n",
    "train[\"new_var\"][train[\"Fare\"] > 10] = 1\n",
    "```\n",
    "\n",
    "This would give a value of $1$ to the variable `new_var` for the subset of passengers whose fares greater than $10$. Keeping in mind that `new_var` has a value of $0$ for all other values (including missing values). "
   ]
  },
  {
   "cell_type": "code",
   "execution_count": null,
   "metadata": {
    "collapsed": false,
    "deletable": true,
    "editable": true
   },
   "outputs": [],
   "source": [
    "# Create the column Child and assign to 'NaN'\n",
    "train[\"Child\"] = float('NaN')\n",
    "\n",
    "# Assign 1 to passengers under 18, 0 to those 18 or older.\n",
    "train[\"Child\"][train[\"Age\"] < 18] = 1\n",
    "train[\"Child\"][train[\"Age\"] >= 18] = 0\n",
    "\n",
    "# Print normalized Survival Rates for passengers under 18\n",
    "print \"Survival proportions for passangers under 18:\\n\",\n",
    "train[\"Survived\"][train[\"Child\"] == 1].value_counts(normalize = True) * 100"
   ]
  },
  {
   "cell_type": "code",
   "execution_count": null,
   "metadata": {
    "collapsed": false,
    "deletable": true,
    "editable": true
   },
   "outputs": [],
   "source": [
    "# Print normalized Survival Rates for passengers 18 or older\n",
    "print \"Survival proportions for passangers over 18:\\n\",\n",
    "train[\"Survived\"][train[\"Child\"] == 0].value_counts(normalize = True) * 100"
   ]
  },
  {
   "cell_type": "markdown",
   "metadata": {
    "deletable": true,
    "editable": true
   },
   "source": [
    "As we can see from the survival proportions, age does certainly seem to play a role. So the the __[Birhenhead Drill](https://en.wikipedia.org/wiki/Women_and_children_first)__ holds true and thus `Sex` and `Age` make good predictors.\n",
    "\n",
    "# Basic Prediction\n",
    "From exploring the data we can see that females had over a $50\\%$ chance of surviving and males had less than a $50\\%$ chance of surviving. Hence, we could use this information for a first and very basic prediction: \n",
    "\n",
    "__All females in the `test` set survive and all males in the `test` set die.__\n",
    "\n",
    "To do this, we use the test set for validating our predictions. As was mentioned above,  the `test` set has no `Survived` column. this is so that we can use this colums for our predicted values. Next, when uploading our results, Kaggle will use this variable i.e. oour predictions, to score the performance. \n",
    "\n",
    "So to start with the first prediction, we will perform the following:\n",
    "\n",
    "1. Create a variable test_one, identical to dataset test.\n",
    "2. Add an additional column, `Survived`, that is initialize to zero.\n",
    "3. Use vector subsetting to set the value of `Survived` to $1$ for observations whose Sex equals \"female\".\n",
    "4. Print the Survived column of predictions from the test_one dataset."
   ]
  },
  {
   "cell_type": "code",
   "execution_count": null,
   "metadata": {
    "collapsed": false,
    "deletable": true,
    "editable": true
   },
   "outputs": [],
   "source": [
    "# Start the timer\n",
    "from time import time\n",
    "start = time()\n",
    "\n",
    "# Create a copy of test: test_one\n",
    "test_one = test\n",
    "\n",
    "# Initialize a Survived column to 0\n",
    "test_one[\"Survived\"] = 0\n",
    "\n",
    "# Set Survived to 1 if Sex equals \"female\"\n",
    "test_one[\"Survived\"][test_one[\"Sex\"] == \"female\"] = 1\n",
    "\n",
    "# Print a sample prediction of who servived\n",
    "test_one[[\"PassengerId\", \"Survived\"]] .head()\n",
    "#print \"Our basic prediction took {:.2f} seconds.\".format(time() - start)"
   ]
  },
  {
   "cell_type": "markdown",
   "metadata": {
    "deletable": true,
    "editable": true
   },
   "source": [
    "# Prediction using Decision Trees\n",
    "In the basic prediction example, we did all the \"slicing\" and \"dicing\" ourselves to find subsets that have a higher chance of surviving. A decision tree automates this process for us and outputs a classification model or classifier.\n",
    "\n",
    "Conceptually, the decision tree algorithm starts with all the data at the root node and scans all the variables for the best one to split on. Once a variable is chosen, it does the split and goes down one level (or one node) and repeats the process. The final nodes at the bottom of the decision tree are known as terminal nodes, and the majority vote of the observations in that node determine how to predict for new observations that end up in that terminal node.\n",
    "\n",
    "Before we can start using Decision Trees, we need to import the necessary libraries:"
   ]
  },
  {
   "cell_type": "code",
   "execution_count": null,
   "metadata": {
    "collapsed": false,
    "deletable": true,
    "editable": true
   },
   "outputs": [],
   "source": [
    "# Import the Numpy library\n",
    "import numpy as np\n",
    "\n",
    "# Import 'tree' from scikit-learn library\n",
    "from sklearn import tree\n",
    "\n",
    "# Reload the train and test datasets to create two DataFrames\n",
    "train_url = \"http://s3.amazonaws.com/assets.datacamp.com/course/Kaggle/train.csv\"\n",
    "train = pd.read_csv(train_url)\n",
    "test_url = \"http://s3.amazonaws.com/assets.datacamp.com/course/Kaggle/test.csv\"\n",
    "test = pd.read_csv(test_url)"
   ]
  },
  {
   "cell_type": "markdown",
   "metadata": {
    "deletable": true,
    "editable": true
   },
   "source": [
    "### Preprocessing\n",
    "Before we can begin constructing your trees we need to clean the data so that we can use all the features (predictors) available. In the first section, we saw that the `Age` variable had some missing value. Although dealing with missing values is a whole subject with and in itself, we will use a simple imputation technique where we substitute each missing value with the median of the all present values. This is done by using the `.fillna()` method, for example:\n",
    "```\n",
    "train[\"Age\"] = train[\"Age\"].fillna(train[\"Age\"].median())\n",
    "```\n",
    "Another problem is that the `Sex` and `Embarked` variables are categorical but in a non-numeric format. Thus, we will need to assign each class a unique integer so that Python can handle the information. `Embarked` also has some missing values which we should impute with the most common class of embarkation, which is \"S\". "
   ]
  },
  {
   "cell_type": "code",
   "execution_count": null,
   "metadata": {
    "collapsed": false,
    "deletable": true,
    "editable": true
   },
   "outputs": [],
   "source": [
    "# Convert the male and female groups to integer form\n",
    "train[\"Sex\"][train[\"Sex\"] == \"male\"] = 0\n",
    "train[\"Sex\"][train[\"Sex\"] == \"female\"] = 1\n",
    "\n",
    "# Impute the `Embarked` variable\n",
    "train[\"Embarked\"] = train[\"Embarked\"].fillna(\"S\")\n",
    "\n",
    "# Impute the `Age` variable\n",
    "train[\"Age\"] = train[\"Age\"].fillna(train[\"Age\"].median())\n",
    "\n",
    "# Confirm that `Embarked` and `Age` have no missing values\n",
    "print \"No. of missing values: \", train.isnull().sum()\n",
    "\n",
    "# Convert the Embarked classes to integer form\n",
    "train[\"Embarked\"][train[\"Embarked\"] == \"S\"] = 0\n",
    "train[\"Embarked\"][train[\"Embarked\"] == \"C\"] = 1\n",
    "train[\"Embarked\"][train[\"Embarked\"] == \"Q\"] = 2"
   ]
  },
  {
   "cell_type": "markdown",
   "metadata": {
    "deletable": true,
    "editable": true
   },
   "source": [
    "### Fitting the Model\n",
    "Now that the data has been cleaned, we will use the scikit-learn and numpy libraries to build a decision tree. scikit-learn can be used to create tree objects from the `DecisionTreeClassifier` class. The methods that we will use take numpy arrays as inputs and therefore we will need to create those from the DataFrame that we already have. \n",
    "\n",
    "We will need the following to build a decision tree\n",
    "\n",
    "- `target`: A one-dimensional numpy array containing the target/response from the train data. (`Survival`)\n",
    "- `features`: A multidimensional numpy array containing the features/predictors from the train data. (e.g. `Sex`, `Age`)\n",
    "\n",
    "The following sample code shows what this would look like:\n",
    "```\n",
    "target = train[\"Survived\"].values\n",
    "\n",
    "features = train[[\"Sex\", \"Age\"]].values\n",
    "\n",
    "my_tree = tree.DecisionTreeClassifier()\n",
    "\n",
    "my_tree = my_tree.fit(features, target)\n",
    "```\n",
    "One way to quickly see the result of the decision tree is to see the importance of the features that are included. This is done by requesting the `.feature_importances_` attribute of the tree object. Another quick metric is the mean accuracy that we can compute using the `.score()` function with `features_one` and `target` as arguments.\n",
    "\n",
    "To build the decision tree, we will perform the following steps:\n",
    "1. Build the `target` and `features_one` numpy arrays. The target will be based on the `Survived` column in `train`. The features array will be based on the variables `Passenger`, `Class`, `Sex`, `Age`, and Passenger `Fare`.\n",
    "2. Build a decision tree `my_tree_one` to predict survival using `features_one` and `target`.\n",
    "3. View at the importance of features in the decision tree and compute the score."
   ]
  },
  {
   "cell_type": "code",
   "execution_count": null,
   "metadata": {
    "collapsed": false,
    "deletable": true,
    "editable": true
   },
   "outputs": [],
   "source": [
    "# Create the target and features numpy arrays: target, features_one\n",
    "target = train[\"Survived\"].values\n",
    "features_one = train[[\"Pclass\", \"Sex\", \"Age\", \"Fare\"]].values\n",
    "\n",
    "# Fit your first decision tree: my_tree_one\n",
    "my_tree_one = tree.DecisionTreeClassifier()\n",
    "start = time()\n",
    "my_tree_one = my_tree_one.fit(features_one, target)\n",
    "\n",
    "# Look at the importance and score of the included features\n",
    "print \"Our Decision Tree prediction took {:.2f} seconds.\".format(time() - start)\n",
    "print \"Importance:\\n\", my_tree_one.feature_importances_\n",
    "print \"Score:\\n\", my_tree_one.score(features_one, target)"
   ]
  },
  {
   "cell_type": "markdown",
   "metadata": {
    "deletable": true,
    "editable": true
   },
   "source": [
    "Looks like assenger __Fare__ has most significance in determining survival based on the model. Since we decalred the features to use (`features_one`), we can assume that the important features are assigned in the same order, but let's confirm that by mapping the feature name to it's importance."
   ]
  },
  {
   "cell_type": "code",
   "execution_count": null,
   "metadata": {
    "collapsed": false,
    "deletable": true,
    "editable": true
   },
   "outputs": [],
   "source": [
    "# List of feature names\n",
    "names = [\"Pclass\", \"Sex\", \"Age\", \"Fare\"]\n",
    "\n",
    "# Code coutesy of:\n",
    "# http://blog.datadive.net/selecting-good-features-part-iii-random-forests/\n",
    "print \"Features sorted by their score:\"\n",
    "print sorted(zip(map(lambda x: round(x, 4), my_tree_one.feature_importances_), names), \n",
    "             reverse=True)"
   ]
  },
  {
   "cell_type": "markdown",
   "metadata": {
    "deletable": true,
    "editable": true
   },
   "source": [
    "# Dealing with Overfitting\n",
    "When applying models to new data, one thing to pay special attention to is __[overfitting](https://en.wikipedia.org/wiki/Overfitting)__. when creating the decision tree above, the default arguments for `max_depth` and `min_samples_split` were set to `None`. This means that no limit on the depth of the tree was set. This is not necessary a good thing, as we are likely overfitting. This means that while our model describes the training data extremely well, it doesn't generalize to new data, which is frankly the point of prediction. \n",
    "\n",
    "One solution to address this is to make  a less complex model. In `DecisionTreeRegressor`, the depth of the model is defined by two parameters:\n",
    "- The `max_depth` parameter determines when the splitting up of the decision tree stops.\n",
    "- The `min_samples_split` parameter monitors the amount of observations in a bucket. If a certain threshold is not reached (e.g minimum 10 passengers) no further splitting can be done.\n",
    "\n",
    "By limiting the complexity of the decision tree we can increase its generality and thus its usefulness for better prediction. To test this theory we now include the Siblings or Spouses Aboard (`SibSp`), Parents/Children Aboard (`Parch`), and `Embarked` features in a new set of features and fit a  second tree (`my_tree_two`) with the new features, and control for the model compelexity by toggling the `max_depth` and `min_samples_split` arguments."
   ]
  },
  {
   "cell_type": "code",
   "execution_count": null,
   "metadata": {
    "collapsed": false,
    "deletable": true,
    "editable": true
   },
   "outputs": [],
   "source": [
    "# Create a new array with the added features: features_two\n",
    "target = train[\"Survived\"].values\n",
    "features_two = train[[\"Pclass\",\"Age\",\"Sex\",\"Fare\", \"SibSp\", \"Parch\", \"Embarked\"]].values\n",
    "\n",
    "# Control overfitting by setting \"max_depth\" to 10\n",
    "max_depth = 10\n",
    "\n",
    "# Control overfitting by setting \"min_samples_split\" to 5\n",
    "my_tree_two = tree.DecisionTreeClassifier(max_depth = 10, min_samples_split = 5, random_state = 1)\n",
    "\n",
    "# Create the my_tree_two model\n",
    "start = time()\n",
    "my_tree_two = my_tree_two.fit(features_two, target)\n",
    "\n",
    "#Print the score of the new decison tree\n",
    "print \"Our new Decision Tree prediction took {:.2f} seconds.\".format(time() - start)\n",
    "print \"Importance:\\n\", my_tree_two.feature_importances_\n",
    "print \"Score:\\n\", my_tree_two.score(features_two, target)"
   ]
  },
  {
   "cell_type": "markdown",
   "metadata": {
    "deletable": true,
    "editable": true
   },
   "source": [
    "Even though the scope of this tutorial doesn't include actually submitting the updated solution to Kaggle, we would see however that despite a lower `.score`, this new model predicts better then the fist one. \n",
    "\n",
    "# Feature Engineering\n",
    "One of the most complicated aspects of Data Science is trying various machine learning algorithms, dealing with over and under-fitting and tweaking parameters to find the best possible fit to new and unseen data. Part of the process fo tweaking paramaters isfeature engineering. This is the process of creatively engineering our own features by combining the different existing variables.\n",
    "\n",
    "While feature engineering is a discipline in itself, too broad to be covered here in detail, we will have a look at a simple example by creating our very own new predictive attribute: `family_size`. A valid assumption is that larger families need more time to get together on a sinking ship, and hence have lower probability of surviving. Family size is determined by the variables `SibSp` and `Parch`, which indicate the number of family members a certain passenger is traveling with. So when doing feature engineering, we add a new variable `family_size`, which is the sum of `SibSp` and `Parch` plus one (for the observation itself), to the test and train set. To engineer this new feature, we do the following:\n",
    "\n",
    "1. Create a \"fresh\" `train` set called `train_two` that differs from `train` only by having an extra column with the engineered variable `family_size`.\n",
    "2. Add the new engineered variable `family_size` in addition to `Pclass`, `Sex`, `Age`, `Fare`, `SibSp` and `Parch` to a new set,  `features_three`.\n",
    "3. Create a new decision tree as `my_tree_three` and fit the decision tree with the new feature set,  `features_three`.\n",
    "4. Find the score of the new decision tree."
   ]
  },
  {
   "cell_type": "code",
   "execution_count": null,
   "metadata": {
    "collapsed": false,
    "deletable": true,
    "editable": true
   },
   "outputs": [],
   "source": [
    "# Create train_two with the newly defined feature\n",
    "target = train[\"Survived\"].values\n",
    "train_two = train.copy()\n",
    "train_two[\"family_size\"] = train_two[\"SibSp\"] + train_two[\"Parch\"] + 1\n",
    "\n",
    "# Create a new feature set and add the new feature\n",
    "features_three = train_two[[\"Pclass\", \"Sex\", \"Age\", \"Fare\", \"SibSp\", \"Parch\", \"family_size\"]].values\n",
    "\n",
    "# Define the tree classifier, then fit the model\n",
    "my_tree_three = tree.DecisionTreeClassifier()\n",
    "start = time()\n",
    "my_tree_three = my_tree_three.fit(features_three, target)\n",
    "\n",
    "# Print the score of this decision tree\n",
    "print \"Our Decision Tree with `family_size` prediction took {:.2f} seconds.\".format(time() - start)\n",
    "print \"Importance:\\n\", my_tree_three.feature_importances_\n",
    "print \"Score:\\n\", my_tree_three.score(features_three, target)"
   ]
  },
  {
   "cell_type": "markdown",
   "metadata": {
    "deletable": true,
    "editable": true
   },
   "source": [
    "__Notice__ that this time the newly created variable is included in the model. \n",
    "# Prediction using Random Forest\n",
    "A detailed study of Random Forests is outside the scope of this tutorial. However, since it's an often used machine learning technique, we introduce a general overview in Python. The Random Forest technique handles the overfitting problem we saw with decision trees. It grows multiple (very deep) classification trees using the training set. At the time of prediction, each tree is used to come up with a prediction and every outcome is counted as a vote. For example, if we have trained $3$ trees with $2$ saying a passenger in the test set will survive and $1$ says he will not, the passenger will be classified as a survivor. This approach of overtraining trees, but having the majority's vote count as the actual classification decision, avoids overfitting.\n",
    "\n",
    "Building a random forest in Python looks is very similar to building a decision tree, with three key differences.\n",
    "1. A different class is used.\n",
    "2. A new argument is necessary.\n",
    "3. The necessary library from `scikit-learn` must be imported.\n",
    "    - Use the `RandomForestClassifier()` class instead of the `DecisionTreeClassifier()` class.\n",
    "    - `n_estimators` needs to be set when using the `RandomForestClassifier()` class. This argument allows us to set the number of trees we wish to plant and average over.\n",
    "\n",
    "The following exampple shows us how to build a Random Forest Classifier by dowing the following:\n",
    "1. Build the random forest with `n_estimators` set to 100.\n",
    "2. Fit your random forest model with inputs features_forest and target.\n",
    "3. Compute the classifier predictions on the selected test set features."
   ]
  },
  {
   "cell_type": "code",
   "execution_count": null,
   "metadata": {
    "collapsed": false,
    "deletable": true,
    "editable": true
   },
   "outputs": [],
   "source": [
    "# Import the `RandomForestClassifier`\n",
    "from sklearn.ensemble import RandomForestClassifier\n",
    "\n",
    "# Creat a list of the features. \n",
    "target = train[\"Survived\"].values\n",
    "forest_features = train[[\"Pclass\", \"Age\", \"Sex\", \"Fare\", \"SibSp\", \"Parch\", \"Embarked\"]].values\n",
    "\n",
    "# Building and fitting my_forest\n",
    "forest = RandomForestClassifier(max_depth = 10, min_samples_split=2, n_estimators = 100, random_state = 1)\n",
    "start = time()\n",
    "my_forest = forest.fit(forest_features, target)\n",
    "\n",
    "# Print the score of the fitted random forest\n",
    "print \"Our Random Forest prediction took {:.2f} seconds.\".format(time() - start)\n",
    "print \"Score:\\n\", my_forest.score(forest_features, target)"
   ]
  },
  {
   "cell_type": "markdown",
   "metadata": {
    "deletable": true,
    "editable": true
   },
   "source": [
    "# Model Comparison\n",
    "Recall that in the when using the Decision Tree models, we looked at the `.feature_importances_` attribute to see how each of the feature influenced the decision trees.  We can request the same attribute from the random forest as well and interpret the relevance of the included variables. Since the Random Forest aleviates the overfitting problem, it would be a good exercise to compare it to the Decision Tree model in some quick and easy way. For this, we can use the `.score()` method, which takes the features data and the target vector and computes mean accuracy of the model."
   ]
  },
  {
   "cell_type": "code",
   "execution_count": null,
   "metadata": {
    "collapsed": false,
    "deletable": true,
    "editable": true
   },
   "outputs": [],
   "source": [
    "# Final score comparison\n",
    "names = [\"Pclass\",\"Age\",\"Sex\",\"Fare\", \"SibSp\", \"Parch\", \"Embarked\"]\n",
    "print \"Decision Tree final score:\", my_tree_two.score(features_two, target)\n",
    "print \"Decision Tree features sorted by their score:\"\n",
    "print sorted(zip(map(lambda x: round(x, 4), my_tree_two.feature_importances_), names), \n",
    "             reverse=True)\n",
    "print \"\\n\"\n",
    "print \"Random Forest final score:\", my_forest.score(forest_features, target)\n",
    "print \"Random Forest features sorted by their score:\"\n",
    "print sorted(zip(map(lambda x: round(x, 4), my_forest.feature_importances_), names), \n",
    "             reverse=True)"
   ]
  },
  {
   "cell_type": "markdown",
   "metadata": {
    "deletable": true,
    "editable": true
   },
   "source": [
    "# Conclusion\n",
    "Based on our findings from the various models that have been run, we can determine which feature was of most importance, and for which model.\n",
    "\n",
    "__The most important feature was \"Sex\", but it was more significant for \"my_tree_two\" Decision Tree.__\n",
    "\n",
    "---\n",
    "\n",
    "# Ensemble Methods\n",
    "In an prediction task, it is important try and test multiple algorithms to find the best possible fit. In most cases it is not necessary or possible to test every single algorithm type against the data, a fare assesment may suffice, but it is a good practice to at least try achieve a better fit. That is why we introduced a different Machine Learning algorithm to the `DecisionTreeClassifier()` we were currently using. What we did in essence is introduce an Ensemble Method. The goal of ensemble methods is to combine the predictions of several base estimators built with a given learning algorithm in order to improve generalizability or robustness over a single estimator. In our case, we used the `RandomForestClassifier()` which built several (very deep) classification trees that when used for prediction, each tree is used to come up with a prediction and every outcome is counted as a vote. This is an example of an __averaging methods__. Here, the driving principle is to build several estimators independently and then to average their predictions. On average, the combined estimator is usually better than any of the single base estimator because its variance is reduced. This is evedent when comparing the score from both models above.\n",
    "\n",
    "One of the biggest issues with ensemble Methods is that they can be computationally exhaustive. The alternative is manually trying every possible variable combinations (since there is no easy way to know which parameters work best, other than trying out many different combinations) or parameter combinations (hyperparameters) to get the best model fit. Fortunately, the `scikit-learn` package includes the `GridSearchCV` and `RandomizedSearchCV` functions wich allows for the evaluation of each parameter setting independently, in parallel.\n",
    "\n",
    "The down-side to this is the fact that this is not scalable. The models above are executed on data in Pandas DataFrames. These DataFrames are memory resident, so unless the machine executing the models has sufficient memory or the data sets are small enough, the `GridSearchCV` and `RandomizedSearchCV` functions may not be helpful. Fortunately the team at Databrix has released the [`spark-sklearn`](http://spark-packages.org/package/databricks/spark-sklearn) package to allow us to execute these funcitons over a Spark cluster.\n",
    "\n",
    "The following example is based on the  [Auto-scaling scikit-learn with Spark](https://databricks.com/blog/2016/02/08/auto-scaling-scikit-learn-with-spark.html) example, but has been adapted to our Titanic example. The objective is to populate a \"grid\" of various model parameters and have `GridSearchCV` execute each set of parameters to determine the best score. The goal here is not necessarily to find a model with a better score but to illustrate the time it takes to search through the various model parameters to find the best one. The example has the following steps:\n",
    "\n",
    "1. Import the `GridSearchCV` library from `scikit-learn`.\n",
    "2. Create the function to report the top $3$ models, courtesy of [Databrix](http://go.databricks.com/hubfs/notebooks/Samples/Miscellaneous/blog_post_cv.html).\n",
    "3. Create the \"grid\" of parameters combnations to execute. Thjis is loosley based on the Databrix example.\n",
    "4. Fit the model with the \"grid\"of parameters."
   ]
  },
  {
   "cell_type": "code",
   "execution_count": null,
   "metadata": {
    "collapsed": false,
    "deletable": true,
    "editable": true,
    "scrolled": false
   },
   "outputs": [],
   "source": [
    "# Import necessary packages\n",
    "import warnings\n",
    "warnings.filterwarnings('ignore')\n",
    "from operator import itemgetter\n",
    "from sklearn import grid_search\n",
    "import pandas as pd\n",
    "\n",
    "# Databrix utility function to report top 3 best scores\n",
    "def report(grid_scores, n_top = 3):\n",
    "    top_scores = sorted(grid_scores, key = itemgetter(1), reverse = True)[:n_top]\n",
    "    for i, score in enumerate(top_scores):\n",
    "        print(\"Model with rank: {0}\".format(i + 1))\n",
    "        print(\"Mean validation score: {0:.3f} (std: {1:.3f})\".format(\n",
    "              score.mean_validation_score,\n",
    "              np.std(score.cv_validation_scores)))\n",
    "        print(\"Parameters: {0}\".format(score.parameters))\n",
    "        print(\"\")\n",
    "\n",
    "# Creat a list of the features. \n",
    "target = train[\"Survived\"].values\n",
    "forest_features = train[[\"Pclass\", \"Age\", \"Sex\", \"Fare\", \"SibSp\", \"Parch\", \"Embarked\"]].values\n",
    "\n",
    "# Add grid parameter code based on Databricks\n",
    "param_grid = {\"max_depth\": [3, 10, None],\n",
    "              \"min_samples_split\": [1.0, 2, 3, 10], \n",
    "              \"min_samples_leaf\": [1, 2, 3, 10], \n",
    "              \"bootstrap\": [True, False],\n",
    "              \"criterion\": [\"gini\", \"entropy\"],\n",
    "              \"n_estimators\": [10, 20, 40, 80, 160]}\n",
    "\n",
    "# Execute the grid search\n",
    "gs = grid_search.GridSearchCV(RandomForestClassifier(), param_grid = param_grid)\n",
    "start = time()\n",
    "gs.fit(forest_features, target)\n",
    "print(\"GridSearchCV took {:.2f} minutes for {:d} candidate settings.\".format((time() - start) / 60,\\\n",
    "                                                                             len(gs.grid_scores_)))\n",
    "report(gs.grid_scores_)"
   ]
  },
  {
   "cell_type": "markdown",
   "metadata": {
    "deletable": true,
    "editable": true
   },
   "source": [
    "---\n",
    "# Ensemble Methods at Scale\n",
    "As we can see, the `GridSearchCV` took __$10$__ minutes on a single machine and provided us with the top $3$ candidates and their settings to try. By applying these suggestions we can very effectivley find the best model as well as the optumum parameters to apply to achieve the best score. Next we aply the same proceedure to a Spark Cluster to parallelize the task across $5$ Spark Workers.\n",
    "\n",
    "## Provision EMR Cluster in Python\n",
    "\n",
    "```\n",
    "import boto3\n",
    "connection = boto3.client(\n",
    "    'emr',\n",
    "    region_name='us-west-1',\n",
    "    aws_access_key_id='<Your AWS Access Key>',\n",
    "    aws_secret_access_key='<You AWS Secred Key>',\n",
    ")\n",
    "\n",
    "cluster_id = connection.run_job_flow(\n",
    "    Name='SparkaaS',\n",
    "    LogUri='s3://chkrd/emr-log',\n",
    "    ReleaseLabel='emr-5.4.0',\n",
    "    Instances={\n",
    "        'InstanceGroups': [\n",
    "            {\n",
    "                'Name': \"Master nodes\",\n",
    "                'Market': 'ON_DEMAND',\n",
    "                'InstanceRole': 'MASTER',\n",
    "                'InstanceType': 'm1.large',\n",
    "                'InstanceCount': 1,\n",
    "            },\n",
    "            {\n",
    "                'Name': \"Slave nodes\",\n",
    "                'Market': 'ON_DEMAND',\n",
    "                'InstanceRole': 'CORE',\n",
    "                'InstanceType': 'm1.large',\n",
    "                'InstanceCount': 5,\n",
    "            }\n",
    "        ],\n",
    "        'Ec2KeyName': '<Ec2 Keyname>',\n",
    "        'KeepJobFlowAliveWhenNoSteps': True,\n",
    "        'TerminationProtected': False,\n",
    "        'Ec2SubnetId': '<Your Subnet ID>',\n",
    "    },\n",
    "    Steps=[],\n",
    "    VisibleToAllUsers=True,\n",
    "    JobFlowRole='EMR_EC2_DefaultRole',\n",
    "    ServiceRole='EMR_DefaultRole',\n",
    "    Tags=[\n",
    "        {\n",
    "            'Key': 'tag_name_1',\n",
    "            'Value': 'tab_value_1',\n",
    "        },\n",
    "        {\n",
    "            'Key': 'tag_name_2',\n",
    "            'Value': 'tag_value_2',\n",
    "        },\n",
    "    ],\n",
    ")\n",
    "\n",
    "print (cluster_id['JobFlowId'])\n",
    "```\n",
    "## Provision EMR Cluster with AWS CLI\n",
    "```bash\n",
    "aws emr create-cluster --termination-protected --applications Name=Hadoop Name=Hive Name=Spark --ec2-attributes '{\"KeyName\":\"devenv-key\",\"InstanceProfile\":\"EMR_EC2_DefaultRole\",\"SubnetId\":\"subnet-39a22e5e\",\"EmrManagedSlaveSecurityGroup\":\"sg-86bb82fe\",\"EmrManagedMasterSecurityGroup\":\"sg-83bb82fb\"}' --release-label emr-5.4.0 --log-uri 's3n://chkrd/elasticmapreduce/' --steps '[{\"Args\":[\"nohup\",\"/home/hadoop/livy-server-0.3.0/bin/livy-server\",\">\",\"/dev/null\",\"2>/tmp/livy.log\",\"&\"],\"Type\":\"CUSTOM_JAR\",\"ActionOnFailure\":\"CONTINUE\",\"Jar\":\"command-runner.jar\",\"Properties\":\"\",\"Name\":\"Start Livy Server\"},{\"Args\":[\"aws\",\"s3\",\"cp\",\"s3://chkrd/artifacts/livy-env.sh\",\"/home/hadoop/livy-server-0.3.0/conf/\"],\"Type\":\"CUSTOM_JAR\",\"ActionOnFailure\":\"CONTINUE\",\"Jar\":\"command-runner.jar\",\"Properties\":\"\",\"Name\":\"Copy Livy Environment\"},{\"Args\":[\"aws\",\"s3\",\"cp\",\"s3://chkrd/artifacts/livy.conf\",\"/home/hadoop/livy-server-0.3.0/conf/\"],\"Type\":\"CUSTOM_JAR\",\"ActionOnFailure\":\"CONTINUE\",\"Jar\":\"command-runner.jar\",\"Properties\":\"\",\"Name\":\"Copy Livy Configuration\"}]' --instance-groups '[{\"InstanceCount\":2,\"InstanceGroupType\":\"CORE\",\"InstanceType\":\"m3.xlarge\",\"Name\":\"Core - 2\"},{\"InstanceCount\":1,\"InstanceGroupType\":\"MASTER\",\"InstanceType\":\"m3.xlarge\",\"Name\":\"Master - 1\"}]' --auto-scaling-role EMR_AutoScaling_DefaultRole --bootstrap-actions '[{\"Path\":\"s3://chkrd/artifacts/emr_base_config.sh\",\"Name\":\"EMR Base Configuration\"}]' --service-role EMR_DefaultRole --enable-debugging --name 'chkrd-alpha' --scale-down-behavior TERMINATE_AT_INSTANCE_HOUR --region us-west-2\n",
    "```\n",
    "\n",
    "## View EMR Cluster Configuration"
   ]
  },
  {
   "cell_type": "code",
   "execution_count": null,
   "metadata": {
    "collapsed": false,
    "scrolled": false
   },
   "outputs": [],
   "source": [
    "!aws emr list-clusters | grep -i alpha"
   ]
  },
  {
   "cell_type": "code",
   "execution_count": null,
   "metadata": {
    "collapsed": false
   },
   "outputs": [],
   "source": [
    "!aws emr describe-cluster --cluster-id j-24FB4C97SWCZM"
   ]
  },
  {
   "cell_type": "code",
   "execution_count": null,
   "metadata": {
    "collapsed": false
   },
   "outputs": [],
   "source": [
    "!aws emr list-instances --cluster-id j-24FB4C97SWCZM"
   ]
  },
  {
   "cell_type": "code",
   "execution_count": null,
   "metadata": {
    "collapsed": false
   },
   "outputs": [],
   "source": [
    "!aws emr add-steps --cluster-id j-24FB4C97SWCZM --steps '[{\"Args\":[\"nohup\",\"/home/hadoop/livy-server-0.3.0/bin/livy-server\",\">\",\"/dev/null\",\"2>&1\",\"&\"],\"Type\":\"CUSTOM_JAR\",\"ActionOnFailure\":\"CONTINUE\",\"Jar\":\"command-runner.jar\",\"Properties\":\"\",\"Name\":\"Start Livy Server\"}]'"
   ]
  },
  {
   "cell_type": "markdown",
   "metadata": {},
   "source": [
    "## Load `sparkmagic` Jupyter Extension"
   ]
  },
  {
   "cell_type": "code",
   "execution_count": null,
   "metadata": {
    "collapsed": true,
    "deletable": true,
    "editable": true
   },
   "outputs": [],
   "source": [
    "%load_ext sparkmagic.magics"
   ]
  },
  {
   "cell_type": "markdown",
   "metadata": {
    "deletable": true,
    "editable": true
   },
   "source": [
    "## Configure EMR Endpoint"
   ]
  },
  {
   "cell_type": "code",
   "execution_count": null,
   "metadata": {
    "collapsed": false,
    "deletable": true,
    "editable": true
   },
   "outputs": [],
   "source": [
    "%manage_spark"
   ]
  },
  {
   "cell_type": "markdown",
   "metadata": {
    "deletable": true,
    "editable": true
   },
   "source": [
    "## Ensamble Methods on Spark-as-a-Service"
   ]
  },
  {
   "cell_type": "code",
   "execution_count": null,
   "metadata": {
    "collapsed": false,
    "deletable": true,
    "editable": true
   },
   "outputs": [],
   "source": [
    "%%spark\n",
    "sc"
   ]
  },
  {
   "cell_type": "code",
   "execution_count": null,
   "metadata": {
    "collapsed": false,
    "deletable": true,
    "editable": true
   },
   "outputs": [],
   "source": [
    "%%spark\n",
    "sqlContext"
   ]
  },
  {
   "cell_type": "markdown",
   "metadata": {
    "deletable": true,
    "editable": true
   },
   "source": [
    "## Ensamble Methods using Spark-as-a-Service"
   ]
  },
  {
   "cell_type": "code",
   "execution_count": null,
   "metadata": {
    "collapsed": false,
    "deletable": true,
    "editable": true
   },
   "outputs": [],
   "source": [
    "%%spark\n",
    "# Import necessary packages\n",
    "import warnings\n",
    "warnings.filterwarnings('ignore')\n",
    "from operator import itemgetter\n",
    "from sklearn.model_selection import GridSearchCV\n",
    "from sklearn.ensemble import RandomForestClassifier\n",
    "from time import time\n",
    "import numpy as np\n",
    "from sklearn import tree\n",
    "import pandas as pd\n",
    "\n",
    "# Reload the train and test datasets to create two DataFrames\n",
    "train_url = \"http://s3.amazonaws.com/assets.datacamp.com/course/Kaggle/train.csv\"\n",
    "train = pd.read_csv(train_url)\n",
    "test_url = \"http://s3.amazonaws.com/assets.datacamp.com/course/Kaggle/test.csv\"\n",
    "test = pd.read_csv(test_url)\n",
    "\n",
    "# Preprocess the Data\n",
    "train[\"Sex\"][train[\"Sex\"] == \"male\"] = 0\n",
    "train[\"Sex\"][train[\"Sex\"] == \"female\"] = 1\n",
    "train[\"Embarked\"] = train[\"Embarked\"].fillna(\"S\")\n",
    "train[\"Age\"] = train[\"Age\"].fillna(train[\"Age\"].median())\n",
    "train[\"Embarked\"][train[\"Embarked\"] == \"S\"] = 0\n",
    "train[\"Embarked\"][train[\"Embarked\"] == \"C\"] = 1\n",
    "train[\"Embarked\"][train[\"Embarked\"] == \"Q\"] = 2\n",
    "\n",
    "# Databrix utility function to report top 3 best scores\n",
    "def report(grid_scores, n_top = 3):\n",
    "    top_scores = sorted(grid_scores, key = itemgetter(1), reverse = True)[:n_top]\n",
    "    for i, score in enumerate(top_scores):\n",
    "        print(\"Model with rank: {0}\".format(i + 1))\n",
    "        print(\"Mean validation score: {0:.3f} (std: {1:.3f})\".format(\n",
    "              score.mean_validation_score,\n",
    "              np.std(score.cv_validation_scores)))\n",
    "        print(\"Parameters: {0}\".format(score.parameters))\n",
    "        print(\"\")\n",
    "\n",
    "# Creat a list of the features. \n",
    "target = train[\"Survived\"].values\n",
    "forest_features = train[[\"Pclass\", \"Age\", \"Sex\", \"Fare\", \"SibSp\", \"Parch\", \"Embarked\"]].values\n",
    "\n",
    "# Add grid parameter code based on Databricks\n",
    "param_grid = {\"max_depth\": [3, 10, None],\n",
    "              \"min_samples_split\": [1.0, 2, 3, 10], \n",
    "              \"min_samples_leaf\": [1, 2, 3, 10], \n",
    "              \"bootstrap\": [True, False],\n",
    "              \"criterion\": [\"gini\", \"entropy\"],\n",
    "              \"n_estimators\": [10, 20, 40, 80, 160]}\n",
    "\n",
    "# Import grid search for Spark\n",
    "from spark_sklearn import GridSearchCV as SparkSearch\n",
    "\n",
    "# Execute the grid search on Spark\n",
    "Spark_gs = SparkSearch(sc, RandomForestClassifier(), param_grid = param_grid)\n",
    "start = time()\n",
    "\n",
    "Spark_gs.fit(forest_features, target)\n",
    "print(\"Spark GridSearchCV took {:.2f} minutes for {:d} candidate settings.\".format((time() - start) / 60, len(Spark_gs.grid_scores_)))\n",
    "report(Spark_gs.grid_scores_)"
   ]
  },
  {
   "cell_type": "markdown",
   "metadata": {
    "deletable": true,
    "editable": true
   },
   "source": [
    "By running the `GridSearchCV` on a cluster of $5$ Spark Nodes, we managed to execute the same ensemble task in $19$ seconds, thus demonstarting that distributing the various algorithms across multiple nodes certainly helps to narrow down the best fit without having to manually try multiple models and wasting unnecessary time."
   ]
  }
 ],
 "metadata": {
  "kernelspec": {
   "display_name": "Python 2",
   "language": "python",
   "name": "python2"
  },
  "language_info": {
   "codemirror_mode": {
    "name": "ipython",
    "version": 2
   },
   "file_extension": ".py",
   "mimetype": "text/x-python",
   "name": "python",
   "nbconvert_exporter": "python",
   "pygments_lexer": "ipython2",
   "version": "2.7.13"
  },
  "widgets": {
   "state": {
    "01eefd3c5b8c492088f1c579c1b83d9a": {
     "views": []
    },
    "02d99f46c3944f1fa2bc051b85c5d30c": {
     "views": []
    },
    "08b2c381a80340d78b44d734081c3128": {
     "views": []
    },
    "093ac5a2f6054cfba2e4ef85efe2d672": {
     "views": []
    },
    "098b9868cde046938e1b3c11ed552d06": {
     "views": []
    },
    "0bdc964f3d424ebe8e3f45e247754377": {
     "views": []
    },
    "0c66e23f93a24a5f8489d030198dc870": {
     "views": []
    },
    "0c73b4f5b0e74404838a5ea52e2585b2": {
     "views": []
    },
    "0d692937df7b4107b1d4a4fe4978fc3e": {
     "views": []
    },
    "0f672cd4a3f14761b3968dfd607b3874": {
     "views": []
    },
    "0f732b4045e148b3ae09f01c872c51c1": {
     "views": []
    },
    "0f7470a785c04a5992f9a05d7fb36e69": {
     "views": []
    },
    "112c298e44f04da4b8dcc5dc0d8e52cb": {
     "views": []
    },
    "11882af7cdb642bb9f590e8add7ea142": {
     "views": []
    },
    "11a3797e5f79420891596ce861b8d684": {
     "views": []
    },
    "120e086140b749968386bfedae93b988": {
     "views": []
    },
    "121e7b2b5b5e4a7eb46c4edf21ba3244": {
     "views": []
    },
    "1247800aa85b4279b31cf6d2ef64d84c": {
     "views": []
    },
    "169488f1f805465a8ef19558bf070bba": {
     "views": []
    },
    "18f67ce33df14d5cb969b1bfa768339e": {
     "views": []
    },
    "1cdce7abb7b84876b3f1347013f14e10": {
     "views": []
    },
    "1e8d0e2b60994c1fa5ab9ef7433e3592": {
     "views": []
    },
    "1f15cf422f1b4f828f91aad730f3a542": {
     "views": []
    },
    "20191cc7337d4940a30f98c2e1bad219": {
     "views": []
    },
    "2035d6e224214e9ba8637bb84ebe4399": {
     "views": []
    },
    "21ac9b1b612747ac961e48b2d7577b4e": {
     "views": []
    },
    "21e0dfff3e67468381bd2b3bc52d8cc5": {
     "views": []
    },
    "2590f6665a114f61bdb1dcc65c2705fb": {
     "views": []
    },
    "2597dee5eeb44fa6b2c63fe532deb75c": {
     "views": []
    },
    "268f6a57a77a465dbbe4faaa49463a9b": {
     "views": []
    },
    "2774c9f946ee4ef8961e4d8078028c46": {
     "views": []
    },
    "29ed01e52c804a20bb0ef367989637ec": {
     "views": []
    },
    "2ca921f0330e4620af31f3aeaa4c2435": {
     "views": []
    },
    "2cc24a78625c436fb0403189643e78c9": {
     "views": []
    },
    "2cc5ff9ffdb646b3afac33f460a97529": {
     "views": []
    },
    "2ce52635926f4e1990870a3efe3989d7": {
     "views": []
    },
    "2d3d6ac00ee440449f948c12c8e52da9": {
     "views": []
    },
    "2d6dae83ad744d1bb8b45768e8ba6566": {
     "views": []
    },
    "2e441c7a37964bb2a619d8d7779ab36e": {
     "views": []
    },
    "2ed2321fef6348a28c3114d0494c8097": {
     "views": []
    },
    "2f03bda4625248ef8f82b18418cadc6f": {
     "views": []
    },
    "2fd605aa2a7a47d7a21c753229dd2ed4": {
     "views": []
    },
    "30dd6d0ee7ff4dfab800665ba9a51368": {
     "views": [
      {
       "cell_index": 50
      }
     ]
    },
    "3276765fe5904364bd191b47574b3521": {
     "views": []
    },
    "34e67fc694ba423385905ffab711632c": {
     "views": []
    },
    "364f8a407ea34bde9f6365936734c290": {
     "views": []
    },
    "36b85730dcc5485c8ad2e25005068b97": {
     "views": []
    },
    "37e3a1799eac48dd87d16a8a8211efed": {
     "views": []
    },
    "3baea1bb2aad44a88dc73d8daaa51921": {
     "views": []
    },
    "3c424c84a9e14d10acf4f1401602b5fa": {
     "views": []
    },
    "3c6203f544c8470db6520f8c79688c3f": {
     "views": []
    },
    "3d7617cf09a74e989956f5144f9ae0c9": {
     "views": []
    },
    "3e17d87e153b4a6baaace8ea10797f09": {
     "views": []
    },
    "3e38173aafe141a0a8040d3ad46682bc": {
     "views": []
    },
    "3eb00a3e18824464a614f530a642dc77": {
     "views": []
    },
    "3fa1d4877c194a6099011cdfced2185c": {
     "views": []
    },
    "3fb66beafba44ad9ab9f4555218e665a": {
     "views": []
    },
    "438960a339a6475d8379230a9bb591f1": {
     "views": []
    },
    "44d843b3c24241a49d93f88d1993188f": {
     "views": []
    },
    "475cab35f83647a88de2909db4dea96a": {
     "views": []
    },
    "48d24ae6723943b1ac893ef285d5ac2a": {
     "views": []
    },
    "4bccd490b6f64c2ab80a56aec0aff543": {
     "views": []
    },
    "4e36b7810c9e40d49cee35f9ec13fa52": {
     "views": []
    },
    "4ed63520965744619a9a58c445fd531e": {
     "views": []
    },
    "4f35cd0b77b4455ebcb46b29f48b49be": {
     "views": []
    },
    "54ef6c28c4054f24914743c690751efc": {
     "views": []
    },
    "5686aaac8a18437382a5250ae0f80237": {
     "views": []
    },
    "58d4d9ba3c4a486ba26ae6191053ee7d": {
     "views": []
    },
    "5a2c2d2885c94174b19aa625ef552d9b": {
     "views": []
    },
    "5c081888ade14387b3a466dd7ca0b127": {
     "views": []
    },
    "5c52b59a0d2c468eaf92509ad14cb65b": {
     "views": []
    },
    "5dddf83d8f5b4c08a94da7d4aa3fd10d": {
     "views": []
    },
    "5e9a1a4427d14e8e8a491167516a82d2": {
     "views": []
    },
    "5ea09891e5a44906be2c82ad84a8bfb9": {
     "views": []
    },
    "60760061d06c4b71bbe0131a34a6b05d": {
     "views": []
    },
    "6084da08cc374a7898ab9158fef5bd8f": {
     "views": []
    },
    "63fb404583ee4de0b4d81ba206bb730d": {
     "views": []
    },
    "6489c09efb164c71b4b5f0113be3f848": {
     "views": []
    },
    "66512f10f4e648cd940da99872c63ca3": {
     "views": []
    },
    "666ce7a7ec5e461b98eda017e4a1551c": {
     "views": []
    },
    "667e9324e8434c07b4f7677fac63e58c": {
     "views": []
    },
    "67078dbc4e854789b6868e1b148bc6d3": {
     "views": []
    },
    "67fb7d3dfaa14ccc98db84ca4c8eb3f0": {
     "views": []
    },
    "683bb356195b4e70be518a6bd8cbd7b6": {
     "views": []
    },
    "695be984160a41baa86174d8053048ee": {
     "views": []
    },
    "6a01049116ec4b9886d56f93e42ac7c7": {
     "views": []
    },
    "6b91fb37e604458aaafccf272b17da8e": {
     "views": []
    },
    "6b9730e8d44a4877a95bfb35ae4a6ba7": {
     "views": []
    },
    "6e2a0c9b30da4e99a986b59ffe597911": {
     "views": []
    },
    "70719bfa86b84178a8a533e48701dc50": {
     "views": []
    },
    "7255630d92a242c882b7c098e72a3e59": {
     "views": []
    },
    "72b3ef7e1f85409faa878339e1b4a13b": {
     "views": []
    },
    "73d14e38079b4e71b91fb319d8cb4b3d": {
     "views": []
    },
    "77610e042332408da90ea51b5df43600": {
     "views": []
    },
    "7b98245808c14f54a0718729ea396d7a": {
     "views": []
    },
    "7be04130f45442b699489999eca49749": {
     "views": []
    },
    "7beb6945c6b7432dbbdaef0bbf8c5082": {
     "views": []
    },
    "7d48329ecbb544058671259660398be9": {
     "views": []
    },
    "7dadac5732e34b729545fe99dc7c9ced": {
     "views": []
    },
    "806c49658811468c9422a028b501b6cb": {
     "views": []
    },
    "81be3f4538234350aaee54d7fb6e9416": {
     "views": []
    },
    "82d882bf905e48f2876467b50ef8f494": {
     "views": []
    },
    "83323cde1645489fa74b8685ec5496f2": {
     "views": []
    },
    "8347f94d09d641ca926689f1f612e7c2": {
     "views": []
    },
    "840363141cb645e08fe0d6f21c81eb0d": {
     "views": []
    },
    "8718e841d1ec492a97bfc1b5d8cc9361": {
     "views": []
    },
    "87ee0b93ba0b43ee8b2344c83d1fb219": {
     "views": []
    },
    "888caef3c9104a08b112de372ac59d09": {
     "views": []
    },
    "8981db28379a45f48340465e29b15229": {
     "views": []
    },
    "898aa5f201424064b265d949a687de3e": {
     "views": []
    },
    "8bdc1aac261f4512af17774eb431180d": {
     "views": []
    },
    "8c6365559fc04395b14498f35976c077": {
     "views": []
    },
    "8d20630e71574d64a38f22d900f6a865": {
     "views": []
    },
    "8e6191c2eba641b990aa8ac8a5103826": {
     "views": []
    },
    "8e73f5740fe84246bfe3d188eb5c9c41": {
     "views": []
    },
    "8e853697d1a348feb6099e9e8a05652e": {
     "views": []
    },
    "8f9d7f603bde4f2c9ee3240967a280cf": {
     "views": []
    },
    "90558e35de094c54aaa18256ec4bbf21": {
     "views": []
    },
    "90b9a5a28c4541188734c60ed07003d6": {
     "views": []
    },
    "91db848b013349458089e126f18273f2": {
     "views": []
    },
    "92e6446b501c4e08a5ff0a4e3eba7669": {
     "views": []
    },
    "92eed110972e464b9e76f96ac8255b72": {
     "views": []
    },
    "932f8bf639934d07be58302885fd9e67": {
     "views": []
    },
    "9590477942aa4da7908d265e540566bd": {
     "views": []
    },
    "9a333589a84542a4a52b6094d8f3a936": {
     "views": []
    },
    "9df9905ad30b44b7ba8eb28a674cd631": {
     "views": []
    },
    "9e6e0064001947b0a9e10477de0a278b": {
     "views": []
    },
    "9f290d748da143e18bc00754b128b1f7": {
     "views": []
    },
    "9fd99d6b5d564654946904edb5bc55c7": {
     "views": []
    },
    "a1a8e3091cf84a07911193d4569e098a": {
     "views": []
    },
    "a310772f39e54e64937e73f21cd6d0ab": {
     "views": []
    },
    "a3a779efdad54f1887fe10d9929cbc7d": {
     "views": []
    },
    "a50bd555a4e444f2a5f059934b222f20": {
     "views": []
    },
    "a70deb70d99f4a7293d879e9b44033c3": {
     "views": []
    },
    "aa0645dd42554d59b88b4dc7c77ceaf6": {
     "views": []
    },
    "abc2305630354aaf9ada46fefd8c60e8": {
     "views": []
    },
    "afffa0a9f0f34daaab574ab9bf601e5a": {
     "views": []
    },
    "b2a1dc4e31ee49358aae6e78d07ca14f": {
     "views": []
    },
    "b3b98fe96d4e40f78cd76edd7b069f48": {
     "views": []
    },
    "b477603912db45bda5f0e35057ba9d13": {
     "views": []
    },
    "b5505ba5e82c473b84e50a3b9fc4cd28": {
     "views": []
    },
    "b5b4b5f7e12f4008b53aaac312ab8c95": {
     "views": []
    },
    "b6247e0c2dc34939a366a6413a055d06": {
     "views": []
    },
    "b6fde842cb074fdb8fb6b14d7f8ce717": {
     "views": []
    },
    "b88e5cfb455c4510a23b6ab22966af81": {
     "views": []
    },
    "b8bd830fe9ce4fadbc87ae5dc7d5fbfb": {
     "views": []
    },
    "bb048c076d274c9b961c43b63c381957": {
     "views": []
    },
    "bca62ead11834ddcbcb96ce1038732a4": {
     "views": []
    },
    "c0b1a93c3f8e4f3b9ce57361c7771ca9": {
     "views": []
    },
    "c0ea82b713f246818648fcd330fb703d": {
     "views": []
    },
    "c2ed88871c054925b94c10029b078c9b": {
     "views": []
    },
    "c5ca97662bee46f7b2bcba87d2c4794c": {
     "views": []
    },
    "c7b778a984b84c69bb78037d31536296": {
     "views": []
    },
    "c8f95c7b7dc948deab5d80df60e77c7e": {
     "views": []
    },
    "c9380b75f687419a8db92667f49e3388": {
     "views": []
    },
    "c94eac507a3d44a7816e24d61dba6f1b": {
     "views": []
    },
    "c9fcac9fd0a6459a825a0cf62b518d77": {
     "views": []
    },
    "ca1acb4eee3e43d99f2d91515f5428f9": {
     "views": []
    },
    "cab1a7d8ba104fde894b4dacc37cee80": {
     "views": []
    },
    "cadc2d72e6964e3698f454636b48d321": {
     "views": []
    },
    "cba1844436144d028e7fe34533c55e85": {
     "views": []
    },
    "cbd3d5d03d8846bbac824486033d6e2a": {
     "views": []
    },
    "cd2922ceccf34a3fa66bf7f5ef7e1a6a": {
     "views": []
    },
    "cd2e3aaf94764b668e0920ce4bf35a5e": {
     "views": []
    },
    "d5f3269cb7834939ad91923a6fbc112b": {
     "views": []
    },
    "d71256c0b46743178a726987fa2c6108": {
     "views": []
    },
    "d7fd7c4905544e1eb97ba88d40d66479": {
     "views": []
    },
    "d965729b50684a80b924aa11141ff873": {
     "views": []
    },
    "dc4ef4c7e7ee4aa5809064cf59585aab": {
     "views": []
    },
    "dc72a127ac0b40068b7279e39ba3a8b6": {
     "views": []
    },
    "dcb848226c514d69ad9b5cdaa90483fa": {
     "views": []
    },
    "dcc4750122724a19804e7565d7774ebd": {
     "views": []
    },
    "de449c5a70e3483c8303749495b08c44": {
     "views": []
    },
    "de48574b3fb541899acdaef67934a870": {
     "views": []
    },
    "e10edccdcf9744c39a5f0c9462ae7ac0": {
     "views": []
    },
    "e25cd4868e6b43baba1a1ad442b090ea": {
     "views": []
    },
    "e3bd8fb5c87e4a1f90b6e0d2f046f37f": {
     "views": []
    },
    "e525d08a6f034e9294e06fde134a45cd": {
     "views": []
    },
    "e53f764caa704199b92f3f80baf8d782": {
     "views": []
    },
    "e56bb95ce71b42e1a448eadc9f3628f0": {
     "views": []
    },
    "e6bae9d6fcbf4f31b679d4bd21526289": {
     "views": []
    },
    "e6fa219f12904a06b9e5c7d43cf45055": {
     "views": []
    },
    "e8205aadbf894d27b8c488195f1e73ce": {
     "views": []
    },
    "e93d0c2de6714bfb8cf61e5903de4185": {
     "views": []
    },
    "ebef355ed35849aaa43002c3f95ce521": {
     "views": []
    },
    "ec3f4789cf6e4ed18eb19d32f187fa21": {
     "views": []
    },
    "f00a5946d89844938a238b236022e1b5": {
     "views": []
    },
    "f09c2df247a5461cb378764c89531ed3": {
     "views": []
    },
    "f15b777bb36d4231b7791131e1376832": {
     "views": []
    },
    "f5569e00604c4199bd28a6dba7212fcb": {
     "views": []
    },
    "f7357640089c4f2391e4d9abcf7f7680": {
     "views": []
    },
    "f76e6ff47f314fe5ab7f953772fe8227": {
     "views": []
    },
    "f859bda99ff84c088df6accaea89d2d6": {
     "views": []
    },
    "f8af9629b26441d49cfbda5048158595": {
     "views": []
    },
    "f96b54c36c5d44b4a3b00f36b600cb88": {
     "views": []
    },
    "f9dddca10add41e2832600e6ebbffb97": {
     "views": []
    },
    "f9f5d80d36424241bb13bdf3010dc0a3": {
     "views": []
    },
    "fa812c4562494bf9895d0b1d68c15ccd": {
     "views": []
    },
    "fada2e0f8ae4445d9412736ea40da201": {
     "views": []
    },
    "faead98db5be41bc900761904a9a1f13": {
     "views": []
    },
    "faf0ecd95d804267aac2a28e3056bbb8": {
     "views": []
    },
    "fba2d3a0cfb44bda9e59e2f039e3beeb": {
     "views": []
    },
    "fdf2976d552e48fba1449518d215952c": {
     "views": []
    },
    "ffa77879e1e84856a7e5cc119ccb504c": {
     "views": []
    }
   },
   "version": "1.1.2"
  }
 },
 "nbformat": 4,
 "nbformat_minor": 0
}
