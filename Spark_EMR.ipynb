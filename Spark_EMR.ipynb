{
 "cells": [
  {
   "cell_type": "code",
   "execution_count": 1,
   "metadata": {
    "collapsed": false,
    "deletable": true,
    "editable": true
   },
   "outputs": [],
   "source": [
    "%load_ext sparkmagic.magics"
   ]
  },
  {
   "cell_type": "code",
   "execution_count": 2,
   "metadata": {
    "collapsed": true,
    "deletable": true,
    "editable": true
   },
   "outputs": [],
   "source": [
    "%manage_spark"
   ]
  },
  {
   "cell_type": "code",
   "execution_count": null,
   "metadata": {
    "collapsed": true,
    "deletable": true,
    "editable": true
   },
   "outputs": [],
   "source": []
  }
 ],
 "metadata": {
  "kernelspec": {
   "display_name": "PySpark",
   "language": "",
   "name": "pysparkkernel"
  },
  "language_info": {
   "codemirror_mode": {
    "name": "python",
    "version": 2
   },
   "mimetype": "text/x-python",
   "name": "pyspark",
   "pygments_lexer": "python2"
  },
  "widgets": {
   "state": {
    "054903a43e1846f0b2499f940d930c6c": {
     "views": []
    },
    "07a6494d2e6140c2a81f826edebf0add": {
     "views": []
    },
    "09ebccd0551e488c81b2602250e6e95d": {
     "views": []
    },
    "0b5a698185db4be1bc568d6efcbeaeb1": {
     "views": []
    },
    "17392e7b3ed44805868252e88e1a3714": {
     "views": []
    },
    "188da59877b541ea9182baaff20b0ae9": {
     "views": []
    },
    "19425085aa7f48679c5e632573b05b03": {
     "views": []
    },
    "1e619b21d6444b6792177f636b5fe5c7": {
     "views": []
    },
    "25fc833804d84910a2b010bcfaf69ee7": {
     "views": []
    },
    "2cb749fe9d864755bbdc38e9cee612df": {
     "views": []
    },
    "2d24b5912ca14b8a947f5550d1ca69ff": {
     "views": []
    },
    "30b34f15eccc42a695a425a8f26730da": {
     "views": []
    },
    "3b872b6d1c7645b19f15a8923c3d5799": {
     "views": []
    },
    "42a2c10d19a94b34916fae4730f5ab0c": {
     "views": []
    },
    "470611485f2b438a9610f6fb76480c30": {
     "views": []
    },
    "4b02bc8115e348699082da2d8d79172a": {
     "views": []
    },
    "4bfe48c8aa784261b3d848c867e2807b": {
     "views": []
    },
    "529ea8705e6f423580afa7fc4a79fbbb": {
     "views": []
    },
    "52e6b2244c3e4775a3f488bfb845f358": {
     "views": []
    },
    "53242efeaf3f4a68aa8b9a296bd2e366": {
     "views": []
    },
    "535f924dcfed46f891f7e2bb66a2d1a7": {
     "views": []
    },
    "5e9ba0f35f85406ea872a3dfcd68c518": {
     "views": []
    },
    "6b942b0827014283938ae44db1056522": {
     "views": []
    },
    "7bbb2bf266b54f1785e1477f80ce773f": {
     "views": []
    },
    "8001add86be04731be62c4355b7ef850": {
     "views": []
    },
    "824b5be770e64ce084df5d67939743ce": {
     "views": []
    },
    "85c91c3389cf403096b46f0ed091b674": {
     "views": []
    },
    "95d9d7d260fa4862ba0d865ff0ab0e65": {
     "views": []
    },
    "9935c5c1455c43da84124d90a2c00100": {
     "views": []
    },
    "9946a57da4b64440924e212044e6c4a8": {
     "views": []
    },
    "a1ca1a0e377341d5ab1d19b67cb4c732": {
     "views": []
    },
    "aa242c21dd7c4f9a987c9709fb4c16e9": {
     "views": []
    },
    "aad5da3465eb42be9eedfe10b4c9671f": {
     "views": []
    },
    "af50b000cde945d8b613714ce82a6fe8": {
     "views": []
    },
    "bf9d4ca658af4197b651c64a04123a1a": {
     "views": []
    },
    "c2362745478946caaa392b6b73d481d8": {
     "views": []
    },
    "c2e03f1ba8a948ea8ad2d3d90f37464e": {
     "views": []
    },
    "c87d8ee106c3427f9de7411e9e074396": {
     "views": []
    },
    "cdfc8ca4c2ac456eb573fdc3f3e944b8": {
     "views": []
    },
    "d5b026d1166c4817861fe00bf1f7057a": {
     "views": []
    },
    "e24ef9ac98074279a365d686b13995f6": {
     "views": []
    },
    "e9c1c61630be466587de407771827803": {
     "views": []
    },
    "ec1d422f08be43d0962fb6c1aebdacb0": {
     "views": []
    },
    "f0b8df2071ab46b78c68fa613a320605": {
     "views": []
    },
    "f1db193899be4a5c85ac4130abbe5753": {
     "views": []
    },
    "f6f84c46cdc34456b701774da3854200": {
     "views": [
      {
       "cell_index": 1
      }
     ]
    }
   },
   "version": "1.1.2"
  }
 },
 "nbformat": 4,
 "nbformat_minor": 2
}
