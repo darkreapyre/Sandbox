{
 "cells": [
  {
   "cell_type": "markdown",
   "metadata": {
    "deletable": true,
    "editable": true
   },
   "source": [
    "# Introduction\n",
    "In this case study, we will explore how to tackle Kaggle Titanic competition using Python and Machine Learning. When the Titanic sank, $1502$ of the $2224$ passengers and crew were killed. One of the main reasons for this high level of casualties was the lack of lifeboats on this self-proclaimed __\"unsinkable\"__ ship. In this tutorial, we will learn how to apply machine learning techniques to predict a passenger's chance of surviving using Python.\n",
    "\n",
    "# Extract Sample Data\n",
    "We start with loading in the training and testing set into your Python environment. We will use the [training set](http://s3.amazonaws.com/assets.datacamp.com/course/Kaggle/train.csv) to build our model, and the [test set](http://s3.amazonaws.com/assets.datacamp.com/course/Kaggle/test.csv) to validate it. The first step is to load this data with the `read_csv()` method from the Pandas library."
   ]
  },
  {
   "cell_type": "code",
   "execution_count": null,
   "metadata": {
    "collapsed": false,
    "deletable": true,
    "editable": true
   },
   "outputs": [],
   "source": [
    "# Import the Pandas library\n",
    "import warnings\n",
    "warnings.filterwarnings('ignore')\n",
    "import pandas as pd\n",
    "\n",
    "# Load the train and test datasets to create two DataFrames\n",
    "train_url = \"http://s3.amazonaws.com/assets.datacamp.com/course/Kaggle/train.csv\"\n",
    "train = pd.read_csv(train_url)\n",
    "test_url = \"http://s3.amazonaws.com/assets.datacamp.com/course/Kaggle/test.csv\"\n",
    "test = pd.read_csv(test_url)\n",
    "\n",
    "#Print the `head` of the train dataframe\n",
    "train.head()"
   ]
  },
  {
   "cell_type": "code",
   "execution_count": null,
   "metadata": {
    "collapsed": false,
    "deletable": true,
    "editable": true
   },
   "outputs": [],
   "source": [
    "#Print the `head` of the test dataframe\n",
    "test.head()"
   ]
  },
  {
   "cell_type": "markdown",
   "metadata": {
    "deletable": true,
    "editable": true
   },
   "source": [
    "On thing that immediately stands out when looking at the two data sets. The `test` set has no variable (colum) for wether or not the passanger `Survived` or not. This has been intentionally removed as that's the variable we will be predicting using the `train` set.\n",
    "\n",
    "# Exploring the Data\n",
    "Before starting with the actual analysis, it's important to understand the structure of the data. Both `test` and `train` are DataFrame objects, the way pandas represent datasets. We can easily explore a DataFrame using the `.describe()` method. This method summarizes the columns/features of the DataFrame, including the count of observations, mean, max and so on. Another useful trick is to look at the dimensions of the DataFrame. This is done by requesting the `.shape` attribute of your DataFrame object. It is also a good practice to look for any missing values in the data set.\n",
    "\n",
    "### Summary Statistics\n",
    "Next we apply the `.describe()` method, look for missing values and then apply `.shape` attribute of the training set."
   ]
  },
  {
   "cell_type": "code",
   "execution_count": null,
   "metadata": {
    "collapsed": false,
    "deletable": true,
    "editable": true
   },
   "outputs": [],
   "source": [
    "# Describe the `train` data\n",
    "train.describe()"
   ]
  },
  {
   "cell_type": "markdown",
   "metadata": {
    "deletable": true,
    "editable": true
   },
   "source": [
    "### Missing Values"
   ]
  },
  {
   "cell_type": "code",
   "execution_count": null,
   "metadata": {
    "collapsed": false,
    "deletable": true,
    "editable": true
   },
   "outputs": [],
   "source": [
    "# Look for missing values\n",
    "train.isnull().sum()"
   ]
  },
  {
   "cell_type": "code",
   "execution_count": null,
   "metadata": {
    "collapsed": false,
    "deletable": true,
    "editable": true
   },
   "outputs": [],
   "source": [
    "# Index for missing vales: `Embarked`\n",
    "train[\"Embarked\"][train[\"Embarked\"].isnull()]"
   ]
  },
  {
   "cell_type": "markdown",
   "metadata": {
    "deletable": true,
    "editable": true
   },
   "source": [
    "### Dimensions"
   ]
  },
  {
   "cell_type": "code",
   "execution_count": null,
   "metadata": {
    "collapsed": false,
    "deletable": true,
    "editable": true
   },
   "outputs": [],
   "source": [
    "# Look at the dimensions of `train`\n",
    "train.shape"
   ]
  },
  {
   "cell_type": "markdown",
   "metadata": {
    "deletable": true,
    "editable": true
   },
   "source": [
    "### Understanding the Data\n",
    "As we can see, the training set has $891$ observations and $12$ variables, the count for `Age` is $714$. But how many people in the training set survived the disaster with the Titanic? To see this, we can use the `value_counts()` method in combination with standard bracket notation to select a single column of a DataFrame:"
   ]
  },
  {
   "cell_type": "code",
   "execution_count": null,
   "metadata": {
    "collapsed": false,
    "deletable": true,
    "editable": true
   },
   "outputs": [],
   "source": [
    "# No. of people who survived (absolute numbers)\n",
    "train[\"Survived\"].value_counts()"
   ]
  },
  {
   "cell_type": "code",
   "execution_count": null,
   "metadata": {
    "collapsed": false,
    "deletable": true,
    "editable": true
   },
   "outputs": [],
   "source": [
    "# No. of people who survived (percentages)\n",
    "train[\"Survived\"].value_counts(normalize = True) * 100"
   ]
  },
  {
   "cell_type": "markdown",
   "metadata": {
    "deletable": true,
    "editable": true
   },
   "source": [
    "We see that $549$ individuals died ($62\\%$) and $342$ survived ($38\\%$). A simple way to predict heuristically could be: \"majority wins\". This would mean that we will predict every unseen observation to not survive.\n",
    "\n",
    "To dive in a little deeper we can perform similar counts and percentage calculations on subsets of the Survived column. For example, maybe gender could play a role as well? We can explore this using the .`value_counts()` method for a two-way comparison on the number of __males__ and __females__ that survived."
   ]
  },
  {
   "cell_type": "code",
   "execution_count": null,
   "metadata": {
    "collapsed": false,
    "deletable": true,
    "editable": true
   },
   "outputs": [],
   "source": [
    "# Count of males who survived\n",
    "train[\"Survived\"][train[\"Sex\"] == \"male\"].value_counts()"
   ]
  },
  {
   "cell_type": "code",
   "execution_count": null,
   "metadata": {
    "collapsed": false,
    "deletable": true,
    "editable": true
   },
   "outputs": [],
   "source": [
    "# Count of femails who survived\n",
    "train[\"Survived\"][train[\"Sex\"] == \"female\"].value_counts()"
   ]
  },
  {
   "cell_type": "markdown",
   "metadata": {
    "deletable": true,
    "editable": true
   },
   "source": [
    "To get proportions,  we again pass in the argument `normalize = True` to the `.value_counts()` method."
   ]
  },
  {
   "cell_type": "code",
   "execution_count": null,
   "metadata": {
    "collapsed": false,
    "deletable": true,
    "editable": true
   },
   "outputs": [],
   "source": [
    "# Count of males who survived (percentage)\n",
    "train[\"Survived\"][train[\"Sex\"] == \"male\"].value_counts(normalize = True) * 100"
   ]
  },
  {
   "cell_type": "code",
   "execution_count": null,
   "metadata": {
    "collapsed": false,
    "deletable": true,
    "editable": true
   },
   "outputs": [],
   "source": [
    "# Count of females who survived (percentage)\n",
    "train[\"Survived\"][train[\"Sex\"] == \"female\"].value_counts(normalize = True) * 100"
   ]
  },
  {
   "cell_type": "markdown",
   "metadata": {
    "deletable": true,
    "editable": true
   },
   "source": [
    "It looks like it makes sense to include gender in the predictions since there is a difference between the survival rate of males vs. females. Around $74\\%$ of females survived as opposed to $18\\%$ of the males surviving.\n",
    "\n",
    "Another variable that could influence survival is `age`; since it's probable that children were saved first. We can test this by creating a new column with a categorical variable `Child`. `Child` will take the value $1$ in cases where age is less than $18$, and a value of $0$ in cases where age is greater than or equal to $18$. So to add this new variable we need to do two things:\n",
    "\n",
    "1. Create a new column.\n",
    "2. Provide the values for each observation (i.e., row) based on the age of the passenger.\n",
    "\n",
    "Adding a new column with Pandas in Python is easy and can be done via the following syntax:\n",
    "```\n",
    "<variable>[\"new_variable\"] = 0\n",
    "```\n",
    "This code would create a new column in the train DataFrame titled new_var with $0$ for each observation. To set the values based on the age of the passenger, we make use of a boolean test inside the square bracket operator. With the `[]` operator we create a subset of rows and assign a value to a certain variable of that subset of observations. For example:\n",
    "\n",
    "```\n",
    "train[\"new_var\"][train[\"Fare\"] > 10] = 1\n",
    "```\n",
    "\n",
    "This would give a value of $1$ to the variable `new_var` for the subset of passengers whose fares greater than $10$. Keeping in mind that `new_var` has a value of $0$ for all other values (including missing values). "
   ]
  },
  {
   "cell_type": "code",
   "execution_count": null,
   "metadata": {
    "collapsed": false,
    "deletable": true,
    "editable": true
   },
   "outputs": [],
   "source": [
    "# Create the column Child and assign to 'NaN'\n",
    "train[\"Child\"] = float('NaN')\n",
    "\n",
    "# Assign 1 to passengers under 18, 0 to those 18 or older.\n",
    "train[\"Child\"][train[\"Age\"] < 18] = 1\n",
    "train[\"Child\"][train[\"Age\"] >= 18] = 0\n",
    "\n",
    "# Print normalized Survival Rates for passengers under 18\n",
    "print \"Survival proportions for passangers under 18:\\n\",\n",
    "train[\"Survived\"][train[\"Child\"] == 1].value_counts(normalize = True) * 100"
   ]
  },
  {
   "cell_type": "code",
   "execution_count": null,
   "metadata": {
    "collapsed": false,
    "deletable": true,
    "editable": true
   },
   "outputs": [],
   "source": [
    "# Print normalized Survival Rates for passengers 18 or older\n",
    "print \"Survival proportions for passangers over 18:\\n\",\n",
    "train[\"Survived\"][train[\"Child\"] == 0].value_counts(normalize = True) * 100"
   ]
  },
  {
   "cell_type": "markdown",
   "metadata": {
    "deletable": true,
    "editable": true
   },
   "source": [
    "As we can see from the survival proportions, age does certainly seem to play a role. So the the __[Birhenhead Drill](https://en.wikipedia.org/wiki/Women_and_children_first)__ holds true and thus `Sex` and `Age` make good predictors.\n",
    "\n",
    "# Basic Prediction\n",
    "From exploring the data we can see that females had over a $50\\%$ chance of surviving and males had less than a $50\\%$ chance of surviving. Hence, we could use this information for a first and very basic prediction: \n",
    "\n",
    "__All females in the `test` set survive and all males in the `test` set die.__\n",
    "\n",
    "To do this, we use the test set for validating our predictions. As was mentioned above,  the `test` set has no `Survived` column. this is so that we can use this colums for our predicted values. Next, when uploading our results, Kaggle will use this variable i.e. oour predictions, to score the performance. \n",
    "\n",
    "So to start with the first prediction, we will perform the following:\n",
    "\n",
    "1. Create a variable test_one, identical to dataset test.\n",
    "2. Add an additional column, `Survived`, that is initialize to zero.\n",
    "3. Use vector subsetting to set the value of `Survived` to $1$ for observations whose Sex equals \"female\".\n",
    "4. Print the Survived column of predictions from the test_one dataset."
   ]
  },
  {
   "cell_type": "code",
   "execution_count": null,
   "metadata": {
    "collapsed": false,
    "deletable": true,
    "editable": true
   },
   "outputs": [],
   "source": [
    "# Start the timer\n",
    "from time import time\n",
    "start = time()\n",
    "\n",
    "# Create a copy of test: test_one\n",
    "test_one = test\n",
    "\n",
    "# Initialize a Survived column to 0\n",
    "test_one[\"Survived\"] = 0\n",
    "\n",
    "# Set Survived to 1 if Sex equals \"female\"\n",
    "test_one[\"Survived\"][test_one[\"Sex\"] == \"female\"] = 1\n",
    "\n",
    "# Print a sample prediction of who servived\n",
    "test_one[[\"PassengerId\", \"Survived\"]] .head()\n",
    "#print \"Our basic prediction took {:.2f} seconds.\".format(time() - start)"
   ]
  },
  {
   "cell_type": "markdown",
   "metadata": {
    "deletable": true,
    "editable": true
   },
   "source": [
    "# Prediction using Decision Trees\n",
    "In the basic prediction example, we did all the \"slicing\" and \"dicing\" ourselves to find subsets that have a higher chance of surviving. A decision tree automates this process for us and outputs a classification model or classifier.\n",
    "\n",
    "Conceptually, the decision tree algorithm starts with all the data at the root node and scans all the variables for the best one to split on. Once a variable is chosen, it does the split and goes down one level (or one node) and repeats the process. The final nodes at the bottom of the decision tree are known as terminal nodes, and the majority vote of the observations in that node determine how to predict for new observations that end up in that terminal node.\n",
    "\n",
    "Before we can start using Decision Trees, we need to import the necessary libraries:"
   ]
  },
  {
   "cell_type": "code",
   "execution_count": null,
   "metadata": {
    "collapsed": false,
    "deletable": true,
    "editable": true
   },
   "outputs": [],
   "source": [
    "# Import the Numpy library\n",
    "import numpy as np\n",
    "\n",
    "# Import 'tree' from scikit-learn library\n",
    "from sklearn import tree\n",
    "\n",
    "# Reload the train and test datasets to create two DataFrames\n",
    "train_url = \"http://s3.amazonaws.com/assets.datacamp.com/course/Kaggle/train.csv\"\n",
    "train = pd.read_csv(train_url)\n",
    "test_url = \"http://s3.amazonaws.com/assets.datacamp.com/course/Kaggle/test.csv\"\n",
    "test = pd.read_csv(test_url)"
   ]
  },
  {
   "cell_type": "markdown",
   "metadata": {
    "deletable": true,
    "editable": true
   },
   "source": [
    "### Preprocessing\n",
    "Before we can begin constructing your trees we need to clean the data so that we can use all the features (predictors) available. In the first section, we saw that the `Age` variable had some missing value. Although dealing with missing values is a whole subject with and in itself, we will use a simple imputation technique where we substitute each missing value with the median of the all present values. This is done by using the `.fillna()` method, for example:\n",
    "```\n",
    "train[\"Age\"] = train[\"Age\"].fillna(train[\"Age\"].median())\n",
    "```\n",
    "Another problem is that the `Sex` and `Embarked` variables are categorical but in a non-numeric format. Thus, we will need to assign each class a unique integer so that Python can handle the information. `Embarked` also has some missing values which we should impute with the most common class of embarkation, which is \"S\". "
   ]
  },
  {
   "cell_type": "code",
   "execution_count": null,
   "metadata": {
    "collapsed": false,
    "deletable": true,
    "editable": true
   },
   "outputs": [],
   "source": [
    "# Convert the male and female groups to integer form\n",
    "train[\"Sex\"][train[\"Sex\"] == \"male\"] = 0\n",
    "train[\"Sex\"][train[\"Sex\"] == \"female\"] = 1\n",
    "\n",
    "# Impute the `Embarked` variable\n",
    "train[\"Embarked\"] = train[\"Embarked\"].fillna(\"S\")\n",
    "\n",
    "# Impute the `Age` variable\n",
    "train[\"Age\"] = train[\"Age\"].fillna(train[\"Age\"].median())\n",
    "\n",
    "# Confirm that `Embarked` and `Age` have no missing values\n",
    "print \"No. of missing values: \", train.isnull().sum()\n",
    "\n",
    "# Convert the Embarked classes to integer form\n",
    "train[\"Embarked\"][train[\"Embarked\"] == \"S\"] = 0\n",
    "train[\"Embarked\"][train[\"Embarked\"] == \"C\"] = 1\n",
    "train[\"Embarked\"][train[\"Embarked\"] == \"Q\"] = 2"
   ]
  },
  {
   "cell_type": "markdown",
   "metadata": {
    "deletable": true,
    "editable": true
   },
   "source": [
    "### Fitting the Model\n",
    "Now that the data has been cleaned, we will use the scikit-learn and numpy libraries to build a decision tree. scikit-learn can be used to create tree objects from the `DecisionTreeClassifier` class. The methods that we will use take numpy arrays as inputs and therefore we will need to create those from the DataFrame that we already have. \n",
    "\n",
    "We will need the following to build a decision tree\n",
    "\n",
    "- `target`: A one-dimensional numpy array containing the target/response from the train data. (`Survival`)\n",
    "- `features`: A multidimensional numpy array containing the features/predictors from the train data. (e.g. `Sex`, `Age`)\n",
    "\n",
    "The following sample code shows what this would look like:\n",
    "```\n",
    "target = train[\"Survived\"].values\n",
    "\n",
    "features = train[[\"Sex\", \"Age\"]].values\n",
    "\n",
    "my_tree = tree.DecisionTreeClassifier()\n",
    "\n",
    "my_tree = my_tree.fit(features, target)\n",
    "```\n",
    "One way to quickly see the result of the decision tree is to see the importance of the features that are included. This is done by requesting the `.feature_importances_` attribute of the tree object. Another quick metric is the mean accuracy that we can compute using the `.score()` function with `features_one` and `target` as arguments.\n",
    "\n",
    "To build the decision tree, we will perform the following steps:\n",
    "1. Build the `target` and `features_one` numpy arrays. The target will be based on the `Survived` column in `train`. The features array will be based on the variables `Passenger`, `Class`, `Sex`, `Age`, and Passenger `Fare`.\n",
    "2. Build a decision tree `my_tree_one` to predict survival using `features_one` and `target`.\n",
    "3. View at the importance of features in the decision tree and compute the score."
   ]
  },
  {
   "cell_type": "code",
   "execution_count": null,
   "metadata": {
    "collapsed": false,
    "deletable": true,
    "editable": true
   },
   "outputs": [],
   "source": [
    "# Create the target and features numpy arrays: target, features_one\n",
    "target = train[\"Survived\"].values\n",
    "features_one = train[[\"Pclass\", \"Sex\", \"Age\", \"Fare\"]].values\n",
    "\n",
    "# Fit your first decision tree: my_tree_one\n",
    "my_tree_one = tree.DecisionTreeClassifier()\n",
    "start = time()\n",
    "my_tree_one = my_tree_one.fit(features_one, target)\n",
    "\n",
    "# Look at the importance and score of the included features\n",
    "print \"Our Decision Tree prediction took {:.2f} seconds.\".format(time() - start)\n",
    "print \"Importance:\\n\", my_tree_one.feature_importances_\n",
    "print \"Score:\\n\", my_tree_one.score(features_one, target)"
   ]
  },
  {
   "cell_type": "markdown",
   "metadata": {
    "deletable": true,
    "editable": true
   },
   "source": [
    "Looks like assenger __Fare__ has most significance in determining survival based on the model. Since we decalred the features to use (`features_one`), we can assume that the important features are assigned in the same order, but let's confirm that by mapping the feature name to it's importance."
   ]
  },
  {
   "cell_type": "code",
   "execution_count": null,
   "metadata": {
    "collapsed": false,
    "deletable": true,
    "editable": true
   },
   "outputs": [],
   "source": [
    "# List of feature names\n",
    "names = [\"Pclass\", \"Sex\", \"Age\", \"Fare\"]\n",
    "\n",
    "# Code coutesy of:\n",
    "# http://blog.datadive.net/selecting-good-features-part-iii-random-forests/\n",
    "print \"Features sorted by their score:\"\n",
    "print sorted(zip(map(lambda x: round(x, 4), my_tree_one.feature_importances_), names), \n",
    "             reverse=True)"
   ]
  },
  {
   "cell_type": "markdown",
   "metadata": {
    "deletable": true,
    "editable": true
   },
   "source": [
    "# Dealing with Overfitting\n",
    "When applying models to new data, one thing to pay special attention to is __[overfitting](https://en.wikipedia.org/wiki/Overfitting)__. when creating the decision tree above, the default arguments for `max_depth` and `min_samples_split` were set to `None`. This means that no limit on the depth of the tree was set. This is not necessary a good thing, as we are likely overfitting. This means that while our model describes the training data extremely well, it doesn't generalize to new data, which is frankly the point of prediction. \n",
    "\n",
    "One solution to address this is to make  a less complex model. In `DecisionTreeRegressor`, the depth of the model is defined by two parameters:\n",
    "- The `max_depth` parameter determines when the splitting up of the decision tree stops.\n",
    "- The `min_samples_split` parameter monitors the amount of observations in a bucket. If a certain threshold is not reached (e.g minimum 10 passengers) no further splitting can be done.\n",
    "\n",
    "By limiting the complexity of the decision tree we can increase its generality and thus its usefulness for better prediction. To test this theory we now include the Siblings or Spouses Aboard (`SibSp`), Parents/Children Aboard (`Parch`), and `Embarked` features in a new set of features and fit a  second tree (`my_tree_two`) with the new features, and control for the model compelexity by toggling the `max_depth` and `min_samples_split` arguments."
   ]
  },
  {
   "cell_type": "code",
   "execution_count": null,
   "metadata": {
    "collapsed": false,
    "deletable": true,
    "editable": true
   },
   "outputs": [],
   "source": [
    "# Create a new array with the added features: features_two\n",
    "target = train[\"Survived\"].values\n",
    "features_two = train[[\"Pclass\",\"Age\",\"Sex\",\"Fare\", \"SibSp\", \"Parch\", \"Embarked\"]].values\n",
    "\n",
    "# Control overfitting by setting \"max_depth\" to 10\n",
    "max_depth = 10\n",
    "\n",
    "# Control overfitting by setting \"min_samples_split\" to 5\n",
    "my_tree_two = tree.DecisionTreeClassifier(max_depth = 10, min_samples_split = 5, random_state = 1)\n",
    "\n",
    "# Create the my_tree_two model\n",
    "start = time()\n",
    "my_tree_two = my_tree_two.fit(features_two, target)\n",
    "\n",
    "#Print the score of the new decison tree\n",
    "print \"Our new Decision Tree prediction took {:.2f} seconds.\".format(time() - start)\n",
    "print \"Importance:\\n\", my_tree_two.feature_importances_\n",
    "print \"Score:\\n\", my_tree_two.score(features_two, target)"
   ]
  },
  {
   "cell_type": "markdown",
   "metadata": {
    "deletable": true,
    "editable": true
   },
   "source": [
    "Even though the scope of this tutorial doesn't include actually submitting the updated solution to Kaggle, we would see however that despite a lower `.score`, this new model predicts better then the fist one. \n",
    "\n",
    "# Feature Engineering\n",
    "One of the most complicated aspects of Data Science is trying various machine learning algorithms, dealing with over and under-fitting and tweaking parameters to find the best possible fit to new and unseen data. Part of the process fo tweaking paramaters isfeature engineering. This is the process of creatively engineering our own features by combining the different existing variables.\n",
    "\n",
    "While feature engineering is a discipline in itself, too broad to be covered here in detail, we will have a look at a simple example by creating our very own new predictive attribute: `family_size`. A valid assumption is that larger families need more time to get together on a sinking ship, and hence have lower probability of surviving. Family size is determined by the variables `SibSp` and `Parch`, which indicate the number of family members a certain passenger is traveling with. So when doing feature engineering, we add a new variable `family_size`, which is the sum of `SibSp` and `Parch` plus one (for the observation itself), to the test and train set. To engineer this new feature, we do the following:\n",
    "\n",
    "1. Create a \"fresh\" `train` set called `train_two` that differs from `train` only by having an extra column with the engineered variable `family_size`.\n",
    "2. Add the new engineered variable `family_size` in addition to `Pclass`, `Sex`, `Age`, `Fare`, `SibSp` and `Parch` to a new set,  `features_three`.\n",
    "3. Create a new decision tree as `my_tree_three` and fit the decision tree with the new feature set,  `features_three`.\n",
    "4. Find the score of the new decision tree."
   ]
  },
  {
   "cell_type": "code",
   "execution_count": null,
   "metadata": {
    "collapsed": false,
    "deletable": true,
    "editable": true
   },
   "outputs": [],
   "source": [
    "# Create train_two with the newly defined feature\n",
    "target = train[\"Survived\"].values\n",
    "train_two = train.copy()\n",
    "train_two[\"family_size\"] = train_two[\"SibSp\"] + train_two[\"Parch\"] + 1\n",
    "\n",
    "# Create a new feature set and add the new feature\n",
    "features_three = train_two[[\"Pclass\", \"Sex\", \"Age\", \"Fare\", \"SibSp\", \"Parch\", \"family_size\"]].values\n",
    "\n",
    "# Define the tree classifier, then fit the model\n",
    "my_tree_three = tree.DecisionTreeClassifier()\n",
    "start = time()\n",
    "my_tree_three = my_tree_three.fit(features_three, target)\n",
    "\n",
    "# Print the score of this decision tree\n",
    "print \"Our Decision Tree with `family_size` prediction took {:.2f} seconds.\".format(time() - start)\n",
    "print \"Importance:\\n\", my_tree_three.feature_importances_\n",
    "print \"Score:\\n\", my_tree_three.score(features_three, target)"
   ]
  },
  {
   "cell_type": "markdown",
   "metadata": {
    "deletable": true,
    "editable": true
   },
   "source": [
    "__Notice__ that this time the newly created variable is included in the model. \n",
    "# Prediction using Random Forest\n",
    "A detailed study of Random Forests is outside the scope of this tutorial. However, since it's an often used machine learning technique, we introduce a general overview in Python. The Random Forest technique handles the overfitting problem we saw with decision trees. It grows multiple (very deep) classification trees using the training set. At the time of prediction, each tree is used to come up with a prediction and every outcome is counted as a vote. For example, if we have trained $3$ trees with $2$ saying a passenger in the test set will survive and $1$ says he will not, the passenger will be classified as a survivor. This approach of overtraining trees, but having the majority's vote count as the actual classification decision, avoids overfitting.\n",
    "\n",
    "Building a random forest in Python looks is very similar to building a decision tree, with three key differences.\n",
    "1. A different class is used.\n",
    "2. A new argument is necessary.\n",
    "3. The necessary library from `scikit-learn` must be imported.\n",
    "    - Use the `RandomForestClassifier()` class instead of the `DecisionTreeClassifier()` class.\n",
    "    - `n_estimators` needs to be set when using the `RandomForestClassifier()` class. This argument allows us to set the number of trees we wish to plant and average over.\n",
    "\n",
    "The following exampple shows us how to build a Random Forest Classifier by dowing the following:\n",
    "1. Build the random forest with `n_estimators` set to 100.\n",
    "2. Fit your random forest model with inputs features_forest and target.\n",
    "3. Compute the classifier predictions on the selected test set features."
   ]
  },
  {
   "cell_type": "code",
   "execution_count": null,
   "metadata": {
    "collapsed": false,
    "deletable": true,
    "editable": true
   },
   "outputs": [],
   "source": [
    "# Import the `RandomForestClassifier`\n",
    "from sklearn.ensemble import RandomForestClassifier\n",
    "\n",
    "# Creat a list of the features. \n",
    "target = train[\"Survived\"].values\n",
    "forest_features = train[[\"Pclass\", \"Age\", \"Sex\", \"Fare\", \"SibSp\", \"Parch\", \"Embarked\"]].values\n",
    "\n",
    "# Building and fitting my_forest\n",
    "forest = RandomForestClassifier(max_depth = 10, min_samples_split=2, n_estimators = 100, random_state = 1)\n",
    "start = time()\n",
    "my_forest = forest.fit(forest_features, target)\n",
    "\n",
    "# Print the score of the fitted random forest\n",
    "print \"Our Random Forest prediction took {:.2f} seconds.\".format(time() - start)\n",
    "print \"Score:\\n\", my_forest.score(forest_features, target)"
   ]
  },
  {
   "cell_type": "markdown",
   "metadata": {
    "deletable": true,
    "editable": true
   },
   "source": [
    "# Model Comparison\n",
    "Recall that in the when using the Decision Tree models, we looked at the `.feature_importances_` attribute to see how each of the feature influenced the decision trees.  We can request the same attribute from the random forest as well and interpret the relevance of the included variables. Since the Random Forest aleviates the overfitting problem, it would be a good exercise to compare it to the Decision Tree model in some quick and easy way. For this, we can use the `.score()` method, which takes the features data and the target vector and computes mean accuracy of the model."
   ]
  },
  {
   "cell_type": "code",
   "execution_count": null,
   "metadata": {
    "collapsed": false,
    "deletable": true,
    "editable": true
   },
   "outputs": [],
   "source": [
    "# Final score comparison\n",
    "names = [\"Pclass\",\"Age\",\"Sex\",\"Fare\", \"SibSp\", \"Parch\", \"Embarked\"]\n",
    "print \"Decision Tree final score:\", my_tree_two.score(features_two, target)\n",
    "print \"Decision Tree features sorted by their score:\"\n",
    "print sorted(zip(map(lambda x: round(x, 4), my_tree_two.feature_importances_), names), \n",
    "             reverse=True)\n",
    "print \"\\n\"\n",
    "print \"Random Forest final score:\", my_forest.score(forest_features, target)\n",
    "print \"Random Forest features sorted by their score:\"\n",
    "print sorted(zip(map(lambda x: round(x, 4), my_forest.feature_importances_), names), \n",
    "             reverse=True)"
   ]
  },
  {
   "cell_type": "markdown",
   "metadata": {
    "deletable": true,
    "editable": true
   },
   "source": [
    "# Conclusion\n",
    "Based on our findings from the various models that have been run, we can determine which feature was of most importance, and for which model.\n",
    "\n",
    "__The most important feature was \"Sex\", but it was more significant for \"my_tree_two\" Decision Tree.__\n",
    "\n",
    "---\n",
    "\n",
    "# Ensemble Methods\n",
    "In an prediction task, it is important try and test multiple algorithms to find the best possible fit. In most cases it is not necessary or possible to test every single algorithm type against the data, a fare assesment may suffice, but it is a good practice to at least try achieve a better fit. That is why we introduced a different Machine Learning algorithm to the `DecisionTreeClassifier()` we were currently using. What we did in essence is introduce an Ensemble Method. The goal of ensemble methods is to combine the predictions of several base estimators built with a given learning algorithm in order to improve generalizability or robustness over a single estimator. In our case, we used the `RandomForestClassifier()` which built several (very deep) classification trees that when used for prediction, each tree is used to come up with a prediction and every outcome is counted as a vote. This is an example of an __averaging methods__. Here, the driving principle is to build several estimators independently and then to average their predictions. On average, the combined estimator is usually better than any of the single base estimator because its variance is reduced. This is evedent when comparing the score from both models above.\n",
    "\n",
    "One of the biggest issues with ensemble Methods is that they can be computationally exhaustive. The alternative is manually trying every possible variable combinations (since there is no easy way to know which parameters work best, other than trying out many different combinations) or parameter combinations (hyperparameters) to get the best model fit. Fortunately, the `scikit-learn` package includes the `GridSearchCV` and `RandomizedSearchCV` functions wich allows for the evaluation of each parameter setting independently, in parallel.\n",
    "\n",
    "The down-side to this is the fact that this is not scalable. The models above are executed on data in Pandas DataFrames. These DataFrames are memory resident, so unless the machine executing the models has sufficient memory or the data sets are small enough, the `GridSearchCV` and `RandomizedSearchCV` functions may not be helpful. Fortunately the team at Databrix has released the [`spark-sklearn`](http://spark-packages.org/package/databricks/spark-sklearn) package to allow us to execute these funcitons over a Spark cluster.\n",
    "\n",
    "The following example is based on the  [Auto-scaling scikit-learn with Spark](https://databricks.com/blog/2016/02/08/auto-scaling-scikit-learn-with-spark.html) example, but has been adapted to our Titanic example. The objective is to populate a \"grid\" of various model parameters and have `GridSearchCV` execute each set of parameters to determine the best score. The goal here is not necessarily to find a model with a better score but to illustrate the time it takes to search through the various model parameters to find the best one. The example has the following steps:\n",
    "\n",
    "1. Import the `GridSearchCV` library from `scikit-learn`.\n",
    "2. Create the function to report the top $3$ models, courtesy of [Databrix](http://go.databricks.com/hubfs/notebooks/Samples/Miscellaneous/blog_post_cv.html).\n",
    "3. Create the \"grid\" of parameters combnations to execute. Thjis is loosley based on the Databrix example.\n",
    "4. Fit the model with the \"grid\"of parameters."
   ]
  },
  {
   "cell_type": "code",
   "execution_count": null,
   "metadata": {
    "collapsed": false,
    "deletable": true,
    "editable": true,
    "scrolled": false
   },
   "outputs": [],
   "source": [
    "# Import necessary packages\n",
    "import warnings\n",
    "warnings.filterwarnings('ignore')\n",
    "from operator import itemgetter\n",
    "from sklearn import grid_search\n",
    "import pandas as pd\n",
    "\n",
    "# Databrix utility function to report top 3 best scores\n",
    "def report(grid_scores, n_top = 3):\n",
    "    top_scores = sorted(grid_scores, key = itemgetter(1), reverse = True)[:n_top]\n",
    "    for i, score in enumerate(top_scores):\n",
    "        print(\"Model with rank: {0}\".format(i + 1))\n",
    "        print(\"Mean validation score: {0:.3f} (std: {1:.3f})\".format(\n",
    "              score.mean_validation_score,\n",
    "              np.std(score.cv_validation_scores)))\n",
    "        print(\"Parameters: {0}\".format(score.parameters))\n",
    "        print(\"\")\n",
    "\n",
    "# Creat a list of the features. \n",
    "target = train[\"Survived\"].values\n",
    "forest_features = train[[\"Pclass\", \"Age\", \"Sex\", \"Fare\", \"SibSp\", \"Parch\", \"Embarked\"]].values\n",
    "\n",
    "# Add grid parameter code based on Databricks\n",
    "param_grid = {\"max_depth\": [3, 10, None],\n",
    "              \"min_samples_split\": [1.0, 2, 3, 10], \n",
    "              \"min_samples_leaf\": [1, 2, 3, 10], \n",
    "              \"bootstrap\": [True, False],\n",
    "              \"criterion\": [\"gini\", \"entropy\"],\n",
    "              \"n_estimators\": [10, 20, 40, 80, 160]}\n",
    "\n",
    "# Execute the grid search\n",
    "gs = grid_search.GridSearchCV(RandomForestClassifier(), param_grid = param_grid)\n",
    "start = time()\n",
    "gs.fit(forest_features, target)\n",
    "print(\"GridSearchCV took {:.2f} minutes for {:d} candidate settings.\".format((time() - start) / 60,\\\n",
    "                                                                             len(gs.grid_scores_)))\n",
    "report(gs.grid_scores_)"
   ]
  },
  {
   "cell_type": "markdown",
   "metadata": {
    "collapsed": false,
    "deletable": true,
    "editable": true,
    "scrolled": false
   },
   "source": [
    "---\n",
    "# Ensemble Methods at Scale\n",
    "As we can see, the `GridSearchCV` took __$10$__ minutes on a single machine and provided us with the top $3$ candidates and their settings to try. By applying these suggestions we can very effectivley find the best model as well as the optumum parameters to apply to achieve the best score. Next we aply the same proceedure to a Spark Cluster to parallelize the task across $5$ Spark Workers.\n",
    "\n",
    "## Provision EMR Cluster in Python\n",
    "\n",
    "```\n",
    "import boto3\n",
    "connection = boto3.client(\n",
    "    'emr',\n",
    "    region_name='us-west-1',\n",
    "    aws_access_key_id='<Your AWS Access Key>',\n",
    "    aws_secret_access_key='<You AWS Secred Key>',\n",
    ")\n",
    "\n",
    "cluster_id = connection.run_job_flow(\n",
    "    Name='SparkaaS',\n",
    "    LogUri='s3://chkrd/emr-log',\n",
    "    ReleaseLabel='emr-5.4.0',\n",
    "    Instances={\n",
    "        'InstanceGroups': [\n",
    "            {\n",
    "                'Name': \"Master nodes\",\n",
    "                'Market': 'ON_DEMAND',\n",
    "                'InstanceRole': 'MASTER',\n",
    "                'InstanceType': 'm1.large',\n",
    "                'InstanceCount': 1,\n",
    "            },\n",
    "            {\n",
    "                'Name': \"Slave nodes\",\n",
    "                'Market': 'ON_DEMAND',\n",
    "                'InstanceRole': 'CORE',\n",
    "                'InstanceType': 'm1.large',\n",
    "                'InstanceCount': 5,\n",
    "            }\n",
    "        ],\n",
    "        'Ec2KeyName': '<Ec2 Keyname>',\n",
    "        'KeepJobFlowAliveWhenNoSteps': True,\n",
    "        'TerminationProtected': False,\n",
    "        'Ec2SubnetId': '<Your Subnet ID>',\n",
    "    },\n",
    "    Steps=[],\n",
    "    VisibleToAllUsers=True,\n",
    "    JobFlowRole='EMR_EC2_DefaultRole',\n",
    "    ServiceRole='EMR_DefaultRole',\n",
    "    Tags=[\n",
    "        {\n",
    "            'Key': 'tag_name_1',\n",
    "            'Value': 'tab_value_1',\n",
    "        },\n",
    "        {\n",
    "            'Key': 'tag_name_2',\n",
    "            'Value': 'tag_value_2',\n",
    "        },\n",
    "    ],\n",
    ")\n",
    "\n",
    "print (cluster_id['JobFlowId'])\n",
    "```\n",
    "## Provision EMR Cluster with AWS CLI\n",
    "```bash\n",
    "aws emr create-cluster --termination-protected --applications Name=Hadoop Name=Hive Name=Spark --ec2-attributes '{\"KeyName\":\"devenv-key\",\"InstanceProfile\":\"EMR_EC2_DefaultRole\",\"SubnetId\":\"subnet-39a22e5e\",\"EmrManagedSlaveSecurityGroup\":\"sg-86bb82fe\",\"EmrManagedMasterSecurityGroup\":\"sg-83bb82fb\"}' --release-label emr-5.4.0 --log-uri 's3n://chkrd/elasticmapreduce/' --steps '[{\"Args\":[\"nohup\",\"/home/hadoop/livy-server-0.3.0/bin/livy-server\",\">\",\"/dev/null\",\"2>/tmp/livy.log\",\"&\"],\"Type\":\"CUSTOM_JAR\",\"ActionOnFailure\":\"CONTINUE\",\"Jar\":\"command-runner.jar\",\"Properties\":\"\",\"Name\":\"Start Livy Server\"},{\"Args\":[\"aws\",\"s3\",\"cp\",\"s3://chkrd/artifacts/livy-env.sh\",\"/home/hadoop/livy-server-0.3.0/conf/\"],\"Type\":\"CUSTOM_JAR\",\"ActionOnFailure\":\"CONTINUE\",\"Jar\":\"command-runner.jar\",\"Properties\":\"\",\"Name\":\"Copy Livy Environment\"},{\"Args\":[\"aws\",\"s3\",\"cp\",\"s3://chkrd/artifacts/livy.conf\",\"/home/hadoop/livy-server-0.3.0/conf/\"],\"Type\":\"CUSTOM_JAR\",\"ActionOnFailure\":\"CONTINUE\",\"Jar\":\"command-runner.jar\",\"Properties\":\"\",\"Name\":\"Copy Livy Configuration\"}]' --instance-groups '[{\"InstanceCount\":5,\"InstanceGroupType\":\"CORE\",\"InstanceType\":\"m4.4xlarge\",\"Name\":\"Core - 2\"},{\"InstanceCount\":1,\"InstanceGroupType\":\"MASTER\",\"InstanceType\":\"m4.4xlarge\",\"Name\":\"Master - 1\"}]' --auto-scaling-role EMR_AutoScaling_DefaultRole --bootstrap-actions '[{\"Path\":\"s3://chkrd/artifacts/emr_base_config.sh\",\"Name\":\"EMR Base Configuration\"}]' --service-role EMR_DefaultRole --enable-debugging --name 'Spark-as-a-Service' --scale-down-behavior TERMINATE_AT_INSTANCE_HOUR --region us-west-2\n",
    "```\n",
    "\n",
    "## View EMR Cluster Configuration\n",
    "\n",
    "#### List Clusters\n",
    "```\n",
    "!aws emr list-clusters | grep -i <name>\n",
    "```\n",
    "### Describe Clusters\n",
    "```\n",
    "!aws emr describe-cluster --cluster-id <Cluster ID>\n",
    "```\n",
    "#### List Cluster Instances\n",
    "```\n",
    "!aws emr list-instances --cluster-id <Cluster ID>\n",
    "```\n",
    "#### Add Livy Start Step\n",
    "```\n",
    "!aws emr add-steps --cluster-id <Cluster ID> --steps '[{\"Args\":[\"nohup\",\"/home/hadoop/livy-server-0.3.0/bin/livy-server\",\">\",\"/dev/null\",\"2>&1\",\"&\"],\"Type\":\"CUSTOM_JAR\",\"ActionOnFailure\":\"CONTINUE\",\"Jar\":\"command-runner.jar\",\"Properties\":\"\",\"Name\":\"Start Livy Server\"}]'\n",
    "```"
   ]
  },
  {
   "cell_type": "code",
   "execution_count": null,
   "metadata": {
    "collapsed": false,
    "deletable": true,
    "editable": true
   },
   "outputs": [],
   "source": [
    "!aws emr describe-cluster --cluster-id j-1LH1TP0TZR79Y"
   ]
  },
  {
   "cell_type": "code",
   "execution_count": null,
   "metadata": {
    "collapsed": false,
    "deletable": true,
    "editable": true
   },
   "outputs": [],
   "source": [
    "!aws emr list-instances --cluster-id j-1LH1TP0TZR79Y"
   ]
  },
  {
   "cell_type": "markdown",
   "metadata": {
    "deletable": true,
    "editable": true
   },
   "source": [
    "## Load `sparkmagic` Jupyter Extension"
   ]
  },
  {
   "cell_type": "code",
   "execution_count": null,
   "metadata": {
    "collapsed": true,
    "deletable": true,
    "editable": true
   },
   "outputs": [],
   "source": [
    "%load_ext sparkmagic.magics"
   ]
  },
  {
   "cell_type": "markdown",
   "metadata": {
    "deletable": true,
    "editable": true
   },
   "source": [
    "## Configure EMR Endpoint\n",
    "```\n",
    "{\n",
    "\"executorMemory\": \"32g\",\n",
    "\"executorCores\": 11\n",
    "}\n",
    "```"
   ]
  },
  {
   "cell_type": "code",
   "execution_count": null,
   "metadata": {
    "collapsed": false,
    "deletable": true,
    "editable": true
   },
   "outputs": [],
   "source": [
    "%manage_spark"
   ]
  },
  {
   "cell_type": "markdown",
   "metadata": {
    "deletable": true,
    "editable": true
   },
   "source": [
    "## Ensamble Methods on Spark-as-a-Service"
   ]
  },
  {
   "cell_type": "code",
   "execution_count": null,
   "metadata": {
    "collapsed": false,
    "deletable": true,
    "editable": true
   },
   "outputs": [],
   "source": [
    "%%spark\n",
    "sc"
   ]
  },
  {
   "cell_type": "code",
   "execution_count": null,
   "metadata": {
    "collapsed": false,
    "deletable": true,
    "editable": true
   },
   "outputs": [],
   "source": [
    "%%spark\n",
    "sqlContext"
   ]
  },
  {
   "cell_type": "markdown",
   "metadata": {
    "deletable": true,
    "editable": true
   },
   "source": [
    "## Ensamble Methods using Spark-as-a-Service"
   ]
  },
  {
   "cell_type": "code",
   "execution_count": null,
   "metadata": {
    "collapsed": false,
    "deletable": true,
    "editable": true
   },
   "outputs": [],
   "source": [
    "%%spark\n",
    "# Import necessary packages\n",
    "import warnings\n",
    "warnings.filterwarnings('ignore')\n",
    "from operator import itemgetter\n",
    "from sklearn.model_selection import GridSearchCV\n",
    "from sklearn.ensemble import RandomForestClassifier\n",
    "from time import time\n",
    "import numpy as np\n",
    "from sklearn import tree\n",
    "import pandas as pd\n",
    "\n",
    "# Reload the train and test datasets to create two DataFrames\n",
    "train_url = \"http://s3.amazonaws.com/assets.datacamp.com/course/Kaggle/train.csv\"\n",
    "train = pd.read_csv(train_url)\n",
    "test_url = \"http://s3.amazonaws.com/assets.datacamp.com/course/Kaggle/test.csv\"\n",
    "test = pd.read_csv(test_url)\n",
    "\n",
    "# Preprocess the Data\n",
    "train[\"Sex\"][train[\"Sex\"] == \"male\"] = 0\n",
    "train[\"Sex\"][train[\"Sex\"] == \"female\"] = 1\n",
    "train[\"Embarked\"] = train[\"Embarked\"].fillna(\"S\")\n",
    "train[\"Age\"] = train[\"Age\"].fillna(train[\"Age\"].median())\n",
    "train[\"Embarked\"][train[\"Embarked\"] == \"S\"] = 0\n",
    "train[\"Embarked\"][train[\"Embarked\"] == \"C\"] = 1\n",
    "train[\"Embarked\"][train[\"Embarked\"] == \"Q\"] = 2\n",
    "\n",
    "# Databrix utility function to report top 3 best scores\n",
    "def report(grid_scores, n_top = 3):\n",
    "    top_scores = sorted(grid_scores, key = itemgetter(1), reverse = True)[:n_top]\n",
    "    for i, score in enumerate(top_scores):\n",
    "        print(\"Model with rank: {0}\".format(i + 1))\n",
    "        print(\"Mean validation score: {0:.3f} (std: {1:.3f})\".format(\n",
    "              score.mean_validation_score,\n",
    "              np.std(score.cv_validation_scores)))\n",
    "        print(\"Parameters: {0}\".format(score.parameters))\n",
    "        print(\"\")\n",
    "\n",
    "# Creat a list of the features. \n",
    "target = train[\"Survived\"].values\n",
    "forest_features = train[[\"Pclass\", \"Age\", \"Sex\", \"Fare\", \"SibSp\", \"Parch\", \"Embarked\"]].values\n",
    "\n",
    "# Add grid parameter code based on Databricks\n",
    "param_grid = {\"max_depth\": [3, 10, None],\n",
    "              \"min_samples_split\": [1.0, 2, 3, 10], \n",
    "              \"min_samples_leaf\": [1, 2, 3, 10], \n",
    "              \"bootstrap\": [True, False],\n",
    "              \"criterion\": [\"gini\", \"entropy\"],\n",
    "              \"n_estimators\": [10, 20, 40, 80, 160]}\n",
    "\n",
    "# Import grid search for Spark\n",
    "from spark_sklearn import GridSearchCV as SparkSearch\n",
    "\n",
    "# Execute the grid search on Spark\n",
    "Spark_gs = SparkSearch(sc, RandomForestClassifier(), param_grid = param_grid)\n",
    "start = time()\n",
    "\n",
    "Spark_gs.fit(forest_features, target)\n",
    "print(\"Spark GridSearchCV took {:.2f} seconds for {:d} candidate settings.\".format(time() - start, len(Spark_gs.grid_scores_)))\n",
    "report(Spark_gs.grid_scores_)"
   ]
  },
  {
   "cell_type": "markdown",
   "metadata": {
    "deletable": true,
    "editable": true
   },
   "source": [
    "By running the `GridSearchCV` on a cluster of $5$ Spark Nodes, we managed to execute the same ensemble task in __$16$__ seconds (__$29$__ on Vmware), thus demonstarting that distributing the various algorithms across multiple nodes certainly helps to narrow down the best fit without having to manually try multiple models and wasting unnecessary time."
   ]
  }
 ],
 "metadata": {
  "kernelspec": {
   "display_name": "Python 2",
   "language": "python",
   "name": "python2"
  },
  "language_info": {
   "codemirror_mode": {
    "name": "ipython",
    "version": 2
   },
   "file_extension": ".py",
   "mimetype": "text/x-python",
   "name": "python",
   "nbconvert_exporter": "python",
   "pygments_lexer": "ipython2",
   "version": "2.7.13"
  },
  "widgets": {
   "state": {
    "0062d0fcd6ec47b29bc8a676ab02cfce": {
     "views": []
    },
    "03732dcf643845118b85fa187d3c667b": {
     "views": []
    },
    "0454095a1f2f4b7b8ba5720799dea32e": {
     "views": []
    },
    "056d7db9f8c44fa9a48ac7b641032fc7": {
     "views": []
    },
    "0659bb2950874df6a910f5450b91e449": {
     "views": []
    },
    "07795075924e4effbd205f60d4814a3c": {
     "views": []
    },
    "0a07746ecf824a629e570936814e09dc": {
     "views": []
    },
    "0b8f226195424fb38b85a83ac5c7f940": {
     "views": []
    },
    "0d0f03d1a25d49ac8fdd78437b58653d": {
     "views": []
    },
    "0dac1d787c7a47a8ad1915eeacd4e797": {
     "views": []
    },
    "0eaa39eb7d394728b9daf5ad80634818": {
     "views": []
    },
    "0fd0081eeff443d191fc99273c64fc5c": {
     "views": []
    },
    "101b111a7ecf423b9c2df4c2c3ba765f": {
     "views": []
    },
    "10b58ff993004ca4b7b3a9de3b98952b": {
     "views": []
    },
    "110d484f20a34e32bd218b8f843f8b0d": {
     "views": []
    },
    "1115e8222a1c4492a7171a6b27702526": {
     "views": []
    },
    "12aa4d899bf348a1a951683e6122bd87": {
     "views": []
    },
    "13be8fd87f7f4618a94781068520c567": {
     "views": []
    },
    "13df2e28fc3445d9be519873a565d62d": {
     "views": []
    },
    "145d2141f0c940d3a77aa8a39c5dd371": {
     "views": []
    },
    "14ceea1b8db9452ba4f286f319d09008": {
     "views": []
    },
    "16328a33830a4183a620040e586e2bf6": {
     "views": []
    },
    "166ba01dfc674d4aa9df5c241305d8f2": {
     "views": []
    },
    "16d80b8d2cb7401095e726363b0a868e": {
     "views": []
    },
    "18f60af8fe654b78b5bfa4a84d07c91b": {
     "views": []
    },
    "199b63ef8f814bfd90cdba1672bc78db": {
     "views": []
    },
    "19e951705e584908bdafdc0c7b2e9e5a": {
     "views": []
    },
    "1b5e888d7ffc489d803d1f9dd8f4c2e5": {
     "views": []
    },
    "1cb61b0d2d8c4dd4a0998a21ae1ddc95": {
     "views": []
    },
    "1d990a57e311466fa8d41406fdf864d4": {
     "views": []
    },
    "1e2e67a39a064a598048adb22b31d3fe": {
     "views": []
    },
    "1e98fd1f43b64dd7934236deb8243792": {
     "views": []
    },
    "1f776a802ca143dd986a0b9bf21c7e60": {
     "views": []
    },
    "2369091b85884d4dbc3e599f522f44b9": {
     "views": []
    },
    "242e628cae0246279b2b06f7e34e0a9b": {
     "views": []
    },
    "248c3f2f9f4e4b939ff0eaa78a83a843": {
     "views": []
    },
    "257b2322b2604730b94a53523299b714": {
     "views": []
    },
    "28ed261934ec4dda8dd012e3db5ac304": {
     "views": []
    },
    "29f842d4e2094633b5c255390bfc4fda": {
     "views": []
    },
    "2b59f6495d3841d187e8b5694440f5ca": {
     "views": []
    },
    "2bc15ea0013a4fcd8e54d463d9982f2d": {
     "views": []
    },
    "2cc0490afc3f4ba3ae583a894a39becd": {
     "views": []
    },
    "2e0a880bdcd94e13849d31840cf2601e": {
     "views": []
    },
    "2e71e85f792d485381600ed3bce1098c": {
     "views": []
    },
    "2f09dfcb8562419984185d42941f11e9": {
     "views": []
    },
    "31fe048b8e0f46b89594c9b63ec3e4b8": {
     "views": []
    },
    "33342177c5094fafbf9353ffdf6d836d": {
     "views": []
    },
    "33e558440bf345ee9ad022d384ed9e35": {
     "views": []
    },
    "35a591412c4944b3b5f054aed92f8f53": {
     "views": []
    },
    "3a41cce103034b6da5e999af580fc3a9": {
     "views": []
    },
    "3f512f8bc2274d70ae305df20b3c6252": {
     "views": []
    },
    "420081139b84425caf5ea79dc63deaed": {
     "views": []
    },
    "42bb87c7c47d46ada52de39f59b62593": {
     "views": []
    },
    "42d06c8157df4abd99df5827f687dcf4": {
     "views": []
    },
    "443945351ae148ff89525cc4d3b8053d": {
     "views": []
    },
    "4454d4a9ee8c46a1928d4f64e3767a55": {
     "views": []
    },
    "4477e8f54e804f6c9042cc345c59d5b9": {
     "views": []
    },
    "46a7b6b53db34edda136fcf6c569451f": {
     "views": []
    },
    "4725513c757c44f4b360b6ed38f63f59": {
     "views": []
    },
    "4815c495e8ff4b36bd994264286ffbbc": {
     "views": []
    },
    "4a03eeb88559429198fcc9b046b3a416": {
     "views": []
    },
    "4b667425ab0f487ba9c57fe2e04b3686": {
     "views": []
    },
    "4d254b2ec25c42fe97ad6c46d03e731e": {
     "views": []
    },
    "4d58f57be20049ca95c1887f4515fb48": {
     "views": []
    },
    "4e548f297b60445387c833af4ad24dc6": {
     "views": []
    },
    "5338da5a2ac04118980d6b85a5ed5629": {
     "views": []
    },
    "573bc62bb79a49e2a6e4cd1cd5ab13fd": {
     "views": []
    },
    "587f961019f34bcca0194661d3ecf82c": {
     "views": []
    },
    "58d0110a123e40398473cbfeab374d6e": {
     "views": []
    },
    "590d11a52a87444083007a29d3e79d96": {
     "views": []
    },
    "5a3eb1e4acc245ff8797b74f2c7aa89e": {
     "views": []
    },
    "5a9ed1994fa54ae099fef4873aee22c1": {
     "views": []
    },
    "5b9459c5b4f541ee8fe864ea9f0f2b15": {
     "views": []
    },
    "5c689411ab5e46ee88f386b0bfc5ae20": {
     "views": []
    },
    "5d67f11e4f154545ba483e05b198f9d5": {
     "views": []
    },
    "60c8168b06c2427890231455b774a056": {
     "views": []
    },
    "611563645e0d43eb8fcf232794a087fc": {
     "views": []
    },
    "611b5933b8eb411b90aadbdff9197e9f": {
     "views": []
    },
    "623408c3d963460b83dfe5dd259ea084": {
     "views": []
    },
    "635f50950f394faf87b456af6ba72c60": {
     "views": []
    },
    "64212281d0064995b6d738949f65bcb3": {
     "views": []
    },
    "6712d7eba1314293a2290da18239a53a": {
     "views": []
    },
    "6a445af228c34c9297ca7cc2f9065278": {
     "views": []
    },
    "6c9be1df528843d1b3c3ea76a2ca2ff8": {
     "views": []
    },
    "6c9f446ac80748399c489a410bf81a87": {
     "views": []
    },
    "6e3c0c2bedec48c3844ec0141c478ec4": {
     "views": []
    },
    "6e61e0bf53e441d08ab0d329f9b5415f": {
     "views": []
    },
    "6ebedd195f5a4ad883a8e364f5e80261": {
     "views": []
    },
    "6ecd332a52164ca38589ea3735b9be90": {
     "views": []
    },
    "6f30d3a9c5c145a2876b7687754757b0": {
     "views": []
    },
    "70381541fba642f893294bfdb9c5cc4e": {
     "views": []
    },
    "72045dafedad4683903b842e7f81ed41": {
     "views": []
    },
    "72370d70393b41618ce99381b75d3083": {
     "views": []
    },
    "74408bbdc8254e9096a5f942e3b3bdfa": {
     "views": []
    },
    "75502f8bac7045c296a5b86fdea04f22": {
     "views": []
    },
    "789982dbf3b94be8b5bd0d56cc7b4554": {
     "views": []
    },
    "7bc82c56f32a45749280eb788844cc6a": {
     "views": []
    },
    "7bdf0eb76d2a4b8fac9da089d1a1e60d": {
     "views": []
    },
    "7ddc996ffbdf4c67ab28670f54b6cfbc": {
     "views": []
    },
    "7ec66257aadb437ea32f3a45061e1257": {
     "views": []
    },
    "7f1c3a121b914338bc2c1cd8cb9a7e1c": {
     "views": []
    },
    "809293b093e647119a082ef572a40f02": {
     "views": []
    },
    "80ba48de407b4100b4ef20a7758dea63": {
     "views": []
    },
    "811be4264bfd43c78fa82cfdfccf2d45": {
     "views": []
    },
    "81206f6782054583b37e8038bb13a387": {
     "views": []
    },
    "85b3c4f60af44a5baa33ce4fe2b90009": {
     "views": []
    },
    "86d3f7e9bdfb4a4189311b4195c22a78": {
     "views": []
    },
    "8844ca6c84f1439ea7ada53bb0a5a72f": {
     "views": []
    },
    "892f612cccc14f6593b843fa5302c1e3": {
     "views": []
    },
    "89fb8873476a45b39553f33d468ec378": {
     "views": []
    },
    "8c73c98014e34113ba2c33791eee1822": {
     "views": []
    },
    "8d9b6a06b3ba4dcca152b619eb51b1f5": {
     "views": []
    },
    "8e39253d671c4f3e8ff44080ac7f7afd": {
     "views": []
    },
    "8e3f82a9f41c4c269d1fbe3994cfa7b8": {
     "views": []
    },
    "8f120d6d66d64be69c204c66af39a6fb": {
     "views": []
    },
    "90f263945462461aa58554f1816d066d": {
     "views": []
    },
    "91dbb50e0e974563a3e90897ce423bfb": {
     "views": []
    },
    "955f6dec8b074ee884c1482a2247255b": {
     "views": []
    },
    "9651ff158a404a40b657174748e84034": {
     "views": []
    },
    "967ed9a776a24f46b5362fc9f143c0f5": {
     "views": []
    },
    "987fb8ebf0454815b812b6b6bd574659": {
     "views": []
    },
    "98e2bc8ad49c4f14a351ef7196a2de3c": {
     "views": []
    },
    "99949cbd974f47469bacb7f51ca2ad6e": {
     "views": []
    },
    "9a49d9b89b8846cd8c2c4a8d2a775d07": {
     "views": []
    },
    "9b2f7d69d064449ca4bcbc14953bbf5b": {
     "views": []
    },
    "9c9f6c29aaa94a7daa07bc699b40e521": {
     "views": []
    },
    "9cee32f7b1214e7cab8294f90626c264": {
     "views": []
    },
    "9e00b3de433c49f9af4fd4a7315c571b": {
     "views": []
    },
    "9f1aee79566147f3a110cd69982e9b66": {
     "views": []
    },
    "a0cc82e511fd45b28ad67e96cc01729f": {
     "views": []
    },
    "a11af7ce7d0d4b07a09433afc6cbf114": {
     "views": []
    },
    "a3f4cd70b3ca487886dff711bfa0798b": {
     "views": []
    },
    "a83ba9904f43405fb3c05b64ba58e9ff": {
     "views": []
    },
    "a8a10a546fdc45bea39f890e05bc05f3": {
     "views": []
    },
    "a9179d8dd12142ed98665c4f1a6f6503": {
     "views": []
    },
    "a93fd88c16734e1aa1671535f8086d59": {
     "views": []
    },
    "a990ebd5b4a44e59a251bb63eaea7c55": {
     "views": []
    },
    "aa7e15f8342d43fdb35181a62f845b21": {
     "views": []
    },
    "ab960f2091254296a78061d9c0a5760c": {
     "views": []
    },
    "aba3e23e1ed54742888e59b049c564c7": {
     "views": []
    },
    "ac488962967248848561e36402131d12": {
     "views": []
    },
    "ad62a3a391b44884a7bd7f41355de91b": {
     "views": []
    },
    "ae2a564f3bcf4aad9affae6eb4cb5049": {
     "views": []
    },
    "af3fbde9a9e04f38a92cefb5413c2f23": {
     "views": []
    },
    "afce033f460c4dfe90d654340103a060": {
     "views": []
    },
    "afd443c4a9f6423aa750122462e69d7f": {
     "views": []
    },
    "b0e8066df19242d795634fd035dec04c": {
     "views": []
    },
    "b0fedbb3ce9d4b42bd4301910934fe39": {
     "views": []
    },
    "b14f8bd983b74b6ca5a792ac6900818b": {
     "views": []
    },
    "b1659c93329745e686eb1f7b11d700c4": {
     "views": []
    },
    "b2340f3fb145474c9e3fef0d9f559d94": {
     "views": []
    },
    "b236fa21d4ff45dbb52a2ae207226c4b": {
     "views": []
    },
    "b67fd720a92a417c8d1c53bbdc1ba34a": {
     "views": []
    },
    "b6a6b440877a4b9090b2aac7e9bdf27a": {
     "views": []
    },
    "b713d3cef9454053ad818b95780a3418": {
     "views": []
    },
    "b79cf684456848b4a20e13510c124c20": {
     "views": []
    },
    "b9598b14565e409584b48ca64ef7405b": {
     "views": []
    },
    "b977a706a4094bf1bebebf9b176dbde4": {
     "views": []
    },
    "bac54f5f583c4a739081f0d70cd5f4e5": {
     "views": []
    },
    "c0e6af6791b94601baa9b5351b6bbad4": {
     "views": []
    },
    "c2760d8678f241e4a4e7c9a2e9ab62d4": {
     "views": []
    },
    "c2c5291742454344a4cd5aef90c6dec1": {
     "views": []
    },
    "c3d85da2c1f0499ab71e7f234eb029a9": {
     "views": []
    },
    "c549c6e7dfbd4a2e962439671994687a": {
     "views": []
    },
    "c55747fb08054db2bd9e942c61f6efc4": {
     "views": []
    },
    "c72a271602ac4a90b9c43f1afd94fad8": {
     "views": []
    },
    "c7e7077e40c844ef8def8368f672e3c5": {
     "views": []
    },
    "c9555842e8424564aacb4cde7197fd21": {
     "views": []
    },
    "ca5da95567b74d14b53003e6230fc5c1": {
     "views": []
    },
    "cc322bd5208f41b0a025fefbb0192452": {
     "views": []
    },
    "cca4ffc264e548279faa1757b7ab3cdd": {
     "views": []
    },
    "ce98e52a8d4c44cbb4e0a79d73634717": {
     "views": []
    },
    "ce9d7f9c1a5545199a5bbc90549750d2": {
     "views": []
    },
    "cfa3c416599a46a49674701d52e41209": {
     "views": []
    },
    "d1a0c1fd91cf4ea0b67854396b16647c": {
     "views": []
    },
    "d9cf904f69c6403780011622da8f068a": {
     "views": []
    },
    "ddc1762d302244b7a04c1df7935e6905": {
     "views": []
    },
    "de57c8f017cd42a3b86a61d02b12ad00": {
     "views": []
    },
    "df75c130edb84ebb80a5f3e8275d2ac9": {
     "views": []
    },
    "e0bd612cddc141758835abc1a8938409": {
     "views": []
    },
    "e14c08e8888542e6bfadeefe19a08950": {
     "views": []
    },
    "e2e6ba37389b411b868412fe455f3c1b": {
     "views": []
    },
    "e36b98342074494ba39246dbc9cf60c9": {
     "views": []
    },
    "e3b889ba3cd64d7e8b5a67e9d5775e95": {
     "views": []
    },
    "e47341abb3264cfdbe0e372a83fbf22c": {
     "views": []
    },
    "e4b200a649c9488281cdea85b0aa884c": {
     "views": []
    },
    "e641e6ac811647bca15561d82b06aa09": {
     "views": []
    },
    "e685ba51d49840ab920a5abc08e9178a": {
     "views": []
    },
    "e6c52c7cdaca434a8858324205aacea9": {
     "views": []
    },
    "e7af1b7e161a428697f8cf24cbe1b494": {
     "views": []
    },
    "e89555b3297d4cb9bae611ebef2eabbb": {
     "views": []
    },
    "e95e1a6337d84ddd8ad62108911ad120": {
     "views": []
    },
    "e9dc025254bf4b59a5973cbe0a549313": {
     "views": []
    },
    "ea50646013e84fdb9ca18ff3eb3b6803": {
     "views": []
    },
    "f16088476a324f4b83e3a23011a4ecf9": {
     "views": []
    },
    "f18787e7fa57401ebf01333c2e463f7f": {
     "views": []
    },
    "f328515594c04d79b58969b837e01fef": {
     "views": []
    },
    "f35cf2ee32f94cad96ea88340042c6b5": {
     "views": []
    },
    "f456c2844541499f847982f855338808": {
     "views": []
    },
    "f5ae6cc9c6cc4790b665e8374eefc75b": {
     "views": []
    },
    "f9ed79c5139d4c8dbd882466517f01ee": {
     "views": [
      {
       "cell_index": 48
      }
     ]
    },
    "fbb504f7dad8450887cb77c9575eb435": {
     "views": []
    },
    "fc743ad5a7b64ed4b8cb7e9f6b63d488": {
     "views": []
    },
    "fe5c6f5863334536b6358caa2e35c3f0": {
     "views": []
    }
   },
   "version": "1.1.2"
  }
 },
 "nbformat": 4,
 "nbformat_minor": 0
}
