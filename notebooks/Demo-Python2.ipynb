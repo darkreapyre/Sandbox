{
 "cells": [
  {
   "cell_type": "markdown",
   "metadata": {
    "deletable": true,
    "editable": true
   },
   "source": [
    "# Introduction\n",
    "In this case study, we will explore how to tackle Kaggle Titanic competition using Python and Machine Learning. When the Titanic sank, $1502$ of the $2224$ passengers and crew were killed. One of the main reasons for this high level of casualties was the lack of lifeboats on this self-proclaimed __\"unsinkable\"__ ship. In this tutorial, we will learn how to apply machine learning techniques to predict a passenger's chance of surviving using Python.\n",
    "\n",
    "# Extract Sample Data\n",
    "We start with loading in the training and testing set into your Python environment. We will use the [training set](http://s3.amazonaws.com/assets.datacamp.com/course/Kaggle/train.csv) to build our model, and the [test set](http://s3.amazonaws.com/assets.datacamp.com/course/Kaggle/test.csv) to validate it. The first step is to load this data with the `read_csv()` method from the Pandas library."
   ]
  },
  {
   "cell_type": "code",
   "execution_count": null,
   "metadata": {
    "collapsed": false,
    "deletable": true,
    "editable": true
   },
   "outputs": [],
   "source": [
    "# Import the Pandas library\n",
    "import warnings\n",
    "warnings.filterwarnings('ignore')\n",
    "import pandas as pd\n",
    "\n",
    "# Load the train and test datasets to create two DataFrames\n",
    "train_url = \"http://s3.amazonaws.com/assets.datacamp.com/course/Kaggle/train.csv\"\n",
    "train = pd.read_csv(train_url)\n",
    "test_url = \"http://s3.amazonaws.com/assets.datacamp.com/course/Kaggle/test.csv\"\n",
    "test = pd.read_csv(test_url)\n",
    "\n",
    "#Print the `head` of the train dataframe\n",
    "train.head()"
   ]
  },
  {
   "cell_type": "code",
   "execution_count": null,
   "metadata": {
    "collapsed": false,
    "deletable": true,
    "editable": true
   },
   "outputs": [],
   "source": [
    "#Print the `head` of the test dataframe\n",
    "test.head()"
   ]
  },
  {
   "cell_type": "markdown",
   "metadata": {
    "deletable": true,
    "editable": true
   },
   "source": [
    "On thing that immediately stands out when looking at the two data sets. The `test` set has no variable (colum) for wether or not the passanger `Survived` or not. This has been intentionally removed as that's the variable we will be predicting using the `train` set.\n",
    "\n",
    "# Exploring the Data\n",
    "Before starting with the actual analysis, it's important to understand the structure of the data. Both `test` and `train` are DataFrame objects, the way pandas represent datasets. We can easily explore a DataFrame using the `.describe()` method. This method summarizes the columns/features of the DataFrame, including the count of observations, mean, max and so on. Another useful trick is to look at the dimensions of the DataFrame. This is done by requesting the `.shape` attribute of your DataFrame object. It is also a good practice to look for any missing values in the data set.\n",
    "\n",
    "### Summary Statistics\n",
    "Next we apply the `.describe()` method, look for missing values and then apply `.shape` attribute of the training set."
   ]
  },
  {
   "cell_type": "code",
   "execution_count": null,
   "metadata": {
    "collapsed": false,
    "deletable": true,
    "editable": true
   },
   "outputs": [],
   "source": [
    "# Describe the `train` data\n",
    "train.describe()"
   ]
  },
  {
   "cell_type": "markdown",
   "metadata": {
    "deletable": true,
    "editable": true
   },
   "source": [
    "### Missing Values"
   ]
  },
  {
   "cell_type": "code",
   "execution_count": null,
   "metadata": {
    "collapsed": false,
    "deletable": true,
    "editable": true
   },
   "outputs": [],
   "source": [
    "# Look for missing values\n",
    "train.isnull().sum()"
   ]
  },
  {
   "cell_type": "code",
   "execution_count": null,
   "metadata": {
    "collapsed": false,
    "deletable": true,
    "editable": true
   },
   "outputs": [],
   "source": [
    "# Index for missing vales: `Embarked`\n",
    "train[\"Embarked\"][train[\"Embarked\"].isnull()]"
   ]
  },
  {
   "cell_type": "markdown",
   "metadata": {
    "deletable": true,
    "editable": true
   },
   "source": [
    "### Dimensions"
   ]
  },
  {
   "cell_type": "code",
   "execution_count": null,
   "metadata": {
    "collapsed": false,
    "deletable": true,
    "editable": true
   },
   "outputs": [],
   "source": [
    "# Look at the dimensions of `train`\n",
    "train.shape"
   ]
  },
  {
   "cell_type": "markdown",
   "metadata": {
    "deletable": true,
    "editable": true
   },
   "source": [
    "### Understanding the Data\n",
    "As we can see, the training set has $891$ observations and $12$ variables, the count for `Age` is $714$. But how many people in the training set survived the disaster with the Titanic? To see this, we can use the `value_counts()` method in combination with standard bracket notation to select a single column of a DataFrame:"
   ]
  },
  {
   "cell_type": "code",
   "execution_count": null,
   "metadata": {
    "collapsed": false,
    "deletable": true,
    "editable": true
   },
   "outputs": [],
   "source": [
    "# No. of people who survived (absolute numbers)\n",
    "train[\"Survived\"].value_counts()"
   ]
  },
  {
   "cell_type": "code",
   "execution_count": null,
   "metadata": {
    "collapsed": false,
    "deletable": true,
    "editable": true
   },
   "outputs": [],
   "source": [
    "# No. of people who survived (percentages)\n",
    "train[\"Survived\"].value_counts(normalize = True) * 100"
   ]
  },
  {
   "cell_type": "markdown",
   "metadata": {
    "deletable": true,
    "editable": true
   },
   "source": [
    "We see that $549$ individuals died ($62\\%$) and $342$ survived ($38\\%$). A simple way to predict heuristically could be: \"majority wins\". This would mean that we will predict every unseen observation to not survive.\n",
    "\n",
    "To dive in a little deeper we can perform similar counts and percentage calculations on subsets of the Survived column. For example, maybe gender could play a role as well? We can explore this using the .`value_counts()` method for a two-way comparison on the number of __males__ and __females__ that survived."
   ]
  },
  {
   "cell_type": "code",
   "execution_count": null,
   "metadata": {
    "collapsed": false,
    "deletable": true,
    "editable": true
   },
   "outputs": [],
   "source": [
    "# Count of males who survived\n",
    "train[\"Survived\"][train[\"Sex\"] == \"male\"].value_counts()"
   ]
  },
  {
   "cell_type": "code",
   "execution_count": null,
   "metadata": {
    "collapsed": false,
    "deletable": true,
    "editable": true
   },
   "outputs": [],
   "source": [
    "# Count of femails who survived\n",
    "train[\"Survived\"][train[\"Sex\"] == \"female\"].value_counts()"
   ]
  },
  {
   "cell_type": "markdown",
   "metadata": {
    "deletable": true,
    "editable": true
   },
   "source": [
    "To get proportions,  we again pass in the argument `normalize = True` to the `.value_counts()` method."
   ]
  },
  {
   "cell_type": "code",
   "execution_count": null,
   "metadata": {
    "collapsed": false,
    "deletable": true,
    "editable": true
   },
   "outputs": [],
   "source": [
    "# Count of males who survived (percentage)\n",
    "train[\"Survived\"][train[\"Sex\"] == \"male\"].value_counts(normalize = True) * 100"
   ]
  },
  {
   "cell_type": "code",
   "execution_count": null,
   "metadata": {
    "collapsed": false,
    "deletable": true,
    "editable": true
   },
   "outputs": [],
   "source": [
    "# Count of females who survived (percentage)\n",
    "train[\"Survived\"][train[\"Sex\"] == \"female\"].value_counts(normalize = True) * 100"
   ]
  },
  {
   "cell_type": "markdown",
   "metadata": {
    "deletable": true,
    "editable": true
   },
   "source": [
    "It looks like it makes sense to include gender in the predictions since there is a difference between the survival rate of males vs. females. Around $74\\%$ of females survived as opposed to $18\\%$ of the males surviving.\n",
    "\n",
    "Another variable that could influence survival is `age`; since it's probable that children were saved first. We can test this by creating a new column with a categorical variable `Child`. `Child` will take the value $1$ in cases where age is less than $18$, and a value of $0$ in cases where age is greater than or equal to $18$. So to add this new variable we need to do two things:\n",
    "\n",
    "1. Create a new column.\n",
    "2. Provide the values for each observation (i.e., row) based on the age of the passenger.\n",
    "\n",
    "Adding a new column with Pandas in Python is easy and can be done via the following syntax:\n",
    "```\n",
    "<variable>[\"new_variable\"] = 0\n",
    "```\n",
    "This code would create a new column in the train DataFrame titled new_var with $0$ for each observation. To set the values based on the age of the passenger, we make use of a boolean test inside the square bracket operator. With the `[]` operator we create a subset of rows and assign a value to a certain variable of that subset of observations. For example:\n",
    "\n",
    "```\n",
    "train[\"new_var\"][train[\"Fare\"] > 10] = 1\n",
    "```\n",
    "\n",
    "This would give a value of $1$ to the variable `new_var` for the subset of passengers whose fares greater than $10$. Keeping in mind that `new_var` has a value of $0$ for all other values (including missing values). "
   ]
  },
  {
   "cell_type": "code",
   "execution_count": null,
   "metadata": {
    "collapsed": false,
    "deletable": true,
    "editable": true
   },
   "outputs": [],
   "source": [
    "# Create the column Child and assign to 'NaN'\n",
    "train[\"Child\"] = float('NaN')\n",
    "\n",
    "# Assign 1 to passengers under 18, 0 to those 18 or older.\n",
    "train[\"Child\"][train[\"Age\"] < 18] = 1\n",
    "train[\"Child\"][train[\"Age\"] >= 18] = 0\n",
    "\n",
    "# Print normalized Survival Rates for passengers under 18\n",
    "print \"Survival proportions for passangers under 18:\\n\",\n",
    "train[\"Survived\"][train[\"Child\"] == 1].value_counts(normalize = True) * 100"
   ]
  },
  {
   "cell_type": "code",
   "execution_count": null,
   "metadata": {
    "collapsed": false,
    "deletable": true,
    "editable": true
   },
   "outputs": [],
   "source": [
    "# Print normalized Survival Rates for passengers 18 or older\n",
    "print \"Survival proportions for passangers over 18:\\n\",\n",
    "train[\"Survived\"][train[\"Child\"] == 0].value_counts(normalize = True) * 100"
   ]
  },
  {
   "cell_type": "markdown",
   "metadata": {
    "deletable": true,
    "editable": true
   },
   "source": [
    "As we can see from the survival proportions, age does certainly seem to play a role. So the the __[Birhenhead Drill](https://en.wikipedia.org/wiki/Women_and_children_first)__ holds true and thus `Sex` and `Age` make good predictors.\n",
    "\n",
    "# Basic Prediction\n",
    "From exploring the data we can see that females had over a $50\\%$ chance of surviving and males had less than a $50\\%$ chance of surviving. Hence, we could use this information for a first and very basic prediction: \n",
    "\n",
    "__All females in the `test` set survive and all males in the `test` set die.__\n",
    "\n",
    "To do this, we use the test set for validating our predictions. As was mentioned above,  the `test` set has no `Survived` column. this is so that we can use this colums for our predicted values. Next, when uploading our results, Kaggle will use this variable i.e. oour predictions, to score the performance. \n",
    "\n",
    "So to start with the first prediction, we will perform the following:\n",
    "\n",
    "1. Create a variable test_one, identical to dataset test.\n",
    "2. Add an additional column, `Survived`, that is initialize to zero.\n",
    "3. Use vector subsetting to set the value of `Survived` to $1$ for observations whose Sex equals \"female\".\n",
    "4. Print the Survived column of predictions from the test_one dataset."
   ]
  },
  {
   "cell_type": "code",
   "execution_count": null,
   "metadata": {
    "collapsed": false,
    "deletable": true,
    "editable": true
   },
   "outputs": [],
   "source": [
    "# Start the timer\n",
    "from time import time\n",
    "start = time()\n",
    "\n",
    "# Create a copy of test: test_one\n",
    "test_one = test\n",
    "\n",
    "# Initialize a Survived column to 0\n",
    "test_one[\"Survived\"] = 0\n",
    "\n",
    "# Set Survived to 1 if Sex equals \"female\"\n",
    "test_one[\"Survived\"][test_one[\"Sex\"] == \"female\"] = 1\n",
    "\n",
    "# Print a sample prediction of who servived\n",
    "test_one[[\"PassengerId\", \"Survived\"]] .head()\n",
    "#print \"Our basic prediction took {:.2f} seconds.\".format(time() - start)"
   ]
  },
  {
   "cell_type": "markdown",
   "metadata": {
    "deletable": true,
    "editable": true
   },
   "source": [
    "# Prediction using Decision Trees\n",
    "In the basic prediction example, we did all the \"slicing\" and \"dicing\" ourselves to find subsets that have a higher chance of surviving. A decision tree automates this process for us and outputs a classification model or classifier.\n",
    "\n",
    "Conceptually, the decision tree algorithm starts with all the data at the root node and scans all the variables for the best one to split on. Once a variable is chosen, it does the split and goes down one level (or one node) and repeats the process. The final nodes at the bottom of the decision tree are known as terminal nodes, and the majority vote of the observations in that node determine how to predict for new observations that end up in that terminal node.\n",
    "\n",
    "Before we can start using Decision Trees, we need to import the necessary libraries:"
   ]
  },
  {
   "cell_type": "code",
   "execution_count": null,
   "metadata": {
    "collapsed": false,
    "deletable": true,
    "editable": true
   },
   "outputs": [],
   "source": [
    "# Import the Numpy library\n",
    "import numpy as np\n",
    "\n",
    "# Import 'tree' from scikit-learn library\n",
    "from sklearn import tree\n",
    "\n",
    "# Reload the train and test datasets to create two DataFrames\n",
    "train_url = \"http://s3.amazonaws.com/assets.datacamp.com/course/Kaggle/train.csv\"\n",
    "train = pd.read_csv(train_url)\n",
    "test_url = \"http://s3.amazonaws.com/assets.datacamp.com/course/Kaggle/test.csv\"\n",
    "test = pd.read_csv(test_url)"
   ]
  },
  {
   "cell_type": "markdown",
   "metadata": {
    "deletable": true,
    "editable": true
   },
   "source": [
    "### Preprocessing\n",
    "Before we can begin constructing your trees we need to clean the data so that we can use all the features (predictors) available. In the first section, we saw that the `Age` variable had some missing value. Although dealing with missing values is a whole subject with and in itself, we will use a simple imputation technique where we substitute each missing value with the median of the all present values. This is done by using the `.fillna()` method, for example:\n",
    "```\n",
    "train[\"Age\"] = train[\"Age\"].fillna(train[\"Age\"].median())\n",
    "```\n",
    "Another problem is that the `Sex` and `Embarked` variables are categorical but in a non-numeric format. Thus, we will need to assign each class a unique integer so that Python can handle the information. `Embarked` also has some missing values which we should impute with the most common class of embarkation, which is \"S\". "
   ]
  },
  {
   "cell_type": "code",
   "execution_count": null,
   "metadata": {
    "collapsed": false,
    "deletable": true,
    "editable": true
   },
   "outputs": [],
   "source": [
    "# Convert the male and female groups to integer form\n",
    "train[\"Sex\"][train[\"Sex\"] == \"male\"] = 0\n",
    "train[\"Sex\"][train[\"Sex\"] == \"female\"] = 1\n",
    "\n",
    "# Impute the `Embarked` variable\n",
    "train[\"Embarked\"] = train[\"Embarked\"].fillna(\"S\")\n",
    "\n",
    "# Impute the `Age` variable\n",
    "train[\"Age\"] = train[\"Age\"].fillna(train[\"Age\"].median())\n",
    "\n",
    "# Confirm that `Embarked` and `Age` have no missing values\n",
    "print \"No. of missing values: \", train.isnull().sum()\n",
    "\n",
    "# Convert the Embarked classes to integer form\n",
    "train[\"Embarked\"][train[\"Embarked\"] == \"S\"] = 0\n",
    "train[\"Embarked\"][train[\"Embarked\"] == \"C\"] = 1\n",
    "train[\"Embarked\"][train[\"Embarked\"] == \"Q\"] = 2"
   ]
  },
  {
   "cell_type": "markdown",
   "metadata": {
    "deletable": true,
    "editable": true
   },
   "source": [
    "### Fitting the Model\n",
    "Now that the data has been cleaned, we will use the scikit-learn and numpy libraries to build a decision tree. scikit-learn can be used to create tree objects from the `DecisionTreeClassifier` class. The methods that we will use take numpy arrays as inputs and therefore we will need to create those from the DataFrame that we already have. \n",
    "\n",
    "We will need the following to build a decision tree\n",
    "\n",
    "- `target`: A one-dimensional numpy array containing the target/response from the train data. (`Survival`)\n",
    "- `features`: A multidimensional numpy array containing the features/predictors from the train data. (e.g. `Sex`, `Age`)\n",
    "\n",
    "The following sample code shows what this would look like:\n",
    "```\n",
    "target = train[\"Survived\"].values\n",
    "\n",
    "features = train[[\"Sex\", \"Age\"]].values\n",
    "\n",
    "my_tree = tree.DecisionTreeClassifier()\n",
    "\n",
    "my_tree = my_tree.fit(features, target)\n",
    "```\n",
    "One way to quickly see the result of the decision tree is to see the importance of the features that are included. This is done by requesting the `.feature_importances_` attribute of the tree object. Another quick metric is the mean accuracy that we can compute using the `.score()` function with `features_one` and `target` as arguments.\n",
    "\n",
    "To build the decision tree, we will perform the following steps:\n",
    "1. Build the `target` and `features_one` numpy arrays. The target will be based on the `Survived` column in `train`. The features array will be based on the variables `Passenger`, `Class`, `Sex`, `Age`, and Passenger `Fare`.\n",
    "2. Build a decision tree `my_tree_one` to predict survival using `features_one` and `target`.\n",
    "3. View at the importance of features in the decision tree and compute the score."
   ]
  },
  {
   "cell_type": "code",
   "execution_count": null,
   "metadata": {
    "collapsed": false,
    "deletable": true,
    "editable": true
   },
   "outputs": [],
   "source": [
    "# Create the target and features numpy arrays: target, features_one\n",
    "target = train[\"Survived\"].values\n",
    "features_one = train[[\"Pclass\", \"Sex\", \"Age\", \"Fare\"]].values\n",
    "\n",
    "# Fit your first decision tree: my_tree_one\n",
    "my_tree_one = tree.DecisionTreeClassifier()\n",
    "start = time()\n",
    "my_tree_one = my_tree_one.fit(features_one, target)\n",
    "\n",
    "# Look at the importance and score of the included features\n",
    "print \"Our Decision Tree prediction took {:.2f} seconds.\".format(time() - start)\n",
    "print \"Importance:\\n\", my_tree_one.feature_importances_\n",
    "print \"Score:\\n\", my_tree_one.score(features_one, target)"
   ]
  },
  {
   "cell_type": "markdown",
   "metadata": {
    "deletable": true,
    "editable": true
   },
   "source": [
    "Looks like assenger __Fare__ has most significance in determining survival based on the model. Since we decalred the features to use (`features_one`), we can assume that the important features are assigned in the same order, but let's confirm that by mapping the feature name to it's importance."
   ]
  },
  {
   "cell_type": "code",
   "execution_count": null,
   "metadata": {
    "collapsed": false,
    "deletable": true,
    "editable": true
   },
   "outputs": [],
   "source": [
    "# List of feature names\n",
    "names = [\"Pclass\", \"Sex\", \"Age\", \"Fare\"]\n",
    "\n",
    "# Code coutesy of:\n",
    "# http://blog.datadive.net/selecting-good-features-part-iii-random-forests/\n",
    "print \"Features sorted by their score:\"\n",
    "print sorted(zip(map(lambda x: round(x, 4), my_tree_one.feature_importances_), names), \n",
    "             reverse=True)"
   ]
  },
  {
   "cell_type": "markdown",
   "metadata": {
    "deletable": true,
    "editable": true
   },
   "source": [
    "# Dealing with Overfitting\n",
    "When applying models to new data, one thing to pay special attention to is __[overfitting](https://en.wikipedia.org/wiki/Overfitting)__. when creating the decision tree above, the default arguments for `max_depth` and `min_samples_split` were set to `None`. This means that no limit on the depth of the tree was set. This is not necessary a good thing, as we are likely overfitting. This means that while our model describes the training data extremely well, it doesn't generalize to new data, which is frankly the point of prediction. \n",
    "\n",
    "One solution to address this is to make  a less complex model. In `DecisionTreeRegressor`, the depth of the model is defined by two parameters:\n",
    "- The `max_depth` parameter determines when the splitting up of the decision tree stops.\n",
    "- The `min_samples_split` parameter monitors the amount of observations in a bucket. If a certain threshold is not reached (e.g minimum 10 passengers) no further splitting can be done.\n",
    "\n",
    "By limiting the complexity of the decision tree we can increase its generality and thus its usefulness for better prediction. To test this theory we now include the Siblings or Spouses Aboard (`SibSp`), Parents/Children Aboard (`Parch`), and `Embarked` features in a new set of features and fit a  second tree (`my_tree_two`) with the new features, and control for the model compelexity by toggling the `max_depth` and `min_samples_split` arguments."
   ]
  },
  {
   "cell_type": "code",
   "execution_count": null,
   "metadata": {
    "collapsed": false,
    "deletable": true,
    "editable": true
   },
   "outputs": [],
   "source": [
    "# Create a new array with the added features: features_two\n",
    "target = train[\"Survived\"].values\n",
    "features_two = train[[\"Pclass\",\"Age\",\"Sex\",\"Fare\", \"SibSp\", \"Parch\", \"Embarked\"]].values\n",
    "\n",
    "# Control overfitting by setting \"max_depth\" to 10\n",
    "max_depth = 10\n",
    "\n",
    "# Control overfitting by setting \"min_samples_split\" to 5\n",
    "my_tree_two = tree.DecisionTreeClassifier(max_depth = 10, min_samples_split = 5, random_state = 1)\n",
    "\n",
    "# Create the my_tree_two model\n",
    "start = time()\n",
    "my_tree_two = my_tree_two.fit(features_two, target)\n",
    "\n",
    "#Print the score of the new decison tree\n",
    "print \"Our new Decision Tree prediction took {:.2f} seconds.\".format(time() - start)\n",
    "print \"Importance:\\n\", my_tree_two.feature_importances_\n",
    "print \"Score:\\n\", my_tree_two.score(features_two, target)"
   ]
  },
  {
   "cell_type": "markdown",
   "metadata": {
    "deletable": true,
    "editable": true
   },
   "source": [
    "Even though the scope of this tutorial doesn't include actually submitting the updated solution to Kaggle, we would see however that despite a lower `.score`, this new model predicts better then the fist one. \n",
    "\n",
    "# Feature Engineering\n",
    "One of the most complicated aspects of Data Science is trying various machine learning algorithms, dealing with over and under-fitting and tweaking parameters to find the best possible fit to new and unseen data. Part of the process fo tweaking paramaters isfeature engineering. This is the process of creatively engineering our own features by combining the different existing variables.\n",
    "\n",
    "While feature engineering is a discipline in itself, too broad to be covered here in detail, we will have a look at a simple example by creating our very own new predictive attribute: `family_size`. A valid assumption is that larger families need more time to get together on a sinking ship, and hence have lower probability of surviving. Family size is determined by the variables `SibSp` and `Parch`, which indicate the number of family members a certain passenger is traveling with. So when doing feature engineering, we add a new variable `family_size`, which is the sum of `SibSp` and `Parch` plus one (for the observation itself), to the test and train set. To engineer this new feature, we do the following:\n",
    "\n",
    "1. Create a \"fresh\" `train` set called `train_two` that differs from `train` only by having an extra column with the engineered variable `family_size`.\n",
    "2. Add the new engineered variable `family_size` in addition to `Pclass`, `Sex`, `Age`, `Fare`, `SibSp` and `Parch` to a new set,  `features_three`.\n",
    "3. Create a new decision tree as `my_tree_three` and fit the decision tree with the new feature set,  `features_three`.\n",
    "4. Find the score of the new decision tree."
   ]
  },
  {
   "cell_type": "code",
   "execution_count": null,
   "metadata": {
    "collapsed": false,
    "deletable": true,
    "editable": true
   },
   "outputs": [],
   "source": [
    "# Create train_two with the newly defined feature\n",
    "target = train[\"Survived\"].values\n",
    "train_two = train.copy()\n",
    "train_two[\"family_size\"] = train_two[\"SibSp\"] + train_two[\"Parch\"] + 1\n",
    "\n",
    "# Create a new feature set and add the new feature\n",
    "features_three = train_two[[\"Pclass\", \"Sex\", \"Age\", \"Fare\", \"SibSp\", \"Parch\", \"family_size\"]].values\n",
    "\n",
    "# Define the tree classifier, then fit the model\n",
    "my_tree_three = tree.DecisionTreeClassifier()\n",
    "start = time()\n",
    "my_tree_three = my_tree_three.fit(features_three, target)\n",
    "\n",
    "# Print the score of this decision tree\n",
    "print \"Our Decision Tree with `family_size` prediction took {:.2f} seconds.\".format(time() - start)\n",
    "print \"Importance:\\n\", my_tree_three.feature_importances_\n",
    "print \"Score:\\n\", my_tree_three.score(features_three, target)"
   ]
  },
  {
   "cell_type": "markdown",
   "metadata": {
    "deletable": true,
    "editable": true
   },
   "source": [
    "__Notice__ that this time the newly created variable is included in the model. \n",
    "# Prediction using Random Forest\n",
    "A detailed study of Random Forests is outside the scope of this tutorial. However, since it's an often used machine learning technique, we introduce a general overview in Python. The Random Forest technique handles the overfitting problem we saw with decision trees. It grows multiple (very deep) classification trees using the training set. At the time of prediction, each tree is used to come up with a prediction and every outcome is counted as a vote. For example, if we have trained $3$ trees with $2$ saying a passenger in the test set will survive and $1$ says he will not, the passenger will be classified as a survivor. This approach of overtraining trees, but having the majority's vote count as the actual classification decision, avoids overfitting.\n",
    "\n",
    "Building a random forest in Python looks is very similar to building a decision tree, with three key differences.\n",
    "1. A different class is used.\n",
    "2. A new argument is necessary.\n",
    "3. The necessary library from `scikit-learn` must be imported.\n",
    "    - Use the `RandomForestClassifier()` class instead of the `DecisionTreeClassifier()` class.\n",
    "    - `n_estimators` needs to be set when using the `RandomForestClassifier()` class. This argument allows us to set the number of trees we wish to plant and average over.\n",
    "\n",
    "The following exampple shows us how to build a Random Forest Classifier by dowing the following:\n",
    "1. Build the random forest with `n_estimators` set to 100.\n",
    "2. Fit your random forest model with inputs features_forest and target.\n",
    "3. Compute the classifier predictions on the selected test set features."
   ]
  },
  {
   "cell_type": "code",
   "execution_count": null,
   "metadata": {
    "collapsed": false,
    "deletable": true,
    "editable": true
   },
   "outputs": [],
   "source": [
    "# Import the `RandomForestClassifier`\n",
    "from sklearn.ensemble import RandomForestClassifier\n",
    "\n",
    "# Creat a list of the features. \n",
    "target = train[\"Survived\"].values\n",
    "forest_features = train[[\"Pclass\", \"Age\", \"Sex\", \"Fare\", \"SibSp\", \"Parch\", \"Embarked\"]].values\n",
    "\n",
    "# Building and fitting my_forest\n",
    "forest = RandomForestClassifier(max_depth = 10, min_samples_split=2, n_estimators = 100, random_state = 1)\n",
    "start = time()\n",
    "my_forest = forest.fit(forest_features, target)\n",
    "\n",
    "# Print the score of the fitted random forest\n",
    "print \"Our Random Forest prediction took {:.2f} seconds.\".format(time() - start)\n",
    "print \"Score:\\n\", my_forest.score(forest_features, target)"
   ]
  },
  {
   "cell_type": "markdown",
   "metadata": {
    "deletable": true,
    "editable": true
   },
   "source": [
    "# Model Comparison\n",
    "Recall that in the when using the Decision Tree models, we looked at the `.feature_importances_` attribute to see how each of the feature influenced the decision trees.  We can request the same attribute from the random forest as well and interpret the relevance of the included variables. Since the Random Forest aleviates the overfitting problem, it would be a good exercise to compare it to the Decision Tree model in some quick and easy way. For this, we can use the `.score()` method, which takes the features data and the target vector and computes mean accuracy of the model."
   ]
  },
  {
   "cell_type": "code",
   "execution_count": null,
   "metadata": {
    "collapsed": false,
    "deletable": true,
    "editable": true
   },
   "outputs": [],
   "source": [
    "# Final score comparison\n",
    "names = [\"Pclass\",\"Age\",\"Sex\",\"Fare\", \"SibSp\", \"Parch\", \"Embarked\"]\n",
    "print \"Decision Tree final score:\", my_tree_two.score(features_two, target)\n",
    "print \"Decision Tree features sorted by their score:\"\n",
    "print sorted(zip(map(lambda x: round(x, 4), my_tree_two.feature_importances_), names), \n",
    "             reverse=True)\n",
    "print \"\\n\"\n",
    "print \"Random Forest final score:\", my_forest.score(forest_features, target)\n",
    "print \"Random Forest features sorted by their score:\"\n",
    "print sorted(zip(map(lambda x: round(x, 4), my_forest.feature_importances_), names), \n",
    "             reverse=True)"
   ]
  },
  {
   "cell_type": "markdown",
   "metadata": {
    "deletable": true,
    "editable": true
   },
   "source": [
    "# Conclusion\n",
    "Based on our findings from the various models that have been run, we can determine which feature was of most importance, and for which model.\n",
    "\n",
    "__The most important feature was \"Sex\", but it was more significant for \"my_tree_two\" Decision Tree.__\n",
    "\n",
    "---\n",
    "\n",
    "# Model Optimization\n",
    "## Ensemble Methods and Hyper-parameters\n",
    "In an prediction task, it is important try and test multiple algorithms to find the best possible fit. In most cases it is not necessary or possible to test every single algorithm type against the data, a fare assesment may suffice, but it is a good practice to at least try achieve a better fit. That is why we introduced a different Machine Learning algorithm to the `DecisionTreeClassifier()` we were currently using. What we did in essence is introduce an Ensemble Method. The goal of ensemble methods is to combine the predictions of several base estimators built with a given learning algorithm in order to improve generalizability or robustness over a single estimator. In our case, we used the `RandomForestClassifier()` which built several (very deep) classification trees that when used for prediction, each tree is used to come up with a prediction and every outcome is counted as a vote. This is an example of an __averaging methods__. Here, the driving principle is to build several estimators independently and then to average their predictions. On average, the combined estimator is usually better than any of the single base estimator because its variance is reduced. This is evedent when comparing the score from both models above.\n",
    "\n",
    "One of the biggest issues with ensemble Methods is that they can be computationally exhaustive. The alternative is manually trying every possible variable combinations (since there is no easy way to know which parameters work best, other than trying out many different combinations) or parameter combinations (hyperparameters) to get the best model fit. Fortunately, the `scikit-learn` package includes the `GridSearchCV` and `RandomizedSearchCV` functions wich allows for the evaluation of each parameter setting independently, in parallel.\n",
    "\n",
    "The down-side to this is the fact that this is not scalable. The models above are executed on data in Pandas DataFrames. These DataFrames are memory resident, so unless the machine executing the models has sufficient memory or the data sets are small enough, the `GridSearchCV` and `RandomizedSearchCV` functions may not be helpful. Fortunately the team at Databrix has released the [`spark-sklearn`](http://spark-packages.org/package/databricks/spark-sklearn) package to allow us to execute these funcitons over a Spark cluster.\n",
    "\n",
    "The following example is based on the  [Auto-scaling scikit-learn with Spark](https://databricks.com/blog/2016/02/08/auto-scaling-scikit-learn-with-spark.html) example, but has been adapted to our Titanic example. The objective is to populate a \"grid\" of various model parameters and have `GridSearchCV` execute each set of parameters to determine the best score. The goal here is not necessarily to find a model with a better score but to illustrate the time it takes to search through the various model parameters to find the best one. The example has the following steps:\n",
    "\n",
    "1. Import the `GridSearchCV` library from `scikit-learn`.\n",
    "2. Create the function to report the top $3$ models, courtesy of [Databrix](http://go.databricks.com/hubfs/notebooks/Samples/Miscellaneous/blog_post_cv.html).\n",
    "3. Create the \"grid\" of parameters combnations to execute. Thjis is loosley based on the Databrix example.\n",
    "4. Fit the model with the \"grid\"of parameters."
   ]
  },
  {
   "cell_type": "code",
   "execution_count": null,
   "metadata": {
    "collapsed": false,
    "deletable": true,
    "editable": true,
    "scrolled": false
   },
   "outputs": [],
   "source": [
    "# Import necessary packages\n",
    "import warnings\n",
    "warnings.filterwarnings('ignore')\n",
    "from operator import itemgetter\n",
    "from sklearn import grid_search\n",
    "import pandas as pd\n",
    "\n",
    "# Databrix utility function to report top 3 best scores\n",
    "def report(grid_scores, n_top = 3):\n",
    "    top_scores = sorted(grid_scores, key = itemgetter(1), reverse = True)[:n_top]\n",
    "    for i, score in enumerate(top_scores):\n",
    "        print(\"Model with rank: {0}\".format(i + 1))\n",
    "        print(\"Mean validation score: {0:.3f} (std: {1:.3f})\".format(\n",
    "              score.mean_validation_score,\n",
    "              np.std(score.cv_validation_scores)))\n",
    "        print(\"Parameters: {0}\".format(score.parameters))\n",
    "        print(\"\")\n",
    "\n",
    "# Creat a list of the features. \n",
    "target = train[\"Survived\"].values\n",
    "forest_features = train[[\"Pclass\", \"Age\", \"Sex\", \"Fare\", \"SibSp\", \"Parch\", \"Embarked\"]].values\n",
    "\n",
    "# Add grid parameter code based on Databricks\n",
    "param_grid = {\"max_depth\": [3, 10, None],\n",
    "              \"min_samples_split\": [1.0, 2, 3, 10], \n",
    "              \"min_samples_leaf\": [1, 2, 3, 10], \n",
    "              \"bootstrap\": [True, False],\n",
    "              \"criterion\": [\"gini\", \"entropy\"],\n",
    "              \"n_estimators\": [10, 20, 40, 80, 160]}\n",
    "\n",
    "# Execute the grid search\n",
    "gs = grid_search.GridSearchCV(RandomForestClassifier(), param_grid = param_grid)\n",
    "start = time()\n",
    "gs.fit(forest_features, target)\n",
    "print(\"GridSearchCV took {:.2f} minutes for {:d} candidate settings.\".format((time() - start) / 60,\\\n",
    "                                                                             len(gs.grid_scores_)))\n",
    "report(gs.grid_scores_)"
   ]
  },
  {
   "cell_type": "markdown",
   "metadata": {
    "deletable": true,
    "editable": true
   },
   "source": [
    "---\n",
    "# Model Optimization and Ensemble Methods at Scale\n",
    "As we can see, the `GridSearchCV` took __$10$__ minutes on a single machine and provided us with the top $3$ candidates and their settings to try. By applying these suggestions we can very effectivley find the best model as well as the optumum parameters to apply to achieve the best score. Next we aply the same proceedure to a Spark Cluster to parallelize the task across $5$ Spark Workers.\n",
    "\n",
    "## Provision EMR Cluster with AWS CLI"
   ]
  },
  {
   "cell_type": "code",
   "execution_count": null,
   "metadata": {
    "collapsed": false,
    "deletable": true,
    "editable": true
   },
   "outputs": [],
   "source": [
    "!aws emr create-cluster --termination-protected --applications Name=Hadoop Name=Hive Name=Spark \\\n",
    "--ec2-attributes '{\"KeyName\":\"devenv-key\",\"InstanceProfile\":\"EMR_EC2_DefaultRole\",\"SubnetId\":\"subnet-39a22e5e\",\"EmrManagedSlaveSecurityGroup\":\"sg-86bb82fe\",\"EmrManagedMasterSecurityGroup\":\"sg-83bb82fb\"}' \\\n",
    "--release-label emr-5.4.0 --log-uri 's3n://chkrd/elasticmapreduce-logs/' \\\n",
    "--steps '[{\"Args\":[\"bash\",\"-c\",\"aws s3 cp s3://chkrd/artifacts/install_livy.sh /home/hadoop/; cd /home/hadoop/; chmod +x ./install_livy.sh; ./install_livy.sh\"],\"Type\":\"CUSTOM_JAR\",\"ActionOnFailure\":\"CONTINUE\",\"Jar\":\"command-runner.jar\",\"Properties\":\"\",\"Name\":\"Install and Configure Livy\"}]' \\\n",
    "--instance-groups '[{\"InstanceCount\":5,\"InstanceGroupType\":\"CORE\",\"InstanceType\":\"m4.4xlarge\",\"Name\":\"Core - 2\"},{\"InstanceCount\":1,\"InstanceGroupType\":\"MASTER\",\"InstanceType\":\"m4.4xlarge\",\"Name\":\"Master - 1\"}]' \\\n",
    "--auto-scaling-role EMR_AutoScaling_DefaultRole \\\n",
    "--bootstrap-actions '[{\"Path\":\"s3://chkrd/artifacts/emr_base_config.sh\",\"Name\":\"EMR Base Configuration\"}]' \\\n",
    "--service-role EMR_DefaultRole --enable-debugging --name 'Spark-as-a-Service' \\\n",
    "--scale-down-behavior TERMINATE_AT_INSTANCE_HOUR --region us-west-2"
   ]
  },
  {
   "cell_type": "markdown",
   "metadata": {
    "collapsed": false,
    "deletable": true,
    "editable": true,
    "scrolled": false
   },
   "source": [
    "## View EMR Cluster Configuration\n",
    "\n",
    "#### List Clusters\n",
    "```\n",
    "!aws emr list-clusters | grep -i <name>\n",
    "```\n",
    "#### Describe Clusters\n",
    "```\n",
    "!aws emr describe-cluster --cluster-id <Cluster ID>\n",
    "```\n",
    "#### List Cluster Instances\n",
    "```\n",
    "!aws emr list-instances --cluster-id <Cluster ID>\n",
    "```"
   ]
  },
  {
   "cell_type": "code",
   "execution_count": null,
   "metadata": {
    "collapsed": false,
    "deletable": true,
    "editable": true
   },
   "outputs": [],
   "source": [
    "!aws emr describe-cluster --cluster-id j-3GYQXAOK8H2HO"
   ]
  },
  {
   "cell_type": "code",
   "execution_count": null,
   "metadata": {
    "collapsed": false,
    "deletable": true,
    "editable": true
   },
   "outputs": [],
   "source": [
    "!aws emr list-instances --cluster-id j-3GYQXAOK8H2HO"
   ]
  },
  {
   "cell_type": "markdown",
   "metadata": {
    "deletable": true,
    "editable": true
   },
   "source": [
    "## Load `sparkmagic` Jupyter Extension"
   ]
  },
  {
   "cell_type": "code",
   "execution_count": null,
   "metadata": {
    "collapsed": true,
    "deletable": true,
    "editable": true
   },
   "outputs": [],
   "source": [
    "%load_ext sparkmagic.magics"
   ]
  },
  {
   "cell_type": "markdown",
   "metadata": {
    "deletable": true,
    "editable": true
   },
   "source": [
    "## Configure EMR Endpoint\n",
    "### Spark Worker Optimization\n",
    "```\n",
    "{\n",
    "\"executorMemory\": \"32g\",\n",
    "\"executorCores\": 11\n",
    "}\n",
    "```"
   ]
  },
  {
   "cell_type": "code",
   "execution_count": null,
   "metadata": {
    "collapsed": false,
    "deletable": true,
    "editable": true
   },
   "outputs": [],
   "source": [
    "%manage_spark"
   ]
  },
  {
   "cell_type": "code",
   "execution_count": null,
   "metadata": {
    "collapsed": false,
    "deletable": true,
    "editable": true
   },
   "outputs": [],
   "source": [
    "%%spark\n",
    "sc"
   ]
  },
  {
   "cell_type": "code",
   "execution_count": null,
   "metadata": {
    "collapsed": false,
    "deletable": true,
    "editable": true
   },
   "outputs": [],
   "source": [
    "%%spark\n",
    "sqlContext"
   ]
  },
  {
   "cell_type": "markdown",
   "metadata": {
    "deletable": true,
    "editable": true
   },
   "source": [
    "## Model Optimization using Spark-as-a-Service"
   ]
  },
  {
   "cell_type": "code",
   "execution_count": null,
   "metadata": {
    "collapsed": false,
    "deletable": true,
    "editable": true
   },
   "outputs": [],
   "source": [
    "%%spark\n",
    "# Import necessary packages\n",
    "import warnings\n",
    "warnings.filterwarnings('ignore')\n",
    "from operator import itemgetter\n",
    "from sklearn.model_selection import GridSearchCV\n",
    "from sklearn.ensemble import RandomForestClassifier\n",
    "from time import time\n",
    "import numpy as np\n",
    "from sklearn import tree\n",
    "import pandas as pd\n",
    "\n",
    "# Reload the train and test datasets to create two DataFrames\n",
    "train_url = \"http://s3.amazonaws.com/assets.datacamp.com/course/Kaggle/train.csv\"\n",
    "train = pd.read_csv(train_url)\n",
    "test_url = \"http://s3.amazonaws.com/assets.datacamp.com/course/Kaggle/test.csv\"\n",
    "test = pd.read_csv(test_url)\n",
    "\n",
    "# Preprocess the Data\n",
    "train[\"Sex\"][train[\"Sex\"] == \"male\"] = 0\n",
    "train[\"Sex\"][train[\"Sex\"] == \"female\"] = 1\n",
    "train[\"Embarked\"] = train[\"Embarked\"].fillna(\"S\")\n",
    "train[\"Age\"] = train[\"Age\"].fillna(train[\"Age\"].median())\n",
    "train[\"Embarked\"][train[\"Embarked\"] == \"S\"] = 0\n",
    "train[\"Embarked\"][train[\"Embarked\"] == \"C\"] = 1\n",
    "train[\"Embarked\"][train[\"Embarked\"] == \"Q\"] = 2\n",
    "\n",
    "# Databrix utility function to report top 3 best scores\n",
    "def report(grid_scores, n_top = 3):\n",
    "    top_scores = sorted(grid_scores, key = itemgetter(1), reverse = True)[:n_top]\n",
    "    for i, score in enumerate(top_scores):\n",
    "        print(\"Model with rank: {0}\".format(i + 1))\n",
    "        print(\"Mean validation score: {0:.3f} (std: {1:.3f})\".format(\n",
    "              score.mean_validation_score,\n",
    "              np.std(score.cv_validation_scores)))\n",
    "        print(\"Parameters: {0}\".format(score.parameters))\n",
    "        print(\"\")\n",
    "\n",
    "# Creat a list of the features. \n",
    "target = train[\"Survived\"].values\n",
    "forest_features = train[[\"Pclass\", \"Age\", \"Sex\", \"Fare\", \"SibSp\", \"Parch\", \"Embarked\"]].values\n",
    "\n",
    "# Add grid parameter code based on Databricks\n",
    "param_grid = {\"max_depth\": [3, 10, None],\n",
    "              \"min_samples_split\": [1.0, 2, 3, 10], \n",
    "              \"min_samples_leaf\": [1, 2, 3, 10], \n",
    "              \"bootstrap\": [True, False],\n",
    "              \"criterion\": [\"gini\", \"entropy\"],\n",
    "              \"n_estimators\": [10, 20, 40, 80, 160]}\n",
    "\n",
    "# Import grid search for Spark\n",
    "from spark_sklearn import GridSearchCV as SparkSearch\n",
    "\n",
    "# Execute the grid search on Spark\n",
    "Spark_gs = SparkSearch(sc, RandomForestClassifier(), param_grid = param_grid)\n",
    "start = time()\n",
    "\n",
    "Spark_gs.fit(forest_features, target)\n",
    "print(\"Spark GridSearchCV took {:.2f} seconds for {:d} candidate settings.\".format(time() - start,\\\n",
    "                                                                                   len(Spark_gs.grid_scores_)))\n",
    "report(Spark_gs.grid_scores_)"
   ]
  },
  {
   "cell_type": "markdown",
   "metadata": {
    "deletable": true,
    "editable": true
   },
   "source": [
    "By running the `GridSearchCV` on a cluster of $5$ Spark Nodes, we managed to execute the same ensemble task in __$16$__ seconds (__$29$__ on VMware), thus demonstarting that distributing the various algorithms across multiple nodes certainly helps to narrow down the best fit without having to manually try multiple models and wasting unnecessary time.\n",
    "\n",
    "# Terminate Spark-as-a-Service\n",
    "#### Disable Termination Protection\n",
    "```\n",
    "aws emr modify-cluster-attributes --cluster-id <Cluster ID> --no-termination-protected\n",
    "```\n",
    "#### Terminate Cluster\n",
    "```\n",
    "aws emr terminate-clusters --cluster-ids <Cluster ID>\n",
    "```"
   ]
  },
  {
   "cell_type": "code",
   "execution_count": null,
   "metadata": {
    "collapsed": false,
    "deletable": true,
    "editable": true
   },
   "outputs": [],
   "source": [
    "!aws emr modify-cluster-attributes --cluster-id j-3GYQXAOK8H2HO --no-termination-protected"
   ]
  },
  {
   "cell_type": "code",
   "execution_count": null,
   "metadata": {
    "collapsed": true,
    "deletable": true,
    "editable": true
   },
   "outputs": [],
   "source": [
    "!aws emr terminate-clusters --cluster-ids j-3GYQXAOK8H2HO"
   ]
  }
 ],
 "metadata": {
  "kernelspec": {
   "display_name": "Python 2",
   "language": "python",
   "name": "python2"
  },
  "language_info": {
   "codemirror_mode": {
    "name": "ipython",
    "version": 2
   },
   "file_extension": ".py",
   "mimetype": "text/x-python",
   "name": "python",
   "nbconvert_exporter": "python",
   "pygments_lexer": "ipython2",
   "version": "2.7.13"
  },
  "widgets": {
   "state": {
    "02a59f576acf4d609096da9e2f67dc5c": {
     "views": []
    },
    "02fda6d74dd447ffb063823978509526": {
     "views": []
    },
    "034e48ede90646538b4e0412cb0f9c50": {
     "views": []
    },
    "046d95b349494115924a6e96708b5da9": {
     "views": []
    },
    "04bf21a1450d44ccaa5361efaed10b8f": {
     "views": []
    },
    "06e77e3f05594c2daa3cccff42146c45": {
     "views": []
    },
    "070b8434b2414b6c87646651277cdb99": {
     "views": []
    },
    "077c3a0f8e5b432e84cefa861b37aa25": {
     "views": []
    },
    "07f4d7feedd04a7990b77a90ec389e49": {
     "views": []
    },
    "0809c90fb00141ebaaf7c641b53ff271": {
     "views": []
    },
    "09070c55655d4404b61a55883383d971": {
     "views": []
    },
    "0eb0ca42ae514b71a12b0b6aba2df097": {
     "views": []
    },
    "11a51bc80d0c4c95b9a15005054f1df7": {
     "views": []
    },
    "13f769a2ee5c4d3dbf9c0b8f9750cb7b": {
     "views": []
    },
    "1766787956e543c0b034cfee336ac9aa": {
     "views": []
    },
    "17706d8688534c728cfa1fbe0cdc95b5": {
     "views": []
    },
    "18972edace2d45f48883e9d03359ba19": {
     "views": []
    },
    "1955bdc1214445d8894fbdeba7d9f5b2": {
     "views": []
    },
    "1a89d853c437421f9b5f417c9343c89e": {
     "views": []
    },
    "1bb11c2e58464efc84d71bac19537ae1": {
     "views": []
    },
    "1c7f38e5448643b8a7e79b2450367ff0": {
     "views": []
    },
    "1e118a6832ac4496a18100a620f1d513": {
     "views": []
    },
    "1e91a758e43342ec82cc29a07026cee9": {
     "views": []
    },
    "1ef2469c2c2d443a8194b4780e57bf85": {
     "views": []
    },
    "1f83148f38a74f318fdf5f570553a297": {
     "views": []
    },
    "1ff5b0dfa0fa43f5980fcdeaeaead9d0": {
     "views": []
    },
    "20afa64e6e8e44768fe8b00c28ca1b0a": {
     "views": []
    },
    "2173af6e316c465a90892089ba49b979": {
     "views": []
    },
    "22123b9f52ac494da95fb477cbbee347": {
     "views": []
    },
    "23ba7059bb3d4672b736629b95c8c2c4": {
     "views": []
    },
    "26ecff3cdbc7447ab96748e5b7825feb": {
     "views": []
    },
    "2ae41305800440d49ae2e8cbf44c46ee": {
     "views": []
    },
    "2f84ef0f5174429592465adde522ee47": {
     "views": []
    },
    "304aa789a6c94d37a74656725caf01b8": {
     "views": []
    },
    "3308467f7b024366ba9bbb6951985df7": {
     "views": []
    },
    "34e4eb28fe4f4823ada87dadf6d7957d": {
     "views": []
    },
    "35186e9e4564444f953c0f2847e96e83": {
     "views": []
    },
    "35a8cd4e3fa042a99cbb8880cba6f90c": {
     "views": []
    },
    "364248dc871e49e69a1be4c7e1cef62a": {
     "views": []
    },
    "3645decfa2334eaaad180e20ef12f9b7": {
     "views": []
    },
    "376a84c233064e35914557a5f3a444f0": {
     "views": []
    },
    "37bad493f0f3450897443ddfc9400ec3": {
     "views": []
    },
    "38871d90542f4bf1a3c5b3d4408bed3f": {
     "views": []
    },
    "390273f155384d3d9bcfeefe236e1bce": {
     "views": []
    },
    "396b0ae5077a47458c64e926a1594f8b": {
     "views": []
    },
    "3a4bdb9defdb43e39f325a1caf762011": {
     "views": []
    },
    "3cd0e14cb764408a928d41bd358b3fdf": {
     "views": []
    },
    "3cfdd410d56245d190c12a91979c7968": {
     "views": []
    },
    "3d5af29e3f4f498b859908fc1b3c4073": {
     "views": []
    },
    "40e84494f6324ed78ff9821e4ed1d2c0": {
     "views": []
    },
    "4188335472414910a9ab3600b8601a04": {
     "views": []
    },
    "41cb07da305e4fd58dd43ced1e9727e5": {
     "views": []
    },
    "42745154e8104f1d959bff2b13c784c4": {
     "views": []
    },
    "437ca489bceb4ac797b6219549e16886": {
     "views": []
    },
    "449eb81275994cf7a712aae733ae96b0": {
     "views": []
    },
    "459fc17de4fa4791967c5ca2ab3387e5": {
     "views": []
    },
    "4ae100ce9e5848a2a26a576728e62587": {
     "views": []
    },
    "4bff5186431048bf909041a67c6484a2": {
     "views": []
    },
    "4de4026c8cca4e208054440b1f4064c4": {
     "views": []
    },
    "4eed5f0010eb49829d15d934477ef099": {
     "views": []
    },
    "4f74283811d84537841ac17175bfbb7a": {
     "views": []
    },
    "50575bc2839d4ae5830f57c0b3205fb7": {
     "views": []
    },
    "511dc3d4c6694bddbd95448ef5033585": {
     "views": []
    },
    "52fc0d87b94c471b8e0761022ee8c26a": {
     "views": []
    },
    "536dbe777e3142ce86367c9aa28572a9": {
     "views": []
    },
    "54b6b09f7e204386877bc8510629cd80": {
     "views": []
    },
    "565a2d8a1a604ab2824c179d64b0f99d": {
     "views": []
    },
    "58ab09aac6ad4931babb7d0441933333": {
     "views": []
    },
    "5b01604593c946ddb3b638aeb998620b": {
     "views": []
    },
    "5be775b5aaa742be97e960b967485ba7": {
     "views": []
    },
    "5dec303412ec4499b63c76a1c33deaf1": {
     "views": []
    },
    "5e908e71e8db4562b314a115255e042f": {
     "views": []
    },
    "5fc2bead3fdd4da5a90d04bdfe3010c5": {
     "views": []
    },
    "5fe5318551b74b0eb9bce682a4295e32": {
     "views": []
    },
    "60a435c50fa14b6aafab897052429066": {
     "views": []
    },
    "60f43f4eac20482bb5aa5344e643ac9f": {
     "views": []
    },
    "6157e92b70c34c67bd594e3a02bcea2d": {
     "views": []
    },
    "624171177ce749c09aff4c0c61045d28": {
     "views": []
    },
    "62426645aca04ba992846e8fea57585a": {
     "views": []
    },
    "62eacff721f042e5ad665991d1f91f6d": {
     "views": []
    },
    "65220a389b624c1b99cb24efecaa06c5": {
     "views": []
    },
    "65fff124564d430db5962a6a63ca6811": {
     "views": [
      {
       "cell_index": 50
      }
     ]
    },
    "66091e8a716844e8aadc5e21580bd9b6": {
     "views": []
    },
    "66396a9b9b5e484b9d561967b541ea3c": {
     "views": []
    },
    "67faaa1154ca4d1486cc9157a7bbff05": {
     "views": []
    },
    "69dcfdee244d49cbb60f4907a6c8dbcf": {
     "views": []
    },
    "6b2f671b6b524230a8a9b1680b198764": {
     "views": []
    },
    "6d6a60b873444d609d6b9643c1f4566b": {
     "views": []
    },
    "6e686cae4375439c9371bdfb28dbf11b": {
     "views": []
    },
    "74f13d5e6c46478da9372d96f5190dbe": {
     "views": []
    },
    "76984c32d46642b9aff7d62332610e7c": {
     "views": []
    },
    "76d50bae57b5425da9a16e66d7f41186": {
     "views": []
    },
    "7973493837f04730b4068cecf9c5b7cf": {
     "views": []
    },
    "7c4395fbaa724e1489958430bf3ab527": {
     "views": []
    },
    "7e2044a6bd4d4dffb2aa32fe9df34e6d": {
     "views": []
    },
    "81294db715954a828ca58c4c7a09d901": {
     "views": []
    },
    "81ea9b1d85754cf085e3b9838dc4a7a6": {
     "views": []
    },
    "82c95b7681784aeeabf6922fd18953e1": {
     "views": []
    },
    "83093b20a6e44040a2917778df8291e3": {
     "views": []
    },
    "8485116da6124773b1fdb57f170deb42": {
     "views": []
    },
    "84c441d971a34a94ba1317974db95e8e": {
     "views": []
    },
    "87b5685c89a646f7ba57f6478c7a7488": {
     "views": []
    },
    "88355489df8c4f34a9069e1200131ab6": {
     "views": []
    },
    "89ffd62ba3204c47b3c92d43ae5ebc1d": {
     "views": []
    },
    "8aad74a73e104d22963e7d7e0b47f251": {
     "views": []
    },
    "8b2c57e20a5d42d88024bdca401e1149": {
     "views": []
    },
    "8b5f310632974c5d9a582934650eccf5": {
     "views": []
    },
    "8b7b390c5d024bb283a533a75bf25817": {
     "views": []
    },
    "8bcf5742e4e24123a12c02f49ad0cc2c": {
     "views": []
    },
    "8e2150fa62c7481988830e01a3ecb5d7": {
     "views": []
    },
    "8e3320d3e8a94605b379c810deae085d": {
     "views": []
    },
    "8ea3be258a374ef69434ffa0bee02523": {
     "views": []
    },
    "8ffe1c8c654d4222b828d2680c03c5ef": {
     "views": []
    },
    "9054270c44c148608f38d92064675458": {
     "views": []
    },
    "905b6e84776e4fad8de170772450ad23": {
     "views": []
    },
    "911316563b774f1a825f5bb451f04306": {
     "views": []
    },
    "917522a8c4e047bd9d1b019074b45cd8": {
     "views": []
    },
    "93b499fc178b48eba028843d334ba76b": {
     "views": []
    },
    "93cc2363489e48ea8e85506860c56eaa": {
     "views": []
    },
    "949581fd1e5d4e69b6c0eba02424dd3e": {
     "views": []
    },
    "96939b604781473387b1e52655a8e0e8": {
     "views": []
    },
    "99e8307c43334c2e9bb8df69bd673b31": {
     "views": []
    },
    "99ee20828f704ff3bfbff1bd4ca81220": {
     "views": []
    },
    "9a6fbf8cdd3748fc8e4db2b7abcc90d2": {
     "views": []
    },
    "9c5f247315f84cfeb61da570fa6440fe": {
     "views": []
    },
    "9c653f1ae9f241619e241231462836f9": {
     "views": []
    },
    "9c88784bee7845ccb4bdc3f65fcb74f0": {
     "views": []
    },
    "9d0f14e1405d4358949defe9ab42a805": {
     "views": []
    },
    "9f10f4de08c8492997f85b0d524a0ef0": {
     "views": []
    },
    "9f771e8b37cb43038d77f97ea763fe54": {
     "views": []
    },
    "a03ba206040b44eda1a46e5023deb7e2": {
     "views": []
    },
    "a932f9ac01594c7989c2a78f003b4958": {
     "views": []
    },
    "aaca2ee15233409ba163490ac16fa113": {
     "views": []
    },
    "ab6814f609fb4462942dcd9e69cb5cba": {
     "views": []
    },
    "ad20a6ae7d1c4ab48750c7b8ac431b23": {
     "views": []
    },
    "afb7a1a192264930aff18f7759b66786": {
     "views": []
    },
    "b0705ae49a2247f58f26eeac2110dfc0": {
     "views": []
    },
    "b1fe36be21594f8e9c66ba050bc4266b": {
     "views": []
    },
    "b30b42cd05c545ce9ba246aa42df7077": {
     "views": []
    },
    "b4d8b65988634848a5c0c9fc5b3d20e8": {
     "views": []
    },
    "b51637c4ec9e4243b8409c4627562eb3": {
     "views": []
    },
    "b5d44e6a69e64f49a531e48d15848fd2": {
     "views": []
    },
    "b645650985454622a8edebaee65ab31c": {
     "views": []
    },
    "b6483ec4ff4342cf9c05a081eeb590eb": {
     "views": []
    },
    "b691fc4df2444a6b89506eb193edeedf": {
     "views": []
    },
    "b701326a3f0642659c1b0d030ed71139": {
     "views": []
    },
    "bb99a409c9514072a697f57d49bfb14a": {
     "views": []
    },
    "bcd984ead6934a789200fd3094f39c31": {
     "views": []
    },
    "be966fba0a0e487eb141fdddb3f0a557": {
     "views": []
    },
    "bed23f40ba74493e9f116176742e9313": {
     "views": []
    },
    "c1c9c1bf30a84d6782700c1d76c98abf": {
     "views": []
    },
    "c3810e0112c44c89940cdd424bb4fde8": {
     "views": []
    },
    "c3f070f190494dd8b380ea2bcd46adad": {
     "views": []
    },
    "c49d86dd474446b591d2eaebb636e2fa": {
     "views": []
    },
    "c4ab48c4d4384130aea2c1cbaf0c99cb": {
     "views": []
    },
    "c52d54e923184789bb2a098656685ab6": {
     "views": []
    },
    "c5331112f7e54c9fa98b6a5a0fecbea7": {
     "views": []
    },
    "caf6ba51ff9649faaea70d982c5d706c": {
     "views": []
    },
    "cfb1cf492bb4460ba8586f30802f6238": {
     "views": []
    },
    "d4106567481a403a9d9c57ac62b0ee10": {
     "views": []
    },
    "d4d25cf3cc99447197fb9ef6e91c2e92": {
     "views": []
    },
    "d7f8a83e4e23424f9e3090ffddbd8cd6": {
     "views": []
    },
    "d8250280714c4806a0210f67bb2e42e7": {
     "views": []
    },
    "db14b85b8a034afca952ec092c6219b1": {
     "views": []
    },
    "dbc2baf887c64d988d39cabbd9633c71": {
     "views": []
    },
    "dc1b51aa295c4e2680580b6a0a8e85b7": {
     "views": []
    },
    "dc5e94b7faa24fb49d646f788d23cc6b": {
     "views": []
    },
    "dcd2234b3ef845e7b83ceea57344c8db": {
     "views": []
    },
    "dcf393cb60614c289a01ee1d6fdb47db": {
     "views": []
    },
    "dd1d238417094fb782f4f21a0807e5df": {
     "views": []
    },
    "ddbaacb218c94b05b72b89df09a32d46": {
     "views": []
    },
    "de3587e503e64f6b887f1322f64051fd": {
     "views": []
    },
    "dfdd6d93c30c479999e2701a55e8d798": {
     "views": []
    },
    "e0336adaa1b344ef971ceebc84b37dd6": {
     "views": []
    },
    "e099a39b4ed14ec3b332140ba2c2149b": {
     "views": []
    },
    "e1f4fad69c694001a979a92cb709a592": {
     "views": []
    },
    "e4eac901e94346e19cbc7de7a87ea734": {
     "views": []
    },
    "e524ba29bbee4208a6643946e09645f5": {
     "views": []
    },
    "e5845ab37ce346b4aaf90186b847dca5": {
     "views": []
    },
    "e66e5c1ac5e0411ab0582666a1afa3a3": {
     "views": []
    },
    "e676c6cc9f9c4b6f8e8379150f718765": {
     "views": []
    },
    "e760dc041c9942d4b08b28ae191f843d": {
     "views": []
    },
    "e84f77fa9c654ffca3bb3b6ec154d75e": {
     "views": []
    },
    "e99a93fecd774befa333f2024f8e1157": {
     "views": []
    },
    "ebb92b61053d4229b88d1936d166b33a": {
     "views": []
    },
    "ed788c25ac434ce2b8f017ce710e7c0e": {
     "views": []
    },
    "f244e2dd82aa47b5854a6b9660602909": {
     "views": []
    },
    "f368fb8d08a7471ab6bd7eaad33e8fd6": {
     "views": []
    },
    "f3ac2eed250948a3b57b5ff9ad6b05ad": {
     "views": []
    },
    "f3eec3b2ec8b4e38bc4f62b5f84b7761": {
     "views": []
    },
    "f40034f0345e4bce8810e6a1d25b7230": {
     "views": []
    },
    "f4d3367834e044dbb56e24f7d56e4fd6": {
     "views": []
    },
    "f67594494fba414e8758845cef0535ae": {
     "views": []
    },
    "f69b975dabf542f48070b6606044260b": {
     "views": []
    },
    "f8362dceea72420091554b911b3b0afc": {
     "views": []
    },
    "f88a669870934385b5173e13d5cf83c9": {
     "views": []
    },
    "f8d47ed4a74e4f7c82315b7bc43927c3": {
     "views": []
    },
    "f9064002fe54492a8d9a80eaa869d805": {
     "views": []
    },
    "f92cb27fa99941ad9d7ed2361ceed145": {
     "views": []
    },
    "fa2bf6132cb74205878d70e7d1cb3276": {
     "views": []
    },
    "fdcd1a0b17e34a99a982efa1259dc473": {
     "views": []
    },
    "fde0767830ff4321b46b7947c569c618": {
     "views": []
    },
    "ff32c5810bd84f97b005af7d6339c2b9": {
     "views": []
    },
    "ff8129cd93b54a50b6691673a2b9bca6": {
     "views": []
    }
   },
   "version": "1.1.2"
  }
 },
 "nbformat": 4,
 "nbformat_minor": 0
}
