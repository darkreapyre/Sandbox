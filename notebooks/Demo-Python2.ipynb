{
 "cells": [
  {
   "cell_type": "markdown",
   "metadata": {
    "deletable": true,
    "editable": true
   },
   "source": [
    "# Introduction\n",
    "In this case study, we will explore how to tackle Kaggle Titanic competition using Python and Machine Learning. When the Titanic sank, $1502$ of the $2224$ passengers and crew were killed. One of the main reasons for this high level of casualties was the lack of lifeboats on this self-proclaimed __\"unsinkable\"__ ship. In this tutorial, we will learn how to apply machine learning techniques to predict a passenger's chance of surviving using Python.\n",
    "\n",
    "# Extract Sample Data\n",
    "We start with loading in the training and testing set into your Python environment. We will use the [training set](http://s3.amazonaws.com/assets.datacamp.com/course/Kaggle/train.csv) to build our model, and the [test set](http://s3.amazonaws.com/assets.datacamp.com/course/Kaggle/test.csv) to validate it. The first step is to load this data with the `read_csv()` method from the Pandas library."
   ]
  },
  {
   "cell_type": "code",
   "execution_count": null,
   "metadata": {
    "collapsed": false,
    "deletable": true,
    "editable": true
   },
   "outputs": [],
   "source": [
    "# Import the Pandas library\n",
    "import warnings\n",
    "warnings.filterwarnings('ignore')\n",
    "import pandas as pd\n",
    "\n",
    "# Load the train and test datasets to create two DataFrames\n",
    "train_url = \"http://s3.amazonaws.com/assets.datacamp.com/course/Kaggle/train.csv\"\n",
    "train = pd.read_csv(train_url)\n",
    "test_url = \"http://s3.amazonaws.com/assets.datacamp.com/course/Kaggle/test.csv\"\n",
    "test = pd.read_csv(test_url)\n",
    "\n",
    "#Print the `head` of the train dataframe\n",
    "train.head()"
   ]
  },
  {
   "cell_type": "code",
   "execution_count": null,
   "metadata": {
    "collapsed": false,
    "deletable": true,
    "editable": true
   },
   "outputs": [],
   "source": [
    "#Print the `head` of the test dataframe\n",
    "test.head()"
   ]
  },
  {
   "cell_type": "markdown",
   "metadata": {
    "deletable": true,
    "editable": true
   },
   "source": [
    "On thing that immediately stands out when looking at the two data sets. The `test` set has no variable (colum) for wether or not the passanger `Survived` or not. This has been intentionally removed as that's the variable we will be predicting using the `train` set.\n",
    "\n",
    "# Exploring the Data\n",
    "Before starting with the actual analysis, it's important to understand the structure of the data. Both `test` and `train` are DataFrame objects, the way pandas represent datasets. We can easily explore a DataFrame using the `.describe()` method. This method summarizes the columns/features of the DataFrame, including the count of observations, mean, max and so on. Another useful trick is to look at the dimensions of the DataFrame. This is done by requesting the `.shape` attribute of your DataFrame object. It is also a good practice to look for any missing values in the data set.\n",
    "\n",
    "### Summary Statistics\n",
    "Next we apply the `.describe()` method, look for missing values and then apply `.shape` attribute of the training set."
   ]
  },
  {
   "cell_type": "code",
   "execution_count": null,
   "metadata": {
    "collapsed": false,
    "deletable": true,
    "editable": true
   },
   "outputs": [],
   "source": [
    "# Describe the `train` data\n",
    "train.describe()"
   ]
  },
  {
   "cell_type": "markdown",
   "metadata": {
    "deletable": true,
    "editable": true
   },
   "source": [
    "### Missing Values"
   ]
  },
  {
   "cell_type": "code",
   "execution_count": null,
   "metadata": {
    "collapsed": false,
    "deletable": true,
    "editable": true
   },
   "outputs": [],
   "source": [
    "# Look for missing values\n",
    "train.isnull().sum()"
   ]
  },
  {
   "cell_type": "code",
   "execution_count": null,
   "metadata": {
    "collapsed": false,
    "deletable": true,
    "editable": true
   },
   "outputs": [],
   "source": [
    "# Index for missing vales: `Embarked`\n",
    "train[\"Embarked\"][train[\"Embarked\"].isnull()]"
   ]
  },
  {
   "cell_type": "markdown",
   "metadata": {
    "deletable": true,
    "editable": true
   },
   "source": [
    "### Dimensions"
   ]
  },
  {
   "cell_type": "code",
   "execution_count": null,
   "metadata": {
    "collapsed": false,
    "deletable": true,
    "editable": true
   },
   "outputs": [],
   "source": [
    "# Look at the dimensions of `train`\n",
    "train.shape"
   ]
  },
  {
   "cell_type": "markdown",
   "metadata": {
    "deletable": true,
    "editable": true
   },
   "source": [
    "### Understanding the Data\n",
    "As we can see, the training set has $891$ observations and $12$ variables, the count for `Age` is $714$. But how many people in the training set survived the disaster with the Titanic? To see this, we can use the `value_counts()` method in combination with standard bracket notation to select a single column of a DataFrame:"
   ]
  },
  {
   "cell_type": "code",
   "execution_count": null,
   "metadata": {
    "collapsed": false,
    "deletable": true,
    "editable": true
   },
   "outputs": [],
   "source": [
    "# No. of people who survived (absolute numbers)\n",
    "train[\"Survived\"].value_counts()"
   ]
  },
  {
   "cell_type": "code",
   "execution_count": null,
   "metadata": {
    "collapsed": false,
    "deletable": true,
    "editable": true
   },
   "outputs": [],
   "source": [
    "# No. of people who survived (percentages)\n",
    "train[\"Survived\"].value_counts(normalize = True) * 100"
   ]
  },
  {
   "cell_type": "markdown",
   "metadata": {
    "deletable": true,
    "editable": true
   },
   "source": [
    "We see that $549$ individuals died ($62\\%$) and $342$ survived ($38\\%$). A simple way to predict heuristically could be: \"majority wins\". This would mean that we will predict every unseen observation to not survive.\n",
    "\n",
    "To dive in a little deeper we can perform similar counts and percentage calculations on subsets of the Survived column. For example, maybe gender could play a role as well? We can explore this using the .`value_counts()` method for a two-way comparison on the number of __males__ and __females__ that survived."
   ]
  },
  {
   "cell_type": "code",
   "execution_count": null,
   "metadata": {
    "collapsed": false,
    "deletable": true,
    "editable": true
   },
   "outputs": [],
   "source": [
    "# Count of males who survived\n",
    "train[\"Survived\"][train[\"Sex\"] == \"male\"].value_counts()"
   ]
  },
  {
   "cell_type": "code",
   "execution_count": null,
   "metadata": {
    "collapsed": false,
    "deletable": true,
    "editable": true
   },
   "outputs": [],
   "source": [
    "# Count of femails who survived\n",
    "train[\"Survived\"][train[\"Sex\"] == \"female\"].value_counts()"
   ]
  },
  {
   "cell_type": "markdown",
   "metadata": {
    "deletable": true,
    "editable": true
   },
   "source": [
    "To get proportions,  we again pass in the argument `normalize = True` to the `.value_counts()` method."
   ]
  },
  {
   "cell_type": "code",
   "execution_count": null,
   "metadata": {
    "collapsed": false,
    "deletable": true,
    "editable": true
   },
   "outputs": [],
   "source": [
    "# Count of males who survived (percentage)\n",
    "train[\"Survived\"][train[\"Sex\"] == \"male\"].value_counts(normalize = True) * 100"
   ]
  },
  {
   "cell_type": "code",
   "execution_count": null,
   "metadata": {
    "collapsed": false,
    "deletable": true,
    "editable": true
   },
   "outputs": [],
   "source": [
    "# Count of females who survived (percentage)\n",
    "train[\"Survived\"][train[\"Sex\"] == \"female\"].value_counts(normalize = True) * 100"
   ]
  },
  {
   "cell_type": "markdown",
   "metadata": {
    "deletable": true,
    "editable": true
   },
   "source": [
    "It looks like it makes sense to include gender in the predictions since there is a difference between the survival rate of males vs. females. Around $74\\%$ of females survived as opposed to $18\\%$ of the males surviving.\n",
    "\n",
    "Another variable that could influence survival is `age`; since it's probable that children were saved first. We can test this by creating a new column with a categorical variable `Child`. `Child` will take the value $1$ in cases where age is less than $18$, and a value of $0$ in cases where age is greater than or equal to $18$. So to add this new variable we need to do two things:\n",
    "\n",
    "1. Create a new column.\n",
    "2. Provide the values for each observation (i.e., row) based on the age of the passenger.\n",
    "\n",
    "Adding a new column with Pandas in Python is easy and can be done via the following syntax:\n",
    "```\n",
    "<variable>[\"new_variable\"] = 0\n",
    "```\n",
    "This code would create a new column in the train DataFrame titled new_var with $0$ for each observation. To set the values based on the age of the passenger, we make use of a boolean test inside the square bracket operator. With the `[]` operator we create a subset of rows and assign a value to a certain variable of that subset of observations. For example:\n",
    "\n",
    "```\n",
    "train[\"new_var\"][train[\"Fare\"] > 10] = 1\n",
    "```\n",
    "\n",
    "This would give a value of $1$ to the variable `new_var` for the subset of passengers whose fares greater than $10$. Keeping in mind that `new_var` has a value of $0$ for all other values (including missing values). "
   ]
  },
  {
   "cell_type": "code",
   "execution_count": null,
   "metadata": {
    "collapsed": false,
    "deletable": true,
    "editable": true
   },
   "outputs": [],
   "source": [
    "# Create the column Child and assign to 'NaN'\n",
    "train[\"Child\"] = float('NaN')\n",
    "\n",
    "# Assign 1 to passengers under 18, 0 to those 18 or older.\n",
    "train[\"Child\"][train[\"Age\"] < 18] = 1\n",
    "train[\"Child\"][train[\"Age\"] >= 18] = 0\n",
    "\n",
    "# Print normalized Survival Rates for passengers under 18\n",
    "print \"Survival proportions for passangers under 18:\\n\",\n",
    "train[\"Survived\"][train[\"Child\"] == 1].value_counts(normalize = True) * 100"
   ]
  },
  {
   "cell_type": "code",
   "execution_count": null,
   "metadata": {
    "collapsed": false,
    "deletable": true,
    "editable": true
   },
   "outputs": [],
   "source": [
    "# Print normalized Survival Rates for passengers 18 or older\n",
    "print \"Survival proportions for passangers over 18:\\n\",\n",
    "train[\"Survived\"][train[\"Child\"] == 0].value_counts(normalize = True) * 100"
   ]
  },
  {
   "cell_type": "markdown",
   "metadata": {
    "deletable": true,
    "editable": true
   },
   "source": [
    "As we can see from the survival proportions, age does certainly seem to play a role. So the the __[Birhenhead Drill](https://en.wikipedia.org/wiki/Women_and_children_first)__ holds true and thus `Sex` and `Age` make good predictors.\n",
    "\n",
    "# Basic Prediction\n",
    "From exploring the data we can see that females had over a $50\\%$ chance of surviving and males had less than a $50\\%$ chance of surviving. Hence, we could use this information for a first and very basic prediction: \n",
    "\n",
    "__All females in the `test` set survive and all males in the `test` set die.__\n",
    "\n",
    "To do this, we use the test set for validating our predictions. As was mentioned above,  the `test` set has no `Survived` column. this is so that we can use this colums for our predicted values. Next, when uploading our results, Kaggle will use this variable i.e. oour predictions, to score the performance. \n",
    "\n",
    "So to start with the first prediction, we will perform the following:\n",
    "\n",
    "1. Create a variable test_one, identical to dataset test.\n",
    "2. Add an additional column, `Survived`, that is initialize to zero.\n",
    "3. Use vector subsetting to set the value of `Survived` to $1$ for observations whose Sex equals \"female\".\n",
    "4. Print the Survived column of predictions from the test_one dataset."
   ]
  },
  {
   "cell_type": "code",
   "execution_count": null,
   "metadata": {
    "collapsed": false,
    "deletable": true,
    "editable": true
   },
   "outputs": [],
   "source": [
    "# Start the timer\n",
    "from time import time\n",
    "start = time()\n",
    "\n",
    "# Create a copy of test: test_one\n",
    "test_one = test\n",
    "\n",
    "# Initialize a Survived column to 0\n",
    "test_one[\"Survived\"] = 0\n",
    "\n",
    "# Set Survived to 1 if Sex equals \"female\"\n",
    "test_one[\"Survived\"][test_one[\"Sex\"] == \"female\"] = 1\n",
    "\n",
    "# Print a sample prediction of who servived\n",
    "test_one[[\"PassengerId\", \"Survived\"]] .head()\n",
    "#print \"Our basic prediction took {:.2f} seconds.\".format(time() - start)"
   ]
  },
  {
   "cell_type": "markdown",
   "metadata": {
    "deletable": true,
    "editable": true
   },
   "source": [
    "# Prediction using Decision Trees\n",
    "In the basic prediction example, we did all the \"slicing\" and \"dicing\" ourselves to find subsets that have a higher chance of surviving. A decision tree automates this process for us and outputs a classification model or classifier.\n",
    "\n",
    "Conceptually, the decision tree algorithm starts with all the data at the root node and scans all the variables for the best one to split on. Once a variable is chosen, it does the split and goes down one level (or one node) and repeats the process. The final nodes at the bottom of the decision tree are known as terminal nodes, and the majority vote of the observations in that node determine how to predict for new observations that end up in that terminal node.\n",
    "\n",
    "Before we can start using Decision Trees, we need to import the necessary libraries:"
   ]
  },
  {
   "cell_type": "code",
   "execution_count": null,
   "metadata": {
    "collapsed": false,
    "deletable": true,
    "editable": true
   },
   "outputs": [],
   "source": [
    "# Import the Numpy library\n",
    "import numpy as np\n",
    "\n",
    "# Import 'tree' from scikit-learn library\n",
    "from sklearn import tree\n",
    "\n",
    "# Reload the train and test datasets to create two DataFrames\n",
    "train_url = \"http://s3.amazonaws.com/assets.datacamp.com/course/Kaggle/train.csv\"\n",
    "train = pd.read_csv(train_url)\n",
    "test_url = \"http://s3.amazonaws.com/assets.datacamp.com/course/Kaggle/test.csv\"\n",
    "test = pd.read_csv(test_url)"
   ]
  },
  {
   "cell_type": "markdown",
   "metadata": {
    "deletable": true,
    "editable": true
   },
   "source": [
    "### Preprocessing\n",
    "Before we can begin constructing your trees we need to clean the data so that we can use all the features (predictors) available. In the first section, we saw that the `Age` variable had some missing value. Although dealing with missing values is a whole subject with and in itself, we will use a simple imputation technique where we substitute each missing value with the median of the all present values. This is done by using the `.fillna()` method, for example:\n",
    "```\n",
    "train[\"Age\"] = train[\"Age\"].fillna(train[\"Age\"].median())\n",
    "```\n",
    "Another problem is that the `Sex` and `Embarked` variables are categorical but in a non-numeric format. Thus, we will need to assign each class a unique integer so that Python can handle the information. `Embarked` also has some missing values which we should impute with the most common class of embarkation, which is \"S\". "
   ]
  },
  {
   "cell_type": "code",
   "execution_count": null,
   "metadata": {
    "collapsed": false,
    "deletable": true,
    "editable": true
   },
   "outputs": [],
   "source": [
    "# Convert the male and female groups to integer form\n",
    "train[\"Sex\"][train[\"Sex\"] == \"male\"] = 0\n",
    "train[\"Sex\"][train[\"Sex\"] == \"female\"] = 1\n",
    "\n",
    "# Impute the `Embarked` variable\n",
    "train[\"Embarked\"] = train[\"Embarked\"].fillna(\"S\")\n",
    "\n",
    "# Impute the `Age` variable\n",
    "train[\"Age\"] = train[\"Age\"].fillna(train[\"Age\"].median())\n",
    "\n",
    "# Confirm that `Embarked` and `Age` have no missing values\n",
    "print \"No. of missing values: \", train.isnull().sum()\n",
    "\n",
    "# Convert the Embarked classes to integer form\n",
    "train[\"Embarked\"][train[\"Embarked\"] == \"S\"] = 0\n",
    "train[\"Embarked\"][train[\"Embarked\"] == \"C\"] = 1\n",
    "train[\"Embarked\"][train[\"Embarked\"] == \"Q\"] = 2"
   ]
  },
  {
   "cell_type": "markdown",
   "metadata": {
    "deletable": true,
    "editable": true
   },
   "source": [
    "### Fitting the Model\n",
    "Now that the data has been cleaned, we will use the scikit-learn and numpy libraries to build a decision tree. scikit-learn can be used to create tree objects from the `DecisionTreeClassifier` class. The methods that we will use take numpy arrays as inputs and therefore we will need to create those from the DataFrame that we already have. \n",
    "\n",
    "We will need the following to build a decision tree\n",
    "\n",
    "- `target`: A one-dimensional numpy array containing the target/response from the train data. (`Survival`)\n",
    "- `features`: A multidimensional numpy array containing the features/predictors from the train data. (e.g. `Sex`, `Age`)\n",
    "\n",
    "The following sample code shows what this would look like:\n",
    "```\n",
    "target = train[\"Survived\"].values\n",
    "\n",
    "features = train[[\"Sex\", \"Age\"]].values\n",
    "\n",
    "my_tree = tree.DecisionTreeClassifier()\n",
    "\n",
    "my_tree = my_tree.fit(features, target)\n",
    "```\n",
    "One way to quickly see the result of the decision tree is to see the importance of the features that are included. This is done by requesting the `.feature_importances_` attribute of the tree object. Another quick metric is the mean accuracy that we can compute using the `.score()` function with `features_one` and `target` as arguments.\n",
    "\n",
    "To build the decision tree, we will perform the following steps:\n",
    "1. Build the `target` and `features_one` numpy arrays. The target will be based on the `Survived` column in `train`. The features array will be based on the variables `Passenger`, `Class`, `Sex`, `Age`, and Passenger `Fare`.\n",
    "2. Build a decision tree `my_tree_one` to predict survival using `features_one` and `target`.\n",
    "3. View at the importance of features in the decision tree and compute the score."
   ]
  },
  {
   "cell_type": "code",
   "execution_count": null,
   "metadata": {
    "collapsed": false,
    "deletable": true,
    "editable": true
   },
   "outputs": [],
   "source": [
    "# Create the target and features numpy arrays: target, features_one\n",
    "target = train[\"Survived\"].values\n",
    "features_one = train[[\"Pclass\", \"Sex\", \"Age\", \"Fare\"]].values\n",
    "\n",
    "# Fit your first decision tree: my_tree_one\n",
    "my_tree_one = tree.DecisionTreeClassifier()\n",
    "start = time()\n",
    "my_tree_one = my_tree_one.fit(features_one, target)\n",
    "\n",
    "# Look at the importance and score of the included features\n",
    "print \"Our Decision Tree prediction took {:.2f} seconds.\".format(time() - start)\n",
    "print \"Importance:\\n\", my_tree_one.feature_importances_\n",
    "print \"Score:\\n\", my_tree_one.score(features_one, target)"
   ]
  },
  {
   "cell_type": "markdown",
   "metadata": {
    "deletable": true,
    "editable": true
   },
   "source": [
    "Looks like assenger __Fare__ has most significance in determining survival based on the model. Since we decalred the features to use (`features_one`), we can assume that the important features are assigned in the same order, but let's confirm that by mapping the feature name to it's importance."
   ]
  },
  {
   "cell_type": "code",
   "execution_count": null,
   "metadata": {
    "collapsed": false,
    "deletable": true,
    "editable": true
   },
   "outputs": [],
   "source": [
    "# List of feature names\n",
    "names = [\"Pclass\", \"Sex\", \"Age\", \"Fare\"]\n",
    "\n",
    "# Code coutesy of:\n",
    "# http://blog.datadive.net/selecting-good-features-part-iii-random-forests/\n",
    "print \"Features sorted by their score:\"\n",
    "print sorted(zip(map(lambda x: round(x, 4), my_tree_one.feature_importances_), names), \n",
    "             reverse=True)"
   ]
  },
  {
   "cell_type": "markdown",
   "metadata": {
    "deletable": true,
    "editable": true
   },
   "source": [
    "# Dealing with Overfitting\n",
    "When applying models to new data, one thing to pay special attention to is __[overfitting](https://en.wikipedia.org/wiki/Overfitting)__. when creating the decision tree above, the default arguments for `max_depth` and `min_samples_split` were set to `None`. This means that no limit on the depth of the tree was set. This is not necessary a good thing, as we are likely overfitting. This means that while our model describes the training data extremely well, it doesn't generalize to new data, which is frankly the point of prediction. \n",
    "\n",
    "One solution to address this is to make  a less complex model. In `DecisionTreeRegressor`, the depth of the model is defined by two parameters:\n",
    "- The `max_depth` parameter determines when the splitting up of the decision tree stops.\n",
    "- The `min_samples_split` parameter monitors the amount of observations in a bucket. If a certain threshold is not reached (e.g minimum 10 passengers) no further splitting can be done.\n",
    "\n",
    "By limiting the complexity of the decision tree we can increase its generality and thus its usefulness for better prediction. To test this theory we now include the Siblings or Spouses Aboard (`SibSp`), Parents/Children Aboard (`Parch`), and `Embarked` features in a new set of features and fit a  second tree (`my_tree_two`) with the new features, and control for the model compelexity by toggling the `max_depth` and `min_samples_split` arguments."
   ]
  },
  {
   "cell_type": "code",
   "execution_count": null,
   "metadata": {
    "collapsed": false,
    "deletable": true,
    "editable": true
   },
   "outputs": [],
   "source": [
    "# Create a new array with the added features: features_two\n",
    "target = train[\"Survived\"].values\n",
    "features_two = train[[\"Pclass\",\"Age\",\"Sex\",\"Fare\", \"SibSp\", \"Parch\", \"Embarked\"]].values\n",
    "\n",
    "# Control overfitting by setting \"max_depth\" to 10\n",
    "max_depth = 10\n",
    "\n",
    "# Control overfitting by setting \"min_samples_split\" to 5\n",
    "my_tree_two = tree.DecisionTreeClassifier(max_depth = 10, min_samples_split = 5, random_state = 1)\n",
    "\n",
    "# Create the my_tree_two model\n",
    "start = time()\n",
    "my_tree_two = my_tree_two.fit(features_two, target)\n",
    "\n",
    "#Print the score of the new decison tree\n",
    "print \"Our new Decision Tree prediction took {:.2f} seconds.\".format(time() - start)\n",
    "print \"Importance:\\n\", my_tree_two.feature_importances_\n",
    "print \"Score:\\n\", my_tree_two.score(features_two, target)"
   ]
  },
  {
   "cell_type": "markdown",
   "metadata": {
    "deletable": true,
    "editable": true
   },
   "source": [
    "Even though the scope of this tutorial doesn't include actually submitting the updated solution to Kaggle, we would see however that despite a lower `.score`, this new model predicts better then the fist one. \n",
    "\n",
    "# Feature Engineering\n",
    "One of the most complicated aspects of Data Science is trying various machine learning algorithms, dealing with over and under-fitting and tweaking parameters to find the best possible fit to new and unseen data. Part of the process fo tweaking paramaters isfeature engineering. This is the process of creatively engineering our own features by combining the different existing variables.\n",
    "\n",
    "While feature engineering is a discipline in itself, too broad to be covered here in detail, we will have a look at a simple example by creating our very own new predictive attribute: `family_size`. A valid assumption is that larger families need more time to get together on a sinking ship, and hence have lower probability of surviving. Family size is determined by the variables `SibSp` and `Parch`, which indicate the number of family members a certain passenger is traveling with. So when doing feature engineering, we add a new variable `family_size`, which is the sum of `SibSp` and `Parch` plus one (for the observation itself), to the test and train set. To engineer this new feature, we do the following:\n",
    "\n",
    "1. Create a \"fresh\" `train` set called `train_two` that differs from `train` only by having an extra column with the engineered variable `family_size`.\n",
    "2. Add the new engineered variable `family_size` in addition to `Pclass`, `Sex`, `Age`, `Fare`, `SibSp` and `Parch` to a new set,  `features_three`.\n",
    "3. Create a new decision tree as `my_tree_three` and fit the decision tree with the new feature set,  `features_three`.\n",
    "4. Find the score of the new decision tree."
   ]
  },
  {
   "cell_type": "code",
   "execution_count": null,
   "metadata": {
    "collapsed": false,
    "deletable": true,
    "editable": true
   },
   "outputs": [],
   "source": [
    "# Create train_two with the newly defined feature\n",
    "target = train[\"Survived\"].values\n",
    "train_two = train.copy()\n",
    "train_two[\"family_size\"] = train_two[\"SibSp\"] + train_two[\"Parch\"] + 1\n",
    "\n",
    "# Create a new feature set and add the new feature\n",
    "features_three = train_two[[\"Pclass\", \"Sex\", \"Age\", \"Fare\", \"SibSp\", \"Parch\", \"family_size\"]].values\n",
    "\n",
    "# Define the tree classifier, then fit the model\n",
    "my_tree_three = tree.DecisionTreeClassifier()\n",
    "start = time()\n",
    "my_tree_three = my_tree_three.fit(features_three, target)\n",
    "\n",
    "# Print the score of this decision tree\n",
    "print \"Our Decision Tree with `family_size` prediction took {:.2f} seconds.\".format(time() - start)\n",
    "print \"Importance:\\n\", my_tree_three.feature_importances_\n",
    "print \"Score:\\n\", my_tree_three.score(features_three, target)"
   ]
  },
  {
   "cell_type": "markdown",
   "metadata": {
    "deletable": true,
    "editable": true
   },
   "source": [
    "__Notice__ that this time the newly created variable is included in the model. \n",
    "# Prediction using Random Forest\n",
    "A detailed study of Random Forests is outside the scope of this tutorial. However, since it's an often used machine learning technique, we introduce a general overview in Python. The Random Forest technique handles the overfitting problem we saw with decision trees. It grows multiple (very deep) classification trees using the training set. At the time of prediction, each tree is used to come up with a prediction and every outcome is counted as a vote. For example, if we have trained $3$ trees with $2$ saying a passenger in the test set will survive and $1$ says he will not, the passenger will be classified as a survivor. This approach of overtraining trees, but having the majority's vote count as the actual classification decision, avoids overfitting.\n",
    "\n",
    "Building a random forest in Python looks is very similar to building a decision tree, with three key differences.\n",
    "1. A different class is used.\n",
    "2. A new argument is necessary.\n",
    "3. The necessary library from `scikit-learn` must be imported.\n",
    "    - Use the `RandomForestClassifier()` class instead of the `DecisionTreeClassifier()` class.\n",
    "    - `n_estimators` needs to be set when using the `RandomForestClassifier()` class. This argument allows us to set the number of trees we wish to plant and average over.\n",
    "\n",
    "The following exampple shows us how to build a Random Forest Classifier by dowing the following:\n",
    "1. Build the random forest with `n_estimators` set to 100.\n",
    "2. Fit your random forest model with inputs features_forest and target.\n",
    "3. Compute the classifier predictions on the selected test set features."
   ]
  },
  {
   "cell_type": "code",
   "execution_count": null,
   "metadata": {
    "collapsed": false,
    "deletable": true,
    "editable": true
   },
   "outputs": [],
   "source": [
    "# Import the `RandomForestClassifier`\n",
    "from sklearn.ensemble import RandomForestClassifier\n",
    "\n",
    "# Creat a list of the features. \n",
    "target = train[\"Survived\"].values\n",
    "forest_features = train[[\"Pclass\", \"Age\", \"Sex\", \"Fare\", \"SibSp\", \"Parch\", \"Embarked\"]].values\n",
    "\n",
    "# Building and fitting my_forest\n",
    "forest = RandomForestClassifier(max_depth = 10, min_samples_split=2, n_estimators = 100, random_state = 1)\n",
    "start = time()\n",
    "my_forest = forest.fit(forest_features, target)\n",
    "\n",
    "# Print the score of the fitted random forest\n",
    "print \"Our Random Forest prediction took {:.2f} seconds.\".format(time() - start)\n",
    "print \"Score:\\n\", my_forest.score(forest_features, target)"
   ]
  },
  {
   "cell_type": "markdown",
   "metadata": {
    "deletable": true,
    "editable": true
   },
   "source": [
    "# Model Comparison\n",
    "Recall that in the when using the Decision Tree models, we looked at the `.feature_importances_` attribute to see how each of the feature influenced the decision trees.  We can request the same attribute from the random forest as well and interpret the relevance of the included variables. Since the Random Forest aleviates the overfitting problem, it would be a good exercise to compare it to the Decision Tree model in some quick and easy way. For this, we can use the `.score()` method, which takes the features data and the target vector and computes mean accuracy of the model."
   ]
  },
  {
   "cell_type": "code",
   "execution_count": null,
   "metadata": {
    "collapsed": false,
    "deletable": true,
    "editable": true
   },
   "outputs": [],
   "source": [
    "# Final score comparison\n",
    "names = [\"Pclass\",\"Age\",\"Sex\",\"Fare\", \"SibSp\", \"Parch\", \"Embarked\"]\n",
    "print \"Decision Tree final score:\", my_tree_two.score(features_two, target)\n",
    "print \"Decision Tree features sorted by their score:\"\n",
    "print sorted(zip(map(lambda x: round(x, 4), my_tree_two.feature_importances_), names), \n",
    "             reverse=True)\n",
    "print \"\\n\"\n",
    "print \"Random Forest final score:\", my_forest.score(forest_features, target)\n",
    "print \"Random Forest features sorted by their score:\"\n",
    "print sorted(zip(map(lambda x: round(x, 4), my_forest.feature_importances_), names), \n",
    "             reverse=True)"
   ]
  },
  {
   "cell_type": "markdown",
   "metadata": {
    "deletable": true,
    "editable": true
   },
   "source": [
    "# Conclusion\n",
    "Based on our findings from the various models that have been run, we can determine which feature was of most importance, and for which model.\n",
    "\n",
    "__The most important feature was \"Sex\", but it was more significant for \"my_tree_two\" Decision Tree.__\n",
    "\n",
    "---\n",
    "\n",
    "# Ensemble Methods\n",
    "In an prediction task, it is important try and test multiple algorithms to find the best possible fit. In most cases it is not necessary or possible to test every single algorithm type against the data, a fare assesment may suffice, but it is a good practice to at least try achieve a better fit. That is why we introduced a different Machine Learning algorithm to the `DecisionTreeClassifier()` we were currently using. What we did in essence is introduce an Ensemble Method. The goal of ensemble methods is to combine the predictions of several base estimators built with a given learning algorithm in order to improve generalizability or robustness over a single estimator. In our case, we used the `RandomForestClassifier()` which built several (very deep) classification trees that when used for prediction, each tree is used to come up with a prediction and every outcome is counted as a vote. This is an example of an __averaging methods__. Here, the driving principle is to build several estimators independently and then to average their predictions. On average, the combined estimator is usually better than any of the single base estimator because its variance is reduced. This is evedent when comparing the score from both models above.\n",
    "\n",
    "One of the biggest issues with ensemble Methods is that they can be computationally exhaustive. The alternative is manually trying every possible variable combinations (since there is no easy way to know which parameters work best, other than trying out many different combinations) or parameter combinations (hyperparameters) to get the best model fit. Fortunately, the `scikit-learn` package includes the `GridSearchCV` and `RandomizedSearchCV` functions wich allows for the evaluation of each parameter setting independently, in parallel.\n",
    "\n",
    "The down-side to this is the fact that this is not scalable. The models above are executed on data in Pandas DataFrames. These DataFrames are memory resident, so unless the machine executing the models has sufficient memory or the data sets are small enough, the `GridSearchCV` and `RandomizedSearchCV` functions may not be helpful. Fortunately the team at Databrix has released the [`spark-sklearn`](http://spark-packages.org/package/databricks/spark-sklearn) package to allow us to execute these funcitons over a Spark cluster.\n",
    "\n",
    "The following example is based on the  [Auto-scaling scikit-learn with Spark](https://databricks.com/blog/2016/02/08/auto-scaling-scikit-learn-with-spark.html) example, but has been adapted to our Titanic example. The objective is to populate a \"grid\" of various model parameters and have `GridSearchCV` execute each set of parameters to determine the best score. The goal here is not necessarily to find a model with a better score but to illustrate the time it takes to search through the various model parameters to find the best one. The example has the following steps:\n",
    "\n",
    "1. Import the `GridSearchCV` library from `scikit-learn`.\n",
    "2. Create the function to report the top $3$ models, courtesy of [Databrix](http://go.databricks.com/hubfs/notebooks/Samples/Miscellaneous/blog_post_cv.html).\n",
    "3. Create the \"grid\" of parameters combnations to execute. Thjis is loosley based on the Databrix example.\n",
    "4. Fit the model with the \"grid\"of parameters."
   ]
  },
  {
   "cell_type": "code",
   "execution_count": null,
   "metadata": {
    "collapsed": false,
    "deletable": true,
    "editable": true,
    "scrolled": false
   },
   "outputs": [],
   "source": [
    "# Import necessary packages\n",
    "import warnings\n",
    "warnings.filterwarnings('ignore')\n",
    "from operator import itemgetter\n",
    "from sklearn import grid_search\n",
    "import pandas as pd\n",
    "\n",
    "# Databrix utility function to report top 3 best scores\n",
    "def report(grid_scores, n_top = 3):\n",
    "    top_scores = sorted(grid_scores, key = itemgetter(1), reverse = True)[:n_top]\n",
    "    for i, score in enumerate(top_scores):\n",
    "        print(\"Model with rank: {0}\".format(i + 1))\n",
    "        print(\"Mean validation score: {0:.3f} (std: {1:.3f})\".format(\n",
    "              score.mean_validation_score,\n",
    "              np.std(score.cv_validation_scores)))\n",
    "        print(\"Parameters: {0}\".format(score.parameters))\n",
    "        print(\"\")\n",
    "\n",
    "# Creat a list of the features. \n",
    "target = train[\"Survived\"].values\n",
    "forest_features = train[[\"Pclass\", \"Age\", \"Sex\", \"Fare\", \"SibSp\", \"Parch\", \"Embarked\"]].values\n",
    "\n",
    "# Add grid parameter code based on Databricks\n",
    "param_grid = {\"max_depth\": [3, 10, None],\n",
    "              \"min_samples_split\": [1.0, 2, 3, 10], \n",
    "              \"min_samples_leaf\": [1, 2, 3, 10], \n",
    "              \"bootstrap\": [True, False],\n",
    "              \"criterion\": [\"gini\", \"entropy\"],\n",
    "              \"n_estimators\": [10, 20, 40, 80, 160]}\n",
    "\n",
    "# Execute the grid search\n",
    "gs = grid_search.GridSearchCV(RandomForestClassifier(), param_grid = param_grid)\n",
    "start = time()\n",
    "gs.fit(forest_features, target)\n",
    "print(\"GridSearchCV took {:.2f} minutes for {:d} candidate settings.\".format((time() - start) / 60,\\\n",
    "                                                                             len(gs.grid_scores_)))\n",
    "report(gs.grid_scores_)"
   ]
  },
  {
   "cell_type": "markdown",
   "metadata": {
    "collapsed": false,
    "deletable": true,
    "editable": true,
    "scrolled": false
   },
   "source": [
    "---\n",
    "# Ensemble Methods at Scale\n",
    "As we can see, the `GridSearchCV` took __$10$__ minutes on a single machine and provided us with the top $3$ candidates and their settings to try. By applying these suggestions we can very effectivley find the best model as well as the optumum parameters to apply to achieve the best score. Next we aply the same proceedure to a Spark Cluster to parallelize the task across $5$ Spark Workers.\n",
    "\n",
    "## Provision EMR Cluster with AWS CLI\n",
    "```bash\n",
    "aws emr create-cluster --termination-protected --applications Name=Hadoop Name=Hive Name=Spark --ec2-attributes '{\"KeyName\":\"devenv-key\",\"InstanceProfile\":\"EMR_EC2_DefaultRole\",\"SubnetId\":\"subnet-39a22e5e\",\"EmrManagedSlaveSecurityGroup\":\"sg-86bb82fe\",\"EmrManagedMasterSecurityGroup\":\"sg-83bb82fb\"}' --release-label emr-5.4.0 --log-uri 's3n://chkrd/elasticmapreduce-logs/' --steps '[{\"Args\":[\"bash\",\"-c\",\"aws s3 cp s3://chkrd/artifacts/install_livy.sh /home/hadoop/; cd /home/hadoop/; chmod +x ./install_livy.sh; ./install_livy.sh\"],\"Type\":\"CUSTOM_JAR\",\"ActionOnFailure\":\"CONTINUE\",\"Jar\":\"command-runner.jar\",\"Properties\":\"\",\"Name\":\"Install and Configure Livy\"}]' --instance-groups '[{\"InstanceCount\":2,\"InstanceGroupType\":\"CORE\",\"InstanceType\":\"m3.xlarge\",\"Name\":\"Core - 2\"},{\"InstanceCount\":1,\"InstanceGroupType\":\"MASTER\",\"InstanceType\":\"m3.xlarge\",\"Name\":\"Master - 1\"}]' --auto-scaling-role EMR_AutoScaling_DefaultRole --bootstrap-actions '[{\"Path\":\"s3://chkrd/artifacts/emr_base_config.sh\",\"Name\":\"EMR Base Configuration\"}]' --service-role EMR_DefaultRole --enable-debugging --name 'Spark-as-a-Service' --scale-down-behavior TERMINATE_AT_INSTANCE_HOUR --region us-west-2\n",
    "```\n",
    "\n",
    "## View EMR Cluster Configuration\n",
    "\n",
    "#### List Clusters\n",
    "```\n",
    "!aws emr list-clusters | grep -i <name>\n",
    "```\n",
    "#### Describe Clusters\n",
    "```\n",
    "!aws emr describe-cluster --cluster-id <Cluster ID>\n",
    "```\n",
    "#### List Cluster Instances\n",
    "```\n",
    "!aws emr list-instances --cluster-id <Cluster ID>\n",
    "```"
   ]
  },
  {
   "cell_type": "code",
   "execution_count": null,
   "metadata": {
    "collapsed": false,
    "deletable": true,
    "editable": true
   },
   "outputs": [],
   "source": [
    "!aws emr describe-cluster --cluster-id "
   ]
  },
  {
   "cell_type": "code",
   "execution_count": null,
   "metadata": {
    "collapsed": false,
    "deletable": true,
    "editable": true
   },
   "outputs": [],
   "source": [
    "!aws emr list-instances --cluster-id "
   ]
  },
  {
   "cell_type": "markdown",
   "metadata": {
    "deletable": true,
    "editable": true
   },
   "source": [
    "## Load `sparkmagic` Jupyter Extension"
   ]
  },
  {
   "cell_type": "code",
   "execution_count": null,
   "metadata": {
    "collapsed": true,
    "deletable": true,
    "editable": true
   },
   "outputs": [],
   "source": [
    "%load_ext sparkmagic.magics"
   ]
  },
  {
   "cell_type": "markdown",
   "metadata": {
    "deletable": true,
    "editable": true
   },
   "source": [
    "## Configure EMR Endpoint\n",
    "```\n",
    "{\n",
    "\"executorMemory\": \"32g\",\n",
    "\"executorCores\": 11\n",
    "}\n",
    "```"
   ]
  },
  {
   "cell_type": "code",
   "execution_count": null,
   "metadata": {
    "collapsed": false,
    "deletable": true,
    "editable": true
   },
   "outputs": [],
   "source": [
    "%manage_spark"
   ]
  },
  {
   "cell_type": "markdown",
   "metadata": {
    "deletable": true,
    "editable": true
   },
   "source": [
    "## Ensamble Methods on Spark-as-a-Service"
   ]
  },
  {
   "cell_type": "code",
   "execution_count": null,
   "metadata": {
    "collapsed": false,
    "deletable": true,
    "editable": true
   },
   "outputs": [],
   "source": [
    "%%spark\n",
    "sc"
   ]
  },
  {
   "cell_type": "code",
   "execution_count": null,
   "metadata": {
    "collapsed": false,
    "deletable": true,
    "editable": true
   },
   "outputs": [],
   "source": [
    "%%spark\n",
    "sqlContext"
   ]
  },
  {
   "cell_type": "markdown",
   "metadata": {
    "deletable": true,
    "editable": true
   },
   "source": [
    "## Ensamble Methods using Spark-as-a-Service"
   ]
  },
  {
   "cell_type": "code",
   "execution_count": null,
   "metadata": {
    "collapsed": false,
    "deletable": true,
    "editable": true
   },
   "outputs": [],
   "source": [
    "%%spark\n",
    "# Import necessary packages\n",
    "import warnings\n",
    "warnings.filterwarnings('ignore')\n",
    "from operator import itemgetter\n",
    "from sklearn.model_selection import GridSearchCV\n",
    "from sklearn.ensemble import RandomForestClassifier\n",
    "from time import time\n",
    "import numpy as np\n",
    "from sklearn import tree\n",
    "import pandas as pd\n",
    "\n",
    "# Reload the train and test datasets to create two DataFrames\n",
    "train_url = \"http://s3.amazonaws.com/assets.datacamp.com/course/Kaggle/train.csv\"\n",
    "train = pd.read_csv(train_url)\n",
    "test_url = \"http://s3.amazonaws.com/assets.datacamp.com/course/Kaggle/test.csv\"\n",
    "test = pd.read_csv(test_url)\n",
    "\n",
    "# Preprocess the Data\n",
    "train[\"Sex\"][train[\"Sex\"] == \"male\"] = 0\n",
    "train[\"Sex\"][train[\"Sex\"] == \"female\"] = 1\n",
    "train[\"Embarked\"] = train[\"Embarked\"].fillna(\"S\")\n",
    "train[\"Age\"] = train[\"Age\"].fillna(train[\"Age\"].median())\n",
    "train[\"Embarked\"][train[\"Embarked\"] == \"S\"] = 0\n",
    "train[\"Embarked\"][train[\"Embarked\"] == \"C\"] = 1\n",
    "train[\"Embarked\"][train[\"Embarked\"] == \"Q\"] = 2\n",
    "\n",
    "# Databrix utility function to report top 3 best scores\n",
    "def report(grid_scores, n_top = 3):\n",
    "    top_scores = sorted(grid_scores, key = itemgetter(1), reverse = True)[:n_top]\n",
    "    for i, score in enumerate(top_scores):\n",
    "        print(\"Model with rank: {0}\".format(i + 1))\n",
    "        print(\"Mean validation score: {0:.3f} (std: {1:.3f})\".format(\n",
    "              score.mean_validation_score,\n",
    "              np.std(score.cv_validation_scores)))\n",
    "        print(\"Parameters: {0}\".format(score.parameters))\n",
    "        print(\"\")\n",
    "\n",
    "# Creat a list of the features. \n",
    "target = train[\"Survived\"].values\n",
    "forest_features = train[[\"Pclass\", \"Age\", \"Sex\", \"Fare\", \"SibSp\", \"Parch\", \"Embarked\"]].values\n",
    "\n",
    "# Add grid parameter code based on Databricks\n",
    "param_grid = {\"max_depth\": [3, 10, None],\n",
    "              \"min_samples_split\": [1.0, 2, 3, 10], \n",
    "              \"min_samples_leaf\": [1, 2, 3, 10], \n",
    "              \"bootstrap\": [True, False],\n",
    "              \"criterion\": [\"gini\", \"entropy\"],\n",
    "              \"n_estimators\": [10, 20, 40, 80, 160]}\n",
    "\n",
    "# Import grid search for Spark\n",
    "from spark_sklearn import GridSearchCV as SparkSearch\n",
    "\n",
    "# Execute the grid search on Spark\n",
    "Spark_gs = SparkSearch(sc, RandomForestClassifier(), param_grid = param_grid)\n",
    "start = time()\n",
    "\n",
    "Spark_gs.fit(forest_features, target)\n",
    "print(\"Spark GridSearchCV took {:.2f} seconds for {:d} candidate settings.\".format(time() - start, len(Spark_gs.grid_scores_)))\n",
    "report(Spark_gs.grid_scores_)"
   ]
  },
  {
   "cell_type": "markdown",
   "metadata": {},
   "source": [
    "By running the `GridSearchCV` on a cluster of $5$ Spark Nodes, we managed to execute the same ensemble task in __$16$__ seconds (__$29$__ on Vmware), thus demonstarting that distributing the various algorithms across multiple nodes certainly helps to narrow down the best fit without having to manually try multiple models and wasting unnecessary time.\n",
    "\n",
    "# Terminate Spark-as-a-Service\n",
    "#### Disable Termination Protection\n",
    "```\n",
    "aws emr modify-cluster-attributes --cluster-id <Cluster ID> --no-termination-protected\n",
    "```\n",
    "#### Terminate Cluster\n",
    "```\n",
    "aws emr terminate-clusters --cluster-ids <Cluster ID>\n",
    "```"
   ]
  },
  {
   "cell_type": "code",
   "execution_count": null,
   "metadata": {
    "collapsed": false
   },
   "outputs": [],
   "source": [
    "!aws emr modify-cluster-attributes --cluster-id  --no-termination-protected"
   ]
  },
  {
   "cell_type": "code",
   "execution_count": null,
   "metadata": {
    "collapsed": true
   },
   "outputs": [],
   "source": [
    "!aws emr terminate-clusters --cluster-ids "
   ]
  }
 ],
 "metadata": {
  "kernelspec": {
   "display_name": "Python 2",
   "language": "python",
   "name": "python2"
  },
  "language_info": {
   "codemirror_mode": {
    "name": "ipython",
    "version": 2
   },
   "file_extension": ".py",
   "mimetype": "text/x-python",
   "name": "python",
   "nbconvert_exporter": "python",
   "pygments_lexer": "ipython2",
   "version": "2.7.13"
  },
  "widgets": {
   "state": {
    "01457683c5bb4cab8132cf3f016ae3ad": {
     "views": []
    },
    "01ac68721c794db88a0be98811cf8ed5": {
     "views": []
    },
    "01c858751eb54789b39ce24b71fc9c22": {
     "views": []
    },
    "026ccc630a8f4f518c722b056c8e680c": {
     "views": []
    },
    "02c2b8f5dc52462b9424e111fe314189": {
     "views": []
    },
    "03262ec8b1fb4591ae35874868632c74": {
     "views": []
    },
    "035d0f2f3ef64c07b7c1a8d771082e34": {
     "views": []
    },
    "03b9812ad8a5456d89ef8fd1e2181d43": {
     "views": []
    },
    "03e696bcfa3f42c4be71e0bf82e071b7": {
     "views": []
    },
    "04326ea8291a49a6aa23115b8333bcdb": {
     "views": []
    },
    "04d2dd8bf25d4cd690606eb7d151dbda": {
     "views": []
    },
    "04d54291c6ca46e1b2920cf7e407c8b5": {
     "views": []
    },
    "04e102f4e9304bc09f2639098adc6e3f": {
     "views": []
    },
    "0501972b517347cbb76f8d247286f3bd": {
     "views": []
    },
    "0563a62baa834f1a9244fdfd3a0b1a5e": {
     "views": []
    },
    "059621c27970498ea0f7e48ca34c248f": {
     "views": []
    },
    "06ca268b25ab4c43801632a2cb74c633": {
     "views": []
    },
    "0754aada8bea4ee7a15fa8b0c0b249a6": {
     "views": []
    },
    "084b0deaf1994f2c9afbdc8610122fc5": {
     "views": []
    },
    "08f2c4b1a1e8462f931b654621e6023a": {
     "views": []
    },
    "08fce2b520314718a21ccb942e597dc0": {
     "views": []
    },
    "09386d59c9c24706869141d1143e2d16": {
     "views": []
    },
    "0949ee584f704a63ad983b48e78ba38a": {
     "views": []
    },
    "0a33060a9139471e9d327788e97741b6": {
     "views": []
    },
    "0a7280e1743c4308bcc5305dc2b51f27": {
     "views": []
    },
    "0b3411c9e3494528b8bf36a06d099b18": {
     "views": []
    },
    "0b3cdac6dcaf487cb3c49977c18ad73c": {
     "views": []
    },
    "0c4f183028424276ab39fcc5eae7e903": {
     "views": []
    },
    "0c65fd590f904a4a824e9f9e328af7b5": {
     "views": []
    },
    "0cce8759c09d47c48e7f70566234d6d5": {
     "views": []
    },
    "0d2e8dba16b04623b4d3a3b0ac973cdf": {
     "views": []
    },
    "0d64b712741d40b082b25c6f22d63d96": {
     "views": []
    },
    "0ddc27519bdf4f988202d10593b2d297": {
     "views": []
    },
    "0e01de3818434ae4a5052d748fed93f0": {
     "views": []
    },
    "0eb38cf9d8f644e3bb07ec50153b1df2": {
     "views": []
    },
    "0f4f7aec46954020970e5ffa5c604803": {
     "views": []
    },
    "0f885daf32e24614979d9fa0db51e784": {
     "views": []
    },
    "106e161e15dc4f1e818a347001f41c48": {
     "views": []
    },
    "11922062255e43c1a2228dc36ffd8ac8": {
     "views": []
    },
    "119c28e6d50a4e408e806855207cc0e6": {
     "views": []
    },
    "126dc6eb3ce345a3b3fb48534cb8b435": {
     "views": []
    },
    "127bbd726ba642268fc9762957eb38f0": {
     "views": []
    },
    "129683731e574068aa5ede96cecab3ff": {
     "views": []
    },
    "13571f7bfc0540059341d2dfe29507da": {
     "views": []
    },
    "1379b314a9c240a68599a367a5ac5415": {
     "views": []
    },
    "13d22cc4efd64968a3fe7043a184dffc": {
     "views": []
    },
    "1428dedb78fa4939b7443debd7629499": {
     "views": []
    },
    "14339aad6cde45679da603bd197830c4": {
     "views": []
    },
    "1494f218ec5e47368c6c18e6a4824e6a": {
     "views": []
    },
    "157c5d526b73461b8c6dcef93e056805": {
     "views": []
    },
    "16553e63e2474b4eb8749a7949c95001": {
     "views": []
    },
    "169bcc21593c4a0bad19ef37e1d60f57": {
     "views": []
    },
    "17094495e0154717a3bd7d035bb6b477": {
     "views": []
    },
    "1726cef10edf4ba08f0c931b46be33b9": {
     "views": []
    },
    "179b4e7052fd4977abed91d0e88df86e": {
     "views": []
    },
    "17a4d696b1574423af368f04edb8bd7c": {
     "views": []
    },
    "18fa156ee043428195307152d5744936": {
     "views": []
    },
    "1922792e24754b758bfc04c6b3d4dbd5": {
     "views": []
    },
    "195451df4d5b4f3aa18480d897aaf6e1": {
     "views": []
    },
    "1a487ca1344e455fb2b3b0001ced938d": {
     "views": []
    },
    "1a5f05f6f3734e9295811afc374aedfe": {
     "views": []
    },
    "1a78f348a0174e45873a8f76ceb64e01": {
     "views": []
    },
    "1ac17fdfa5e24805adac687d8d78e205": {
     "views": []
    },
    "1b503f0bc05c4a7399dc214de54dac97": {
     "views": []
    },
    "1b69a19c4ed9471dbe5d90b13087a95a": {
     "views": []
    },
    "1c3a9cb94de244a7b1902c56d2193b90": {
     "views": []
    },
    "1c88c78d27be410f9a9aa9c4b671d6c8": {
     "views": []
    },
    "1cd1c0b184724364b556847935c0c8ce": {
     "views": []
    },
    "1d2af77228744b0d9988387ba0e2311d": {
     "views": []
    },
    "1d96eb17e89649489faafb79d61564ca": {
     "views": []
    },
    "1db878465d3e4e188e04949bf995d426": {
     "views": []
    },
    "1e4e814fdfdb4b1fa937457e650136b5": {
     "views": []
    },
    "1e60775eeecb452c80231f27b2296ac3": {
     "views": []
    },
    "1e803011cee64459b7ff4ec2fe409ca4": {
     "views": []
    },
    "1e8e678ef3ab4951bb07e831af8c6f78": {
     "views": []
    },
    "1f5a4114a05e406883efe642214ef82e": {
     "views": []
    },
    "1f67b3d197cc4e9396f8c5532a75e407": {
     "views": []
    },
    "1f698c40ff494778b520d69eb3de3e9d": {
     "views": []
    },
    "1f83815c001a4d0bb8271bc233dc47be": {
     "views": []
    },
    "1f91c7c0dfd548f1bb309763bd29e807": {
     "views": []
    },
    "1fab9b64c9f044be9018f25ec993f433": {
     "views": []
    },
    "202a51d530f34db5986e66a0ddff98f9": {
     "views": []
    },
    "21697852d4d24954a812252224b045eb": {
     "views": []
    },
    "2182b49302f74d60a58bdfa2e63b9ea4": {
     "views": []
    },
    "21bd745ebb0c4f57a44b90c6f2095c2f": {
     "views": []
    },
    "21cb412146cf4faca9bd7c7163364a5a": {
     "views": []
    },
    "23550269cc4545118e954ebf488b0eed": {
     "views": []
    },
    "237bdd11c04240319ec634bac1d1cd4a": {
     "views": []
    },
    "245c38f95df94ed3881263680f2c2fb1": {
     "views": []
    },
    "24ac11db27764c7590e3a12be90d243d": {
     "views": []
    },
    "255a7623402740f3a1b8392b8e747f1a": {
     "views": []
    },
    "2572a5740c4148098eb3b7eeadd52791": {
     "views": []
    },
    "25b45a1151d04a01bd06f2046f9989aa": {
     "views": []
    },
    "25da2fcddf0f4128ba961e59564d732b": {
     "views": []
    },
    "26f259278c694ceabd831c54ae268cf9": {
     "views": []
    },
    "26f5762c810c4becba456c7b996b8b01": {
     "views": []
    },
    "27cd432a408f4760875bacc07044d199": {
     "views": []
    },
    "27f985b330b2428f8df2ad0ba38d32ff": {
     "views": []
    },
    "28a74ad6107949abb338e1ee1bbd2df1": {
     "views": []
    },
    "29bf1db3b39c44ec851622a2241026fc": {
     "views": []
    },
    "2a28a50d26c04def99b5297cff92c70b": {
     "views": []
    },
    "2a38e0d093d84a4d8ea2847959a7523d": {
     "views": []
    },
    "2a54cb814e2848e9950d60684febe5a7": {
     "views": []
    },
    "2a6169de04a040de8d752c52ac724a91": {
     "views": []
    },
    "2a667f5e77fe41bdb7c8c16473700ec9": {
     "views": []
    },
    "2bad32504c7a4bfab2e6ac140d9e6d88": {
     "views": []
    },
    "2c17bbaa8bea4e279c8f498de6bcbe0f": {
     "views": []
    },
    "2c1ff6ac3e6249799769a6fc07ec8f6f": {
     "views": []
    },
    "2cbce084ad9a4c988a9a9dce99a274b1": {
     "views": []
    },
    "2ced5360cccd46eab60af190a3687c76": {
     "views": []
    },
    "2d81cb84c19643af8ce3d0d297a4ab6f": {
     "views": []
    },
    "2d92a9e0972f45218b86b0c1114816c2": {
     "views": []
    },
    "2dfa505775314c4fb66741810445d71b": {
     "views": []
    },
    "2f218fa7cdfa4fb0b4229bdf03ea6fe6": {
     "views": []
    },
    "2f50e117c0ec453e828469e676a9ade4": {
     "views": []
    },
    "300aac1095354f2ba4b7718c8b0ef9fa": {
     "views": []
    },
    "304a9966d6fd4b4a965680fa6f1c4f38": {
     "views": []
    },
    "306def12d7934ec0a3d78811ccafa660": {
     "views": []
    },
    "3070e6da705447a89276a6f58a12e874": {
     "views": []
    },
    "30cc84c5476e4fb6b53dcd2f9efa7ce1": {
     "views": []
    },
    "3138afc3a9de4d8eafb666ddcb69c894": {
     "views": []
    },
    "313c47274e10483bae2973ec2c690d1a": {
     "views": []
    },
    "31bb50b7cde74de9abf05dbfe33d62d9": {
     "views": []
    },
    "31e770b79cb44ab08728057f623f4372": {
     "views": []
    },
    "31f35846e21a4eca9a9d2e335aa0e7d2": {
     "views": []
    },
    "3248ade41c2c40b4baf8eff7b2f14227": {
     "views": []
    },
    "325b400005154076a6b87e49f76f1645": {
     "views": []
    },
    "326454f5a15b4c37a9dfaa6e22579f95": {
     "views": []
    },
    "328fda36d70f4007bda7589824a1df86": {
     "views": []
    },
    "32be0d0a91a94b32b10b399327318c35": {
     "views": []
    },
    "32d881dd55004864951e24ff37352436": {
     "views": []
    },
    "3301c788917b4062ad583f3bbc934c15": {
     "views": []
    },
    "33971cab30a146aea1c9136aedc59081": {
     "views": []
    },
    "348c24bd0dec442d8190ec1f98482a81": {
     "views": []
    },
    "35ef29503bff444bb2aa73ada386030a": {
     "views": []
    },
    "36fb61a9cc3c4962b77e40ec42fb4348": {
     "views": []
    },
    "372ca3eb72e74d37b554c550f91b8f46": {
     "views": []
    },
    "379eba41267848ed9e614a4054ceef4f": {
     "views": []
    },
    "387d9f19fd1b4ffbb48666d3f0d7bd14": {
     "views": []
    },
    "39111c7045e440a3b43c13ca9e327842": {
     "views": []
    },
    "394d3776908e46edb36e9b27dffdb067": {
     "views": []
    },
    "3aabbe1a513d4f57b29d4eed3a655979": {
     "views": []
    },
    "3ad9932e5b5c469abf9e00c4a701fd7f": {
     "views": []
    },
    "3c1cacf6b1134690bf17692199518e4e": {
     "views": []
    },
    "3c3b782098e74b9dabaa54300cc0343d": {
     "views": []
    },
    "3c6ea3f81c7e44e6915de6a2591bc452": {
     "views": []
    },
    "3c89dd0d6bd942eba97b7c9a1d8210a2": {
     "views": []
    },
    "3ce4ba5b897d4e978f666bdc21369406": {
     "views": []
    },
    "3d0b8bdab9bd4ca8ba6cbdade49e7081": {
     "views": []
    },
    "3d1765c73ea44537b0c614b0a41dfa85": {
     "views": []
    },
    "3d4ff99536fc4b5e9089048dc49ca539": {
     "views": []
    },
    "3da85d85849747ceb1672f9b8a89959a": {
     "views": []
    },
    "3dab6374b08d40378c22646075777edd": {
     "views": []
    },
    "3ddf623cba4749bebc70bee5fb8cb368": {
     "views": []
    },
    "3e863c66538f4b89bb75af5262902712": {
     "views": []
    },
    "3ead75e90f084ade8b93903d183d2c2b": {
     "views": []
    },
    "3eaeef3e486d4997a37aae4ee1c465af": {
     "views": []
    },
    "3f22f16b1aec489596febe63f5033cbb": {
     "views": []
    },
    "3fd6941d8d6c4494952cca8209d7ad98": {
     "views": []
    },
    "402d9b926ea5430faa67d40e6cc41308": {
     "views": []
    },
    "4125d9558a75402c9a5264dad5f3ef65": {
     "views": []
    },
    "41c42652d45e43e6bc86c336df329713": {
     "views": []
    },
    "41cd20e262234396978b196cfad77184": {
     "views": []
    },
    "41e822ec0ec447789c57aa1aeac094e4": {
     "views": []
    },
    "41eac195e13c43b08cdd3f813c4d0d65": {
     "views": []
    },
    "42963735c358461cb42f6743fbe277ff": {
     "views": []
    },
    "42faabd495ab47918d6e5c235cde701f": {
     "views": []
    },
    "430634992dd14bd595f77bcebe5c9b9a": {
     "views": []
    },
    "430a2ff8e2c44189a83ba9ae7a9d7fcf": {
     "views": []
    },
    "434365d420e14a8394252efedc8f4ebe": {
     "views": []
    },
    "43e40fa7cfd7443a980ce675c4fd885d": {
     "views": []
    },
    "44ca4da9d9e340a9b711f1c8536b5b3a": {
     "views": []
    },
    "455e0e1806584415be00c5cfc308806f": {
     "views": []
    },
    "45832a60b2fe4797a544950c0c9cf570": {
     "views": []
    },
    "460835659a0744fab8be90e8d5545e4d": {
     "views": []
    },
    "46e6c9e73e3f4254a51357e29ca88fb5": {
     "views": []
    },
    "476b559202b046b5a0d7944344c7f504": {
     "views": []
    },
    "476e25ca699845b78f81372b1d8fc41b": {
     "views": []
    },
    "47768a37fdbb40b48f2c9ea7e295f261": {
     "views": []
    },
    "4788207eb0184a2890e39339e7853d4f": {
     "views": []
    },
    "4819ec81321242ad86e3eb9fbd0dc55f": {
     "views": []
    },
    "487b05c548964910968f762e631dccbe": {
     "views": []
    },
    "48cd83170c61424998ac0ac639cc73c0": {
     "views": []
    },
    "48eab09f3d684716b02a5f7ede41b618": {
     "views": []
    },
    "491989608af345af8d3d2f47a1486147": {
     "views": []
    },
    "49bc1fc373b04b559e3d6d059238a741": {
     "views": []
    },
    "49cedbd60e14413d981cd16e9241f160": {
     "views": []
    },
    "4a4bd9e79e52443db7d214a9b8f89f9c": {
     "views": []
    },
    "4a6ba46ec58e42dfaf8be22fd262c107": {
     "views": []
    },
    "4ab9459f4c6d487d80c515e02c261e1e": {
     "views": []
    },
    "4bbbc10b3022441ca53f0a2563138ee7": {
     "views": []
    },
    "4c0839754dce4c39b3d99293ad5a42cd": {
     "views": []
    },
    "4c6841db374746f08444c2c2556eba17": {
     "views": []
    },
    "4d02e9e3aca74d39b967f3bc628e85cd": {
     "views": []
    },
    "4d5ccecc201d4f1facef202a58d4aea8": {
     "views": []
    },
    "4d726ea937c549129a4064f4074763d3": {
     "views": []
    },
    "4d8a1544363d469384aeaa0b99d1b047": {
     "views": []
    },
    "4d9a814d868d47a7b29be6c6e35dc9db": {
     "views": []
    },
    "4e0e44c614ec4a2ba21a7c25c61c23e1": {
     "views": []
    },
    "4e13bd52a8c248b39b64948eb5e993ae": {
     "views": []
    },
    "4ea7571a760d4b63a272c000cd328af7": {
     "views": []
    },
    "4eb8ef783c6548279ea05543cc619caf": {
     "views": []
    },
    "4f80b35a1897447fa15adf0c3deb184e": {
     "views": []
    },
    "50022401c13641958dbeb55db502a808": {
     "views": []
    },
    "50198172b72a45bebe46dc89a66a759c": {
     "views": []
    },
    "50e0d36b441442bd83dcf1bdac663541": {
     "views": []
    },
    "5103860e854a4347bb6ff46cdb2c8691": {
     "views": []
    },
    "518513f536c942dea30e481a99bb5718": {
     "views": []
    },
    "51c8efef7c494a09986ea688f5e9e377": {
     "views": []
    },
    "5250bfc4212347a8a2a5d233ea6007cd": {
     "views": []
    },
    "526461bb10a8491da5d9c1e5324d04f1": {
     "views": []
    },
    "53058c763ecf49d685cbc4a6cd8da2a1": {
     "views": []
    },
    "5360fdf8f50547f8bbc47d49f47a1dfc": {
     "views": []
    },
    "53acb6a12ca14224bd677ce3eacd072b": {
     "views": []
    },
    "53bdf49bcb674faa96487f7a27bbde0f": {
     "views": []
    },
    "53eea773c008476980e32c1b6f220fe8": {
     "views": []
    },
    "54066542507e429b80e41e6684ba7fdf": {
     "views": []
    },
    "541a1e988228430f8799e1781cf6b4fe": {
     "views": []
    },
    "548ee91bf8594997875377e72a65f96c": {
     "views": []
    },
    "552f53ebdf1041849a13b9a4b2c6aab2": {
     "views": []
    },
    "55725d9e582f43a8bd6801b2353b5378": {
     "views": []
    },
    "55db7e75c13b4a8a8c5075efb8e6abc6": {
     "views": []
    },
    "5645662a29b3417b85c2c9a94f7321c7": {
     "views": []
    },
    "565f2fd6d1c54e6aa7a6af1969391db4": {
     "views": []
    },
    "566432216e944add9ff3c59176851a8b": {
     "views": []
    },
    "56ddc79727464fd79663483494c4a0d5": {
     "views": []
    },
    "56e71ca22faa47a69b26beee3c43240e": {
     "views": []
    },
    "58046bdfb8ad45aeb7fbee0aeb6e8659": {
     "views": []
    },
    "58f4aa9638c2475895a9b3ea70555581": {
     "views": []
    },
    "595401a92e864a86a7a494ee78a4da7a": {
     "views": []
    },
    "5997bb871c114d718317ab3b6eaceca5": {
     "views": []
    },
    "5a8b60e7af7146078440e66c98b1a6a0": {
     "views": []
    },
    "5b2a180e0dd54c5cae9289a6de4842f5": {
     "views": []
    },
    "5b3a9dcda10a421a99a2ec15896eb9b7": {
     "views": []
    },
    "5c2af18608e74dfcbd0c5117527c6b81": {
     "views": []
    },
    "5c6b3dd034ee486db32a05ebac754522": {
     "views": []
    },
    "5d80fb7877d04e0da69b0e0405c31daf": {
     "views": []
    },
    "5d8fef5d8d4b499b96af9601f1e5ecb8": {
     "views": []
    },
    "5dbe348e1e2f4a528f18272f472a84a7": {
     "views": []
    },
    "5e5e29c6b70d4810a43590f8a156fff1": {
     "views": []
    },
    "5e94af8147a041e49fa1afeb713ca97b": {
     "views": []
    },
    "5f0f2c590c4e45118e579f790b9ff7cc": {
     "views": []
    },
    "5f1ad58b0df24a0cb90a45e6071f7fcc": {
     "views": []
    },
    "5f722a47ee054a25a1a9bd4ab354a276": {
     "views": []
    },
    "5f9018d5ca46417883d7bc839d18d6d8": {
     "views": []
    },
    "6035d7ac89a3433d9eb8a6e61147f30d": {
     "views": []
    },
    "605b7067081742cc89f69f6a7e5af10d": {
     "views": []
    },
    "606fd6af52b044c896ce7cb31c924e97": {
     "views": []
    },
    "60d36e7e63544fdaa237ae8f8990c854": {
     "views": []
    },
    "61fb016fca55442cb4ab2f49f0f5ad58": {
     "views": []
    },
    "6202d0158f764cf69273ab5275f1c607": {
     "views": []
    },
    "623e9ff1a102401fa6c65fb6ac41a802": {
     "views": []
    },
    "62ccacfa78a04e47a05a7eaaadf4e802": {
     "views": []
    },
    "63f780ca693b4362983038a753b4cd64": {
     "views": []
    },
    "64ca1e2f81ea418c9e95550084e84cb4": {
     "views": []
    },
    "66566664a6f24df099bd8a5b8dff9455": {
     "views": []
    },
    "66a2ed2e07504ac391eac425a551886d": {
     "views": []
    },
    "66b7201d428b4e3e977b4cb8f157e4d0": {
     "views": []
    },
    "66d7866db3d0445eba9dc76772494873": {
     "views": []
    },
    "671db512329246aaaff31b32bbdb235f": {
     "views": []
    },
    "67315995668540febf487411d8c6f7de": {
     "views": []
    },
    "67bded750579406aa00726da6d312037": {
     "views": []
    },
    "692305ca070b43c2b2bb9b1c2512f60e": {
     "views": []
    },
    "69c25377ddfe40fb8f80fafedc4b3c2e": {
     "views": []
    },
    "6a294bd7dbf04137804d946d351918c9": {
     "views": []
    },
    "6b036d9d05aa46758826988efde135ef": {
     "views": []
    },
    "6b5570221d614521b9807fd08d398d68": {
     "views": []
    },
    "6bea492567334bb1bd13e72546507e6e": {
     "views": []
    },
    "6c129084efdb440d9524c2f5ff410c84": {
     "views": []
    },
    "6c881b8d7c924815b42ed100d9f5fa8f": {
     "views": []
    },
    "6cfa7643158a4aefbfbe2e15aeea31b3": {
     "views": []
    },
    "6d3828be63fb439587053863cdda9fd3": {
     "views": []
    },
    "6d38340cf4214a7aa0172e66c93f93b3": {
     "views": []
    },
    "6d425828e7404b6ea83757a02d2e9aec": {
     "views": []
    },
    "6d7bd735e78f49b493bada030ddc9c1a": {
     "views": []
    },
    "6defc95947de442db9d227b50a684bcb": {
     "views": []
    },
    "6e33a1e88b2c4a57819c6110a7229198": {
     "views": []
    },
    "6e6a6f94d4e84511ad76e4f83ecff0bd": {
     "views": []
    },
    "6e9d6393fd3f48f4ad65a5ebd9ba63ed": {
     "views": []
    },
    "6ebfde8cf3364b71b017c176a6d52ad7": {
     "views": []
    },
    "6ed5630827ad45f88f77505a18412d05": {
     "views": []
    },
    "6f5124d657334fae8e66bd5d88159e54": {
     "views": []
    },
    "705c1d21133b4e73bab875cd65403d51": {
     "views": []
    },
    "7067ba2b500444d0818bc4a6edad4ef0": {
     "views": []
    },
    "709f9fdb4a4d4a07b90c020026ab5105": {
     "views": []
    },
    "70b4dd9bb77145cabcbeda17a1f826f9": {
     "views": []
    },
    "7106ae7b1c8c4219b2f7fdb83486462b": {
     "views": []
    },
    "7171280fb5704bf4977baad98f019232": {
     "views": []
    },
    "7266ffaaa5264a7cba3cf1c46d63be63": {
     "views": []
    },
    "73e24b3bcc6b4384af37d1fa1095eee6": {
     "views": []
    },
    "743476dda4e44a39a8f017d47f3d2b63": {
     "views": []
    },
    "7460d60e55834a1fb4d2147e97d78560": {
     "views": []
    },
    "7565f96206f748a9b292f94e9330e51a": {
     "views": []
    },
    "7599bcc2634b4b249ebf01a9981b3764": {
     "views": []
    },
    "75b413c7ffa241ea94deadf7b5d8d7e5": {
     "views": []
    },
    "7660062bb42c4ef9b920710cad4bc453": {
     "views": []
    },
    "77e20f78ad8a49c7a8839bc6fad1c1af": {
     "views": []
    },
    "782391a9c3674286a6c7afd867ef8556": {
     "views": []
    },
    "79068121c34e44a29f0d2aea1c2447b7": {
     "views": []
    },
    "7920e40e851b4e3baa4c2f6f2faa9411": {
     "views": []
    },
    "7a6a68e44bb949caa0fa66a1715b202b": {
     "views": []
    },
    "7aef319e7eb94b93b9cd6b285c597e1f": {
     "views": []
    },
    "7af42292def34cb49ddba4192eda2faf": {
     "views": []
    },
    "7bb49e887da94c6f96a934f6aab84fb2": {
     "views": []
    },
    "7c06b66344814419b78474486a702508": {
     "views": [
      {
       "cell_index": 48
      }
     ]
    },
    "7c1a5ac800824b258a19bce0da42220f": {
     "views": []
    },
    "7c40b0eb09d34afe9d0de171ac0d3e6d": {
     "views": []
    },
    "7ca9ed77a72a425591c93b06a16a1021": {
     "views": []
    },
    "7cc72fe1349c449981de45351f23a471": {
     "views": []
    },
    "7cf2e56ab3f540e0bfe40a7d13177971": {
     "views": []
    },
    "7cf397fc51894d938bc50afe556b540c": {
     "views": []
    },
    "7d81d82f47cc43a689dbe23bb6f1c635": {
     "views": []
    },
    "7dc2ce25ad174641a32e24f40ad58667": {
     "views": []
    },
    "7e28b077ceee4b4eb153834e50ecfdb7": {
     "views": []
    },
    "7e47127d0c7d452196d319ffb4d51539": {
     "views": []
    },
    "7e573fc5f23448b8a5bb57c687fc99e5": {
     "views": []
    },
    "7ec021862dda4adbafb8050d2d5e252b": {
     "views": []
    },
    "7f4a4519b43d44078b08713a3a4a7cfb": {
     "views": []
    },
    "7f79b19954154b3d9d7baf3a61a44beb": {
     "views": []
    },
    "7fd43d4165ac45a8aa7a40410c05c57b": {
     "views": []
    },
    "8019f264e7c9487aafdb752bf98ead19": {
     "views": []
    },
    "80413c1538154dd099e7343dfff13046": {
     "views": []
    },
    "80b9125b872f4a9dab5d75e671f1ee3b": {
     "views": []
    },
    "814dc1738eee4222a7f57ee70a3f801d": {
     "views": []
    },
    "8184585de9d646aea915e782f700d254": {
     "views": []
    },
    "81d5d0754ab447cdbebb971a8721578a": {
     "views": []
    },
    "820b8cf8eecb4c1da9972897f8c1f6e5": {
     "views": []
    },
    "8240282306724de4a2d0dcfc0d0edaec": {
     "views": []
    },
    "827fe1592351431e89ff1710251a0ae9": {
     "views": []
    },
    "839f343ebc9f47d1a695462d2ca3913d": {
     "views": []
    },
    "854826b8ff6c48c282a1f76990cd0860": {
     "views": []
    },
    "859392c1568c461c8d15d4461436ccc6": {
     "views": []
    },
    "8651d097a02c4144bbf4020863e5a955": {
     "views": []
    },
    "86846b04bfa54c0280943731eab39531": {
     "views": []
    },
    "87a29db9373b4332883f8624f41e94b7": {
     "views": []
    },
    "87b94e34496f4611a00dba4bacf5807b": {
     "views": []
    },
    "88a43d5c80e145c796a2087e8b667400": {
     "views": []
    },
    "89040515d5f44d5d8a50c3856a44166a": {
     "views": []
    },
    "8932269f3ca3414dab580a8e161621ab": {
     "views": []
    },
    "8977dc5afebb4427b9967aa5064ba97a": {
     "views": []
    },
    "89b490ff4d674b829d5b2d955381360a": {
     "views": []
    },
    "89e1f6c6be1349a7b3c889693c0ff1f2": {
     "views": []
    },
    "89ff7313c07148429d55a3fd84efaaaf": {
     "views": []
    },
    "8a0722dd230b43178f3bd51f3ea32879": {
     "views": []
    },
    "8a13752179234bf0b844e6ea74f1755c": {
     "views": []
    },
    "8a24f55447164cb39b569ee68a26a769": {
     "views": []
    },
    "8a6fde9d774849bfa58eaf4eb439a6b1": {
     "views": []
    },
    "8a7da490b22246d08b726d5093dc78c5": {
     "views": []
    },
    "8ab539d9789144b196c820c12b2281b7": {
     "views": []
    },
    "8af5120ab563461db63af2e648ba5dd8": {
     "views": []
    },
    "8b2859497e3045feba87c8f71157637a": {
     "views": []
    },
    "8bbd5c3436ed4ac49ddfa8f69b107e63": {
     "views": []
    },
    "8c3879f7c8744f509a34617a51d07de2": {
     "views": []
    },
    "8c4bb8c2dabd4daa8e5601ec642ec813": {
     "views": []
    },
    "8d8bffd6f16d45a982a49359b1864fb7": {
     "views": []
    },
    "8e1ea9adf80a45708e48208793ac5a54": {
     "views": []
    },
    "8e62e2897c41415a9e9065ee3d60c596": {
     "views": []
    },
    "8ef9b873deca433abdbd7c6880035196": {
     "views": []
    },
    "8f056ca1c5634c90890005ac33f627b8": {
     "views": []
    },
    "8f1c37615b2945ab96ae2045165142fb": {
     "views": []
    },
    "8f1ea927d15b42f2ba2bb9e66ddbda9d": {
     "views": []
    },
    "8f23b316bfc44e2f8b2a7870858352ad": {
     "views": []
    },
    "8f27bfce378c412bb3350c362d49f274": {
     "views": []
    },
    "8f47410ca7a74e6c832e2dfe551e6d00": {
     "views": []
    },
    "8f74ceb6a043458ca327197f157de91f": {
     "views": []
    },
    "8fa31c96217b4cc28850a34c13f5b9dd": {
     "views": []
    },
    "902e36120bf84dcf8101c7f1e4ecabe9": {
     "views": []
    },
    "906db90cbcb4474eb43f9a86cfe90ed7": {
     "views": []
    },
    "90719620e22a4a4a9d5ea9edb9707a4d": {
     "views": []
    },
    "907b73f7ec48431f96ef05768e038431": {
     "views": []
    },
    "90e3c5b6630a47fbac2ae07b4fc4a82b": {
     "views": []
    },
    "918027ba65e84034a95a827219eb01de": {
     "views": []
    },
    "9328992b57014a0b80dbbcec9dae15a7": {
     "views": []
    },
    "93b13ee839a143238c0438da091f1448": {
     "views": []
    },
    "93cd4dbcea0648ca98a2974fe68f93b7": {
     "views": []
    },
    "93e87c1ef15348e8b7b4954a1b47853a": {
     "views": []
    },
    "949e1622e30e4a4abbcd579affed0772": {
     "views": []
    },
    "94ac0759edd64170a90ed278b575af77": {
     "views": []
    },
    "950565215d574c3780afc979b22380a7": {
     "views": []
    },
    "9714d804fe7742bb96fbb65e2d4b3fd9": {
     "views": []
    },
    "9772ab8db61242d08a28fb60b8a531ce": {
     "views": []
    },
    "97edf9e4159f4b96838cec54dcd6caa3": {
     "views": []
    },
    "980b92d91314483a92f4c9ec3e1d82b6": {
     "views": []
    },
    "98304ee1723b4064b2c9a5203e801d95": {
     "views": []
    },
    "98bd43685e31457c9601c3cdcd2da5ed": {
     "views": []
    },
    "9921546486ae494ca7f399cccb7f46d2": {
     "views": []
    },
    "995c19764e8747a38dde32ddb61c4e5c": {
     "views": []
    },
    "9a18b85794ba44eca88a308328d0e645": {
     "views": []
    },
    "9ab3dd853c3d4fbba574540dd684f138": {
     "views": []
    },
    "9afa2d1c5a704361b42b5f377e684bee": {
     "views": []
    },
    "9b575920d6b4416599e9739f561841e1": {
     "views": []
    },
    "9bbfc6a43cfe479a805755acb5cc41ce": {
     "views": []
    },
    "9c89f8f2f9b54c4da740c89ad6ed34d8": {
     "views": []
    },
    "9ca890b2921749c8a7727a636c77fe87": {
     "views": []
    },
    "9ccac0724cbc48c58f6e806b03198dd7": {
     "views": []
    },
    "9d97edd8c04d4afebdab7033e26707a2": {
     "views": []
    },
    "9e6b899e1b2e48f2a047dee30ba6a3e1": {
     "views": []
    },
    "9e8c00d5dc04401bb60f25d483064d46": {
     "views": []
    },
    "9f0d6201a90042d6af44778b3cfb5f21": {
     "views": []
    },
    "9f24d85727594941a8154ec8c7f40e60": {
     "views": []
    },
    "9f5853aa57e6442a86fbda632cc663a3": {
     "views": []
    },
    "9f83f4e5f3fe48ffa5f2836f678f7711": {
     "views": []
    },
    "a0036eec831a4dc3bd8027a580c4af72": {
     "views": []
    },
    "a03775d6e2364ddebafcfa51105b460d": {
     "views": []
    },
    "a05244282bcb4d58b17ef02a5b4faab6": {
     "views": []
    },
    "a0a0f0f0bfe14fd5b9aeef9cefc5ac1f": {
     "views": []
    },
    "a11a902e33944de29e512576341b227d": {
     "views": []
    },
    "a12a3397bd9e46da87e5e61c6523df94": {
     "views": []
    },
    "a131654e58154a18ace4a35814e4a854": {
     "views": []
    },
    "a13d91e63e8a4a58a87f11264b86c83b": {
     "views": []
    },
    "a1613ee0cdf14a1a8e39ad1a773228f5": {
     "views": []
    },
    "a26d25818572427aaabf9667ceca6315": {
     "views": []
    },
    "a2fe73d2dc93467daa94e89c11cd8c95": {
     "views": []
    },
    "a388c31f85914e4988541421295fb7b9": {
     "views": []
    },
    "a3af00c245364d10a6afdf84b40bdd78": {
     "views": []
    },
    "a3dd09ccae784e4d89d6bead5f09cded": {
     "views": []
    },
    "a449b897f01e46c79d8e3657aa5e1fe0": {
     "views": []
    },
    "a4f5bcb82db4411ca0a95f928e3dc35e": {
     "views": []
    },
    "a5ee91c84ed84122bbc223c1caf0feed": {
     "views": []
    },
    "a61fc95916f74c33956ba4eccc29e446": {
     "views": []
    },
    "a66bffceadb848df93aecec9688db38b": {
     "views": []
    },
    "a68502a71c5c406e87f3d3b797833b2d": {
     "views": []
    },
    "a6dca64998484f6ba452df89166dcf04": {
     "views": []
    },
    "a7e6efa0268a432c8d1d82cdb737b130": {
     "views": []
    },
    "a83b3a23d04b4570917744cb4957ce5c": {
     "views": []
    },
    "a8ce831b39d44514963808034bc6fe6d": {
     "views": []
    },
    "a9014f1efd1a49d596900769033cd05f": {
     "views": []
    },
    "a9726725558045a2bc0117687b65ad08": {
     "views": []
    },
    "a98b4567e5c04d32adaa789854d15809": {
     "views": []
    },
    "aa06d874ac7a4d499efd01ca25dbf424": {
     "views": []
    },
    "ab1b5c9938244a938b6f3633c6081694": {
     "views": []
    },
    "ab6233093dba4e20ab27c65fa9f8da26": {
     "views": []
    },
    "ac90a1b610484776a11d2dcdef582c4b": {
     "views": []
    },
    "acba987bd2634ff0a724e67adf842e6a": {
     "views": []
    },
    "acbd53b86e244aeda29039d58c382905": {
     "views": []
    },
    "acf4a4cc45cb4777bb649ce0143b0ed1": {
     "views": []
    },
    "acf6831446ed4e45acb437a87dcec471": {
     "views": []
    },
    "ad19cb9a48e54743a8a804f8c4da7a1c": {
     "views": []
    },
    "ad45513b7e7f476087f3f0da9c650c0b": {
     "views": []
    },
    "adb9b62a22084a1392eaa5f76bcc7083": {
     "views": []
    },
    "ae2c266888cb4362a17bba24a850b11e": {
     "views": []
    },
    "aee88ade5b3b4d528ffc72fc2695248a": {
     "views": []
    },
    "af3ccb2b609743e29b3dc2e84344d6e5": {
     "views": []
    },
    "afbbcb25b1124f1c86b1098fd33960ab": {
     "views": []
    },
    "b119de82fe914bd1a41a9cbccc242cb0": {
     "views": []
    },
    "b1c942e4049a40f58287708fffc26203": {
     "views": []
    },
    "b2a543c594254bdcad8f8d8db74576b1": {
     "views": []
    },
    "b3119b39d77049efa01ac6db83a953f3": {
     "views": []
    },
    "b3160a546c054914a4c25ba794e1c48c": {
     "views": []
    },
    "b3303d8a43494ad587a3a6fe8321ef55": {
     "views": []
    },
    "b34d410fb18a494e9c64b5fd6f19fd68": {
     "views": []
    },
    "b395cf446870417db969993e0986effc": {
     "views": []
    },
    "b3a0f3c0be784d528039a96f73fb6405": {
     "views": []
    },
    "b3e255c2d174492093e2fc1fad549e83": {
     "views": []
    },
    "b4009b253fe748ea93085182da6a7f7c": {
     "views": []
    },
    "b4291fb78aa340848bd26902026e29e2": {
     "views": []
    },
    "b4a5d048778a4d42a9066e34c929ee17": {
     "views": []
    },
    "b4cc4bba2d1045159de76459d442daa6": {
     "views": []
    },
    "b4eab91640404a859578e207ba129b04": {
     "views": []
    },
    "b548c819671e4a2eb6f1c31e2ac32dd5": {
     "views": []
    },
    "b563196c40914c138b62573b49012cbf": {
     "views": []
    },
    "b56807f7a53a4f7588ca6bff6754ab79": {
     "views": []
    },
    "b5df37359e314b3889636272d18c1e4f": {
     "views": []
    },
    "b66f2271a82b49d6ac0b737b3822f3aa": {
     "views": []
    },
    "b8010e938a2b46f691c983586c8952a1": {
     "views": []
    },
    "b8aeb661656c4b9dac38f6dcca4143f3": {
     "views": []
    },
    "b94958e1aa494079909d1f1f6f2fb94d": {
     "views": []
    },
    "b95c381efb284ec18d3bd53a4768751a": {
     "views": []
    },
    "b96d6ab54c6b4ca782243e00f6f794e3": {
     "views": []
    },
    "bb3f63dace3843f984727e484d8397e3": {
     "views": []
    },
    "bb5a5b7bfa1443549b936387ef17be91": {
     "views": []
    },
    "bbaa14141afe4f3e8a2fc30a01ae2420": {
     "views": []
    },
    "bc4134f67e0b4d9a9f69c0b548763cf2": {
     "views": []
    },
    "bc4a610d16374630b8a073df203f2b26": {
     "views": []
    },
    "bc8bc80b3d5446439633ff5ebc4cd89c": {
     "views": []
    },
    "bc93e39815c44d0a94a99ef67bf6fee9": {
     "views": []
    },
    "bcb206cab4484cfa9f3268a1622e0bf2": {
     "views": []
    },
    "bcd605c658ea4f1b96d15cf5f444b721": {
     "views": []
    },
    "bd317852741a4d77a3c226a49dc756ff": {
     "views": []
    },
    "bd4ce197f11f486ba58d797c594637ce": {
     "views": []
    },
    "bda21fb9d3e744989e0826aa4ff0c249": {
     "views": []
    },
    "be61bfe491214793b587aef137db565b": {
     "views": []
    },
    "bf508f96647d438f958a2525008c55ae": {
     "views": []
    },
    "bf6d12c2a7114ca8adab9dfb08fe6787": {
     "views": []
    },
    "bf9e5daf2049433dbcabd02263e1a271": {
     "views": []
    },
    "bff5eabc853540518b44bc82c8c3f1e3": {
     "views": []
    },
    "c0c6f672b76648519d60fe376d5c0867": {
     "views": []
    },
    "c0d9728cd71441469272044a56438a1f": {
     "views": []
    },
    "c123503dd08a4654a6dd51eaca4370c4": {
     "views": []
    },
    "c1349100b45643c7947353eacd157604": {
     "views": []
    },
    "c16bdab25a794fdba1dd0bd55d528740": {
     "views": []
    },
    "c16d7d79a7f54ea49484ccdd88265b21": {
     "views": []
    },
    "c2c6ca6afce9474987ff54d6b4a12145": {
     "views": []
    },
    "c434bc0f0aa94f78a90d01e570d36eba": {
     "views": []
    },
    "c47da738606a4863af1fa5d60b330aed": {
     "views": []
    },
    "c66d226d5b794f0b994ee722a44e3ac4": {
     "views": []
    },
    "c6e10769157f4f809654e86f0a10b08f": {
     "views": []
    },
    "c72adfcef0334829a744e9e25df54b51": {
     "views": []
    },
    "c78955c5d06d4519aefd673aa2452367": {
     "views": []
    },
    "c827f33392d54dfcb49e6920ff2bfb48": {
     "views": []
    },
    "c864b778cb2143bb883c061250a464db": {
     "views": []
    },
    "c87aa1985e0b4f3ba06356d1f0740153": {
     "views": []
    },
    "c8e0d95988a54c3796aa9248b8a13d7d": {
     "views": []
    },
    "c949da37176b40e685492f6fb41c9754": {
     "views": []
    },
    "c956f594d06b4ebba19ea2fa2a42a352": {
     "views": []
    },
    "c9780b2a22d94493a0260aef2a1f519d": {
     "views": []
    },
    "c9e7eaec6b2f44e789bf41d65d6e5d0d": {
     "views": []
    },
    "ca62ba6a2b354e4e92ad0a87c42799d3": {
     "views": []
    },
    "ca93c15ca0d84eb5b9e803b3207667e3": {
     "views": []
    },
    "cabd2e2c02194a3d8f1760cd5a74a277": {
     "views": []
    },
    "cb4c510f48f04d5f8e87fc09ab0dcf3a": {
     "views": []
    },
    "cb9949856152474fbb75854f6146900a": {
     "views": []
    },
    "ccbdc155f0d2428aaa2a959119c8cd65": {
     "views": []
    },
    "cd6f7405ea6f4721bb1d2e2d1842a43b": {
     "views": []
    },
    "cd9368133fc742c2b00fe1f87eb049c1": {
     "views": []
    },
    "cdd0563663f44ddaa45edb45577562ac": {
     "views": []
    },
    "ce330a2db8de40f591a394d83a3d6397": {
     "views": []
    },
    "ce3dcd2462a04280a50b897c61c9e226": {
     "views": []
    },
    "ce5f2929469145bb83513e212c91e7d1": {
     "views": []
    },
    "ce6d7ab062fa4617ac9a1c4f78d6aa5b": {
     "views": []
    },
    "ced285f375de4d6e80f11ef7e7306fc5": {
     "views": []
    },
    "cf2285d26e104131a381be635a3d4d20": {
     "views": []
    },
    "cf387842e50b492e912dc933a9220515": {
     "views": []
    },
    "cf414c59417c4539b370bb2395be6257": {
     "views": []
    },
    "cf8b94a7115047b6a4ecc16ce60e974f": {
     "views": []
    },
    "cfbd7a285f39496c9d244493251b8e04": {
     "views": []
    },
    "d0af87bbf1bd4be28ef3b8d3447a2bae": {
     "views": []
    },
    "d14c2d2554354ad58c03618f613bccb5": {
     "views": []
    },
    "d1b9be9e657d4fe68c06fa1c1f0ffcf2": {
     "views": []
    },
    "d228b46b4460425b9d5e4a8ffcfa8c3c": {
     "views": []
    },
    "d240e068104c49efb5df3a563deaea28": {
     "views": []
    },
    "d265657123c54df290b3bf5a5351968a": {
     "views": []
    },
    "d29d6d6dafc14d43aff807eddb7604a6": {
     "views": []
    },
    "d2fae87c5a1445abab8cb62c575b1a98": {
     "views": []
    },
    "d39f52b506754658898104d3145c3167": {
     "views": []
    },
    "d3aa7233e4464f228fbd33c488889b6c": {
     "views": []
    },
    "d3c8632f4aae49fc9a6dd21eba9d35d7": {
     "views": []
    },
    "d4353693b9b94091ad181e9bb775db63": {
     "views": []
    },
    "d49837c4eb2b4bf49af2eb86016cd30c": {
     "views": []
    },
    "d4b42342c4c940d5a2fac6438ff48ff9": {
     "views": []
    },
    "d60abb619f8e4429a6d0e2d43b9a45bc": {
     "views": []
    },
    "d70b57fc48234c9487153622334344d0": {
     "views": []
    },
    "d72c6d43feb941068cce85331bd3f94d": {
     "views": []
    },
    "d772983b207448d6892159ff89069340": {
     "views": []
    },
    "d874127871db417eac39a184135a0266": {
     "views": []
    },
    "d87d89268c99480abe4b9450d7bd6f6f": {
     "views": []
    },
    "d96dc400e46340fd8e4a570c2897cd85": {
     "views": []
    },
    "da1eb49096424cd79134405a4ac94362": {
     "views": []
    },
    "da1ec782df4145789ad40411a9b66d95": {
     "views": []
    },
    "da6e309fc855438f8fa4fee6a1399b86": {
     "views": []
    },
    "da9e9dbbd3f34452a91ecd7138d04cb4": {
     "views": []
    },
    "daec7a1dfa3b4581bfadc0e31a0037ac": {
     "views": []
    },
    "db103ebd061e4623a9cc18733e1a4452": {
     "views": []
    },
    "db7ee8a4f0fa4837a53602c70a5e1d1e": {
     "views": []
    },
    "dc11ffa723a446a5afff6d0aa66160a6": {
     "views": []
    },
    "dcb097cb749342de832083b053615855": {
     "views": []
    },
    "dce5dab1f3a74591a91aeca4cd9f37e9": {
     "views": []
    },
    "dcec900e3e3b4eebbba82f1ab4f9e45d": {
     "views": []
    },
    "dd9d9d5db661470ea2673091d094c367": {
     "views": []
    },
    "ddd627edf4fe47da88c8dcc7cf6819ae": {
     "views": []
    },
    "dde0444baa684f91b511fafb15003641": {
     "views": []
    },
    "ddf8eb9ff7a34ac49e32a1ccb4de23b5": {
     "views": []
    },
    "ddff16068a6a4dfabeb4695f4a1996e7": {
     "views": []
    },
    "de0dbe6409764f12bd5c6ac199ac1a56": {
     "views": []
    },
    "de9a287306a7427b9f6c9ef1fac19140": {
     "views": []
    },
    "dea474911cc54336abab6f813bc46e80": {
     "views": []
    },
    "df1c3e076e25452cb96b86eb2b038541": {
     "views": []
    },
    "df5428efa22b46e8978f99a453c9310e": {
     "views": []
    },
    "df5477a1c9cf4a9586c01958569d84a3": {
     "views": []
    },
    "dfdf77e22b674b78b92b9411c4f39ec2": {
     "views": []
    },
    "e05da1174e57420b92dccbdda2c7a5c2": {
     "views": []
    },
    "e087daac004645aa83f5837a9320586b": {
     "views": []
    },
    "e0cbb5aaab1e4bc7946dda8b24a54834": {
     "views": []
    },
    "e0ea50153e05400db5255326b43972bf": {
     "views": []
    },
    "e1367696ab4646be9cff17f8ee2e94c3": {
     "views": []
    },
    "e16c126326f54a05916f937b43f977c7": {
     "views": []
    },
    "e1c7792197f445f5ac9d807aad7ad019": {
     "views": []
    },
    "e3a79e92d4df496ab6007489c37c985a": {
     "views": []
    },
    "e3c1992d706d48679009029259929fd7": {
     "views": []
    },
    "e41019667f7e4d9bb44f2004597fc7a1": {
     "views": []
    },
    "e4200647ee21403b87753bb2c88a3ab9": {
     "views": []
    },
    "e4b34b47ddb04fb9a6d3fed0d5913b2e": {
     "views": []
    },
    "e57b64fd8e284a7484d5972f1c2004b3": {
     "views": []
    },
    "e67e6683ac33459385b8a1370780240a": {
     "views": []
    },
    "e7b17ec8b6d745769497c733b5b839cc": {
     "views": []
    },
    "e8b18710778d4e3db9f410a0e04cba1a": {
     "views": []
    },
    "e90b741acfb44f2a9f5b8288cc271c0f": {
     "views": []
    },
    "e98689373107474f9414eda6a48154a2": {
     "views": []
    },
    "eaba8cc4b2fd4a699f6d5402463df4e1": {
     "views": []
    },
    "eb445f9db1514a388c1f80e982b98bc0": {
     "views": []
    },
    "eb6320023694442cb9465edec704454a": {
     "views": []
    },
    "ebc40fef249d48b3ab89b17a7343c7af": {
     "views": []
    },
    "ebeb82db1f9040a5b7023c97748f72c4": {
     "views": []
    },
    "ec66cfef3b8c43aca1931af51a9d9d3e": {
     "views": []
    },
    "ecb4ecd698454894af92f801a83cde72": {
     "views": []
    },
    "ed8731e92223406ab0c3e7739c48eba7": {
     "views": []
    },
    "eda5c38886174d3fbb0b3a148d054ead": {
     "views": []
    },
    "edb974b291db4c4099a93283e38f3344": {
     "views": []
    },
    "edd256aaf74141a0990d931c4229f36d": {
     "views": []
    },
    "ee8982fdaf7a48cdaad43383f21391cf": {
     "views": []
    },
    "eee096b0e7744118bc04b765694b45a5": {
     "views": []
    },
    "ef66782247c1494192d334db99e65942": {
     "views": []
    },
    "ef9dec94c6b74464a684ab8476358e3b": {
     "views": []
    },
    "f061852765e64720a3b10c2e16b6e08f": {
     "views": []
    },
    "f09e9f0b9075447ab6eb85b3ba669b21": {
     "views": []
    },
    "f0adfc1c5a0e439fb9c207eb3cdeff6b": {
     "views": []
    },
    "f0d7ffce269c446db8bb28ce559ea54f": {
     "views": []
    },
    "f267acd4b03b475bb2bf0e8626d78550": {
     "views": []
    },
    "f2891cb7f46341d89d302d8ea7ca90ad": {
     "views": []
    },
    "f2e75160a29942d89fc0d70dc9fd294b": {
     "views": []
    },
    "f4d640f94308420cbaa3336f4d9466b0": {
     "views": []
    },
    "f50dcb4bfa804e4dbb820f35535daf85": {
     "views": []
    },
    "f55c7cafdc614b2cb1b5521b1d9852c6": {
     "views": []
    },
    "f5e83d0e9212495c8c952830c8d51d1b": {
     "views": []
    },
    "f64154d6b9924ddeb494fd2cc19ddc86": {
     "views": []
    },
    "f6bd36c85c3040a6a4ec31ad74364904": {
     "views": []
    },
    "f6fe781661ce422a990ad48585b7ef55": {
     "views": []
    },
    "f77d29713f01480fb6b4e18c9e4acd3e": {
     "views": []
    },
    "f7e92e81d09e4a4fb9dbd554b2b2f757": {
     "views": []
    },
    "f8044eadfc5a4e5fb61f7c582bbb576d": {
     "views": []
    },
    "f83e463e0a974c938a4e25d301edbaf9": {
     "views": []
    },
    "f911d9d6b1bd4442a48cffca27279cf6": {
     "views": []
    },
    "f9669456f1a94e72acbf9d7b28b9b5e2": {
     "views": []
    },
    "fab17f475f3b4ffa843078e01574960b": {
     "views": []
    },
    "fb1b2fe21e4d4c0da9b862e97df03856": {
     "views": []
    },
    "fb2d9b51f42e4923a1af343b5798212f": {
     "views": []
    },
    "fc123190a4c14cd2b7e69c3a04abfeb3": {
     "views": []
    },
    "fc45135882fb4bbd856131b53de96cc6": {
     "views": []
    },
    "fc64c99deef24ec3aa64f18cfb8f2e6c": {
     "views": []
    },
    "fce6264b68444bc19c382a45cbb3033f": {
     "views": []
    },
    "fd720ff7d3844e5ab7bf852dddf5c4d1": {
     "views": []
    },
    "fd9d822bd30c4940bf032f179aa043c0": {
     "views": []
    },
    "fdc37b9c71984851a9b0dbb44f4f6433": {
     "views": []
    },
    "fdc388732c8d47cfa3324cf23a61a358": {
     "views": []
    },
    "fde5591cf0da40228d5b454bacf75d80": {
     "views": []
    },
    "fde67d15311a4817a7246622f31f5d96": {
     "views": []
    }
   },
   "version": "1.1.2"
  }
 },
 "nbformat": 4,
 "nbformat_minor": 0
}
