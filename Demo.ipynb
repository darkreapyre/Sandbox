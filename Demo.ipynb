{
 "cells": [
  {
   "cell_type": "markdown",
   "metadata": {
    "deletable": true,
    "editable": true
   },
   "source": [
    "# Introduction\n",
    "In this case study, we will explore how to tackle Kaggle Titanic competition using Python and Machine Learning. When the Titanic sank, $1502$ of the $2224$ passengers and crew were killed. One of the main reasons for this high level of casualties was the lack of lifeboats on this self-proclaimed __\"unsinkable\"__ ship. In this tutorial, we will learn how to apply machine learning techniques to predict a passenger's chance of surviving using Python.\n",
    "\n",
    "# Getting Data with Pandas\n",
    "We start with loading in the training and testing set into your Python environment. We will use the [training set](http://s3.amazonaws.com/assets.datacamp.com/course/Kaggle/train.csv) to build our model, and the [test set](http://s3.amazonaws.com/assets.datacamp.com/course/Kaggle/test.csv) to validate it. The first step is to load this data with the `read_csv()` method from the Pandas library."
   ]
  },
  {
   "cell_type": "code",
   "execution_count": 1,
   "metadata": {
    "collapsed": false,
    "deletable": true,
    "editable": true
   },
   "outputs": [
    {
     "data": {
      "text/html": [
       "<div>\n",
       "<table border=\"1\" class=\"dataframe\">\n",
       "  <thead>\n",
       "    <tr style=\"text-align: right;\">\n",
       "      <th></th>\n",
       "      <th>PassengerId</th>\n",
       "      <th>Survived</th>\n",
       "      <th>Pclass</th>\n",
       "      <th>Name</th>\n",
       "      <th>Sex</th>\n",
       "      <th>Age</th>\n",
       "      <th>SibSp</th>\n",
       "      <th>Parch</th>\n",
       "      <th>Ticket</th>\n",
       "      <th>Fare</th>\n",
       "      <th>Cabin</th>\n",
       "      <th>Embarked</th>\n",
       "    </tr>\n",
       "  </thead>\n",
       "  <tbody>\n",
       "    <tr>\n",
       "      <th>0</th>\n",
       "      <td>1</td>\n",
       "      <td>0</td>\n",
       "      <td>3</td>\n",
       "      <td>Braund, Mr. Owen Harris</td>\n",
       "      <td>male</td>\n",
       "      <td>22.0</td>\n",
       "      <td>1</td>\n",
       "      <td>0</td>\n",
       "      <td>A/5 21171</td>\n",
       "      <td>7.2500</td>\n",
       "      <td>NaN</td>\n",
       "      <td>S</td>\n",
       "    </tr>\n",
       "    <tr>\n",
       "      <th>1</th>\n",
       "      <td>2</td>\n",
       "      <td>1</td>\n",
       "      <td>1</td>\n",
       "      <td>Cumings, Mrs. John Bradley (Florence Briggs Th...</td>\n",
       "      <td>female</td>\n",
       "      <td>38.0</td>\n",
       "      <td>1</td>\n",
       "      <td>0</td>\n",
       "      <td>PC 17599</td>\n",
       "      <td>71.2833</td>\n",
       "      <td>C85</td>\n",
       "      <td>C</td>\n",
       "    </tr>\n",
       "    <tr>\n",
       "      <th>2</th>\n",
       "      <td>3</td>\n",
       "      <td>1</td>\n",
       "      <td>3</td>\n",
       "      <td>Heikkinen, Miss. Laina</td>\n",
       "      <td>female</td>\n",
       "      <td>26.0</td>\n",
       "      <td>0</td>\n",
       "      <td>0</td>\n",
       "      <td>STON/O2. 3101282</td>\n",
       "      <td>7.9250</td>\n",
       "      <td>NaN</td>\n",
       "      <td>S</td>\n",
       "    </tr>\n",
       "    <tr>\n",
       "      <th>3</th>\n",
       "      <td>4</td>\n",
       "      <td>1</td>\n",
       "      <td>1</td>\n",
       "      <td>Futrelle, Mrs. Jacques Heath (Lily May Peel)</td>\n",
       "      <td>female</td>\n",
       "      <td>35.0</td>\n",
       "      <td>1</td>\n",
       "      <td>0</td>\n",
       "      <td>113803</td>\n",
       "      <td>53.1000</td>\n",
       "      <td>C123</td>\n",
       "      <td>S</td>\n",
       "    </tr>\n",
       "    <tr>\n",
       "      <th>4</th>\n",
       "      <td>5</td>\n",
       "      <td>0</td>\n",
       "      <td>3</td>\n",
       "      <td>Allen, Mr. William Henry</td>\n",
       "      <td>male</td>\n",
       "      <td>35.0</td>\n",
       "      <td>0</td>\n",
       "      <td>0</td>\n",
       "      <td>373450</td>\n",
       "      <td>8.0500</td>\n",
       "      <td>NaN</td>\n",
       "      <td>S</td>\n",
       "    </tr>\n",
       "  </tbody>\n",
       "</table>\n",
       "</div>"
      ],
      "text/plain": [
       "   PassengerId  Survived  Pclass  \\\n",
       "0            1         0       3   \n",
       "1            2         1       1   \n",
       "2            3         1       3   \n",
       "3            4         1       1   \n",
       "4            5         0       3   \n",
       "\n",
       "                                                Name     Sex   Age  SibSp  \\\n",
       "0                            Braund, Mr. Owen Harris    male  22.0      1   \n",
       "1  Cumings, Mrs. John Bradley (Florence Briggs Th...  female  38.0      1   \n",
       "2                             Heikkinen, Miss. Laina  female  26.0      0   \n",
       "3       Futrelle, Mrs. Jacques Heath (Lily May Peel)  female  35.0      1   \n",
       "4                           Allen, Mr. William Henry    male  35.0      0   \n",
       "\n",
       "   Parch            Ticket     Fare Cabin Embarked  \n",
       "0      0         A/5 21171   7.2500   NaN        S  \n",
       "1      0          PC 17599  71.2833   C85        C  \n",
       "2      0  STON/O2. 3101282   7.9250   NaN        S  \n",
       "3      0            113803  53.1000  C123        S  \n",
       "4      0            373450   8.0500   NaN        S  "
      ]
     },
     "execution_count": 1,
     "metadata": {},
     "output_type": "execute_result"
    }
   ],
   "source": [
    "# Import the Pandas library\n",
    "import warnings\n",
    "warnings.filterwarnings('ignore')\n",
    "import pandas as pd\n",
    "\n",
    "# Load the train and test datasets to create two DataFrames\n",
    "train_url = \"http://s3.amazonaws.com/assets.datacamp.com/course/Kaggle/train.csv\"\n",
    "train = pd.read_csv(train_url)\n",
    "test_url = \"http://s3.amazonaws.com/assets.datacamp.com/course/Kaggle/test.csv\"\n",
    "test = pd.read_csv(test_url)\n",
    "\n",
    "#Print the `head` of the train dataframe\n",
    "train.head()"
   ]
  },
  {
   "cell_type": "code",
   "execution_count": 2,
   "metadata": {
    "collapsed": false,
    "deletable": true,
    "editable": true
   },
   "outputs": [
    {
     "data": {
      "text/html": [
       "<div>\n",
       "<table border=\"1\" class=\"dataframe\">\n",
       "  <thead>\n",
       "    <tr style=\"text-align: right;\">\n",
       "      <th></th>\n",
       "      <th>PassengerId</th>\n",
       "      <th>Pclass</th>\n",
       "      <th>Name</th>\n",
       "      <th>Sex</th>\n",
       "      <th>Age</th>\n",
       "      <th>SibSp</th>\n",
       "      <th>Parch</th>\n",
       "      <th>Ticket</th>\n",
       "      <th>Fare</th>\n",
       "      <th>Cabin</th>\n",
       "      <th>Embarked</th>\n",
       "    </tr>\n",
       "  </thead>\n",
       "  <tbody>\n",
       "    <tr>\n",
       "      <th>0</th>\n",
       "      <td>892</td>\n",
       "      <td>3</td>\n",
       "      <td>Kelly, Mr. James</td>\n",
       "      <td>male</td>\n",
       "      <td>34.5</td>\n",
       "      <td>0</td>\n",
       "      <td>0</td>\n",
       "      <td>330911</td>\n",
       "      <td>7.8292</td>\n",
       "      <td>NaN</td>\n",
       "      <td>Q</td>\n",
       "    </tr>\n",
       "    <tr>\n",
       "      <th>1</th>\n",
       "      <td>893</td>\n",
       "      <td>3</td>\n",
       "      <td>Wilkes, Mrs. James (Ellen Needs)</td>\n",
       "      <td>female</td>\n",
       "      <td>47.0</td>\n",
       "      <td>1</td>\n",
       "      <td>0</td>\n",
       "      <td>363272</td>\n",
       "      <td>7.0000</td>\n",
       "      <td>NaN</td>\n",
       "      <td>S</td>\n",
       "    </tr>\n",
       "    <tr>\n",
       "      <th>2</th>\n",
       "      <td>894</td>\n",
       "      <td>2</td>\n",
       "      <td>Myles, Mr. Thomas Francis</td>\n",
       "      <td>male</td>\n",
       "      <td>62.0</td>\n",
       "      <td>0</td>\n",
       "      <td>0</td>\n",
       "      <td>240276</td>\n",
       "      <td>9.6875</td>\n",
       "      <td>NaN</td>\n",
       "      <td>Q</td>\n",
       "    </tr>\n",
       "    <tr>\n",
       "      <th>3</th>\n",
       "      <td>895</td>\n",
       "      <td>3</td>\n",
       "      <td>Wirz, Mr. Albert</td>\n",
       "      <td>male</td>\n",
       "      <td>27.0</td>\n",
       "      <td>0</td>\n",
       "      <td>0</td>\n",
       "      <td>315154</td>\n",
       "      <td>8.6625</td>\n",
       "      <td>NaN</td>\n",
       "      <td>S</td>\n",
       "    </tr>\n",
       "    <tr>\n",
       "      <th>4</th>\n",
       "      <td>896</td>\n",
       "      <td>3</td>\n",
       "      <td>Hirvonen, Mrs. Alexander (Helga E Lindqvist)</td>\n",
       "      <td>female</td>\n",
       "      <td>22.0</td>\n",
       "      <td>1</td>\n",
       "      <td>1</td>\n",
       "      <td>3101298</td>\n",
       "      <td>12.2875</td>\n",
       "      <td>NaN</td>\n",
       "      <td>S</td>\n",
       "    </tr>\n",
       "  </tbody>\n",
       "</table>\n",
       "</div>"
      ],
      "text/plain": [
       "   PassengerId  Pclass                                          Name     Sex  \\\n",
       "0          892       3                              Kelly, Mr. James    male   \n",
       "1          893       3              Wilkes, Mrs. James (Ellen Needs)  female   \n",
       "2          894       2                     Myles, Mr. Thomas Francis    male   \n",
       "3          895       3                              Wirz, Mr. Albert    male   \n",
       "4          896       3  Hirvonen, Mrs. Alexander (Helga E Lindqvist)  female   \n",
       "\n",
       "    Age  SibSp  Parch   Ticket     Fare Cabin Embarked  \n",
       "0  34.5      0      0   330911   7.8292   NaN        Q  \n",
       "1  47.0      1      0   363272   7.0000   NaN        S  \n",
       "2  62.0      0      0   240276   9.6875   NaN        Q  \n",
       "3  27.0      0      0   315154   8.6625   NaN        S  \n",
       "4  22.0      1      1  3101298  12.2875   NaN        S  "
      ]
     },
     "execution_count": 2,
     "metadata": {},
     "output_type": "execute_result"
    }
   ],
   "source": [
    "#Print the `head` of the test dataframe\n",
    "test.head()"
   ]
  },
  {
   "cell_type": "markdown",
   "metadata": {
    "deletable": true,
    "editable": true
   },
   "source": [
    "On thing that immediately stands out when looking at the two data sets. The `test` set has no variable (colum) for wether or not the passanger `Survived` or not. This has been intentionally removed as that's the variable we will be predicting using the `train` set.\n",
    "\n",
    "# Exploring the Data\n",
    "Before starting with the actual analysis, it's important to understand the structure of the data. Both `test` and `train` are DataFrame objects, the way pandas represent datasets. We can easily explore a DataFrame using the `.describe()` method. This method summarizes the columns/features of the DataFrame, including the count of observations, mean, max and so on. Another useful trick is to look at the dimensions of the DataFrame. This is done by requesting the `.shape` attribute of your DataFrame object. It is also a good practice to look for any missing values in the data set.\n",
    "\n",
    "### Summary Statistics\n",
    "Next we apply the `.describe()` method, look for missing values and then apply `.shape` attribute of the training set."
   ]
  },
  {
   "cell_type": "code",
   "execution_count": 3,
   "metadata": {
    "collapsed": false,
    "deletable": true,
    "editable": true
   },
   "outputs": [
    {
     "data": {
      "text/html": [
       "<div>\n",
       "<table border=\"1\" class=\"dataframe\">\n",
       "  <thead>\n",
       "    <tr style=\"text-align: right;\">\n",
       "      <th></th>\n",
       "      <th>PassengerId</th>\n",
       "      <th>Survived</th>\n",
       "      <th>Pclass</th>\n",
       "      <th>Age</th>\n",
       "      <th>SibSp</th>\n",
       "      <th>Parch</th>\n",
       "      <th>Fare</th>\n",
       "    </tr>\n",
       "  </thead>\n",
       "  <tbody>\n",
       "    <tr>\n",
       "      <th>count</th>\n",
       "      <td>891.000000</td>\n",
       "      <td>891.000000</td>\n",
       "      <td>891.000000</td>\n",
       "      <td>714.000000</td>\n",
       "      <td>891.000000</td>\n",
       "      <td>891.000000</td>\n",
       "      <td>891.000000</td>\n",
       "    </tr>\n",
       "    <tr>\n",
       "      <th>mean</th>\n",
       "      <td>446.000000</td>\n",
       "      <td>0.383838</td>\n",
       "      <td>2.308642</td>\n",
       "      <td>29.699118</td>\n",
       "      <td>0.523008</td>\n",
       "      <td>0.381594</td>\n",
       "      <td>32.204208</td>\n",
       "    </tr>\n",
       "    <tr>\n",
       "      <th>std</th>\n",
       "      <td>257.353842</td>\n",
       "      <td>0.486592</td>\n",
       "      <td>0.836071</td>\n",
       "      <td>14.526497</td>\n",
       "      <td>1.102743</td>\n",
       "      <td>0.806057</td>\n",
       "      <td>49.693429</td>\n",
       "    </tr>\n",
       "    <tr>\n",
       "      <th>min</th>\n",
       "      <td>1.000000</td>\n",
       "      <td>0.000000</td>\n",
       "      <td>1.000000</td>\n",
       "      <td>0.420000</td>\n",
       "      <td>0.000000</td>\n",
       "      <td>0.000000</td>\n",
       "      <td>0.000000</td>\n",
       "    </tr>\n",
       "    <tr>\n",
       "      <th>25%</th>\n",
       "      <td>223.500000</td>\n",
       "      <td>0.000000</td>\n",
       "      <td>2.000000</td>\n",
       "      <td>20.125000</td>\n",
       "      <td>0.000000</td>\n",
       "      <td>0.000000</td>\n",
       "      <td>7.910400</td>\n",
       "    </tr>\n",
       "    <tr>\n",
       "      <th>50%</th>\n",
       "      <td>446.000000</td>\n",
       "      <td>0.000000</td>\n",
       "      <td>3.000000</td>\n",
       "      <td>28.000000</td>\n",
       "      <td>0.000000</td>\n",
       "      <td>0.000000</td>\n",
       "      <td>14.454200</td>\n",
       "    </tr>\n",
       "    <tr>\n",
       "      <th>75%</th>\n",
       "      <td>668.500000</td>\n",
       "      <td>1.000000</td>\n",
       "      <td>3.000000</td>\n",
       "      <td>38.000000</td>\n",
       "      <td>1.000000</td>\n",
       "      <td>0.000000</td>\n",
       "      <td>31.000000</td>\n",
       "    </tr>\n",
       "    <tr>\n",
       "      <th>max</th>\n",
       "      <td>891.000000</td>\n",
       "      <td>1.000000</td>\n",
       "      <td>3.000000</td>\n",
       "      <td>80.000000</td>\n",
       "      <td>8.000000</td>\n",
       "      <td>6.000000</td>\n",
       "      <td>512.329200</td>\n",
       "    </tr>\n",
       "  </tbody>\n",
       "</table>\n",
       "</div>"
      ],
      "text/plain": [
       "       PassengerId    Survived      Pclass         Age       SibSp  \\\n",
       "count   891.000000  891.000000  891.000000  714.000000  891.000000   \n",
       "mean    446.000000    0.383838    2.308642   29.699118    0.523008   \n",
       "std     257.353842    0.486592    0.836071   14.526497    1.102743   \n",
       "min       1.000000    0.000000    1.000000    0.420000    0.000000   \n",
       "25%     223.500000    0.000000    2.000000   20.125000    0.000000   \n",
       "50%     446.000000    0.000000    3.000000   28.000000    0.000000   \n",
       "75%     668.500000    1.000000    3.000000   38.000000    1.000000   \n",
       "max     891.000000    1.000000    3.000000   80.000000    8.000000   \n",
       "\n",
       "            Parch        Fare  \n",
       "count  891.000000  891.000000  \n",
       "mean     0.381594   32.204208  \n",
       "std      0.806057   49.693429  \n",
       "min      0.000000    0.000000  \n",
       "25%      0.000000    7.910400  \n",
       "50%      0.000000   14.454200  \n",
       "75%      0.000000   31.000000  \n",
       "max      6.000000  512.329200  "
      ]
     },
     "execution_count": 3,
     "metadata": {},
     "output_type": "execute_result"
    }
   ],
   "source": [
    "# Describe the `train` data\n",
    "train.describe()"
   ]
  },
  {
   "cell_type": "markdown",
   "metadata": {
    "deletable": true,
    "editable": true
   },
   "source": [
    "### Missing Values"
   ]
  },
  {
   "cell_type": "code",
   "execution_count": 4,
   "metadata": {
    "collapsed": false,
    "deletable": true,
    "editable": true
   },
   "outputs": [
    {
     "data": {
      "text/plain": [
       "PassengerId      0\n",
       "Survived         0\n",
       "Pclass           0\n",
       "Name             0\n",
       "Sex              0\n",
       "Age            177\n",
       "SibSp            0\n",
       "Parch            0\n",
       "Ticket           0\n",
       "Fare             0\n",
       "Cabin          687\n",
       "Embarked         2\n",
       "dtype: int64"
      ]
     },
     "execution_count": 4,
     "metadata": {},
     "output_type": "execute_result"
    }
   ],
   "source": [
    "# Look for missing values\n",
    "train.isnull().sum()"
   ]
  },
  {
   "cell_type": "code",
   "execution_count": 5,
   "metadata": {
    "collapsed": false,
    "deletable": true,
    "editable": true
   },
   "outputs": [
    {
     "data": {
      "text/plain": [
       "61     NaN\n",
       "829    NaN\n",
       "Name: Embarked, dtype: object"
      ]
     },
     "execution_count": 5,
     "metadata": {},
     "output_type": "execute_result"
    }
   ],
   "source": [
    "# Index for missing vales: `Embarked`\n",
    "train[\"Embarked\"][train[\"Embarked\"].isnull()]"
   ]
  },
  {
   "cell_type": "markdown",
   "metadata": {
    "deletable": true,
    "editable": true
   },
   "source": [
    "### Dimensions"
   ]
  },
  {
   "cell_type": "code",
   "execution_count": 6,
   "metadata": {
    "collapsed": false,
    "deletable": true,
    "editable": true
   },
   "outputs": [
    {
     "data": {
      "text/plain": [
       "(891, 12)"
      ]
     },
     "execution_count": 6,
     "metadata": {},
     "output_type": "execute_result"
    }
   ],
   "source": [
    "# Look at the dimensions of `train`\n",
    "train.shape"
   ]
  },
  {
   "cell_type": "markdown",
   "metadata": {
    "deletable": true,
    "editable": true
   },
   "source": [
    "### Understanding the Data\n",
    "As we can see, the training set has $891$ observations and $12$ variables, the count for `Age` is $714$. But how many people in the training set survived the disaster with the Titanic? To see this, we can use the `value_counts()` method in combination with standard bracket notation to select a single column of a DataFrame:"
   ]
  },
  {
   "cell_type": "code",
   "execution_count": 7,
   "metadata": {
    "collapsed": false,
    "deletable": true,
    "editable": true
   },
   "outputs": [
    {
     "data": {
      "text/plain": [
       "0    549\n",
       "1    342\n",
       "Name: Survived, dtype: int64"
      ]
     },
     "execution_count": 7,
     "metadata": {},
     "output_type": "execute_result"
    }
   ],
   "source": [
    "# No. of people who survived (absolute numbers)\n",
    "train[\"Survived\"].value_counts()"
   ]
  },
  {
   "cell_type": "code",
   "execution_count": 8,
   "metadata": {
    "collapsed": false,
    "deletable": true,
    "editable": true
   },
   "outputs": [
    {
     "data": {
      "text/plain": [
       "0    61.616162\n",
       "1    38.383838\n",
       "Name: Survived, dtype: float64"
      ]
     },
     "execution_count": 8,
     "metadata": {},
     "output_type": "execute_result"
    }
   ],
   "source": [
    "# No. of people who survived (percentages)\n",
    "train[\"Survived\"].value_counts(normalize = True) * 100"
   ]
  },
  {
   "cell_type": "markdown",
   "metadata": {
    "deletable": true,
    "editable": true
   },
   "source": [
    "We see that $549$ individuals died ($62\\%$) and $342$ survived ($38\\%$). A simple way to predict heuristically could be: \"majority wins\". This would mean that we will predict every unseen observation to not survive.\n",
    "\n",
    "To dive in a little deeper we can perform similar counts and percentage calculations on subsets of the Survived column. For example, maybe gender could play a role as well? We can explore this using the .`value_counts()` method for a two-way comparison on the number of __males__ and __females__ that survived."
   ]
  },
  {
   "cell_type": "code",
   "execution_count": 9,
   "metadata": {
    "collapsed": false,
    "deletable": true,
    "editable": true
   },
   "outputs": [
    {
     "data": {
      "text/plain": [
       "0    468\n",
       "1    109\n",
       "Name: Survived, dtype: int64"
      ]
     },
     "execution_count": 9,
     "metadata": {},
     "output_type": "execute_result"
    }
   ],
   "source": [
    "# Count of males who survived\n",
    "train[\"Survived\"][train[\"Sex\"] == \"male\"].value_counts()"
   ]
  },
  {
   "cell_type": "code",
   "execution_count": 10,
   "metadata": {
    "collapsed": false,
    "deletable": true,
    "editable": true
   },
   "outputs": [
    {
     "data": {
      "text/plain": [
       "1    233\n",
       "0     81\n",
       "Name: Survived, dtype: int64"
      ]
     },
     "execution_count": 10,
     "metadata": {},
     "output_type": "execute_result"
    }
   ],
   "source": [
    "# Count of femails who survived\n",
    "train[\"Survived\"][train[\"Sex\"] == \"female\"].value_counts()"
   ]
  },
  {
   "cell_type": "markdown",
   "metadata": {
    "deletable": true,
    "editable": true
   },
   "source": [
    "To get proportions,  we again pass in the argument `normalize = True` to the `.value_counts()` method."
   ]
  },
  {
   "cell_type": "code",
   "execution_count": 11,
   "metadata": {
    "collapsed": false,
    "deletable": true,
    "editable": true
   },
   "outputs": [
    {
     "data": {
      "text/plain": [
       "0    81.109185\n",
       "1    18.890815\n",
       "Name: Survived, dtype: float64"
      ]
     },
     "execution_count": 11,
     "metadata": {},
     "output_type": "execute_result"
    }
   ],
   "source": [
    "# Count of males who survived (percentage)\n",
    "train[\"Survived\"][train[\"Sex\"] == \"male\"].value_counts(normalize = True) * 100"
   ]
  },
  {
   "cell_type": "code",
   "execution_count": 12,
   "metadata": {
    "collapsed": false,
    "deletable": true,
    "editable": true
   },
   "outputs": [
    {
     "data": {
      "text/plain": [
       "1    74.203822\n",
       "0    25.796178\n",
       "Name: Survived, dtype: float64"
      ]
     },
     "execution_count": 12,
     "metadata": {},
     "output_type": "execute_result"
    }
   ],
   "source": [
    "# Count of females who survived (percentage)\n",
    "train[\"Survived\"][train[\"Sex\"] == \"female\"].value_counts(normalize = True) * 100"
   ]
  },
  {
   "cell_type": "markdown",
   "metadata": {
    "deletable": true,
    "editable": true
   },
   "source": [
    "It looks like it makes sense to include gender in the predictions since there is a difference between the survival rate of males vs. females. Around $74\\%$ of females survived as opposed to $18\\%$ of the males surviving.\n",
    "\n",
    "Another variable that could influence survival is `age`; since it's probable that children were saved first. We can test this by creating a new column with a categorical variable `Child`. `Child` will take the value $1$ in cases where age is less than $18$, and a value of $0$ in cases where age is greater than or equal to $18$. So to add this new variable we need to do two things:\n",
    "\n",
    "1. Create a new column.\n",
    "2. Provide the values for each observation (i.e., row) based on the age of the passenger.\n",
    "\n",
    "Adding a new column with Pandas in Python is easy and can be done via the following syntax:\n",
    "```\n",
    "<variable>[\"new_variable\"] = 0\n",
    "```\n",
    "This code would create a new column in the train DataFrame titled new_var with $0$ for each observation. To set the values based on the age of the passenger, we make use of a boolean test inside the square bracket operator. With the `[]` operator we create a subset of rows and assign a value to a certain variable of that subset of observations. For example:\n",
    "\n",
    "```\n",
    "train[\"new_var\"][train[\"Fare\"] > 10] = 1\n",
    "```\n",
    "\n",
    "This would give a value of $1$ to the variable `new_var` for the subset of passengers whose fares greater than $10$. Keeping in mind that `new_var` has a value of $0$ for all other values (including missing values). "
   ]
  },
  {
   "cell_type": "code",
   "execution_count": 13,
   "metadata": {
    "collapsed": false,
    "deletable": true,
    "editable": true
   },
   "outputs": [
    {
     "name": "stdout",
     "output_type": "stream",
     "text": [
      "Survival proportions for passangers under 18:\n"
     ]
    },
    {
     "data": {
      "text/plain": [
       "1    53.982301\n",
       "0    46.017699\n",
       "Name: Survived, dtype: float64"
      ]
     },
     "execution_count": 13,
     "metadata": {},
     "output_type": "execute_result"
    }
   ],
   "source": [
    "# Create the column Child and assign to 'NaN'\n",
    "train[\"Child\"] = float('NaN')\n",
    "\n",
    "# Assign 1 to passengers under 18, 0 to those 18 or older.\n",
    "train[\"Child\"][train[\"Age\"] < 18] = 1\n",
    "train[\"Child\"][train[\"Age\"] >= 18] = 0\n",
    "\n",
    "# Print normalized Survival Rates for passengers under 18\n",
    "print \"Survival proportions for passangers under 18:\\n\",\n",
    "train[\"Survived\"][train[\"Child\"] == 1].value_counts(normalize = True) * 100"
   ]
  },
  {
   "cell_type": "code",
   "execution_count": 14,
   "metadata": {
    "collapsed": false,
    "deletable": true,
    "editable": true
   },
   "outputs": [
    {
     "name": "stdout",
     "output_type": "stream",
     "text": [
      "Survival proportions for passangers over 18:\n"
     ]
    },
    {
     "data": {
      "text/plain": [
       "0    61.896839\n",
       "1    38.103161\n",
       "Name: Survived, dtype: float64"
      ]
     },
     "execution_count": 14,
     "metadata": {},
     "output_type": "execute_result"
    }
   ],
   "source": [
    "# Print normalized Survival Rates for passengers 18 or older\n",
    "print \"Survival proportions for passangers over 18:\\n\",\n",
    "train[\"Survived\"][train[\"Child\"] == 0].value_counts(normalize = True) * 100"
   ]
  },
  {
   "cell_type": "markdown",
   "metadata": {
    "deletable": true,
    "editable": true
   },
   "source": [
    "As we can see from the survival proportions, age does certainly seem to play a role. So the the __[Birhenhead Drill](https://en.wikipedia.org/wiki/Women_and_children_first)__ holds true and thus `Sex` and `Age` make good predictors.\n",
    "\n",
    "# Basic Prediction\n",
    "From exploring the data we can see that females had over a $50\\%$ chance of surviving and males had less than a $50\\%$ chance of surviving. Hence, we could use this information for a first and very basic prediction: \n",
    "\n",
    "__All females in the `test` set survive and all males in the `test` set die.__\n",
    "\n",
    "To do this, we use the test set for validating our predictions. As was mentioned above,  the `test` set has no `Survived` column. this is so that we can use this colums for our predicted values. Next, when uploading our results, Kaggle will use this variable i.e. oour predictions, to score the performance. \n",
    "\n",
    "So to start with the first prediction, we will perform the following:\n",
    "\n",
    "1. Create a variable test_one, identical to dataset test.\n",
    "2. Add an additional column, `Survived`, that is initialize to zero.\n",
    "3. Use vector subsetting to set the value of `Survived` to $1$ for observations whose Sex equals \"female\".\n",
    "4. Print the Survived column of predictions from the test_one dataset."
   ]
  },
  {
   "cell_type": "code",
   "execution_count": 15,
   "metadata": {
    "collapsed": false,
    "deletable": true,
    "editable": true
   },
   "outputs": [
    {
     "data": {
      "text/html": [
       "<div>\n",
       "<table border=\"1\" class=\"dataframe\">\n",
       "  <thead>\n",
       "    <tr style=\"text-align: right;\">\n",
       "      <th></th>\n",
       "      <th>PassengerId</th>\n",
       "      <th>Survived</th>\n",
       "    </tr>\n",
       "  </thead>\n",
       "  <tbody>\n",
       "    <tr>\n",
       "      <th>0</th>\n",
       "      <td>892</td>\n",
       "      <td>0</td>\n",
       "    </tr>\n",
       "    <tr>\n",
       "      <th>1</th>\n",
       "      <td>893</td>\n",
       "      <td>1</td>\n",
       "    </tr>\n",
       "    <tr>\n",
       "      <th>2</th>\n",
       "      <td>894</td>\n",
       "      <td>0</td>\n",
       "    </tr>\n",
       "    <tr>\n",
       "      <th>3</th>\n",
       "      <td>895</td>\n",
       "      <td>0</td>\n",
       "    </tr>\n",
       "    <tr>\n",
       "      <th>4</th>\n",
       "      <td>896</td>\n",
       "      <td>1</td>\n",
       "    </tr>\n",
       "  </tbody>\n",
       "</table>\n",
       "</div>"
      ],
      "text/plain": [
       "   PassengerId  Survived\n",
       "0          892         0\n",
       "1          893         1\n",
       "2          894         0\n",
       "3          895         0\n",
       "4          896         1"
      ]
     },
     "execution_count": 15,
     "metadata": {},
     "output_type": "execute_result"
    }
   ],
   "source": [
    "# Start the timer\n",
    "from time import time\n",
    "start = time()\n",
    "\n",
    "# Create a copy of test: test_one\n",
    "test_one = test\n",
    "\n",
    "# Initialize a Survived column to 0\n",
    "test_one[\"Survived\"] = 0\n",
    "\n",
    "# Set Survived to 1 if Sex equals \"female\"\n",
    "test_one[\"Survived\"][test_one[\"Sex\"] == \"female\"] = 1\n",
    "\n",
    "# Print a sample prediction of who servived\n",
    "test_one[[\"PassengerId\", \"Survived\"]] .head()\n",
    "#print \"Our basic prediction took {:.2f} seconds.\".format(time() - start)"
   ]
  },
  {
   "cell_type": "markdown",
   "metadata": {
    "deletable": true,
    "editable": true
   },
   "source": [
    "# Prediction using Decision Trees\n",
    "In the basic prediction example, we did all the \"slicing\" and \"dicing\" ourselves to find subsets that have a higher chance of surviving. A decision tree automates this process for us and outputs a classification model or classifier.\n",
    "\n",
    "Conceptually, the decision tree algorithm starts with all the data at the root node and scans all the variables for the best one to split on. Once a variable is chosen, it does the split and goes down one level (or one node) and repeats the process. The final nodes at the bottom of the decision tree are known as terminal nodes, and the majority vote of the observations in that node determine how to predict for new observations that end up in that terminal node.\n",
    "\n",
    "Before we can start using Decision Trees, we need to import the necessary libraries:"
   ]
  },
  {
   "cell_type": "code",
   "execution_count": 16,
   "metadata": {
    "collapsed": false,
    "deletable": true,
    "editable": true
   },
   "outputs": [],
   "source": [
    "# Import the Numpy library\n",
    "import numpy as np\n",
    "\n",
    "# Import 'tree' from scikit-learn library\n",
    "from sklearn import tree\n",
    "\n",
    "# Reload the train and test datasets to create two DataFrames\n",
    "train_url = \"http://s3.amazonaws.com/assets.datacamp.com/course/Kaggle/train.csv\"\n",
    "train = pd.read_csv(train_url)\n",
    "test_url = \"http://s3.amazonaws.com/assets.datacamp.com/course/Kaggle/test.csv\"\n",
    "test = pd.read_csv(test_url)"
   ]
  },
  {
   "cell_type": "markdown",
   "metadata": {
    "deletable": true,
    "editable": true
   },
   "source": [
    "### Preprocessing\n",
    "Before we can begin constructing your trees we need to clean the data so that we can use all the features (predictors) available. In the first section, we saw that the `Age` variable had some missing value. Although dealing with missing values is a whole subject with and in itself, we will use a simple imputation technique where we substitute each missing value with the median of the all present values. This is done by using the `.fillna()` method, for example:\n",
    "```\n",
    "train[\"Age\"] = train[\"Age\"].fillna(train[\"Age\"].median())\n",
    "```\n",
    "Another problem is that the `Sex` and `Embarked` variables are categorical but in a non-numeric format. Thus, we will need to assign each class a unique integer so that Python can handle the information. `Embarked` also has some missing values which we should impute with the most common class of embarkation, which is \"S\". "
   ]
  },
  {
   "cell_type": "code",
   "execution_count": 17,
   "metadata": {
    "collapsed": false,
    "deletable": true,
    "editable": true
   },
   "outputs": [
    {
     "name": "stdout",
     "output_type": "stream",
     "text": [
      "No. of missing values:  PassengerId      0\n",
      "Survived         0\n",
      "Pclass           0\n",
      "Name             0\n",
      "Sex              0\n",
      "Age              0\n",
      "SibSp            0\n",
      "Parch            0\n",
      "Ticket           0\n",
      "Fare             0\n",
      "Cabin          687\n",
      "Embarked         0\n",
      "dtype: int64\n"
     ]
    }
   ],
   "source": [
    "# Convert the male and female groups to integer form\n",
    "train[\"Sex\"][train[\"Sex\"] == \"male\"] = 0\n",
    "train[\"Sex\"][train[\"Sex\"] == \"female\"] = 1\n",
    "\n",
    "# Impute the `Embarked` variable\n",
    "train[\"Embarked\"] = train[\"Embarked\"].fillna(\"S\")\n",
    "\n",
    "# Impute the `Age` variable\n",
    "train[\"Age\"] = train[\"Age\"].fillna(train[\"Age\"].median())\n",
    "\n",
    "# Confirm that `Embarked` and `Age` have no missing values\n",
    "print \"No. of missing values: \", train.isnull().sum()\n",
    "\n",
    "# Convert the Embarked classes to integer form\n",
    "train[\"Embarked\"][train[\"Embarked\"] == \"S\"] = 0\n",
    "train[\"Embarked\"][train[\"Embarked\"] == \"C\"] = 1\n",
    "train[\"Embarked\"][train[\"Embarked\"] == \"Q\"] = 2"
   ]
  },
  {
   "cell_type": "markdown",
   "metadata": {
    "deletable": true,
    "editable": true
   },
   "source": [
    "### Fitting the Model\n",
    "Now that the data has been cleaned, we will use the scikit-learn and numpy libraries to build a decision tree. scikit-learn can be used to create tree objects from the `DecisionTreeClassifier` class. The methods that we will use take numpy arrays as inputs and therefore we will need to create those from the DataFrame that we already have. \n",
    "\n",
    "We will need the following to build a decision tree\n",
    "\n",
    "- `target`: A one-dimensional numpy array containing the target/response from the train data. (`Survival`)\n",
    "- `features`: A multidimensional numpy array containing the features/predictors from the train data. (e.g. `Sex`, `Age`)\n",
    "\n",
    "The following sample code shows what this would look like:\n",
    "```\n",
    "target = train[\"Survived\"].values\n",
    "\n",
    "features = train[[\"Sex\", \"Age\"]].values\n",
    "\n",
    "my_tree = tree.DecisionTreeClassifier()\n",
    "\n",
    "my_tree = my_tree.fit(features, target)\n",
    "```\n",
    "One way to quickly see the result of the decision tree is to see the importance of the features that are included. This is done by requesting the `.feature_importances_` attribute of the tree object. Another quick metric is the mean accuracy that we can compute using the `.score()` function with `features_one` and `target` as arguments.\n",
    "\n",
    "To build the decision tree, we will perform the following steps:\n",
    "1. Build the `target` and `features_one` numpy arrays. The target will be based on the `Survived` column in `train`. The features array will be based on the variables `Passenger`, `Class`, `Sex`, `Age`, and Passenger `Fare`.\n",
    "2. Build a decision tree `my_tree_one` to predict survival using `features_one` and `target`.\n",
    "3. View at the importance of features in the decision tree and compute the score."
   ]
  },
  {
   "cell_type": "code",
   "execution_count": 18,
   "metadata": {
    "collapsed": false,
    "deletable": true,
    "editable": true
   },
   "outputs": [
    {
     "name": "stdout",
     "output_type": "stream",
     "text": [
      "Our Decision Tree prediction took 0.00 seconds.\n",
      "Importance:\n",
      "[ 0.12294397  0.31274009  0.23320045  0.33111549]\n",
      "Score:\n",
      "0.977553310887\n"
     ]
    }
   ],
   "source": [
    "# Create the target and features numpy arrays: target, features_one\n",
    "target = train[\"Survived\"].values\n",
    "features_one = train[[\"Pclass\", \"Sex\", \"Age\", \"Fare\"]].values\n",
    "\n",
    "# Fit your first decision tree: my_tree_one\n",
    "my_tree_one = tree.DecisionTreeClassifier()\n",
    "start = time()\n",
    "my_tree_one = my_tree_one.fit(features_one, target)\n",
    "\n",
    "# Look at the importance and score of the included features\n",
    "print \"Our Decision Tree prediction took {:.2f} seconds.\".format(time() - start)\n",
    "print \"Importance:\\n\", my_tree_one.feature_importances_\n",
    "print \"Score:\\n\", my_tree_one.score(features_one, target)"
   ]
  },
  {
   "cell_type": "markdown",
   "metadata": {
    "deletable": true,
    "editable": true
   },
   "source": [
    "Looks like assenger __Fare__ has most significance in determining survival based on the model. Since we decalred the features to use (`features_one`), we can assume that the important features are assigned in the same order, but let's confirm that by mapping the feature name to it's importance."
   ]
  },
  {
   "cell_type": "code",
   "execution_count": 19,
   "metadata": {
    "collapsed": false,
    "deletable": true,
    "editable": true
   },
   "outputs": [
    {
     "name": "stdout",
     "output_type": "stream",
     "text": [
      "Features sorted by their score:\n",
      "[(0.3311, 'Fare'), (0.3127, 'Sex'), (0.2332, 'Age'), (0.1229, 'Pclass')]\n"
     ]
    }
   ],
   "source": [
    "# List of feature names\n",
    "names = [\"Pclass\", \"Sex\", \"Age\", \"Fare\"]\n",
    "\n",
    "# Code coutesy of:\n",
    "# http://blog.datadive.net/selecting-good-features-part-iii-random-forests/\n",
    "print \"Features sorted by their score:\"\n",
    "print sorted(zip(map(lambda x: round(x, 4), my_tree_one.feature_importances_), names), \n",
    "             reverse=True)"
   ]
  },
  {
   "cell_type": "markdown",
   "metadata": {
    "deletable": true,
    "editable": true
   },
   "source": [
    "# Dealing with Overfitting\n",
    "When applying models to new data, one thing to pay special attention to is __[overfitting](https://en.wikipedia.org/wiki/Overfitting)__. when creating the decision tree above, the default arguments for `max_depth` and `min_samples_split` were set to `None`. This means that no limit on the depth of the tree was set. This is not necessary a good thing, as we are likely overfitting. This means that while our model describes the training data extremely well, it doesn't generalize to new data, which is frankly the point of prediction. \n",
    "\n",
    "One solution to address this is to make  a less complex model. In `DecisionTreeRegressor`, the depth of the model is defined by two parameters:\n",
    "- The `max_depth` parameter determines when the splitting up of the decision tree stops.\n",
    "- The `min_samples_split` parameter monitors the amount of observations in a bucket. If a certain threshold is not reached (e.g minimum 10 passengers) no further splitting can be done.\n",
    "\n",
    "By limiting the complexity of the decision tree we can increase its generality and thus its usefulness for better prediction. To test this theory we now include the Siblings or Spouses Aboard (`SibSp`), Parents/Children Aboard (`Parch`), and `Embarked` features in a new set of features and fit a  second tree (`my_tree_two`) with the new features, and control for the model compelexity by toggling the `max_depth` and `min_samples_split` arguments."
   ]
  },
  {
   "cell_type": "code",
   "execution_count": 20,
   "metadata": {
    "collapsed": false,
    "deletable": true,
    "editable": true
   },
   "outputs": [
    {
     "name": "stdout",
     "output_type": "stream",
     "text": [
      "Our new Decision Tree prediction took 0.01 seconds.\n",
      "Importance:\n",
      "[ 0.14130255  0.17906027  0.41616727  0.17938711  0.05039699  0.01923751\n",
      "  0.0144483 ]\n",
      "Score:\n",
      "0.905723905724\n"
     ]
    }
   ],
   "source": [
    "# Create a new array with the added features: features_two\n",
    "target = train[\"Survived\"].values\n",
    "features_two = train[[\"Pclass\",\"Age\",\"Sex\",\"Fare\", \"SibSp\", \"Parch\", \"Embarked\"]].values\n",
    "\n",
    "# Control overfitting by setting \"max_depth\" to 10\n",
    "max_depth = 10\n",
    "\n",
    "# Control overfitting by setting \"min_samples_split\" to 5\n",
    "my_tree_two = tree.DecisionTreeClassifier(max_depth = 10, min_samples_split = 5, random_state = 1)\n",
    "\n",
    "# Create the my_tree_two model\n",
    "start = time()\n",
    "my_tree_two = my_tree_two.fit(features_two, target)\n",
    "\n",
    "#Print the score of the new decison tree\n",
    "print \"Our new Decision Tree prediction took {:.2f} seconds.\".format(time() - start)\n",
    "print \"Importance:\\n\", my_tree_two.feature_importances_\n",
    "print \"Score:\\n\", my_tree_two.score(features_two, target)"
   ]
  },
  {
   "cell_type": "markdown",
   "metadata": {
    "deletable": true,
    "editable": true
   },
   "source": [
    "Even though the scope of this tutorial doesn't include actually submitting the updated solution to Kaggle, we would see however that despite a lower `.score`, this new model predicts better then the fist one. \n",
    "\n",
    "# Feature Engineering\n",
    "One of the most complicated aspects of Data Science is trying various machine learning algorithms, dealing with over and under-fitting and tweaking parameters to find the best possible fit to new and unseen data. Part of the process fo tweaking paramaters isfeature engineering. This is the process of creatively engineering our own features by combining the different existing variables.\n",
    "\n",
    "While feature engineering is a discipline in itself, too broad to be covered here in detail, we will have a look at a simple example by creating our very own new predictive attribute: `family_size`. A valid assumption is that larger families need more time to get together on a sinking ship, and hence have lower probability of surviving. Family size is determined by the variables `SibSp` and `Parch`, which indicate the number of family members a certain passenger is traveling with. So when doing feature engineering, we add a new variable `family_size`, which is the sum of `SibSp` and `Parch` plus one (for the observation itself), to the test and train set. To engineer this new feature, we do the following:\n",
    "\n",
    "1. Create a \"fresh\" `train` set called `train_two` that differs from `train` only by having an extra column with the engineered variable `family_size`.\n",
    "2. Add the new engineered variable `family_size` in addition to `Pclass`, `Sex`, `Age`, `Fare`, `SibSp` and `Parch` to a new set,  `features_three`.\n",
    "3. Create a new decision tree as `my_tree_three` and fit the decision tree with the new feature set,  `features_three`.\n",
    "4. Find the score of the new decision tree."
   ]
  },
  {
   "cell_type": "code",
   "execution_count": 21,
   "metadata": {
    "collapsed": false,
    "deletable": true,
    "editable": true
   },
   "outputs": [
    {
     "name": "stdout",
     "output_type": "stream",
     "text": [
      "Our Decision Tree with `family_size` prediction took 0.01 seconds.\n",
      "Importance:\n",
      "[ 0.10681611  0.31088095  0.23533436  0.24737275  0.00569342  0.0133643\n",
      "  0.0805381 ]\n",
      "Score:\n",
      "0.979797979798\n"
     ]
    }
   ],
   "source": [
    "# Create train_two with the newly defined feature\n",
    "target = train[\"Survived\"].values\n",
    "train_two = train.copy()\n",
    "train_two[\"family_size\"] = train_two[\"SibSp\"] + train_two[\"Parch\"] + 1\n",
    "\n",
    "# Create a new feature set and add the new feature\n",
    "features_three = train_two[[\"Pclass\", \"Sex\", \"Age\", \"Fare\", \"SibSp\", \"Parch\", \"family_size\"]].values\n",
    "\n",
    "# Define the tree classifier, then fit the model\n",
    "my_tree_three = tree.DecisionTreeClassifier()\n",
    "start = time()\n",
    "my_tree_three = my_tree_three.fit(features_three, target)\n",
    "\n",
    "# Print the score of this decision tree\n",
    "print \"Our Decision Tree with `family_size` prediction took {:.2f} seconds.\".format(time() - start)\n",
    "print \"Importance:\\n\", my_tree_three.feature_importances_\n",
    "print \"Score:\\n\", my_tree_three.score(features_three, target)"
   ]
  },
  {
   "cell_type": "markdown",
   "metadata": {
    "deletable": true,
    "editable": true
   },
   "source": [
    "__Notice__ that this time the newly created variable is included in the model. \n",
    "# Prediction using Random Forest\n",
    "A detailed study of Random Forests is outside the scope of this tutorial. However, since it's an often used machine learning technique, we introduce a general overview in Python. The Random Forest technique handles the overfitting problem we saw with decision trees. It grows multiple (very deep) classification trees using the training set. At the time of prediction, each tree is used to come up with a prediction and every outcome is counted as a vote. For example, if we have trained $3$ trees with $2$ saying a passenger in the test set will survive and $1$ says he will not, the passenger will be classified as a survivor. This approach of overtraining trees, but having the majority's vote count as the actual classification decision, avoids overfitting.\n",
    "\n",
    "Building a random forest in Python looks is very similar to building a decision tree, with three key differences.\n",
    "1. A different class is used.\n",
    "2. A new argument is necessary.\n",
    "3. The necessary library from `scikit-learn` must be imported.\n",
    "    - Use the `RandomForestClassifier()` class instead of the `DecisionTreeClassifier()` class.\n",
    "    - `n_estimators` needs to be set when using the `RandomForestClassifier()` class. This argument allows us to set the number of trees we wish to plant and average over.\n",
    "\n",
    "The following exampple shows us how to build a Random Forest Classifier by dowing the following:\n",
    "1. Build the random forest with `n_estimators` set to 100.\n",
    "2. Fit your random forest model with inputs features_forest and target.\n",
    "3. Compute the classifier predictions on the selected test set features."
   ]
  },
  {
   "cell_type": "code",
   "execution_count": 22,
   "metadata": {
    "collapsed": false,
    "deletable": true,
    "editable": true
   },
   "outputs": [
    {
     "name": "stdout",
     "output_type": "stream",
     "text": [
      "Our Random Forest prediction took 0.72 seconds.\n",
      "Score:\n",
      "0.939393939394\n"
     ]
    }
   ],
   "source": [
    "# Import the `RandomForestClassifier`\n",
    "from sklearn.ensemble import RandomForestClassifier\n",
    "\n",
    "# Creat a list of the features. \n",
    "target = train[\"Survived\"].values\n",
    "forest_features = train[[\"Pclass\", \"Age\", \"Sex\", \"Fare\", \"SibSp\", \"Parch\", \"Embarked\"]].values\n",
    "\n",
    "# Building and fitting my_forest\n",
    "forest = RandomForestClassifier(max_depth = 10, min_samples_split=2, n_estimators = 100, random_state = 1)\n",
    "start = time()\n",
    "my_forest = forest.fit(forest_features, target)\n",
    "\n",
    "# Print the score of the fitted random forest\n",
    "print \"Our Random Forest prediction took {:.2f} seconds.\".format(time() - start)\n",
    "print \"Score:\\n\", my_forest.score(forest_features, target)"
   ]
  },
  {
   "cell_type": "markdown",
   "metadata": {
    "deletable": true,
    "editable": true
   },
   "source": [
    "# Model Comparison\n",
    "Recall that in the when using the Decision Tree models, we looked at the `.feature_importances_` attribute to see how each of the feature influenced the decision trees.  We can request the same attribute from the random forest as well and interpret the relevance of the included variables. Since the Random Forest aleviates the overfitting problem, it would be a good exercise to compare it to the Decision Tree model in some quick and easy way. For this, we can use the `.score()` method, which takes the features data and the target vector and computes mean accuracy of the model."
   ]
  },
  {
   "cell_type": "code",
   "execution_count": 23,
   "metadata": {
    "collapsed": false,
    "deletable": true,
    "editable": true
   },
   "outputs": [
    {
     "name": "stdout",
     "output_type": "stream",
     "text": [
      "Decision Tree final score: 0.905723905724\n",
      "Decision Tree features sorted by their score:\n",
      "[(0.4162, 'Sex'), (0.1794, 'Fare'), (0.1791, 'Age'), (0.1413, 'Pclass'), (0.0504, 'SibSp'), (0.0192, 'Parch'), (0.0144, 'Embarked')]\n",
      "\n",
      "\n",
      "Random Forest final score: 0.939393939394\n",
      "Random Forest features sorted by their score:\n",
      "[(0.3199, 'Sex'), (0.246, 'Fare'), (0.2014, 'Age'), (0.1038, 'Pclass'), (0.0527, 'SibSp'), (0.0416, 'Parch'), (0.0345, 'Embarked')]\n"
     ]
    }
   ],
   "source": [
    "# Final score comparison\n",
    "names = [\"Pclass\",\"Age\",\"Sex\",\"Fare\", \"SibSp\", \"Parch\", \"Embarked\"]\n",
    "print \"Decision Tree final score:\", my_tree_two.score(features_two, target)\n",
    "print \"Decision Tree features sorted by their score:\"\n",
    "print sorted(zip(map(lambda x: round(x, 4), my_tree_two.feature_importances_), names), \n",
    "             reverse=True)\n",
    "print \"\\n\"\n",
    "print \"Random Forest final score:\", my_forest.score(forest_features, target)\n",
    "print \"Random Forest features sorted by their score:\"\n",
    "print sorted(zip(map(lambda x: round(x, 4), my_forest.feature_importances_), names), \n",
    "             reverse=True)"
   ]
  },
  {
   "cell_type": "markdown",
   "metadata": {
    "deletable": true,
    "editable": true
   },
   "source": [
    "# Conclusion\n",
    "Based on our findings from the various models that have been run, we can determine which feature was of most importance, and for which model.\n",
    "\n",
    "__The most important feature was \"Sex\", but it was more significant for \"my_tree_two\" Decision Tree.__\n",
    "\n",
    "---\n",
    "\n",
    "# Ensemble Methods\n",
    "In an prediction task, it is important try and test multiple algorithms to find the best possible fit. In most cases it is not necessary or possible to test every single algorithm type against the data, a fare assesment may suffice, but it is a good practice to at least try achieve a better fit. That is why we introduced a different Machine Learning algorithm to the `DecisionTreeClassifier()` we were currently using. What we did in essence is introduce an Ensemble Method. The goal of ensemble methods is to combine the predictions of several base estimators built with a given learning algorithm in order to improve generalizability or robustness over a single estimator. In our case, we used the `RandomForestClassifier()` which built several (very deep) classification trees that when used for prediction, each tree is used to come up with a prediction and every outcome is counted as a vote. This is an example of an __averaging methods__. Here, the driving principle is to build several estimators independently and then to average their predictions. On average, the combined estimator is usually better than any of the single base estimator because its variance is reduced. This is evedent when comparing the score from both models above.\n",
    "\n",
    "One of the biggest issues with ensemble Methods is that they can be computationally exhaustive. The alternative is manually trying every possible variable combinations (since there is no easy way to know which parameters work best, other than trying out many different combinations) or parameter combinations (hyperparameters) to get the best model fit. Fortunately, the `scikit-learn` package includes the `GridSearchCV` and `RandomizedSearchCV` functions wich allows for the evaluation of each parameter setting independently, in parallel.\n",
    "\n",
    "The down-side to this is the fact that this is not scalable. The models above are executed on data in Pandas DataFrames. These DataFrames are memory resident, so unless the machine executing the models has sufficient memory or the data sets are small enough, the `GridSearchCV` and `RandomizedSearchCV` functions may not be helpful. Fortunately the team at Databrix has released the [`spark-sklearn`](http://spark-packages.org/package/databricks/spark-sklearn) package to allow us to execute these funcitons over a Spark cluster.\n",
    "\n",
    "The following example is based on the  [Auto-scaling scikit-learn with Spark](https://databricks.com/blog/2016/02/08/auto-scaling-scikit-learn-with-spark.html) example, but has been adapted to our Titanic example. The objective is to populate a \"grid\" of various model parameters and have `GridSearchCV` execute each set of parameters to determine the best score. The goal here is not necessarily to find a model with a better score but to illustrate the time it takes to search through the various model parameters to find the best one. The example has the following steps:\n",
    "\n",
    "1. Import the `GridSearchCV` library from `scikit-learn`.\n",
    "2. Create the function to report the top $3$ models, courtesy of [Databrix](http://go.databricks.com/hubfs/notebooks/Samples/Miscellaneous/blog_post_cv.html).\n",
    "3. Create the \"grid\" of parameters combnations to execute. Thjis is loosley based on the Databrix example.\n",
    "4. Fit the model with the \"grid\"of parameters."
   ]
  },
  {
   "cell_type": "code",
   "execution_count": null,
   "metadata": {
    "collapsed": false,
    "deletable": true,
    "editable": true,
    "scrolled": false
   },
   "outputs": [
    {
     "name": "stderr",
     "output_type": "stream",
     "text": [
      "D:\\Users\\AuxAdmin\\AppData\\Local\\Continuum\\Miniconda3\\envs\\SparkaaS\\lib\\site-packages\\sklearn\\cross_validation.py:44: DeprecationWarning: This module was deprecated in version 0.18 in favor of the model_selection module into which all the refactored classes and functions are moved. Also note that the interface of the new CV iterators are different from that of this module. This module will be removed in 0.20.\n",
      "  \"This module will be removed in 0.20.\", DeprecationWarning)\n",
      "D:\\Users\\AuxAdmin\\AppData\\Local\\Continuum\\Miniconda3\\envs\\SparkaaS\\lib\\site-packages\\sklearn\\grid_search.py:43: DeprecationWarning: This module was deprecated in version 0.18 in favor of the model_selection module into which all the refactored classes and functions are moved. This module will be removed in 0.20.\n",
      "  DeprecationWarning)\n"
     ]
    }
   ],
   "source": [
    "# Import necessary packages\n",
    "import warnings\n",
    "warnings.filterwarnings('ignore')\n",
    "from operator import itemgetter\n",
    "from sklearn import grid_search\n",
    "import pandas as pd\n",
    "\n",
    "# Databrix utility function to report top 3 best scores\n",
    "def report(grid_scores, n_top = 3):\n",
    "    top_scores = sorted(grid_scores, key = itemgetter(1), reverse = True)[:n_top]\n",
    "    for i, score in enumerate(top_scores):\n",
    "        print(\"Model with rank: {0}\".format(i + 1))\n",
    "        print(\"Mean validation score: {0:.3f} (std: {1:.3f})\".format(\n",
    "              score.mean_validation_score,\n",
    "              np.std(score.cv_validation_scores)))\n",
    "        print(\"Parameters: {0}\".format(score.parameters))\n",
    "        print(\"\")\n",
    "\n",
    "# Creat a list of the features. \n",
    "target = train[\"Survived\"].values\n",
    "forest_features = train[[\"Pclass\", \"Age\", \"Sex\", \"Fare\", \"SibSp\", \"Parch\", \"Embarked\"]].values\n",
    "\n",
    "# Add grid parameter code based on Databricks\n",
    "param_grid = {\"max_depth\": [3, 10, None],\n",
    "              \"min_samples_split\": [1.0, 2, 3, 10], \n",
    "              \"min_samples_leaf\": [1, 2, 3, 10], \n",
    "              \"bootstrap\": [True, False],\n",
    "              \"criterion\": [\"gini\", \"entropy\"],\n",
    "              \"n_estimators\": [10, 20, 40, 80, 160]}\n",
    "\n",
    "# Execute the grid search\n",
    "gs = grid_search.GridSearchCV(RandomForestClassifier(), param_grid = param_grid)\n",
    "start = time()\n",
    "gs.fit(forest_features, target)\n",
    "print(\"GridSearchCV took {:.2f} seconds for {:d} candidate settings.\".format(time() - start, len(gs.grid_scores_)))\n",
    "report(gs.grid_scores_)"
   ]
  },
  {
   "cell_type": "markdown",
   "metadata": {
    "deletable": true,
    "editable": true
   },
   "source": [
    "---\n",
    "# Ensemble Methods at Scale\n",
    "As we can see, the `GridSearchCV` took $1300$ seconds on a single machine and provided us with the top $3$ candidates and their settings to try. By applying these suggestions we can very effectivley find the best model as well as the optumum parameters to apply to achieve the best score. Next we aply the same proceedure to a Spark Cluster to parallelize the task across $5$ Spark Workers.\n",
    "\n",
    "## Provision EMR Cluster\n",
    "\n",
    "```\n",
    "aws emr create-cluster --auto-scaling-role EMR_AutoScaling_DefaultRole --termination-protected --applications Name=Hadoop Name=Hive Name=Spark --bootstrap-actions '[{\"Path\":\"s3://chkrd/artifacts/emr-base.sh\",\"Args\":[\"--julia\",\"--ruby\",\"--ds-packages\",\"--ml-packages\",\"--python-packages\",\"ggplot nilearn spark-sklearn\"],\"Name\":\"EMR Base Configuration\"}]' --ec2-attributes '{\"KeyName\":\"devenv-key\",\"InstanceProfile\":\"EMR_EC2_DefaultRole\",\"SubnetId\":\"subnet-39a22e5e\",\"EmrManagedSlaveSecurityGroup\":\"sg-86bb82fe\",\"EmrManagedMasterSecurityGroup\":\"sg-83bb82fb\"}' --service-role EMR_DefaultRole --enable-debugging --release-label emr-5.4.0 --log-uri 's3n://chkrd/elasticmapreduce/' --name 'SparkaaS' --instance-groups '[{\"InstanceCount\":5,\"InstanceGroupType\":\"CORE\",\"InstanceType\":\"m3.xlarge\",\"Name\":\"Core - 2\"},{\"InstanceCount\":1,\"InstanceGroupType\":\"MASTER\",\"InstanceType\":\"m3.xlarge\",\"Name\":\"Master - 1\"}]' --scale-down-behavior TERMINATE_AT_INSTANCE_HOUR --region us-west-2\n",
    "```\n",
    "\n",
    "## Load `sparkmagic` Jupyter Extension"
   ]
  },
  {
   "cell_type": "code",
   "execution_count": 24,
   "metadata": {
    "collapsed": true,
    "deletable": true,
    "editable": true
   },
   "outputs": [],
   "source": [
    "%load_ext sparkmagic.magics"
   ]
  },
  {
   "cell_type": "markdown",
   "metadata": {
    "deletable": true,
    "editable": true
   },
   "source": [
    "## Configure EMR Endpoint"
   ]
  },
  {
   "cell_type": "code",
   "execution_count": 25,
   "metadata": {
    "collapsed": false,
    "deletable": true,
    "editable": true
   },
   "outputs": [
    {
     "name": "stdout",
     "output_type": "stream",
     "text": [
      "Added endpoint http://54.190.49.183:8998\n"
     ]
    },
    {
     "name": "stderr",
     "output_type": "stream",
     "text": [
      "Session properties must be a valid JSON string. Error:\n",
      "Expecting ',' delimiter: line 1 column 43 (char 42)\n"
     ]
    },
    {
     "name": "stdout",
     "output_type": "stream",
     "text": [
      "Starting Spark application\n"
     ]
    },
    {
     "ename": "LivyUnexpectedStatusException",
     "evalue": "Session 0 unexpectedly reached final status 'dead'. See logs:\njava.lang.Exception: No YARN application is found with tag livy-session-0-5fzlxvj0 in 60 seconds. Please check your cluster status, it is may be very busy.\ncom.cloudera.livy.utils.SparkYarnApp.com$cloudera$livy$utils$SparkYarnApp$$getAppIdFromTag(SparkYarnApp.scala:182) com.cloudera.livy.utils.SparkYarnApp$$anonfun$1$$anonfun$4.apply(SparkYarnApp.scala:248) com.cloudera.livy.utils.SparkYarnApp$$anonfun$1$$anonfun$4.apply(SparkYarnApp.scala:245) scala.Option.getOrElse(Option.scala:120) com.cloudera.livy.utils.SparkYarnApp$$anonfun$1.apply$mcV$sp(SparkYarnApp.scala:245) com.cloudera.livy.Utils$$anon$1.run(Utils.scala:95)",
     "output_type": "error",
     "traceback": [
      "\u001b[1;31m\u001b[0m",
      "\u001b[1;31mLivyUnexpectedStatusException\u001b[0mTraceback (most recent call last)",
      "\u001b[1;32mD:\\Users\\AuxAdmin\\AppData\\Local\\Continuum\\Miniconda3\\envs\\SparkaaS\\lib\\site-packages\\hdijupyterutils\\ipywidgetfactory.pyc\u001b[0m in \u001b[0;36msubmit_clicked\u001b[1;34m(self, button)\u001b[0m\n\u001b[0;32m     63\u001b[0m \u001b[1;33m\u001b[0m\u001b[0m\n\u001b[0;32m     64\u001b[0m     \u001b[1;32mdef\u001b[0m \u001b[0msubmit_clicked\u001b[0m\u001b[1;33m(\u001b[0m\u001b[0mself\u001b[0m\u001b[1;33m,\u001b[0m \u001b[0mbutton\u001b[0m\u001b[1;33m)\u001b[0m\u001b[1;33m:\u001b[0m\u001b[1;33m\u001b[0m\u001b[0m\n\u001b[1;32m---> 65\u001b[1;33m         \u001b[0mself\u001b[0m\u001b[1;33m.\u001b[0m\u001b[0mparent_widget\u001b[0m\u001b[1;33m.\u001b[0m\u001b[0mrun\u001b[0m\u001b[1;33m(\u001b[0m\u001b[1;33m)\u001b[0m\u001b[1;33m\u001b[0m\u001b[0m\n\u001b[0m",
      "\u001b[1;32mD:\\Users\\AuxAdmin\\AppData\\Local\\Continuum\\Miniconda3\\envs\\SparkaaS\\lib\\site-packages\\sparkmagic\\controllerwidget\\createsessionwidget.pyc\u001b[0m in \u001b[0;36mrun\u001b[1;34m(self)\u001b[0m\n\u001b[0;32m     56\u001b[0m \u001b[1;33m\u001b[0m\u001b[0m\n\u001b[0;32m     57\u001b[0m         \u001b[1;32mtry\u001b[0m\u001b[1;33m:\u001b[0m\u001b[1;33m\u001b[0m\u001b[0m\n\u001b[1;32m---> 58\u001b[1;33m             \u001b[0mself\u001b[0m\u001b[1;33m.\u001b[0m\u001b[0mspark_controller\u001b[0m\u001b[1;33m.\u001b[0m\u001b[0madd_session\u001b[0m\u001b[1;33m(\u001b[0m\u001b[0malias\u001b[0m\u001b[1;33m,\u001b[0m \u001b[0mendpoint\u001b[0m\u001b[1;33m,\u001b[0m \u001b[0mskip\u001b[0m\u001b[1;33m,\u001b[0m \u001b[0mproperties\u001b[0m\u001b[1;33m)\u001b[0m\u001b[1;33m\u001b[0m\u001b[0m\n\u001b[0m\u001b[0;32m     59\u001b[0m         \u001b[1;32mexcept\u001b[0m \u001b[0mValueError\u001b[0m \u001b[1;32mas\u001b[0m \u001b[0me\u001b[0m\u001b[1;33m:\u001b[0m\u001b[1;33m\u001b[0m\u001b[0m\n\u001b[0;32m     60\u001b[0m             self.ipython_display.send_error(\"\"\"Could not add session with\n",
      "\u001b[1;32mD:\\Users\\AuxAdmin\\AppData\\Local\\Continuum\\Miniconda3\\envs\\SparkaaS\\lib\\site-packages\\sparkmagic\\livyclientlib\\sparkcontroller.pyc\u001b[0m in \u001b[0;36madd_session\u001b[1;34m(self, name, endpoint, skip_if_exists, properties)\u001b[0m\n\u001b[0;32m     79\u001b[0m         \u001b[0msession\u001b[0m \u001b[1;33m=\u001b[0m \u001b[0mself\u001b[0m\u001b[1;33m.\u001b[0m\u001b[0m_livy_session\u001b[0m\u001b[1;33m(\u001b[0m\u001b[0mhttp_client\u001b[0m\u001b[1;33m,\u001b[0m \u001b[0mproperties\u001b[0m\u001b[1;33m,\u001b[0m \u001b[0mself\u001b[0m\u001b[1;33m.\u001b[0m\u001b[0mipython_display\u001b[0m\u001b[1;33m)\u001b[0m\u001b[1;33m\u001b[0m\u001b[0m\n\u001b[0;32m     80\u001b[0m         \u001b[0mself\u001b[0m\u001b[1;33m.\u001b[0m\u001b[0msession_manager\u001b[0m\u001b[1;33m.\u001b[0m\u001b[0madd_session\u001b[0m\u001b[1;33m(\u001b[0m\u001b[0mname\u001b[0m\u001b[1;33m,\u001b[0m \u001b[0msession\u001b[0m\u001b[1;33m)\u001b[0m\u001b[1;33m\u001b[0m\u001b[0m\n\u001b[1;32m---> 81\u001b[1;33m         \u001b[0msession\u001b[0m\u001b[1;33m.\u001b[0m\u001b[0mstart\u001b[0m\u001b[1;33m(\u001b[0m\u001b[1;33m)\u001b[0m\u001b[1;33m\u001b[0m\u001b[0m\n\u001b[0m\u001b[0;32m     82\u001b[0m \u001b[1;33m\u001b[0m\u001b[0m\n\u001b[0;32m     83\u001b[0m     \u001b[1;32mdef\u001b[0m \u001b[0mget_session_id_for_client\u001b[0m\u001b[1;33m(\u001b[0m\u001b[0mself\u001b[0m\u001b[1;33m,\u001b[0m \u001b[0mname\u001b[0m\u001b[1;33m)\u001b[0m\u001b[1;33m:\u001b[0m\u001b[1;33m\u001b[0m\u001b[0m\n",
      "\u001b[1;32mD:\\Users\\AuxAdmin\\AppData\\Local\\Continuum\\Miniconda3\\envs\\SparkaaS\\lib\\site-packages\\sparkmagic\\livyclientlib\\livysession.pyc\u001b[0m in \u001b[0;36mstart\u001b[1;34m(self)\u001b[0m\n\u001b[0;32m    132\u001b[0m             \u001b[1;31m# We wait for livy_session_startup_timeout_seconds() for the session to start up.\u001b[0m\u001b[1;33m\u001b[0m\u001b[1;33m\u001b[0m\u001b[0m\n\u001b[0;32m    133\u001b[0m             \u001b[1;32mtry\u001b[0m\u001b[1;33m:\u001b[0m\u001b[1;33m\u001b[0m\u001b[0m\n\u001b[1;32m--> 134\u001b[1;33m                 \u001b[0mself\u001b[0m\u001b[1;33m.\u001b[0m\u001b[0mwait_for_idle\u001b[0m\u001b[1;33m(\u001b[0m\u001b[0mconf\u001b[0m\u001b[1;33m.\u001b[0m\u001b[0mlivy_session_startup_timeout_seconds\u001b[0m\u001b[1;33m(\u001b[0m\u001b[1;33m)\u001b[0m\u001b[1;33m)\u001b[0m\u001b[1;33m\u001b[0m\u001b[0m\n\u001b[0m\u001b[0;32m    135\u001b[0m             \u001b[1;32mexcept\u001b[0m \u001b[0mLivyClientTimeoutException\u001b[0m\u001b[1;33m:\u001b[0m\u001b[1;33m\u001b[0m\u001b[0m\n\u001b[0;32m    136\u001b[0m                 raise LivyClientTimeoutException(u\"Session {} did not start up in {} seconds.\"\n",
      "\u001b[1;32mD:\\Users\\AuxAdmin\\AppData\\Local\\Continuum\\Miniconda3\\envs\\SparkaaS\\lib\\site-packages\\sparkmagic\\livyclientlib\\livysession.pyc\u001b[0m in \u001b[0;36mwait_for_idle\u001b[1;34m(self, seconds_to_wait)\u001b[0m\n\u001b[0;32m    238\u001b[0m                     \u001b[1;33m.\u001b[0m\u001b[0mformat\u001b[0m\u001b[1;33m(\u001b[0m\u001b[0mself\u001b[0m\u001b[1;33m.\u001b[0m\u001b[0mid\u001b[0m\u001b[1;33m,\u001b[0m \u001b[0mself\u001b[0m\u001b[1;33m.\u001b[0m\u001b[0mstatus\u001b[0m\u001b[1;33m)\u001b[0m\u001b[1;33m\u001b[0m\u001b[0m\n\u001b[0;32m    239\u001b[0m                 \u001b[0mself\u001b[0m\u001b[1;33m.\u001b[0m\u001b[0mlogger\u001b[0m\u001b[1;33m.\u001b[0m\u001b[0merror\u001b[0m\u001b[1;33m(\u001b[0m\u001b[0merror\u001b[0m\u001b[1;33m)\u001b[0m\u001b[1;33m\u001b[0m\u001b[0m\n\u001b[1;32m--> 240\u001b[1;33m                 \u001b[1;32mraise\u001b[0m \u001b[0mLivyUnexpectedStatusException\u001b[0m\u001b[1;33m(\u001b[0m\u001b[1;34mu'{} See logs:\\n{}'\u001b[0m\u001b[1;33m.\u001b[0m\u001b[0mformat\u001b[0m\u001b[1;33m(\u001b[0m\u001b[0merror\u001b[0m\u001b[1;33m,\u001b[0m \u001b[0mself\u001b[0m\u001b[1;33m.\u001b[0m\u001b[0mget_logs\u001b[0m\u001b[1;33m(\u001b[0m\u001b[1;33m)\u001b[0m\u001b[1;33m)\u001b[0m\u001b[1;33m)\u001b[0m\u001b[1;33m\u001b[0m\u001b[0m\n\u001b[0m\u001b[0;32m    241\u001b[0m \u001b[1;33m\u001b[0m\u001b[0m\n\u001b[0;32m    242\u001b[0m             \u001b[1;32mif\u001b[0m \u001b[0mseconds_to_wait\u001b[0m \u001b[1;33m<=\u001b[0m \u001b[1;36m0.0\u001b[0m\u001b[1;33m:\u001b[0m\u001b[1;33m\u001b[0m\u001b[0m\n",
      "\u001b[1;31mLivyUnexpectedStatusException\u001b[0m: Session 0 unexpectedly reached final status 'dead'. See logs:\njava.lang.Exception: No YARN application is found with tag livy-session-0-5fzlxvj0 in 60 seconds. Please check your cluster status, it is may be very busy.\ncom.cloudera.livy.utils.SparkYarnApp.com$cloudera$livy$utils$SparkYarnApp$$getAppIdFromTag(SparkYarnApp.scala:182) com.cloudera.livy.utils.SparkYarnApp$$anonfun$1$$anonfun$4.apply(SparkYarnApp.scala:248) com.cloudera.livy.utils.SparkYarnApp$$anonfun$1$$anonfun$4.apply(SparkYarnApp.scala:245) scala.Option.getOrElse(Option.scala:120) com.cloudera.livy.utils.SparkYarnApp$$anonfun$1.apply$mcV$sp(SparkYarnApp.scala:245) com.cloudera.livy.Utils$$anon$1.run(Utils.scala:95)"
     ]
    },
    {
     "ename": "SessionManagementException",
     "evalue": "Session with name 'session-name' already exists. Please delete the session first if you intend to replace it.",
     "output_type": "error",
     "traceback": [
      "\u001b[1;31m\u001b[0m",
      "\u001b[1;31mSessionManagementException\u001b[0mTraceback (most recent call last)",
      "\u001b[1;32mD:\\Users\\AuxAdmin\\AppData\\Local\\Continuum\\Miniconda3\\envs\\SparkaaS\\lib\\site-packages\\hdijupyterutils\\ipywidgetfactory.pyc\u001b[0m in \u001b[0;36msubmit_clicked\u001b[1;34m(self, button)\u001b[0m\n\u001b[0;32m     63\u001b[0m \u001b[1;33m\u001b[0m\u001b[0m\n\u001b[0;32m     64\u001b[0m     \u001b[1;32mdef\u001b[0m \u001b[0msubmit_clicked\u001b[0m\u001b[1;33m(\u001b[0m\u001b[0mself\u001b[0m\u001b[1;33m,\u001b[0m \u001b[0mbutton\u001b[0m\u001b[1;33m)\u001b[0m\u001b[1;33m:\u001b[0m\u001b[1;33m\u001b[0m\u001b[0m\n\u001b[1;32m---> 65\u001b[1;33m         \u001b[0mself\u001b[0m\u001b[1;33m.\u001b[0m\u001b[0mparent_widget\u001b[0m\u001b[1;33m.\u001b[0m\u001b[0mrun\u001b[0m\u001b[1;33m(\u001b[0m\u001b[1;33m)\u001b[0m\u001b[1;33m\u001b[0m\u001b[0m\n\u001b[0m",
      "\u001b[1;32mD:\\Users\\AuxAdmin\\AppData\\Local\\Continuum\\Miniconda3\\envs\\SparkaaS\\lib\\site-packages\\sparkmagic\\controllerwidget\\createsessionwidget.pyc\u001b[0m in \u001b[0;36mrun\u001b[1;34m(self)\u001b[0m\n\u001b[0;32m     56\u001b[0m \u001b[1;33m\u001b[0m\u001b[0m\n\u001b[0;32m     57\u001b[0m         \u001b[1;32mtry\u001b[0m\u001b[1;33m:\u001b[0m\u001b[1;33m\u001b[0m\u001b[0m\n\u001b[1;32m---> 58\u001b[1;33m             \u001b[0mself\u001b[0m\u001b[1;33m.\u001b[0m\u001b[0mspark_controller\u001b[0m\u001b[1;33m.\u001b[0m\u001b[0madd_session\u001b[0m\u001b[1;33m(\u001b[0m\u001b[0malias\u001b[0m\u001b[1;33m,\u001b[0m \u001b[0mendpoint\u001b[0m\u001b[1;33m,\u001b[0m \u001b[0mskip\u001b[0m\u001b[1;33m,\u001b[0m \u001b[0mproperties\u001b[0m\u001b[1;33m)\u001b[0m\u001b[1;33m\u001b[0m\u001b[0m\n\u001b[0m\u001b[0;32m     59\u001b[0m         \u001b[1;32mexcept\u001b[0m \u001b[0mValueError\u001b[0m \u001b[1;32mas\u001b[0m \u001b[0me\u001b[0m\u001b[1;33m:\u001b[0m\u001b[1;33m\u001b[0m\u001b[0m\n\u001b[0;32m     60\u001b[0m             self.ipython_display.send_error(\"\"\"Could not add session with\n",
      "\u001b[1;32mD:\\Users\\AuxAdmin\\AppData\\Local\\Continuum\\Miniconda3\\envs\\SparkaaS\\lib\\site-packages\\sparkmagic\\livyclientlib\\sparkcontroller.pyc\u001b[0m in \u001b[0;36madd_session\u001b[1;34m(self, name, endpoint, skip_if_exists, properties)\u001b[0m\n\u001b[0;32m     78\u001b[0m         \u001b[0mhttp_client\u001b[0m \u001b[1;33m=\u001b[0m \u001b[0mself\u001b[0m\u001b[1;33m.\u001b[0m\u001b[0m_http_client\u001b[0m\u001b[1;33m(\u001b[0m\u001b[0mendpoint\u001b[0m\u001b[1;33m)\u001b[0m\u001b[1;33m\u001b[0m\u001b[0m\n\u001b[0;32m     79\u001b[0m         \u001b[0msession\u001b[0m \u001b[1;33m=\u001b[0m \u001b[0mself\u001b[0m\u001b[1;33m.\u001b[0m\u001b[0m_livy_session\u001b[0m\u001b[1;33m(\u001b[0m\u001b[0mhttp_client\u001b[0m\u001b[1;33m,\u001b[0m \u001b[0mproperties\u001b[0m\u001b[1;33m,\u001b[0m \u001b[0mself\u001b[0m\u001b[1;33m.\u001b[0m\u001b[0mipython_display\u001b[0m\u001b[1;33m)\u001b[0m\u001b[1;33m\u001b[0m\u001b[0m\n\u001b[1;32m---> 80\u001b[1;33m         \u001b[0mself\u001b[0m\u001b[1;33m.\u001b[0m\u001b[0msession_manager\u001b[0m\u001b[1;33m.\u001b[0m\u001b[0madd_session\u001b[0m\u001b[1;33m(\u001b[0m\u001b[0mname\u001b[0m\u001b[1;33m,\u001b[0m \u001b[0msession\u001b[0m\u001b[1;33m)\u001b[0m\u001b[1;33m\u001b[0m\u001b[0m\n\u001b[0m\u001b[0;32m     81\u001b[0m         \u001b[0msession\u001b[0m\u001b[1;33m.\u001b[0m\u001b[0mstart\u001b[0m\u001b[1;33m(\u001b[0m\u001b[1;33m)\u001b[0m\u001b[1;33m\u001b[0m\u001b[0m\n\u001b[0;32m     82\u001b[0m \u001b[1;33m\u001b[0m\u001b[0m\n",
      "\u001b[1;32mD:\\Users\\AuxAdmin\\AppData\\Local\\Continuum\\Miniconda3\\envs\\SparkaaS\\lib\\site-packages\\sparkmagic\\livyclientlib\\sessionmanager.pyc\u001b[0m in \u001b[0;36madd_session\u001b[1;34m(self, name, session)\u001b[0m\n\u001b[0;32m     26\u001b[0m         \u001b[1;32mif\u001b[0m \u001b[0mname\u001b[0m \u001b[1;32min\u001b[0m \u001b[0mself\u001b[0m\u001b[1;33m.\u001b[0m\u001b[0m_sessions\u001b[0m\u001b[1;33m:\u001b[0m\u001b[1;33m\u001b[0m\u001b[0m\n\u001b[0;32m     27\u001b[0m             raise SessionManagementException(u\"Session with name '{}' already exists. Please delete the session\"\n\u001b[1;32m---> 28\u001b[1;33m                                              u\" first if you intend to replace it.\".format(name))\n\u001b[0m\u001b[0;32m     29\u001b[0m \u001b[1;33m\u001b[0m\u001b[0m\n\u001b[0;32m     30\u001b[0m         \u001b[0mself\u001b[0m\u001b[1;33m.\u001b[0m\u001b[0m_sessions\u001b[0m\u001b[1;33m[\u001b[0m\u001b[0mname\u001b[0m\u001b[1;33m]\u001b[0m \u001b[1;33m=\u001b[0m \u001b[0msession\u001b[0m\u001b[1;33m\u001b[0m\u001b[0m\n",
      "\u001b[1;31mSessionManagementException\u001b[0m: Session with name 'session-name' already exists. Please delete the session first if you intend to replace it."
     ]
    },
    {
     "ename": "SessionManagementException",
     "evalue": "Session with name 'session-name' already exists. Please delete the session first if you intend to replace it.",
     "output_type": "error",
     "traceback": [
      "\u001b[1;31m\u001b[0m",
      "\u001b[1;31mSessionManagementException\u001b[0mTraceback (most recent call last)",
      "\u001b[1;32mD:\\Users\\AuxAdmin\\AppData\\Local\\Continuum\\Miniconda3\\envs\\SparkaaS\\lib\\site-packages\\hdijupyterutils\\ipywidgetfactory.pyc\u001b[0m in \u001b[0;36msubmit_clicked\u001b[1;34m(self, button)\u001b[0m\n\u001b[0;32m     63\u001b[0m \u001b[1;33m\u001b[0m\u001b[0m\n\u001b[0;32m     64\u001b[0m     \u001b[1;32mdef\u001b[0m \u001b[0msubmit_clicked\u001b[0m\u001b[1;33m(\u001b[0m\u001b[0mself\u001b[0m\u001b[1;33m,\u001b[0m \u001b[0mbutton\u001b[0m\u001b[1;33m)\u001b[0m\u001b[1;33m:\u001b[0m\u001b[1;33m\u001b[0m\u001b[0m\n\u001b[1;32m---> 65\u001b[1;33m         \u001b[0mself\u001b[0m\u001b[1;33m.\u001b[0m\u001b[0mparent_widget\u001b[0m\u001b[1;33m.\u001b[0m\u001b[0mrun\u001b[0m\u001b[1;33m(\u001b[0m\u001b[1;33m)\u001b[0m\u001b[1;33m\u001b[0m\u001b[0m\n\u001b[0m",
      "\u001b[1;32mD:\\Users\\AuxAdmin\\AppData\\Local\\Continuum\\Miniconda3\\envs\\SparkaaS\\lib\\site-packages\\sparkmagic\\controllerwidget\\createsessionwidget.pyc\u001b[0m in \u001b[0;36mrun\u001b[1;34m(self)\u001b[0m\n\u001b[0;32m     56\u001b[0m \u001b[1;33m\u001b[0m\u001b[0m\n\u001b[0;32m     57\u001b[0m         \u001b[1;32mtry\u001b[0m\u001b[1;33m:\u001b[0m\u001b[1;33m\u001b[0m\u001b[0m\n\u001b[1;32m---> 58\u001b[1;33m             \u001b[0mself\u001b[0m\u001b[1;33m.\u001b[0m\u001b[0mspark_controller\u001b[0m\u001b[1;33m.\u001b[0m\u001b[0madd_session\u001b[0m\u001b[1;33m(\u001b[0m\u001b[0malias\u001b[0m\u001b[1;33m,\u001b[0m \u001b[0mendpoint\u001b[0m\u001b[1;33m,\u001b[0m \u001b[0mskip\u001b[0m\u001b[1;33m,\u001b[0m \u001b[0mproperties\u001b[0m\u001b[1;33m)\u001b[0m\u001b[1;33m\u001b[0m\u001b[0m\n\u001b[0m\u001b[0;32m     59\u001b[0m         \u001b[1;32mexcept\u001b[0m \u001b[0mValueError\u001b[0m \u001b[1;32mas\u001b[0m \u001b[0me\u001b[0m\u001b[1;33m:\u001b[0m\u001b[1;33m\u001b[0m\u001b[0m\n\u001b[0;32m     60\u001b[0m             self.ipython_display.send_error(\"\"\"Could not add session with\n",
      "\u001b[1;32mD:\\Users\\AuxAdmin\\AppData\\Local\\Continuum\\Miniconda3\\envs\\SparkaaS\\lib\\site-packages\\sparkmagic\\livyclientlib\\sparkcontroller.pyc\u001b[0m in \u001b[0;36madd_session\u001b[1;34m(self, name, endpoint, skip_if_exists, properties)\u001b[0m\n\u001b[0;32m     78\u001b[0m         \u001b[0mhttp_client\u001b[0m \u001b[1;33m=\u001b[0m \u001b[0mself\u001b[0m\u001b[1;33m.\u001b[0m\u001b[0m_http_client\u001b[0m\u001b[1;33m(\u001b[0m\u001b[0mendpoint\u001b[0m\u001b[1;33m)\u001b[0m\u001b[1;33m\u001b[0m\u001b[0m\n\u001b[0;32m     79\u001b[0m         \u001b[0msession\u001b[0m \u001b[1;33m=\u001b[0m \u001b[0mself\u001b[0m\u001b[1;33m.\u001b[0m\u001b[0m_livy_session\u001b[0m\u001b[1;33m(\u001b[0m\u001b[0mhttp_client\u001b[0m\u001b[1;33m,\u001b[0m \u001b[0mproperties\u001b[0m\u001b[1;33m,\u001b[0m \u001b[0mself\u001b[0m\u001b[1;33m.\u001b[0m\u001b[0mipython_display\u001b[0m\u001b[1;33m)\u001b[0m\u001b[1;33m\u001b[0m\u001b[0m\n\u001b[1;32m---> 80\u001b[1;33m         \u001b[0mself\u001b[0m\u001b[1;33m.\u001b[0m\u001b[0msession_manager\u001b[0m\u001b[1;33m.\u001b[0m\u001b[0madd_session\u001b[0m\u001b[1;33m(\u001b[0m\u001b[0mname\u001b[0m\u001b[1;33m,\u001b[0m \u001b[0msession\u001b[0m\u001b[1;33m)\u001b[0m\u001b[1;33m\u001b[0m\u001b[0m\n\u001b[0m\u001b[0;32m     81\u001b[0m         \u001b[0msession\u001b[0m\u001b[1;33m.\u001b[0m\u001b[0mstart\u001b[0m\u001b[1;33m(\u001b[0m\u001b[1;33m)\u001b[0m\u001b[1;33m\u001b[0m\u001b[0m\n\u001b[0;32m     82\u001b[0m \u001b[1;33m\u001b[0m\u001b[0m\n",
      "\u001b[1;32mD:\\Users\\AuxAdmin\\AppData\\Local\\Continuum\\Miniconda3\\envs\\SparkaaS\\lib\\site-packages\\sparkmagic\\livyclientlib\\sessionmanager.pyc\u001b[0m in \u001b[0;36madd_session\u001b[1;34m(self, name, session)\u001b[0m\n\u001b[0;32m     26\u001b[0m         \u001b[1;32mif\u001b[0m \u001b[0mname\u001b[0m \u001b[1;32min\u001b[0m \u001b[0mself\u001b[0m\u001b[1;33m.\u001b[0m\u001b[0m_sessions\u001b[0m\u001b[1;33m:\u001b[0m\u001b[1;33m\u001b[0m\u001b[0m\n\u001b[0;32m     27\u001b[0m             raise SessionManagementException(u\"Session with name '{}' already exists. Please delete the session\"\n\u001b[1;32m---> 28\u001b[1;33m                                              u\" first if you intend to replace it.\".format(name))\n\u001b[0m\u001b[0;32m     29\u001b[0m \u001b[1;33m\u001b[0m\u001b[0m\n\u001b[0;32m     30\u001b[0m         \u001b[0mself\u001b[0m\u001b[1;33m.\u001b[0m\u001b[0m_sessions\u001b[0m\u001b[1;33m[\u001b[0m\u001b[0mname\u001b[0m\u001b[1;33m]\u001b[0m \u001b[1;33m=\u001b[0m \u001b[0msession\u001b[0m\u001b[1;33m\u001b[0m\u001b[0m\n",
      "\u001b[1;31mSessionManagementException\u001b[0m: Session with name 'session-name' already exists. Please delete the session first if you intend to replace it."
     ]
    },
    {
     "ename": "SessionManagementException",
     "evalue": "Session with name 'session-name' already exists. Please delete the session first if you intend to replace it.",
     "output_type": "error",
     "traceback": [
      "\u001b[1;31m\u001b[0m",
      "\u001b[1;31mSessionManagementException\u001b[0mTraceback (most recent call last)",
      "\u001b[1;32mD:\\Users\\AuxAdmin\\AppData\\Local\\Continuum\\Miniconda3\\envs\\SparkaaS\\lib\\site-packages\\hdijupyterutils\\ipywidgetfactory.pyc\u001b[0m in \u001b[0;36msubmit_clicked\u001b[1;34m(self, button)\u001b[0m\n\u001b[0;32m     63\u001b[0m \u001b[1;33m\u001b[0m\u001b[0m\n\u001b[0;32m     64\u001b[0m     \u001b[1;32mdef\u001b[0m \u001b[0msubmit_clicked\u001b[0m\u001b[1;33m(\u001b[0m\u001b[0mself\u001b[0m\u001b[1;33m,\u001b[0m \u001b[0mbutton\u001b[0m\u001b[1;33m)\u001b[0m\u001b[1;33m:\u001b[0m\u001b[1;33m\u001b[0m\u001b[0m\n\u001b[1;32m---> 65\u001b[1;33m         \u001b[0mself\u001b[0m\u001b[1;33m.\u001b[0m\u001b[0mparent_widget\u001b[0m\u001b[1;33m.\u001b[0m\u001b[0mrun\u001b[0m\u001b[1;33m(\u001b[0m\u001b[1;33m)\u001b[0m\u001b[1;33m\u001b[0m\u001b[0m\n\u001b[0m",
      "\u001b[1;32mD:\\Users\\AuxAdmin\\AppData\\Local\\Continuum\\Miniconda3\\envs\\SparkaaS\\lib\\site-packages\\sparkmagic\\controllerwidget\\createsessionwidget.pyc\u001b[0m in \u001b[0;36mrun\u001b[1;34m(self)\u001b[0m\n\u001b[0;32m     56\u001b[0m \u001b[1;33m\u001b[0m\u001b[0m\n\u001b[0;32m     57\u001b[0m         \u001b[1;32mtry\u001b[0m\u001b[1;33m:\u001b[0m\u001b[1;33m\u001b[0m\u001b[0m\n\u001b[1;32m---> 58\u001b[1;33m             \u001b[0mself\u001b[0m\u001b[1;33m.\u001b[0m\u001b[0mspark_controller\u001b[0m\u001b[1;33m.\u001b[0m\u001b[0madd_session\u001b[0m\u001b[1;33m(\u001b[0m\u001b[0malias\u001b[0m\u001b[1;33m,\u001b[0m \u001b[0mendpoint\u001b[0m\u001b[1;33m,\u001b[0m \u001b[0mskip\u001b[0m\u001b[1;33m,\u001b[0m \u001b[0mproperties\u001b[0m\u001b[1;33m)\u001b[0m\u001b[1;33m\u001b[0m\u001b[0m\n\u001b[0m\u001b[0;32m     59\u001b[0m         \u001b[1;32mexcept\u001b[0m \u001b[0mValueError\u001b[0m \u001b[1;32mas\u001b[0m \u001b[0me\u001b[0m\u001b[1;33m:\u001b[0m\u001b[1;33m\u001b[0m\u001b[0m\n\u001b[0;32m     60\u001b[0m             self.ipython_display.send_error(\"\"\"Could not add session with\n",
      "\u001b[1;32mD:\\Users\\AuxAdmin\\AppData\\Local\\Continuum\\Miniconda3\\envs\\SparkaaS\\lib\\site-packages\\sparkmagic\\livyclientlib\\sparkcontroller.pyc\u001b[0m in \u001b[0;36madd_session\u001b[1;34m(self, name, endpoint, skip_if_exists, properties)\u001b[0m\n\u001b[0;32m     78\u001b[0m         \u001b[0mhttp_client\u001b[0m \u001b[1;33m=\u001b[0m \u001b[0mself\u001b[0m\u001b[1;33m.\u001b[0m\u001b[0m_http_client\u001b[0m\u001b[1;33m(\u001b[0m\u001b[0mendpoint\u001b[0m\u001b[1;33m)\u001b[0m\u001b[1;33m\u001b[0m\u001b[0m\n\u001b[0;32m     79\u001b[0m         \u001b[0msession\u001b[0m \u001b[1;33m=\u001b[0m \u001b[0mself\u001b[0m\u001b[1;33m.\u001b[0m\u001b[0m_livy_session\u001b[0m\u001b[1;33m(\u001b[0m\u001b[0mhttp_client\u001b[0m\u001b[1;33m,\u001b[0m \u001b[0mproperties\u001b[0m\u001b[1;33m,\u001b[0m \u001b[0mself\u001b[0m\u001b[1;33m.\u001b[0m\u001b[0mipython_display\u001b[0m\u001b[1;33m)\u001b[0m\u001b[1;33m\u001b[0m\u001b[0m\n\u001b[1;32m---> 80\u001b[1;33m         \u001b[0mself\u001b[0m\u001b[1;33m.\u001b[0m\u001b[0msession_manager\u001b[0m\u001b[1;33m.\u001b[0m\u001b[0madd_session\u001b[0m\u001b[1;33m(\u001b[0m\u001b[0mname\u001b[0m\u001b[1;33m,\u001b[0m \u001b[0msession\u001b[0m\u001b[1;33m)\u001b[0m\u001b[1;33m\u001b[0m\u001b[0m\n\u001b[0m\u001b[0;32m     81\u001b[0m         \u001b[0msession\u001b[0m\u001b[1;33m.\u001b[0m\u001b[0mstart\u001b[0m\u001b[1;33m(\u001b[0m\u001b[1;33m)\u001b[0m\u001b[1;33m\u001b[0m\u001b[0m\n\u001b[0;32m     82\u001b[0m \u001b[1;33m\u001b[0m\u001b[0m\n",
      "\u001b[1;32mD:\\Users\\AuxAdmin\\AppData\\Local\\Continuum\\Miniconda3\\envs\\SparkaaS\\lib\\site-packages\\sparkmagic\\livyclientlib\\sessionmanager.pyc\u001b[0m in \u001b[0;36madd_session\u001b[1;34m(self, name, session)\u001b[0m\n\u001b[0;32m     26\u001b[0m         \u001b[1;32mif\u001b[0m \u001b[0mname\u001b[0m \u001b[1;32min\u001b[0m \u001b[0mself\u001b[0m\u001b[1;33m.\u001b[0m\u001b[0m_sessions\u001b[0m\u001b[1;33m:\u001b[0m\u001b[1;33m\u001b[0m\u001b[0m\n\u001b[0;32m     27\u001b[0m             raise SessionManagementException(u\"Session with name '{}' already exists. Please delete the session\"\n\u001b[1;32m---> 28\u001b[1;33m                                              u\" first if you intend to replace it.\".format(name))\n\u001b[0m\u001b[0;32m     29\u001b[0m \u001b[1;33m\u001b[0m\u001b[0m\n\u001b[0;32m     30\u001b[0m         \u001b[0mself\u001b[0m\u001b[1;33m.\u001b[0m\u001b[0m_sessions\u001b[0m\u001b[1;33m[\u001b[0m\u001b[0mname\u001b[0m\u001b[1;33m]\u001b[0m \u001b[1;33m=\u001b[0m \u001b[0msession\u001b[0m\u001b[1;33m\u001b[0m\u001b[0m\n",
      "\u001b[1;31mSessionManagementException\u001b[0m: Session with name 'session-name' already exists. Please delete the session first if you intend to replace it."
     ]
    },
    {
     "name": "stdout",
     "output_type": "stream",
     "text": [
      "Cleaned up endpoint http://54.190.49.183:8998\n"
     ]
    },
    {
     "ename": "HttpClientException",
     "evalue": "Invalid status code '404' from http://54.190.49.183:8998/sessions/0 with error payload: \"Session '0' not found.\"",
     "output_type": "error",
     "traceback": [
      "\u001b[1;31m\u001b[0m",
      "\u001b[1;31mHttpClientException\u001b[0mTraceback (most recent call last)",
      "\u001b[1;32mD:\\Users\\AuxAdmin\\AppData\\Local\\Continuum\\Miniconda3\\envs\\SparkaaS\\lib\\site-packages\\sparkmagic\\controllerwidget\\manageendpointwidget.pyc\u001b[0m in \u001b[0;36mdelete_endpoint\u001b[1;34m(button)\u001b[0m\n\u001b[0;32m    100\u001b[0m             \u001b[1;32mtry\u001b[0m\u001b[1;33m:\u001b[0m\u001b[1;33m\u001b[0m\u001b[0m\n\u001b[0;32m    101\u001b[0m                 \u001b[0mid\u001b[0m \u001b[1;33m=\u001b[0m \u001b[0msession_text\u001b[0m\u001b[1;33m.\u001b[0m\u001b[0mvalue\u001b[0m\u001b[1;33m\u001b[0m\u001b[0m\n\u001b[1;32m--> 102\u001b[1;33m                 \u001b[0mself\u001b[0m\u001b[1;33m.\u001b[0m\u001b[0mspark_controller\u001b[0m\u001b[1;33m.\u001b[0m\u001b[0mdelete_session_by_id\u001b[0m\u001b[1;33m(\u001b[0m\u001b[0mendpoint\u001b[0m\u001b[1;33m,\u001b[0m \u001b[0mid\u001b[0m\u001b[1;33m)\u001b[0m\u001b[1;33m\u001b[0m\u001b[0m\n\u001b[0m\u001b[0;32m    103\u001b[0m                 \u001b[0mself\u001b[0m\u001b[1;33m.\u001b[0m\u001b[0mipython_display\u001b[0m\u001b[1;33m.\u001b[0m\u001b[0mwriteln\u001b[0m\u001b[1;33m(\u001b[0m\u001b[1;34m\"Deleted session {} at {}\"\u001b[0m\u001b[1;33m.\u001b[0m\u001b[0mformat\u001b[0m\u001b[1;33m(\u001b[0m\u001b[0mid\u001b[0m\u001b[1;33m,\u001b[0m \u001b[0murl\u001b[0m\u001b[1;33m)\u001b[0m\u001b[1;33m)\u001b[0m\u001b[1;33m\u001b[0m\u001b[0m\n\u001b[0;32m    104\u001b[0m             \u001b[1;32mexcept\u001b[0m \u001b[0mValueError\u001b[0m \u001b[1;32mas\u001b[0m \u001b[0me\u001b[0m\u001b[1;33m:\u001b[0m\u001b[1;33m\u001b[0m\u001b[0m\n",
      "\u001b[1;32mD:\\Users\\AuxAdmin\\AppData\\Local\\Continuum\\Miniconda3\\envs\\SparkaaS\\lib\\site-packages\\sparkmagic\\livyclientlib\\sparkcontroller.pyc\u001b[0m in \u001b[0;36mdelete_session_by_id\u001b[1;34m(self, endpoint, session_id)\u001b[0m\n\u001b[0;32m     66\u001b[0m     \u001b[1;32mdef\u001b[0m \u001b[0mdelete_session_by_id\u001b[0m\u001b[1;33m(\u001b[0m\u001b[0mself\u001b[0m\u001b[1;33m,\u001b[0m \u001b[0mendpoint\u001b[0m\u001b[1;33m,\u001b[0m \u001b[0msession_id\u001b[0m\u001b[1;33m)\u001b[0m\u001b[1;33m:\u001b[0m\u001b[1;33m\u001b[0m\u001b[0m\n\u001b[0;32m     67\u001b[0m         \u001b[0mhttp_client\u001b[0m \u001b[1;33m=\u001b[0m \u001b[0mself\u001b[0m\u001b[1;33m.\u001b[0m\u001b[0m_http_client\u001b[0m\u001b[1;33m(\u001b[0m\u001b[0mendpoint\u001b[0m\u001b[1;33m)\u001b[0m\u001b[1;33m\u001b[0m\u001b[0m\n\u001b[1;32m---> 68\u001b[1;33m         \u001b[0mresponse\u001b[0m \u001b[1;33m=\u001b[0m \u001b[0mhttp_client\u001b[0m\u001b[1;33m.\u001b[0m\u001b[0mget_session\u001b[0m\u001b[1;33m(\u001b[0m\u001b[0msession_id\u001b[0m\u001b[1;33m)\u001b[0m\u001b[1;33m\u001b[0m\u001b[0m\n\u001b[0m\u001b[0;32m     69\u001b[0m         \u001b[0mhttp_client\u001b[0m \u001b[1;33m=\u001b[0m \u001b[0mself\u001b[0m\u001b[1;33m.\u001b[0m\u001b[0m_http_client\u001b[0m\u001b[1;33m(\u001b[0m\u001b[0mendpoint\u001b[0m\u001b[1;33m)\u001b[0m\u001b[1;33m\u001b[0m\u001b[0m\n\u001b[0;32m     70\u001b[0m         session = self._livy_session(http_client, {constants.LIVY_KIND_PARAM: response[constants.LIVY_KIND_PARAM]},\n",
      "\u001b[1;32mD:\\Users\\AuxAdmin\\AppData\\Local\\Continuum\\Miniconda3\\envs\\SparkaaS\\lib\\site-packages\\sparkmagic\\livyclientlib\\livyreliablehttpclient.pyc\u001b[0m in \u001b[0;36mget_session\u001b[1;34m(self, session_id)\u001b[0m\n\u001b[0;32m     31\u001b[0m \u001b[1;33m\u001b[0m\u001b[0m\n\u001b[0;32m     32\u001b[0m     \u001b[1;32mdef\u001b[0m \u001b[0mget_session\u001b[0m\u001b[1;33m(\u001b[0m\u001b[0mself\u001b[0m\u001b[1;33m,\u001b[0m \u001b[0msession_id\u001b[0m\u001b[1;33m)\u001b[0m\u001b[1;33m:\u001b[0m\u001b[1;33m\u001b[0m\u001b[0m\n\u001b[1;32m---> 33\u001b[1;33m         \u001b[1;32mreturn\u001b[0m \u001b[0mself\u001b[0m\u001b[1;33m.\u001b[0m\u001b[0m_http_client\u001b[0m\u001b[1;33m.\u001b[0m\u001b[0mget\u001b[0m\u001b[1;33m(\u001b[0m\u001b[0mself\u001b[0m\u001b[1;33m.\u001b[0m\u001b[0m_session_url\u001b[0m\u001b[1;33m(\u001b[0m\u001b[0msession_id\u001b[0m\u001b[1;33m)\u001b[0m\u001b[1;33m,\u001b[0m \u001b[1;33m[\u001b[0m\u001b[1;36m200\u001b[0m\u001b[1;33m]\u001b[0m\u001b[1;33m)\u001b[0m\u001b[1;33m.\u001b[0m\u001b[0mjson\u001b[0m\u001b[1;33m(\u001b[0m\u001b[1;33m)\u001b[0m\u001b[1;33m\u001b[0m\u001b[0m\n\u001b[0m\u001b[0;32m     34\u001b[0m \u001b[1;33m\u001b[0m\u001b[0m\n\u001b[0;32m     35\u001b[0m     \u001b[1;32mdef\u001b[0m \u001b[0mdelete_session\u001b[0m\u001b[1;33m(\u001b[0m\u001b[0mself\u001b[0m\u001b[1;33m,\u001b[0m \u001b[0msession_id\u001b[0m\u001b[1;33m)\u001b[0m\u001b[1;33m:\u001b[0m\u001b[1;33m\u001b[0m\u001b[0m\n",
      "\u001b[1;32mD:\\Users\\AuxAdmin\\AppData\\Local\\Continuum\\Miniconda3\\envs\\SparkaaS\\lib\\site-packages\\sparkmagic\\livyclientlib\\reliablehttpclient.pyc\u001b[0m in \u001b[0;36mget\u001b[1;34m(self, relative_url, accepted_status_codes)\u001b[0m\n\u001b[0;32m     31\u001b[0m     \u001b[1;32mdef\u001b[0m \u001b[0mget\u001b[0m\u001b[1;33m(\u001b[0m\u001b[0mself\u001b[0m\u001b[1;33m,\u001b[0m \u001b[0mrelative_url\u001b[0m\u001b[1;33m,\u001b[0m \u001b[0maccepted_status_codes\u001b[0m\u001b[1;33m)\u001b[0m\u001b[1;33m:\u001b[0m\u001b[1;33m\u001b[0m\u001b[0m\n\u001b[0;32m     32\u001b[0m         \u001b[1;34m\"\"\"Sends a get request. Returns a response.\"\"\"\u001b[0m\u001b[1;33m\u001b[0m\u001b[0m\n\u001b[1;32m---> 33\u001b[1;33m         \u001b[1;32mreturn\u001b[0m \u001b[0mself\u001b[0m\u001b[1;33m.\u001b[0m\u001b[0m_send_request\u001b[0m\u001b[1;33m(\u001b[0m\u001b[0mrelative_url\u001b[0m\u001b[1;33m,\u001b[0m \u001b[0maccepted_status_codes\u001b[0m\u001b[1;33m,\u001b[0m \u001b[0mrequests\u001b[0m\u001b[1;33m.\u001b[0m\u001b[0mget\u001b[0m\u001b[1;33m)\u001b[0m\u001b[1;33m\u001b[0m\u001b[0m\n\u001b[0m\u001b[0;32m     34\u001b[0m \u001b[1;33m\u001b[0m\u001b[0m\n\u001b[0;32m     35\u001b[0m     \u001b[1;32mdef\u001b[0m \u001b[0mpost\u001b[0m\u001b[1;33m(\u001b[0m\u001b[0mself\u001b[0m\u001b[1;33m,\u001b[0m \u001b[0mrelative_url\u001b[0m\u001b[1;33m,\u001b[0m \u001b[0maccepted_status_codes\u001b[0m\u001b[1;33m,\u001b[0m \u001b[0mdata\u001b[0m\u001b[1;33m)\u001b[0m\u001b[1;33m:\u001b[0m\u001b[1;33m\u001b[0m\u001b[0m\n",
      "\u001b[1;32mD:\\Users\\AuxAdmin\\AppData\\Local\\Continuum\\Miniconda3\\envs\\SparkaaS\\lib\\site-packages\\sparkmagic\\livyclientlib\\reliablehttpclient.pyc\u001b[0m in \u001b[0;36m_send_request\u001b[1;34m(self, relative_url, accepted_status_codes, function, data)\u001b[0m\n\u001b[0;32m     42\u001b[0m \u001b[1;33m\u001b[0m\u001b[0m\n\u001b[0;32m     43\u001b[0m     \u001b[1;32mdef\u001b[0m \u001b[0m_send_request\u001b[0m\u001b[1;33m(\u001b[0m\u001b[0mself\u001b[0m\u001b[1;33m,\u001b[0m \u001b[0mrelative_url\u001b[0m\u001b[1;33m,\u001b[0m \u001b[0maccepted_status_codes\u001b[0m\u001b[1;33m,\u001b[0m \u001b[0mfunction\u001b[0m\u001b[1;33m,\u001b[0m \u001b[0mdata\u001b[0m\u001b[1;33m=\u001b[0m\u001b[0mNone\u001b[0m\u001b[1;33m)\u001b[0m\u001b[1;33m:\u001b[0m\u001b[1;33m\u001b[0m\u001b[0m\n\u001b[1;32m---> 44\u001b[1;33m         \u001b[1;32mreturn\u001b[0m \u001b[0mself\u001b[0m\u001b[1;33m.\u001b[0m\u001b[0m_send_request_helper\u001b[0m\u001b[1;33m(\u001b[0m\u001b[0mself\u001b[0m\u001b[1;33m.\u001b[0m\u001b[0mcompose_url\u001b[0m\u001b[1;33m(\u001b[0m\u001b[0mrelative_url\u001b[0m\u001b[1;33m)\u001b[0m\u001b[1;33m,\u001b[0m \u001b[0maccepted_status_codes\u001b[0m\u001b[1;33m,\u001b[0m \u001b[0mfunction\u001b[0m\u001b[1;33m,\u001b[0m \u001b[0mdata\u001b[0m\u001b[1;33m,\u001b[0m \u001b[1;36m0\u001b[0m\u001b[1;33m)\u001b[0m\u001b[1;33m\u001b[0m\u001b[0m\n\u001b[0m\u001b[0;32m     45\u001b[0m \u001b[1;33m\u001b[0m\u001b[0m\n\u001b[0;32m     46\u001b[0m     \u001b[1;32mdef\u001b[0m \u001b[0m_send_request_helper\u001b[0m\u001b[1;33m(\u001b[0m\u001b[0mself\u001b[0m\u001b[1;33m,\u001b[0m \u001b[0murl\u001b[0m\u001b[1;33m,\u001b[0m \u001b[0maccepted_status_codes\u001b[0m\u001b[1;33m,\u001b[0m \u001b[0mfunction\u001b[0m\u001b[1;33m,\u001b[0m \u001b[0mdata\u001b[0m\u001b[1;33m,\u001b[0m \u001b[0mretry_count\u001b[0m\u001b[1;33m)\u001b[0m\u001b[1;33m:\u001b[0m\u001b[1;33m\u001b[0m\u001b[0m\n",
      "\u001b[1;32mD:\\Users\\AuxAdmin\\AppData\\Local\\Continuum\\Miniconda3\\envs\\SparkaaS\\lib\\site-packages\\sparkmagic\\livyclientlib\\reliablehttpclient.pyc\u001b[0m in \u001b[0;36m_send_request_helper\u001b[1;34m(self, url, accepted_status_codes, function, data, retry_count)\u001b[0m\n\u001b[0;32m     81\u001b[0m                 \u001b[1;32melse\u001b[0m\u001b[1;33m:\u001b[0m\u001b[1;33m\u001b[0m\u001b[0m\n\u001b[0;32m     82\u001b[0m                     raise HttpClientException(u\"Invalid status code '{}' from {} with error payload: {}\"\n\u001b[1;32m---> 83\u001b[1;33m                                               .format(status, url, text))\n\u001b[0m\u001b[0;32m     84\u001b[0m             \u001b[1;32mreturn\u001b[0m \u001b[0mr\u001b[0m\u001b[1;33m\u001b[0m\u001b[0m\n",
      "\u001b[1;31mHttpClientException\u001b[0m: Invalid status code '404' from http://54.190.49.183:8998/sessions/0 with error payload: \"Session '0' not found.\""
     ]
    },
    {
     "name": "stdout",
     "output_type": "stream",
     "text": [
      "Cleaned up endpoint http://54.190.49.183:8998\n",
      "Added endpoint http://54.190.49.183:8998\n",
      "Starting Spark application\n"
     ]
    },
    {
     "data": {
      "text/html": [
       "<table>\n",
       "<tr><th>ID</th><th>YARN Application ID</th><th>Kind</th><th>State</th><th>Spark UI</th><th>Driver log</th><th>Current session?</th></tr><tr><td>1</td><td>application_1489528374652_0002</td><td>pyspark</td><td>idle</td><td><a target=\"_blank\" href=\"http://ip-172-31-17-177.us-west-2.compute.internal:20888/proxy/application_1489528374652_0002/\">Link</a></td><td><a target=\"_blank\" href=\"http://ip-172-31-16-152.us-west-2.compute.internal:8042/node/containerlogs/container_1489528374652_0002_01_000001/hadoop\">Link</a></td><td>✔</td></tr></table>"
      ],
      "text/plain": [
       "<IPython.core.display.HTML object>"
      ]
     },
     "metadata": {},
     "output_type": "display_data"
    },
    {
     "name": "stdout",
     "output_type": "stream",
     "text": [
      "SparkSession available as 'spark'.\n"
     ]
    }
   ],
   "source": [
    "%manage_spark"
   ]
  },
  {
   "cell_type": "markdown",
   "metadata": {
    "deletable": true,
    "editable": true
   },
   "source": [
    "## Ensamble Methods on Spark-as-a-Service"
   ]
  },
  {
   "cell_type": "code",
   "execution_count": 26,
   "metadata": {
    "collapsed": false
   },
   "outputs": [
    {
     "name": "stdout",
     "output_type": "stream",
     "text": [
      "<pyspark.context.SparkContext object at 0x7f8b38f0cf50>"
     ]
    }
   ],
   "source": [
    "%%spark\n",
    "sc"
   ]
  },
  {
   "cell_type": "code",
   "execution_count": 30,
   "metadata": {
    "collapsed": false,
    "deletable": true,
    "editable": true
   },
   "outputs": [
    {
     "name": "stderr",
     "output_type": "stream",
     "text": [
      "name 'pd' is not defined\n",
      "Traceback (most recent call last):\n",
      "NameError: name 'pd' is not defined\n",
      "\n"
     ]
    }
   ],
   "source": [
    "%%spark\n",
    "# Import grid search for Spark\n",
    "from sklearn.ensemble import RandomForestClassifier\n",
    "from spark_sklearn import GridSearchCV\n",
    "import warnings\n",
    "warnings.filterwarnings('ignore')\n",
    "from operator import itemgetter\n",
    "import pandas as pd\n",
    "\n",
    "\n",
    "\n",
    "# Databrix utility function to report top 3 best scores\n",
    "def report(grid_scores, n_top = 3):\n",
    "    top_scores = sorted(grid_scores, key = itemgetter(1), reverse = True)[:n_top]\n",
    "    for i, score in enumerate(top_scores):\n",
    "        print(\"Model with rank: {0}\".format(i + 1))\n",
    "        print(\"Mean validation score: {0:.3f} (std: {1:.3f})\".format(\n",
    "              score.mean_validation_score,\n",
    "              np.std(score.cv_validation_scores)))\n",
    "        print(\"Parameters: {0}\".format(score.parameters))\n",
    "        print(\"\")\n",
    "\n",
    "# Load the train and test datasets to create two DataFrames\n",
    "train_url = \"http://s3.amazonaws.com/assets.datacamp.com/course/Kaggle/train.csv\"\n",
    "train = pd.read_csv(train_url)\n",
    "test_url = \"http://s3.amazonaws.com/assets.datacamp.com/course/Kaggle/test.csv\"\n",
    "test = pd.read_csv(test_url)\n",
    "        \n",
    "        \n",
    "# Creat a list of the features. \n",
    "target = train[\"Survived\"].values\n",
    "forest_features = train[[\"Pclass\", \"Age\", \"Sex\", \"Fare\", \"SibSp\", \"Parch\", \"Embarked\"]].values\n",
    "\n",
    "# Add grid parameter code based on Databricks\n",
    "param_grid = {\"max_depth\": [3, 10, None],\n",
    "              \"min_samples_split\": [1.0, 2, 3, 10], \n",
    "              \"min_samples_leaf\": [1, 2, 3, 10], \n",
    "              \"bootstrap\": [True, False],\n",
    "              \"criterion\": [\"gini\", \"entropy\"],\n",
    "              \"n_estimators\": [10, 20, 40, 80, 160]}\n",
    "\n",
    "# Execute the grid search\n",
    "#gs = grid_search.GridSearchCV(RandomForestClassifier(), param_grid = param_grid)\n",
    "start = time()\n",
    "#gs.fit(forest_features, target)\n",
    "#print(\"GridSearchCV took {:.2f} seconds for {:d} candidate settings.\".format(time() - start, len(gs.grid_scores_)))\n",
    "#report(gs.grid_scores_)\n",
    "\n",
    "\n",
    "\n",
    "\n",
    "\n",
    "\n",
    "\n",
    "# Execute the grid search on Spark\n",
    "Spark_gs = GridSearchCV(sc, RandomForestClassifier(), param_grid = param_grid)\n",
    "start = time()\n",
    "\n",
    "Spark_gs.fit(forest_features, target)\n",
    "print(\"Spark GridSearchCV took {:.2f} seconds for {:d} candidate settings.\".format(time() - start, len(Spark_gs.grid_scores_)))\n",
    "report(Spark_gs.grid_scores_)"
   ]
  },
  {
   "cell_type": "markdown",
   "metadata": {
    "deletable": true,
    "editable": true
   },
   "source": [
    "By running the `GridSearchCV` on a cluster of $5$ Spark Nodes, we managed to execute the same ensemble task in $19$ seconds, thus demonstarting that distributing the various algorithms across multiple nodes certainly helps to narrow down the best fit without having to manually try multiple models and wasting unnecessary time."
   ]
  }
 ],
 "metadata": {
  "kernelspec": {
   "display_name": "Python 2",
   "language": "python",
   "name": "python2"
  },
  "language_info": {
   "codemirror_mode": {
    "name": "ipython",
    "version": 2
   },
   "file_extension": ".py",
   "mimetype": "text/x-python",
   "name": "python",
   "nbconvert_exporter": "python",
   "pygments_lexer": "ipython2",
   "version": "2.7.13"
  },
  "widgets": {
   "state": {
    "004b089d008641049b205825b974813d": {
     "views": []
    },
    "013534aa4cee477e97b25ba6f5d14f1c": {
     "views": []
    },
    "015ec488e4b54a6d8d9730b7682e24e2": {
     "views": []
    },
    "032faf09235b422a974ba57638a15752": {
     "views": []
    },
    "037a9d47a8c24762a1e7928351c88894": {
     "views": []
    },
    "04b4a02362ec4d83b1d3433a6458dab7": {
     "views": []
    },
    "0520036e49a745eaad6d73c6f9d8862c": {
     "views": []
    },
    "052523bc9ed1482f8e380bdc8d83a9f2": {
     "views": []
    },
    "0530772188f748fcae165709fe444134": {
     "views": []
    },
    "05b410b6817d4e0dacccb087471e028d": {
     "views": []
    },
    "0617329b11e0441c88e941ab66fe13a4": {
     "views": []
    },
    "067c8fc6174a4749afe030cbda4982fe": {
     "views": []
    },
    "06bbc486014046f98d23aa7ee35d4544": {
     "views": []
    },
    "0717ca084f3b46888f071c818d8bdf72": {
     "views": []
    },
    "078dbc9a80ad4d60a74769e424884a68": {
     "views": []
    },
    "08fa036afa1f4c4384a433e3a6c29a13": {
     "views": []
    },
    "0a10225e63084f91ae66d47d6627e8ff": {
     "views": []
    },
    "0bd7ae33003d4f7cb139d387fcaccea4": {
     "views": []
    },
    "0bfbe79ec84546c3ac87869003a4d796": {
     "views": []
    },
    "0c8be78a90634803a85b9923cf563fa4": {
     "views": []
    },
    "0ccc69a98fb1470986fe6ab29067251f": {
     "views": []
    },
    "0d26394c696945ed92c2257405f48cb9": {
     "views": []
    },
    "0d82db370a534f1ea74a763a25e79150": {
     "views": []
    },
    "0dc16ac9d59d40ecb2ce7d6898c0c94f": {
     "views": []
    },
    "0de0a3d2987343b69a3aa167f4105c0b": {
     "views": []
    },
    "0dfda6d8917a4fa7b8a1aaf315eb5d51": {
     "views": []
    },
    "0e77861249b84f5ca7ee02f8551925e3": {
     "views": []
    },
    "0eb417fec02944b89c9a95e55b3a9983": {
     "views": []
    },
    "0f080466d48345e885ba50c15c83f701": {
     "views": []
    },
    "127700d0b7524cccbe92ea8bf68318ad": {
     "views": []
    },
    "128029c5cae2437e817ec85a8e6a02ef": {
     "views": []
    },
    "12ac92c0e6e7407387f520b88f62823e": {
     "views": []
    },
    "1361da5710ef45cc8af56fc9e606b1d9": {
     "views": []
    },
    "13df91c209df4608b8434e3ef30d9a29": {
     "views": []
    },
    "13f90d22c077433d821dc82760201c74": {
     "views": []
    },
    "141802030d8d4695a80ab954e8e2b175": {
     "views": []
    },
    "14645bd511d54dc394c1366a4a11c18f": {
     "views": []
    },
    "14c1356754c641a79e2f8eec6d9283d8": {
     "views": []
    },
    "15c9b30916ca4fe09f91689b77d86757": {
     "views": []
    },
    "1919ba6e229043d59e691b6c9ffadb27": {
     "views": []
    },
    "196ff262fc624d7c8e06def337a5158b": {
     "views": []
    },
    "19816af595d04fc98b4a7f737f233ef6": {
     "views": []
    },
    "1b4d86be7ab84a59aae38d3673ccb0d7": {
     "views": []
    },
    "1cf0d4ce2441421499df56f48dfae6e8": {
     "views": []
    },
    "1d148778c1184cfc9bba0d87f330b10e": {
     "views": []
    },
    "1f0bbc532912455e817888a04399cd6f": {
     "views": []
    },
    "209d1002a713448482290bf825fd79da": {
     "views": []
    },
    "20c84f43130648d9a0358d875d3acbe4": {
     "views": []
    },
    "227c9c3b3b444c6e9d6e80172371f452": {
     "views": []
    },
    "2312f1b2e21943bb81484f7dc1afe8da": {
     "views": []
    },
    "23739281036d4b65893993cb69734ab5": {
     "views": []
    },
    "240e77d0a2a1450298f7bf23497ae114": {
     "views": []
    },
    "258b925d02c24bb99938f8a7aa71d7dc": {
     "views": []
    },
    "25a1cd5d75a640a28a5166d3f1249514": {
     "views": []
    },
    "2648f8c5df4941f1a9820e0bc2a5e8b3": {
     "views": []
    },
    "270323858c1947c69999101d6af86a5a": {
     "views": []
    },
    "273539b8c5d842dd82048f0829229e59": {
     "views": []
    },
    "29bd1abcb15e450988a3912e8beb7df7": {
     "views": []
    },
    "29c526008b3942a7b0236b5a07dd0e42": {
     "views": []
    },
    "2a72cf38d1044215a5377da8443b2085": {
     "views": []
    },
    "2a9dd5b408a04a9790f9b7455fd0e57e": {
     "views": []
    },
    "2ab7abf5974c4925aba36c3e0bb826ba": {
     "views": []
    },
    "2af34f8df4854596bc4ec1f8c7680462": {
     "views": []
    },
    "2b64f19bca7747799ac62c2f099fa52d": {
     "views": []
    },
    "2b78554fdf4a4be49edf920f4022bfb9": {
     "views": []
    },
    "2bd3dab1a6f1453693c889e9dd988a6d": {
     "views": []
    },
    "2c3e1e3e24804930ad32625c9d742ca9": {
     "views": []
    },
    "2cb2e4e3d2734e06882c08eaab94dee5": {
     "views": []
    },
    "2cccb0b61f7c4035a150e1380c550903": {
     "views": []
    },
    "2e14428523ab4d108e6f05df45aa0ccd": {
     "views": []
    },
    "2e5c9209c48842a19cc37f4b59084e3d": {
     "views": []
    },
    "2e88357188a5403091807d88bc7c7538": {
     "views": []
    },
    "2f3334e42d074125a531c69044d03ac5": {
     "views": []
    },
    "2f56eca9b4394041881c9e66e8b02b62": {
     "views": []
    },
    "30b1c410dbcb414ead56d6e137d2289f": {
     "views": []
    },
    "30d44aa9bee0427b8a005a6622e81921": {
     "views": []
    },
    "31e751541d904e45b1761d76a37e86f3": {
     "views": []
    },
    "322bd28ef86c480cbb1c1b7a09f71fba": {
     "views": []
    },
    "33406d437cca4c48a4072bd975169349": {
     "views": []
    },
    "3556bfa30ae545a18057fd1f740c552d": {
     "views": []
    },
    "35fec9308a4c4c3e96818bfd369254d2": {
     "views": []
    },
    "35ff435ea7d645c088ec565d3ecb5127": {
     "views": []
    },
    "36233061405d49eab96841a1f08ff26f": {
     "views": []
    },
    "36509de4c47942b7abad5375f2a8b767": {
     "views": []
    },
    "3673634b7f594c4f81f5a83ad274d92f": {
     "views": []
    },
    "37afb7fbcfb049398ff9d532c97273ae": {
     "views": []
    },
    "380eaff99ec84deab78217375515a182": {
     "views": []
    },
    "38d97e86b3ea44cfb0443f85f990137d": {
     "views": []
    },
    "393572e2e4684f4ab7308126ca8f95d6": {
     "views": []
    },
    "399d6e6283e14889bc2a5826b8d4cf55": {
     "views": []
    },
    "3b0e9514288b4210aaf2b75f50847045": {
     "views": []
    },
    "3ca84200800e4536b1921fc36210e7a0": {
     "views": []
    },
    "3cc1acf4a19e474a936b5a4700c12b7e": {
     "views": []
    },
    "3d55aea77bbd44519dae737fb312cf19": {
     "views": []
    },
    "3d89f45f599e48cdb376e0b9360256fd": {
     "views": []
    },
    "3e166565dd694e87b8a3dc287019e66e": {
     "views": []
    },
    "3e1f1b3254a94cb095575a5f8a3d4587": {
     "views": []
    },
    "3e4b7f39be7b481390e5e9616bb3647b": {
     "views": []
    },
    "3f4feb385e0d4e22bbc5c4484417abed": {
     "views": []
    },
    "40261c8460d64f00b94fa1ec07b3923e": {
     "views": []
    },
    "4082067ec6f64a1cb7da9a401baff41d": {
     "views": []
    },
    "4124100a061146a6ba02f0f105afdd4f": {
     "views": []
    },
    "413fede101554fe7a68c354be0bedccd": {
     "views": []
    },
    "4267e4e1f144438bb670e1b7dfd787db": {
     "views": []
    },
    "42a04f016846402e9964ffce18509615": {
     "views": []
    },
    "42d2526b506c4f2b975426045bfe3e01": {
     "views": []
    },
    "437a9eb2e9f545b8958ca75730b8bda0": {
     "views": []
    },
    "43a072b3e571415b8b358aeff5e2deb0": {
     "views": []
    },
    "44cf72dc96be4c15acdca9645821e549": {
     "views": []
    },
    "467224c4f3d74cda91090fa22d5dfe64": {
     "views": []
    },
    "4680b02be63240cd965ad09db3d67f11": {
     "views": []
    },
    "472248c95b64467a99e5a4599e7b0fe0": {
     "views": []
    },
    "476d0fe5773c4555b5eb77fe871f3592": {
     "views": []
    },
    "479f0035198648b2a1ab876a36293388": {
     "views": []
    },
    "480622355f07405ba4926275f8284b10": {
     "views": []
    },
    "4828cac9e19e448982c5527e49497aa5": {
     "views": []
    },
    "4898897d5db64bbea1cd0a0829c01d15": {
     "views": []
    },
    "49229069cc434875b9f812ee3632354d": {
     "views": []
    },
    "4932d70684364293b547c81afff06514": {
     "views": []
    },
    "4949c7beed824cdf904ee90acf18b47a": {
     "views": []
    },
    "4a5d3032ccc24bb9825e5f887b33330e": {
     "views": []
    },
    "4a61201826264469b576dd85b14ea9b4": {
     "views": []
    },
    "4ae78fbc86414026b0fde415970920ce": {
     "views": []
    },
    "4b4e14e3010c40809a78cc8574ebfa8b": {
     "views": []
    },
    "4b89dcf87a2b46efa89b7a26234a0732": {
     "views": []
    },
    "4bd7c7011efc48acb21ecc320fbc6d9d": {
     "views": []
    },
    "4dfc94db03ed401698342fd07ec1e03c": {
     "views": []
    },
    "4e94f2316af545fab30742e169e8e88c": {
     "views": []
    },
    "4ee33bc4aee646bd90e54b008602f479": {
     "views": []
    },
    "4ee43c71ac024532b470193678798fa1": {
     "views": []
    },
    "4f3bdb7fd13d4878879d7f895839ea33": {
     "views": []
    },
    "4f42ec338618448197608e20e2224f08": {
     "views": []
    },
    "4f8cdc616e3c4fc7935685279d92890d": {
     "views": []
    },
    "4fb5fcefd8a7472a830b9f75ef2afe0e": {
     "views": []
    },
    "504efdddd2364202bcd5c82965a0b85c": {
     "views": []
    },
    "5073b0049b2b491fba8fadd355a6b9c3": {
     "views": []
    },
    "517dcd8bd4974857846c85e78e5f8094": {
     "views": []
    },
    "51b27fce3dbb4fb0823d1f29010dbf0c": {
     "views": []
    },
    "51cf544941c74cab96e083017655bca5": {
     "views": []
    },
    "52281bb60a144554b9478b6f7000f8b9": {
     "views": []
    },
    "525e218b33b14a6fb678185c127886a8": {
     "views": []
    },
    "5306e0d1d25e497089fd82e4addc884e": {
     "views": []
    },
    "532bb6ddffff496383f48f62461e859b": {
     "views": []
    },
    "54d95bdef0de412aa8b803290c78153b": {
     "views": []
    },
    "5549ae38496b421a8dbe83197ca69a87": {
     "views": []
    },
    "5664275a9acb4fd4b7c7c99d17798296": {
     "views": []
    },
    "567ca76a2da0410f8beaf2a661c18b8c": {
     "views": []
    },
    "5a590c1b8d9045149e98e491a117c872": {
     "views": []
    },
    "5a9243be1445450484acf04c255b5d3e": {
     "views": []
    },
    "5ae8e6f453244c969e6fa982bdf09445": {
     "views": []
    },
    "5b36f054fe9040cca57a87a660b844da": {
     "views": []
    },
    "5b4025df78a44785b952260df446d6e0": {
     "views": []
    },
    "5bc4e4a834cb4fed97722b511f189ab3": {
     "views": []
    },
    "5c4b5296f3ce4ab48912de1bab77daf2": {
     "views": []
    },
    "5c6924aed31c4b9590d82d0eed2bab52": {
     "views": []
    },
    "5cc81069dc9f48778b639cb9c767dadc": {
     "views": []
    },
    "5d15840910444e969d4ef2454ea99c2d": {
     "views": []
    },
    "5d5ea53dff354160b9b1073b36d73e9f": {
     "views": []
    },
    "5d6061f0ab0044fa97b2a7d3211c785b": {
     "views": []
    },
    "5df4a0628b6046c99a29e5b4c8e2035d": {
     "views": []
    },
    "5dff42bc74be41c0883cea7e6e617c49": {
     "views": []
    },
    "5e0216b7aeac433586ba8a8f1332038d": {
     "views": []
    },
    "5e2b4fc3369f496cb51ac6bd6d836dae": {
     "views": []
    },
    "5fccccea5b374c99b1cd98cc4101414a": {
     "views": []
    },
    "6267dcfa3d5c4e999ea2b00b5b99cf33": {
     "views": []
    },
    "62ebd4e8e7cc4e01982d98c747fbef68": {
     "views": []
    },
    "638328b565ba44308130b9aa0aef2ed1": {
     "views": []
    },
    "63b706c686784297b849c76b874f260c": {
     "views": []
    },
    "6466cba741824623bfe348209df7aaa6": {
     "views": []
    },
    "6532a94c400e45a7a434acb6f4e47fa2": {
     "views": []
    },
    "654b7e40bf964bff9a792312358428ad": {
     "views": []
    },
    "65c4a4af625f49a1879fa53b862bbdd2": {
     "views": []
    },
    "669f7bfc0dcf4eb4b97c28a59d989c7b": {
     "views": []
    },
    "66a6314e89304a25825681771df3faeb": {
     "views": []
    },
    "66c3cb41c1324737a596f76ef151ab59": {
     "views": []
    },
    "67387b6dfa0b4880832ecb81c1aca310": {
     "views": []
    },
    "675bb10f366149189f6237c513f8aa78": {
     "views": []
    },
    "689934f91447499588f6d8148a906623": {
     "views": []
    },
    "68d2a2648f484012bb399b60a3228192": {
     "views": []
    },
    "6a0b9004f0bf491fad65e0a4735f6fe4": {
     "views": [
      {
       "cell_index": 45
      }
     ]
    },
    "6ad30f147bb9424a8627ef5118afff21": {
     "views": []
    },
    "6b663348cfe14564b112e21887e4bbb0": {
     "views": []
    },
    "6c65f6397f334bc493b8a851c8794f0b": {
     "views": []
    },
    "6cde73b48d84402fa08eb38d8f47f9a4": {
     "views": []
    },
    "6d270c12fecb44199d01a5dfe4aac08a": {
     "views": []
    },
    "6ddc140ef48644a2a23f986319345bf6": {
     "views": []
    },
    "707fc19d86f84aedbbb8bdfe95ef6bd5": {
     "views": []
    },
    "727665f545f84b9ea8a4acda3bab96f9": {
     "views": []
    },
    "73381b370ac343cd8acba2b42768743e": {
     "views": []
    },
    "736c0cbfa6b8486f9705263bd15c2eb5": {
     "views": []
    },
    "736ddde3097f46c89921145d706d3724": {
     "views": []
    },
    "74923f01195b41e4b3752dfb0336c697": {
     "views": []
    },
    "7525077273024632b31b1dc2c1bdb0a4": {
     "views": []
    },
    "753257819ebf475087a91cc3ba99fdfa": {
     "views": []
    },
    "761c8d14159f4a2e8acef2851f962a83": {
     "views": []
    },
    "765442c18b514b46b686f11b3f063370": {
     "views": []
    },
    "77a65673af58428ebba237d08dacf22b": {
     "views": []
    },
    "782c756850dc49d0b744fa7c0ef87da8": {
     "views": []
    },
    "784e91fc74ed4031b3a96b006024e7ae": {
     "views": []
    },
    "788ba1e314db40479f4381b39b75e4cc": {
     "views": []
    },
    "795b513b54824b02a0d37713f208aa59": {
     "views": []
    },
    "7a66488445f543a8a917254a017ceff9": {
     "views": []
    },
    "7b94bf3980be46adb20af1605dc18198": {
     "views": []
    },
    "7b9561adfd794e8c8f4faa4ab404695e": {
     "views": []
    },
    "7c5b882d6f6440cd86d3a595b2f4bff0": {
     "views": []
    },
    "7c9452d61eb64d889585d37d20be2598": {
     "views": []
    },
    "7cd0ebd2748a41d0bd986bdf15c7af2c": {
     "views": []
    },
    "7cda859eada541f29018d67001f23e96": {
     "views": []
    },
    "7d71c2198efe44679badf3c60f8ee0ab": {
     "views": []
    },
    "7dd33e199b794e329a011a7a92e97474": {
     "views": []
    },
    "7dd979bb6d314d2aac89d92630485662": {
     "views": []
    },
    "7e13bcedbf7c48e48054c8c05568f373": {
     "views": []
    },
    "7e4dd00060e4443d830f4faacb5256ca": {
     "views": []
    },
    "7f40f095d8c6479bb8f8c84b33e8c519": {
     "views": []
    },
    "7f75da415c944351b1919ff529391868": {
     "views": []
    },
    "7f76cf8b3573466688b2b9f265f0eb54": {
     "views": []
    },
    "801dbd6ee61b42058c64265e1a8ba657": {
     "views": []
    },
    "802d14879dfd4b5e86c00dcca647044a": {
     "views": []
    },
    "802e657f1bc44548a32ecf0504d9b835": {
     "views": []
    },
    "80921e0802bc46aa96b89d1147e360f8": {
     "views": []
    },
    "80a1240cd77448eaae1a11b7dc20168e": {
     "views": []
    },
    "80a3cdc4aaeb48609301f0ed05deed62": {
     "views": []
    },
    "82d6ad103c004cad8eaaddc34fa28ffb": {
     "views": []
    },
    "8382cebdd1244f6da720a7a429c2c5fb": {
     "views": []
    },
    "851dd535561e48cf97c73209656afa96": {
     "views": []
    },
    "8581225f8e834fe18ae694396a3486d0": {
     "views": []
    },
    "85c433bd7f924a78af703735a5389036": {
     "views": []
    },
    "86ace3fca01a427d8aab8f2b7737b07e": {
     "views": []
    },
    "86ef203c0f34495eba41963fcc039d30": {
     "views": []
    },
    "874ed80187c249e1a506df376c6d1453": {
     "views": []
    },
    "8771ded948034a4fa54733e9aaac4e9e": {
     "views": []
    },
    "88f681f67b204f23895663d4e0f10ebf": {
     "views": []
    },
    "8a75bab97afc48e398a67ec13322ace1": {
     "views": []
    },
    "8aceb70b97474be7bd41d329cd32e4a2": {
     "views": []
    },
    "8b71a1c885fa4a7fa7f8889eccc7ec13": {
     "views": []
    },
    "8ba6bb0f3f6e4a7a8f44ad43d3eec311": {
     "views": []
    },
    "8beb0a1ea756405882aaafc09e2b104d": {
     "views": []
    },
    "8c05e604cd4c4b70bc0892a029b6ce19": {
     "views": []
    },
    "8c7730e15a5941f3ad5ec9e7f4a31427": {
     "views": []
    },
    "8cb1f1f127ae43cea17d8d58f4a7917c": {
     "views": []
    },
    "8d49b9a264684ab6928b4922197c1303": {
     "views": []
    },
    "8d780b0ad4a54f6f8f340d43bdd4712b": {
     "views": []
    },
    "8d9fdbf6b1c14337bae2643d1426a89f": {
     "views": []
    },
    "8ef54683ab7b4f7e926cd6e296a2fb82": {
     "views": []
    },
    "8f15d0bd45d94ff2a20e8823207ca63f": {
     "views": []
    },
    "8f50d1fd17f5440e9439cd7f6681ffe7": {
     "views": []
    },
    "8f9dbe5974fd47bdac90dd91edc001af": {
     "views": []
    },
    "8ffdcf72bb014e9bb6b94a328767eef8": {
     "views": []
    },
    "91f6caabc18b40a4b7322b79510b48a3": {
     "views": []
    },
    "920fa0d5042a456297392256d0c1db10": {
     "views": []
    },
    "92b7e9bbf739419289f99f0fb83ced17": {
     "views": []
    },
    "92ce009d654a4644aba926d8c8daf918": {
     "views": []
    },
    "931553e6cbec424399543cb470819429": {
     "views": []
    },
    "931fa9cc0e15428a830b1142f52a7fce": {
     "views": []
    },
    "9341baad70e24854ab39bc1804233fda": {
     "views": []
    },
    "93bb51be7dd94db9b0a9038e1e25a1a5": {
     "views": []
    },
    "9583ba520dd74967930d62faff067171": {
     "views": []
    },
    "95a1b237b2b3425b8e2ba1da503227cc": {
     "views": []
    },
    "95a850e93931414f946ea1d5f2476485": {
     "views": []
    },
    "968c88c7631d45718a7d7d33d62d1ed3": {
     "views": []
    },
    "96da09da2052440eb11bfea24ffbd741": {
     "views": []
    },
    "97a49d861053485da4424c19e78acaf9": {
     "views": []
    },
    "97aca35bf43944d08c66a60044562b93": {
     "views": []
    },
    "98146c2d0cb74fdb815b279d6cf61d69": {
     "views": []
    },
    "9a09cb2d617943b8b604ba6335f23a53": {
     "views": []
    },
    "9ad76aca5c2b41c5bf02bf5f09dde802": {
     "views": []
    },
    "9b0f89cd3b5e4cdc9f52a19e1cd98ab9": {
     "views": []
    },
    "9d4056c3b5d84aa6a04643c1f634c71e": {
     "views": []
    },
    "9d7475223753464ab13ada9ebb774d8c": {
     "views": []
    },
    "9da05ff0479342c2817d3695849cf907": {
     "views": []
    },
    "9db3008eca534c369e7e60c75fd9695d": {
     "views": []
    },
    "9dc1a56f098d4448a3871f1a6977c5ba": {
     "views": []
    },
    "9dd58df2249a4abcad582689121fe051": {
     "views": []
    },
    "9f469295c6de4c6e95dd9986024a1719": {
     "views": []
    },
    "9fe974a4ecad4ff4b665a86178adcffb": {
     "views": []
    },
    "a0f505b16eb544f991a35176dd9826c4": {
     "views": []
    },
    "a11d6dfc7de6406f9439dc7c85157a4e": {
     "views": []
    },
    "a1ccacc04fbd41dc97a736bd01b4d703": {
     "views": []
    },
    "a2afb6239c5e407bb7c8d42016417d74": {
     "views": []
    },
    "a2d8c3c4c64543a6923a5afcbb15f924": {
     "views": []
    },
    "a2f78b1def854c4ab0e64612abba2381": {
     "views": []
    },
    "a415b8271b0a47fe96a37004b76f2ae5": {
     "views": []
    },
    "a4c987d15ff341989c9f7185b6f4ee8e": {
     "views": []
    },
    "a62388d1d17f4eed8f7fa11726030c5b": {
     "views": []
    },
    "a8f8c255511e49a99341fdb3edb3e1a1": {
     "views": []
    },
    "aadea00765cf4988b8395a02c5d51f56": {
     "views": []
    },
    "ab1c24cfb0c04747828380b1eb82d2b0": {
     "views": []
    },
    "ab1e8b7546c34146a87b2bbda2a42112": {
     "views": []
    },
    "aba77cf48aa94bfea3ebb92a0331d271": {
     "views": []
    },
    "ac0142ee89204cc4b3bf0a25f8f1b579": {
     "views": []
    },
    "ac29f9f7d01e4c48a9401a5cd51caeaa": {
     "views": []
    },
    "aca1d52e91b143148750e003749173d9": {
     "views": []
    },
    "ad2d9271c41c4744a3b1f5933f900f5c": {
     "views": []
    },
    "af13aada005841ecb7f31805539aa045": {
     "views": []
    },
    "af31948678d14865ac6af45871471f17": {
     "views": []
    },
    "af4949c4d2924a6393fa4a9b18179b3c": {
     "views": []
    },
    "af63bd04c3ad4b0eb118dd811584d60c": {
     "views": []
    },
    "b06cfa2f5466498caeffb049a4fdd29f": {
     "views": []
    },
    "b20800a6dfd442acbe4f75062da7e4f9": {
     "views": []
    },
    "b2104983632a4e7ca6da78ead18e91f8": {
     "views": []
    },
    "b285ee6038a84173b41c5d1219019c3f": {
     "views": []
    },
    "b2ec8b87bce74f0c905f1be18a4d3a21": {
     "views": []
    },
    "b316a95c4fd648d1a34984f6cd3103df": {
     "views": []
    },
    "b3ac0bc3d8ad4cd286c147c6c3d004b8": {
     "views": []
    },
    "b44d9a43f29a49a3b24cab224b1895ec": {
     "views": []
    },
    "b5c9f7dd8f3a47af98452e40feab410f": {
     "views": []
    },
    "b6209a8e4717471db4e18ea16757f801": {
     "views": []
    },
    "b7f3823bfea4468b9611559ee2e753ca": {
     "views": []
    },
    "b7ff3f185fb0456082f7646145b20683": {
     "views": []
    },
    "b8eacc89eb444066a1fc525049423043": {
     "views": []
    },
    "b91bfa38e6724bf3aa3a64fefae5dcdf": {
     "views": []
    },
    "b93fe826675e4a32a1ab0846a5a26dba": {
     "views": []
    },
    "b94f287bab2a420181be16cea673768a": {
     "views": []
    },
    "b95b94e919c54e01bb5ebd4af3307e87": {
     "views": []
    },
    "b97c972a085244d78442e7bde48c9c3f": {
     "views": []
    },
    "b9a12710e23044158ec22085e0977813": {
     "views": []
    },
    "b9a4882e7dfa429695803f8c198d992c": {
     "views": []
    },
    "ba01ce9735cb4f8db74bb4253250ece4": {
     "views": []
    },
    "ba76ed9b5f0542faa3293b7dba1a009a": {
     "views": []
    },
    "bb3a0e79c5ba41899fc83c0b02c74024": {
     "views": []
    },
    "bb8830691c01476c9096c23eaed5a384": {
     "views": []
    },
    "bbebdac75c1743ec8d4b41bbd55727a2": {
     "views": []
    },
    "bc0d1a82d391496295839d24998fc223": {
     "views": []
    },
    "bca7e2eb33a04d7e9c5427a090ab5eef": {
     "views": []
    },
    "bd474e181938445cbbb45a72afb9da31": {
     "views": []
    },
    "bda23eb5c36d49719824e543ab74da4b": {
     "views": []
    },
    "bda336ec90354b7cb0210f564de55977": {
     "views": []
    },
    "be3069d296614c84bd90e58e9cc8cab2": {
     "views": []
    },
    "be646535a37d43b1a094e4128412dc24": {
     "views": []
    },
    "bf73cd38fd614b5aba9e49bbd92c78db": {
     "views": []
    },
    "bf86ee2f8050456db11ffd8ef799f541": {
     "views": []
    },
    "bfc66574d7a14601b754fde4d6057f14": {
     "views": []
    },
    "c0b6e07418ac4908996a54e0f2a643f1": {
     "views": []
    },
    "c10c7f04f82f44eb8537b2e5ce265732": {
     "views": []
    },
    "c12c89afcff94ded9f7143095d6b5076": {
     "views": []
    },
    "c16ecb7ded0941e191fb092a7f0272e3": {
     "views": []
    },
    "c1a4e93dd04240fd984fbaa8461654d2": {
     "views": []
    },
    "c1d6ebeb034844338e745413b4b10f68": {
     "views": []
    },
    "c1f61ae4b5254baa8230d637e3b4d760": {
     "views": []
    },
    "c31239e75fbe455697405f6f9022e501": {
     "views": []
    },
    "c345e35ae1b24c149efef7ff25412399": {
     "views": []
    },
    "c35de5c84a294c9eb81604eaf2be406d": {
     "views": []
    },
    "c3765e0d1623458480b9f3155e856c91": {
     "views": []
    },
    "c3ab84cde6c14664aac32d778f1fb4b0": {
     "views": []
    },
    "c54cfa7d0d37434386fd2445fbc7134c": {
     "views": []
    },
    "c5ecfdeccc5c43a086670b3a9b4fc03c": {
     "views": []
    },
    "c5f2556d231b4effb5d634c3a684d954": {
     "views": []
    },
    "c6245bb79109411cac78f0dd0070d48e": {
     "views": []
    },
    "c68f49a6fad44317958d40ed7e9bc290": {
     "views": []
    },
    "c69ac75fb0d94a589ccd81599c4a82be": {
     "views": []
    },
    "c89dd174eca149419218e5b1273e7d32": {
     "views": []
    },
    "c9a7c5298fa6466aa2666e00c78450fa": {
     "views": []
    },
    "cae9251bd5ac49dd8f2019866fe0ca98": {
     "views": []
    },
    "cb3e315d775e48baa622144fce53d949": {
     "views": []
    },
    "cbb5493a8c5f4848909b3d1924684f01": {
     "views": []
    },
    "cd11fef1bca74579a5ec59252464b46d": {
     "views": []
    },
    "ce37e2be4b71428f8eb62448f6b90e71": {
     "views": []
    },
    "ce8c52d23599438488b5633cf4ea0fa1": {
     "views": []
    },
    "ceafbd6489514e5bac8535d90523d2a1": {
     "views": []
    },
    "ced96ec6ff514df4a0a292f9cdc587d3": {
     "views": []
    },
    "cf65feda6d6a4ff6b7bd301425f2f20c": {
     "views": []
    },
    "cfa68b58dfef4a658d3129184972268b": {
     "views": []
    },
    "d09d1fd8456c4e59b556d95ab949cb57": {
     "views": []
    },
    "d0cdc24a3e3947919b5dc2ed1238fa2d": {
     "views": []
    },
    "d184b574994d4b358dc7958704eb6e53": {
     "views": []
    },
    "d23df819e5e64049a18dd22bb4581125": {
     "views": []
    },
    "d2e4a2bfbed64b4a82d5dc555f6a5b5e": {
     "views": []
    },
    "d2f21d6d429f4360a91df87ba16441a5": {
     "views": []
    },
    "d33f9365ed95406996852a0c1c8458db": {
     "views": []
    },
    "d38a6a03a0e8444e9c518a3eeb853cd0": {
     "views": []
    },
    "d3e6331fa23f42b48fed69961bcff320": {
     "views": []
    },
    "d46cd657c92f4d27ab3ad1f1f94a0787": {
     "views": []
    },
    "d539f8497465455181a61dd871723971": {
     "views": []
    },
    "d53e11d862aa43ada9de1bd59393530e": {
     "views": []
    },
    "d5a30660142949ab8dd2cd9ef24ad73b": {
     "views": []
    },
    "d5c798b5571446b299fa4b2063b8d902": {
     "views": []
    },
    "d5dd4e51611c4daf98bc15ea244349a7": {
     "views": []
    },
    "d6503006270f4bfcbe6d29fe1fd405e1": {
     "views": []
    },
    "d7d5e21b5980493fa5b87cca8d922a54": {
     "views": []
    },
    "d7f67929f94c4026b5169bd3350dd951": {
     "views": []
    },
    "d8098926d90c43338f782835a4901930": {
     "views": []
    },
    "d8dec7aef12847d09606a2992e418eb6": {
     "views": []
    },
    "dabc60041320402d948201921ea2ebd0": {
     "views": []
    },
    "db64d0874f254720965330571573cc76": {
     "views": []
    },
    "db7a3cbce2e34366b86718a5c57a9962": {
     "views": []
    },
    "dbb60a473fdf490990bd61082db79a0e": {
     "views": []
    },
    "dc05f6ec656142118db0f194bed1030e": {
     "views": []
    },
    "dc9aaf8a201747259f983577f08d72df": {
     "views": []
    },
    "dcdf28a017f44bd5abf1131cc7e2d553": {
     "views": []
    },
    "dceb2d2fcfde4f7cb99dc2e68cee98d4": {
     "views": []
    },
    "dcebc519425847d3a6c8a4ea1da2ce37": {
     "views": []
    },
    "ddb40ce37ce54c24a67396b5fcfe1fef": {
     "views": []
    },
    "de21ad78f29241b7a01d987c9b639ea3": {
     "views": []
    },
    "de9b69fcda73403eb03295cd36eeb07c": {
     "views": []
    },
    "df0a0d6241964d9c87b9dd3ce7a9b8fc": {
     "views": []
    },
    "df2dc5aa85f1423ab775e576491f56d4": {
     "views": []
    },
    "df6b0f7068c340428bbfd0bd274ba31f": {
     "views": []
    },
    "e008610f3aa74ffe805a31e78447eeac": {
     "views": []
    },
    "e07520f1bdc8411486a2d1ed79924c48": {
     "views": []
    },
    "e19ea95f5c80484b972ec8ac87f93ef0": {
     "views": []
    },
    "e1f66ca968954aa3b58c1692d6c73f6f": {
     "views": []
    },
    "e2b033a55be04ca9885de5e93a463665": {
     "views": []
    },
    "e2e034eef6a14824bf946ea3e920a474": {
     "views": []
    },
    "e383a9aedb1b4c96a6fd7f9dfda4b3fa": {
     "views": []
    },
    "e3a0bb29807349fe9a35419000768c57": {
     "views": []
    },
    "e3b65cf5aa524dec82187364062d9e19": {
     "views": []
    },
    "e4f8e85d37974dc7b10084b681d80448": {
     "views": []
    },
    "e5e7b1c1244c49eea17540b01cc8e342": {
     "views": []
    },
    "e7aa877365554b13b4033ed684470d8a": {
     "views": []
    },
    "e7d205c3422242c8ac74fd688be7ef4a": {
     "views": []
    },
    "e7d2766d18564269922e220086259af4": {
     "views": []
    },
    "e94422173f29491681ef78b1c5b3f0f8": {
     "views": []
    },
    "e9499d3546b64deaa5ee906b20f45103": {
     "views": []
    },
    "ea33c9329732463398992c550944dd21": {
     "views": []
    },
    "ea3ebb4b6f3b49e38fc200063eae6a92": {
     "views": []
    },
    "eb0ff4e809ef41f79641a6bd1233329f": {
     "views": []
    },
    "eb6f8181aaef45e3970a80bb0a0ca02e": {
     "views": []
    },
    "ebe997542d53462a8a98c45d373e6e82": {
     "views": []
    },
    "ec1de970e36f4f508a102fc74e4ac8b3": {
     "views": []
    },
    "ec7b063954ec4d4d940c619ea2d6fde3": {
     "views": []
    },
    "ed69733c984d4c9084216ec3eb9422ae": {
     "views": []
    },
    "ed7e6529f8ef4c2799b7b2ef0a3b2791": {
     "views": []
    },
    "edc53f4ee40a497882976afa09fb040f": {
     "views": []
    },
    "ef890de6765f40939d16ff6c332e103b": {
     "views": []
    },
    "f0985dd2e4214e26bebe8c9e7d20e2cc": {
     "views": []
    },
    "f11ad5608ac5487bb5f94e868ec927c2": {
     "views": []
    },
    "f141377804a4403383d234224d107223": {
     "views": []
    },
    "f26602cbcd9c49cc8d6c1933f4c05698": {
     "views": []
    },
    "f2c118826d4f4c18ab695a7dc6f239ba": {
     "views": []
    },
    "f34828be06304fec87354383785374e1": {
     "views": []
    },
    "f4d4bb19441b4de696b54d451076dfa8": {
     "views": []
    },
    "f5b82653d6ea495cbd11f5d449df8de3": {
     "views": []
    },
    "f5bc3e6c985d4dcebcc2547117ad3146": {
     "views": []
    },
    "f72a65ea1c1b45b3a454518a17c8acb6": {
     "views": []
    },
    "f741c936dbbd404cb8a62bfe610eef46": {
     "views": []
    },
    "f75461a1047843e0988e0db7385a241f": {
     "views": []
    },
    "f81a41ca4c7b4cda8f220410785e04b3": {
     "views": []
    },
    "f8b7084520924aabbc4e1174be79d2aa": {
     "views": []
    },
    "f8cc92729d7d4e7c9db507057a1cd843": {
     "views": []
    },
    "f93e208c046e426a8579d7f790744ac3": {
     "views": []
    },
    "f97b017a4cea44a099de4dcff9d588a0": {
     "views": []
    },
    "f9a2667a477d4eadb8908ea8abdc5fe3": {
     "views": []
    },
    "f9ab19d4c6f94e08929498fc6bd15fad": {
     "views": []
    },
    "fb73e6bad77642629b94f53b63ef063d": {
     "views": []
    },
    "fbda3ac6d3a34987b118b15d088a78bc": {
     "views": []
    },
    "fc171eea02834f209c6cb1f1207ca831": {
     "views": []
    },
    "fc4bb5b900c4468ab08fa2fb0d6bf99f": {
     "views": []
    },
    "fc73e4735b7a4233ab89d554509e5a72": {
     "views": []
    },
    "fd55ef85ffd643b589434d98df19bc7d": {
     "views": []
    },
    "fd561aa584074d67917352c77dff8ce2": {
     "views": []
    },
    "fd66702262084f2ca8083ab95f8fdf89": {
     "views": []
    },
    "fd7767aba29541e9b2c3adb89817fe5a": {
     "views": []
    },
    "fe97512ce90c44fea9ef0d57961ca3c7": {
     "views": []
    },
    "ff3e231873654a3c8731bd03615f63f4": {
     "views": []
    }
   },
   "version": "1.1.2"
  }
 },
 "nbformat": 4,
 "nbformat_minor": 0
}
